{
 "cells": [
  {
   "cell_type": "code",
   "execution_count": 133,
   "metadata": {},
   "outputs": [],
   "source": [
    "import json\n",
    "\n",
    "import pandas as pd\n",
    "import geopandas as gpd\n",
    "\n",
    "import math\n",
    "import numpy as np\n",
    "\n",
    "import matplotlib\n",
    "import matplotlib.pyplot as plt\n",
    "\n",
    "import plotly.graph_objects as go\n",
    "import plotly.io as pio\n",
    "import plotly.express as px\n",
    "pio.templates.default = 'plotly_dark'\n",
    "pd.set_option(\"display.precision\", 3)\n",
    "\n",
    "%matplotlib inline"
   ]
  },
  {
   "cell_type": "code",
   "execution_count": 32,
   "metadata": {},
   "outputs": [],
   "source": [
    "#Available colors\n",
    "colors2 = [\n",
    "    \"#023fa5\", \"#7d87b9\", \"#bb7784\", \n",
    "    \"#8e063b\", \"#4a6fe3\", \"#8595e1\",\n",
    "    \"#e07b91\", \"#d33f6a\", \"#11c638\", \n",
    "    \"#8dd593\", \"#ef9708\", \"#0fcfc0\", \n",
    "    \"#9cded6\", \"#f79cd4\"\n",
    "]"
   ]
  },
  {
   "cell_type": "code",
   "execution_count": 149,
   "metadata": {},
   "outputs": [],
   "source": [
    "#Functions\n",
    "def plot_choropleth (gdf, title, col_name, col_label) :\n",
    "    # set the value column that will be visualised\n",
    "    # set the range for the choropleth values\n",
    "    vmin, vmax = gdf[col_name].min(), my_wifi_5G_mean[col_name].max()\n",
    "    # create figure and axes for Matplotlib\n",
    "    fig, ax = plt.subplots(1, figsize=(30, 10))\n",
    "    # remove the axis\n",
    "    ax.axis('off')\n",
    "    # add a title and annotation\n",
    "    ax.set_title(title, fontdict={'fontsize': '25', 'fontweight' : '3'})\n",
    "    ax.set_facecolor('black')\n",
    "    \n",
    "    # Create colorbar legend\n",
    "    sm = plt.cm.ScalarMappable(norm=plt.Normalize(vmin=vmin, vmax=vmax))\n",
    "    # empty array for the data range\n",
    "    sm.set_array([]) # or alternatively sm._A = []. Not sure why this step is necessary, but many recommends it\n",
    "    # add the colorbar to the figure\n",
    "    fig.colorbar(sm)\n",
    "    # create map\n",
    "    gdf.plot(column=col_name, linewidth=7, ax=ax, edgecolor='0')\n",
    "    \n",
    "    # Add Labels\n",
    "    gdf['coords'] = gdf['geometry'].apply(lambda x: x.representative_point().coords[:])\n",
    "    gdf['coords'] = [coords[0] for coords in gdf['coords']]\n",
    "    for idx, row in gdf.iterrows():\n",
    "        plt.annotate(s=row[col_label], xy=row['coords'],horizontalalignment='center')"
   ]
  },
  {
   "cell_type": "code",
   "execution_count": 4,
   "metadata": {
    "code_folding": []
   },
   "outputs": [],
   "source": [
    "f = 'data/house_zones.geojson' \n",
    "with open(f) as file:\n",
    "    house_zones = json.load(file)"
   ]
  },
  {
   "cell_type": "code",
   "execution_count": 158,
   "metadata": {},
   "outputs": [],
   "source": [
    "#house_zones"
   ]
  },
  {
   "cell_type": "code",
   "execution_count": 6,
   "metadata": {},
   "outputs": [
    {
     "data": {
      "text/html": [
       "<div>\n",
       "<style scoped>\n",
       "    .dataframe tbody tr th:only-of-type {\n",
       "        vertical-align: middle;\n",
       "    }\n",
       "\n",
       "    .dataframe tbody tr th {\n",
       "        vertical-align: top;\n",
       "    }\n",
       "\n",
       "    .dataframe thead th {\n",
       "        text-align: right;\n",
       "    }\n",
       "</style>\n",
       "<table border=\"1\" class=\"dataframe\">\n",
       "  <thead>\n",
       "    <tr style=\"text-align: right;\">\n",
       "      <th></th>\n",
       "      <th>name</th>\n",
       "      <th>zone</th>\n",
       "      <th>subzone</th>\n",
       "      <th>geometry</th>\n",
       "    </tr>\n",
       "  </thead>\n",
       "  <tbody>\n",
       "    <tr>\n",
       "      <td>0</td>\n",
       "      <td>Pasillo-1</td>\n",
       "      <td>0</td>\n",
       "      <td>1</td>\n",
       "      <td>POLYGON ((-11.31592 -10.69300, -10.67871 -10.6...</td>\n",
       "    </tr>\n",
       "    <tr>\n",
       "      <td>1</td>\n",
       "      <td>Pasillo-2</td>\n",
       "      <td>0</td>\n",
       "      <td>2</td>\n",
       "      <td>POLYGON ((-10.66223 -10.70379, -9.78333 -10.70...</td>\n",
       "    </tr>\n",
       "    <tr>\n",
       "      <td>2</td>\n",
       "      <td>Pasillo-3</td>\n",
       "      <td>0</td>\n",
       "      <td>3</td>\n",
       "      <td>POLYGON ((-9.76685 -10.69839, -9.18457 -10.698...</td>\n",
       "    </tr>\n",
       "    <tr>\n",
       "      <td>3</td>\n",
       "      <td>Habitacion1-1</td>\n",
       "      <td>1</td>\n",
       "      <td>1</td>\n",
       "      <td>POLYGON ((-9.16260 -10.96816, -8.62427 -10.968...</td>\n",
       "    </tr>\n",
       "    <tr>\n",
       "      <td>4</td>\n",
       "      <td>Habitacion1-2</td>\n",
       "      <td>1</td>\n",
       "      <td>2</td>\n",
       "      <td>POLYGON ((-9.16260 -11.42080, -8.62427 -11.420...</td>\n",
       "    </tr>\n",
       "    <tr>\n",
       "      <td>5</td>\n",
       "      <td>Habitacion2-1</td>\n",
       "      <td>2</td>\n",
       "      <td>1</td>\n",
       "      <td>POLYGON ((-9.76685 -11.14607, -9.18457 -11.146...</td>\n",
       "    </tr>\n",
       "    <tr>\n",
       "      <td>6</td>\n",
       "      <td>Habitacion2-2</td>\n",
       "      <td>2</td>\n",
       "      <td>2</td>\n",
       "      <td>POLYGON ((-9.76685 -11.58229, -9.17358 -11.582...</td>\n",
       "    </tr>\n",
       "    <tr>\n",
       "      <td>7</td>\n",
       "      <td>Habitacion3-1</td>\n",
       "      <td>3</td>\n",
       "      <td>1</td>\n",
       "      <td>POLYGON ((-9.77783 -10.43920, -9.29993 -10.439...</td>\n",
       "    </tr>\n",
       "    <tr>\n",
       "      <td>8</td>\n",
       "      <td>Habitacion3-2</td>\n",
       "      <td>3</td>\n",
       "      <td>2</td>\n",
       "      <td>POLYGON ((-9.28345 -10.43379, -8.76709 -10.433...</td>\n",
       "    </tr>\n",
       "    <tr>\n",
       "      <td>9</td>\n",
       "      <td>Habitacion3-3</td>\n",
       "      <td>3</td>\n",
       "      <td>3</td>\n",
       "      <td>POLYGON ((-9.78882 -9.96344, -9.29443 -9.96344...</td>\n",
       "    </tr>\n",
       "    <tr>\n",
       "      <td>10</td>\n",
       "      <td>Habitacion3-4</td>\n",
       "      <td>3</td>\n",
       "      <td>4</td>\n",
       "      <td>POLYGON ((-9.28345 -9.96344, -8.76709 -9.96344...</td>\n",
       "    </tr>\n",
       "    <tr>\n",
       "      <td>11</td>\n",
       "      <td>Habitacion4-1</td>\n",
       "      <td>4</td>\n",
       "      <td>1</td>\n",
       "      <td>POLYGON ((-10.31616 -10.44460, -9.79980 -10.44...</td>\n",
       "    </tr>\n",
       "    <tr>\n",
       "      <td>12</td>\n",
       "      <td>Habitacion4-2</td>\n",
       "      <td>4</td>\n",
       "      <td>2</td>\n",
       "      <td>POLYGON ((-10.31067 -9.95803, -9.80530 -9.9580...</td>\n",
       "    </tr>\n",
       "    <tr>\n",
       "      <td>13</td>\n",
       "      <td>Salon-1</td>\n",
       "      <td>5</td>\n",
       "      <td>1</td>\n",
       "      <td>POLYGON ((-10.81055 -10.44460, -10.33264 -10.4...</td>\n",
       "    </tr>\n",
       "    <tr>\n",
       "      <td>14</td>\n",
       "      <td>Salon-2</td>\n",
       "      <td>5</td>\n",
       "      <td>2</td>\n",
       "      <td>POLYGON ((-11.30493 -10.44460, -10.82703 -10.4...</td>\n",
       "    </tr>\n",
       "    <tr>\n",
       "      <td>15</td>\n",
       "      <td>Salon-3</td>\n",
       "      <td>5</td>\n",
       "      <td>3</td>\n",
       "      <td>POLYGON ((-11.82678 -10.44460, -11.32141 -10.4...</td>\n",
       "    </tr>\n",
       "    <tr>\n",
       "      <td>16</td>\n",
       "      <td>Salon-4</td>\n",
       "      <td>5</td>\n",
       "      <td>4</td>\n",
       "      <td>POLYGON ((-10.80505 -9.95803, -10.33264 -9.958...</td>\n",
       "    </tr>\n",
       "    <tr>\n",
       "      <td>17</td>\n",
       "      <td>Salon-5</td>\n",
       "      <td>5</td>\n",
       "      <td>5</td>\n",
       "      <td>POLYGON ((-11.30493 -9.95262, -10.82703 -9.952...</td>\n",
       "    </tr>\n",
       "    <tr>\n",
       "      <td>18</td>\n",
       "      <td>Salon-6</td>\n",
       "      <td>5</td>\n",
       "      <td>6</td>\n",
       "      <td>POLYGON ((-11.82129 -9.95262, -11.32141 -9.952...</td>\n",
       "    </tr>\n",
       "    <tr>\n",
       "      <td>19</td>\n",
       "      <td>Cocina-1</td>\n",
       "      <td>6</td>\n",
       "      <td>1</td>\n",
       "      <td>POLYGON ((-11.83228 -10.87107, -11.33789 -10.8...</td>\n",
       "    </tr>\n",
       "    <tr>\n",
       "      <td>20</td>\n",
       "      <td>Cocina-2</td>\n",
       "      <td>6</td>\n",
       "      <td>2</td>\n",
       "      <td>POLYGON ((-11.83228 -11.24306, -11.33789 -11.2...</td>\n",
       "    </tr>\n",
       "    <tr>\n",
       "      <td>21</td>\n",
       "      <td>Lavabo1-1</td>\n",
       "      <td>7</td>\n",
       "      <td>1</td>\n",
       "      <td>POLYGON ((-11.06873 -11.25922, -10.67871 -11.2...</td>\n",
       "    </tr>\n",
       "    <tr>\n",
       "      <td>22</td>\n",
       "      <td>Lavabo2-1</td>\n",
       "      <td>8</td>\n",
       "      <td>1</td>\n",
       "      <td>POLYGON ((-11.31592 -11.24845, -11.08521 -11.2...</td>\n",
       "    </tr>\n",
       "    <tr>\n",
       "      <td>23</td>\n",
       "      <td>Terraza-1</td>\n",
       "      <td>9</td>\n",
       "      <td>1</td>\n",
       "      <td>POLYGON ((-11.81030 -9.45448, -10.84351 -9.454...</td>\n",
       "    </tr>\n",
       "    <tr>\n",
       "      <td>24</td>\n",
       "      <td>Terraza-2</td>\n",
       "      <td>9</td>\n",
       "      <td>2</td>\n",
       "      <td>POLYGON ((-10.82703 -9.47074, -9.80530 -9.4707...</td>\n",
       "    </tr>\n",
       "    <tr>\n",
       "      <td>25</td>\n",
       "      <td>Terraza-3</td>\n",
       "      <td>9</td>\n",
       "      <td>3</td>\n",
       "      <td>POLYGON ((-9.78333 -9.47615, -8.77808 -9.47615...</td>\n",
       "    </tr>\n",
       "  </tbody>\n",
       "</table>\n",
       "</div>"
      ],
      "text/plain": [
       "             name  zone  subzone  \\\n",
       "0       Pasillo-1     0        1   \n",
       "1       Pasillo-2     0        2   \n",
       "2       Pasillo-3     0        3   \n",
       "3   Habitacion1-1     1        1   \n",
       "4   Habitacion1-2     1        2   \n",
       "5   Habitacion2-1     2        1   \n",
       "6   Habitacion2-2     2        2   \n",
       "7   Habitacion3-1     3        1   \n",
       "8   Habitacion3-2     3        2   \n",
       "9   Habitacion3-3     3        3   \n",
       "10  Habitacion3-4     3        4   \n",
       "11  Habitacion4-1     4        1   \n",
       "12  Habitacion4-2     4        2   \n",
       "13        Salon-1     5        1   \n",
       "14        Salon-2     5        2   \n",
       "15        Salon-3     5        3   \n",
       "16        Salon-4     5        4   \n",
       "17        Salon-5     5        5   \n",
       "18        Salon-6     5        6   \n",
       "19       Cocina-1     6        1   \n",
       "20       Cocina-2     6        2   \n",
       "21      Lavabo1-1     7        1   \n",
       "22      Lavabo2-1     8        1   \n",
       "23      Terraza-1     9        1   \n",
       "24      Terraza-2     9        2   \n",
       "25      Terraza-3     9        3   \n",
       "\n",
       "                                             geometry  \n",
       "0   POLYGON ((-11.31592 -10.69300, -10.67871 -10.6...  \n",
       "1   POLYGON ((-10.66223 -10.70379, -9.78333 -10.70...  \n",
       "2   POLYGON ((-9.76685 -10.69839, -9.18457 -10.698...  \n",
       "3   POLYGON ((-9.16260 -10.96816, -8.62427 -10.968...  \n",
       "4   POLYGON ((-9.16260 -11.42080, -8.62427 -11.420...  \n",
       "5   POLYGON ((-9.76685 -11.14607, -9.18457 -11.146...  \n",
       "6   POLYGON ((-9.76685 -11.58229, -9.17358 -11.582...  \n",
       "7   POLYGON ((-9.77783 -10.43920, -9.29993 -10.439...  \n",
       "8   POLYGON ((-9.28345 -10.43379, -8.76709 -10.433...  \n",
       "9   POLYGON ((-9.78882 -9.96344, -9.29443 -9.96344...  \n",
       "10  POLYGON ((-9.28345 -9.96344, -8.76709 -9.96344...  \n",
       "11  POLYGON ((-10.31616 -10.44460, -9.79980 -10.44...  \n",
       "12  POLYGON ((-10.31067 -9.95803, -9.80530 -9.9580...  \n",
       "13  POLYGON ((-10.81055 -10.44460, -10.33264 -10.4...  \n",
       "14  POLYGON ((-11.30493 -10.44460, -10.82703 -10.4...  \n",
       "15  POLYGON ((-11.82678 -10.44460, -11.32141 -10.4...  \n",
       "16  POLYGON ((-10.80505 -9.95803, -10.33264 -9.958...  \n",
       "17  POLYGON ((-11.30493 -9.95262, -10.82703 -9.952...  \n",
       "18  POLYGON ((-11.82129 -9.95262, -11.32141 -9.952...  \n",
       "19  POLYGON ((-11.83228 -10.87107, -11.33789 -10.8...  \n",
       "20  POLYGON ((-11.83228 -11.24306, -11.33789 -11.2...  \n",
       "21  POLYGON ((-11.06873 -11.25922, -10.67871 -11.2...  \n",
       "22  POLYGON ((-11.31592 -11.24845, -11.08521 -11.2...  \n",
       "23  POLYGON ((-11.81030 -9.45448, -10.84351 -9.454...  \n",
       "24  POLYGON ((-10.82703 -9.47074, -9.80530 -9.4707...  \n",
       "25  POLYGON ((-9.78333 -9.47615, -8.77808 -9.47615...  "
      ]
     },
     "execution_count": 6,
     "metadata": {},
     "output_type": "execute_result"
    }
   ],
   "source": [
    "hz = gpd.read_file(f)\n",
    "hz = hz[['name','zone','subzone','geometry']].sort_values(['zone','subzone']).reset_index(drop=True)\n",
    "hz"
   ]
  },
  {
   "cell_type": "code",
   "execution_count": 159,
   "metadata": {},
   "outputs": [
    {
     "data": {
      "image/png": "[encoded data removed]",
      "text/plain": [
       "<Figure size 2160x720 with 2 Axes>"
      ]
     },
     "metadata": {
      "needs_background": "light"
     },
     "output_type": "display_data"
    }
   ],
   "source": [
    "title = 'Different house rooms'\n",
    "col_name = 'zone'\n",
    "label = 'zone'\n",
    "gdf = hz\n",
    "\n",
    "#Plot choropleth    \n",
    "plot_choropleth(gdf,title,col_name,label)"
   ]
  },
  {
   "cell_type": "code",
   "execution_count": 7,
   "metadata": {},
   "outputs": [
    {
     "data": {
      "text/html": [
       "<div>\n",
       "<style scoped>\n",
       "    .dataframe tbody tr th:only-of-type {\n",
       "        vertical-align: middle;\n",
       "    }\n",
       "\n",
       "    .dataframe tbody tr th {\n",
       "        vertical-align: top;\n",
       "    }\n",
       "\n",
       "    .dataframe thead th {\n",
       "        text-align: right;\n",
       "    }\n",
       "</style>\n",
       "<table border=\"1\" class=\"dataframe\">\n",
       "  <thead>\n",
       "    <tr style=\"text-align: right;\">\n",
       "      <th></th>\n",
       "      <th>BSSID</th>\n",
       "      <th>SSID</th>\n",
       "      <th>zone</th>\n",
       "      <th>subzone</th>\n",
       "      <th>dBm_Signal</th>\n",
       "      <th>Channel</th>\n",
       "      <th>Crypto</th>\n",
       "    </tr>\n",
       "  </thead>\n",
       "  <tbody>\n",
       "    <tr>\n",
       "      <td>0</td>\n",
       "      <td>8c:e1:17:d0:64:0e</td>\n",
       "      <td>MASMOVIL_2G_HJsC</td>\n",
       "      <td>1</td>\n",
       "      <td>1</td>\n",
       "      <td>-88</td>\n",
       "      <td>1</td>\n",
       "      <td>{'WPA/PSK', 'WPA2/PSK'}</td>\n",
       "    </tr>\n",
       "    <tr>\n",
       "      <td>1</td>\n",
       "      <td>a0:8e:78:71:bf:8e</td>\n",
       "      <td>vodafoneBF88</td>\n",
       "      <td>1</td>\n",
       "      <td>1</td>\n",
       "      <td>-83</td>\n",
       "      <td>1</td>\n",
       "      <td>{'WPA/PSK', 'WPA2/PSK'}</td>\n",
       "    </tr>\n",
       "    <tr>\n",
       "      <td>2</td>\n",
       "      <td>62:8d:36:d1:75:61</td>\n",
       "      <td>Invitado-755E</td>\n",
       "      <td>1</td>\n",
       "      <td>1</td>\n",
       "      <td>-65</td>\n",
       "      <td>1</td>\n",
       "      <td>{'WEP'}</td>\n",
       "    </tr>\n",
       "    <tr>\n",
       "      <td>3</td>\n",
       "      <td>04:a2:22:1e:1a:16</td>\n",
       "      <td>MiFibra-1A14</td>\n",
       "      <td>1</td>\n",
       "      <td>1</td>\n",
       "      <td>-64</td>\n",
       "      <td>1</td>\n",
       "      <td>{'WEP'}</td>\n",
       "    </tr>\n",
       "    <tr>\n",
       "      <td>4</td>\n",
       "      <td>e4:ab:89:34:6a:6c</td>\n",
       "      <td>MOVISTAR_6A6B</td>\n",
       "      <td>1</td>\n",
       "      <td>1</td>\n",
       "      <td>-82</td>\n",
       "      <td>1</td>\n",
       "      <td>{'WPA2/PSK'}</td>\n",
       "    </tr>\n",
       "    <tr>\n",
       "      <td>...</td>\n",
       "      <td>...</td>\n",
       "      <td>...</td>\n",
       "      <td>...</td>\n",
       "      <td>...</td>\n",
       "      <td>...</td>\n",
       "      <td>...</td>\n",
       "      <td>...</td>\n",
       "    </tr>\n",
       "    <tr>\n",
       "      <td>2081</td>\n",
       "      <td>8c:e1:17:e6:98:7a</td>\n",
       "      <td>MIWIFI_2G_Q47X</td>\n",
       "      <td>9</td>\n",
       "      <td>3</td>\n",
       "      <td>-91</td>\n",
       "      <td>13</td>\n",
       "      <td>{'WPA/PSK', 'WPA2/PSK'}</td>\n",
       "    </tr>\n",
       "    <tr>\n",
       "      <td>2082</td>\n",
       "      <td>74:b5:7e:f2:70:ff</td>\n",
       "      <td>MIWIFI_5G_pvER</td>\n",
       "      <td>9</td>\n",
       "      <td>3</td>\n",
       "      <td>-85</td>\n",
       "      <td>48</td>\n",
       "      <td>{'WPA/PSK', 'WPA2/PSK'}</td>\n",
       "    </tr>\n",
       "    <tr>\n",
       "      <td>2083</td>\n",
       "      <td>00:4a:77:e8:1b:c7</td>\n",
       "      <td>TontoElQueLoLea-5G</td>\n",
       "      <td>9</td>\n",
       "      <td>3</td>\n",
       "      <td>-72</td>\n",
       "      <td>48</td>\n",
       "      <td>{'WPA/PSK', 'WPA2/PSK'}</td>\n",
       "    </tr>\n",
       "    <tr>\n",
       "      <td>2084</td>\n",
       "      <td>e6:f4:51:55:0a:a2</td>\n",
       "      <td>MiFibra-0A9F</td>\n",
       "      <td>9</td>\n",
       "      <td>3</td>\n",
       "      <td>-90</td>\n",
       "      <td>52</td>\n",
       "      <td>{'WPA2/PSK'}</td>\n",
       "    </tr>\n",
       "    <tr>\n",
       "      <td>2085</td>\n",
       "      <td>ee:f4:51:55:0a:a2</td>\n",
       "      <td>MiFibra-0A9F-5G</td>\n",
       "      <td>9</td>\n",
       "      <td>3</td>\n",
       "      <td>-90</td>\n",
       "      <td>52</td>\n",
       "      <td>{'WPA2/PSK'}</td>\n",
       "    </tr>\n",
       "  </tbody>\n",
       "</table>\n",
       "<p>2086 rows × 7 columns</p>\n",
       "</div>"
      ],
      "text/plain": [
       "                  BSSID                SSID  zone  subzone  dBm_Signal  \\\n",
       "0     8c:e1:17:d0:64:0e    MASMOVIL_2G_HJsC     1        1         -88   \n",
       "1     a0:8e:78:71:bf:8e        vodafoneBF88     1        1         -83   \n",
       "2     62:8d:36:d1:75:61       Invitado-755E     1        1         -65   \n",
       "3     04:a2:22:1e:1a:16        MiFibra-1A14     1        1         -64   \n",
       "4     e4:ab:89:34:6a:6c       MOVISTAR_6A6B     1        1         -82   \n",
       "...                 ...                 ...   ...      ...         ...   \n",
       "2081  8c:e1:17:e6:98:7a      MIWIFI_2G_Q47X     9        3         -91   \n",
       "2082  74:b5:7e:f2:70:ff      MIWIFI_5G_pvER     9        3         -85   \n",
       "2083  00:4a:77:e8:1b:c7  TontoElQueLoLea-5G     9        3         -72   \n",
       "2084  e6:f4:51:55:0a:a2        MiFibra-0A9F     9        3         -90   \n",
       "2085  ee:f4:51:55:0a:a2     MiFibra-0A9F-5G     9        3         -90   \n",
       "\n",
       "      Channel                   Crypto  \n",
       "0           1  {'WPA/PSK', 'WPA2/PSK'}  \n",
       "1           1  {'WPA/PSK', 'WPA2/PSK'}  \n",
       "2           1                  {'WEP'}  \n",
       "3           1                  {'WEP'}  \n",
       "4           1             {'WPA2/PSK'}  \n",
       "...       ...                      ...  \n",
       "2081       13  {'WPA/PSK', 'WPA2/PSK'}  \n",
       "2082       48  {'WPA/PSK', 'WPA2/PSK'}  \n",
       "2083       48  {'WPA/PSK', 'WPA2/PSK'}  \n",
       "2084       52             {'WPA2/PSK'}  \n",
       "2085       52             {'WPA2/PSK'}  \n",
       "\n",
       "[2086 rows x 7 columns]"
      ]
     },
     "execution_count": 7,
     "metadata": {},
     "output_type": "execute_result"
    }
   ],
   "source": [
    "#Read measured data\n",
    "scanned = pd.read_csv('data/scanned_networks.csv').dropna()\n",
    "scanned = scanned[['BSSID','SSID','zone','subzone','dBm_Signal','Channel','Crypto']].reset_index(drop=True)\n",
    "scanned['Channel'] = scanned.Channel.astype(int)\n",
    "scanned"
   ]
  },
  {
   "cell_type": "markdown",
   "metadata": {},
   "source": [
    "## Signal Strenght Analysis"
   ]
  },
  {
   "cell_type": "code",
   "execution_count": 8,
   "metadata": {},
   "outputs": [],
   "source": [
    "def change_ssid(row) :\n",
    "    if row.SSID == 'TontoElQueLoLea-2.4G' :\n",
    "        row.SSID = 'WifiAle-2.4G'\n",
    "    elif row.SSID == 'TontoElQueLoLea-5G' :\n",
    "        row.SSID = 'WifiAle-5G'\n",
    "    return row\n",
    "scanned = scanned.apply(change_ssid,axis=1)\n",
    "my_wifi = scanned[(scanned.SSID == 'WifiAle-2.4G') | (scanned.SSID == 'WifiAle-5G')].sort_values('dBm_Signal',ascending=False)"
   ]
  },
  {
   "cell_type": "code",
   "execution_count": 9,
   "metadata": {},
   "outputs": [
    {
     "data": {
      "text/html": [
       "<div>\n",
       "<style scoped>\n",
       "    .dataframe tbody tr th:only-of-type {\n",
       "        vertical-align: middle;\n",
       "    }\n",
       "\n",
       "    .dataframe tbody tr th {\n",
       "        vertical-align: top;\n",
       "    }\n",
       "\n",
       "    .dataframe thead th {\n",
       "        text-align: right;\n",
       "    }\n",
       "</style>\n",
       "<table border=\"1\" class=\"dataframe\">\n",
       "  <thead>\n",
       "    <tr style=\"text-align: right;\">\n",
       "      <th></th>\n",
       "      <th>BSSID</th>\n",
       "      <th>SSID</th>\n",
       "      <th>zone</th>\n",
       "      <th>subzone</th>\n",
       "      <th>dBm_Signal</th>\n",
       "      <th>Channel</th>\n",
       "      <th>Crypto</th>\n",
       "    </tr>\n",
       "  </thead>\n",
       "  <tbody>\n",
       "    <tr>\n",
       "      <td>56</td>\n",
       "      <td>00:4a:77:e8:1b:c6</td>\n",
       "      <td>WifiAle-2.4G</td>\n",
       "      <td>1</td>\n",
       "      <td>1</td>\n",
       "      <td>-36</td>\n",
       "      <td>11</td>\n",
       "      <td>{'WPA/PSK', 'WPA2/PSK'}</td>\n",
       "    </tr>\n",
       "    <tr>\n",
       "      <td>68</td>\n",
       "      <td>00:4a:77:e8:1b:c7</td>\n",
       "      <td>WifiAle-5G</td>\n",
       "      <td>1</td>\n",
       "      <td>1</td>\n",
       "      <td>-39</td>\n",
       "      <td>48</td>\n",
       "      <td>{'WPA/PSK', 'WPA2/PSK'}</td>\n",
       "    </tr>\n",
       "    <tr>\n",
       "      <td>69</td>\n",
       "      <td>00:4a:77:e8:1b:c7</td>\n",
       "      <td>WifiAle-5G</td>\n",
       "      <td>1</td>\n",
       "      <td>1</td>\n",
       "      <td>-39</td>\n",
       "      <td>48</td>\n",
       "      <td>{'WPA/PSK', 'WPA2/PSK'}</td>\n",
       "    </tr>\n",
       "    <tr>\n",
       "      <td>62</td>\n",
       "      <td>00:4a:77:e8:1b:c6</td>\n",
       "      <td>WifiAle-2.4G</td>\n",
       "      <td>1</td>\n",
       "      <td>1</td>\n",
       "      <td>-39</td>\n",
       "      <td>11</td>\n",
       "      <td>{'WPA/PSK', 'WPA2/PSK'}</td>\n",
       "    </tr>\n",
       "    <tr>\n",
       "      <td>67</td>\n",
       "      <td>00:4a:77:e8:1b:c7</td>\n",
       "      <td>WifiAle-5G</td>\n",
       "      <td>1</td>\n",
       "      <td>1</td>\n",
       "      <td>-39</td>\n",
       "      <td>48</td>\n",
       "      <td>{'WPA/PSK', 'WPA2/PSK'}</td>\n",
       "    </tr>\n",
       "    <tr>\n",
       "      <td>65</td>\n",
       "      <td>00:4a:77:e8:1b:c7</td>\n",
       "      <td>WifiAle-5G</td>\n",
       "      <td>1</td>\n",
       "      <td>1</td>\n",
       "      <td>-39</td>\n",
       "      <td>48</td>\n",
       "      <td>{'WPA/PSK', 'WPA2/PSK'}</td>\n",
       "    </tr>\n",
       "    <tr>\n",
       "      <td>66</td>\n",
       "      <td>00:4a:77:e8:1b:c7</td>\n",
       "      <td>WifiAle-5G</td>\n",
       "      <td>1</td>\n",
       "      <td>1</td>\n",
       "      <td>-40</td>\n",
       "      <td>48</td>\n",
       "      <td>{'WPA/PSK', 'WPA2/PSK'}</td>\n",
       "    </tr>\n",
       "  </tbody>\n",
       "</table>\n",
       "</div>"
      ],
      "text/plain": [
       "                BSSID          SSID  zone  subzone  dBm_Signal  Channel  \\\n",
       "56  00:4a:77:e8:1b:c6  WifiAle-2.4G     1        1         -36       11   \n",
       "68  00:4a:77:e8:1b:c7    WifiAle-5G     1        1         -39       48   \n",
       "69  00:4a:77:e8:1b:c7    WifiAle-5G     1        1         -39       48   \n",
       "62  00:4a:77:e8:1b:c6  WifiAle-2.4G     1        1         -39       11   \n",
       "67  00:4a:77:e8:1b:c7    WifiAle-5G     1        1         -39       48   \n",
       "65  00:4a:77:e8:1b:c7    WifiAle-5G     1        1         -39       48   \n",
       "66  00:4a:77:e8:1b:c7    WifiAle-5G     1        1         -40       48   \n",
       "\n",
       "                     Crypto  \n",
       "56  {'WPA/PSK', 'WPA2/PSK'}  \n",
       "68  {'WPA/PSK', 'WPA2/PSK'}  \n",
       "69  {'WPA/PSK', 'WPA2/PSK'}  \n",
       "62  {'WPA/PSK', 'WPA2/PSK'}  \n",
       "67  {'WPA/PSK', 'WPA2/PSK'}  \n",
       "65  {'WPA/PSK', 'WPA2/PSK'}  \n",
       "66  {'WPA/PSK', 'WPA2/PSK'}  "
      ]
     },
     "execution_count": 9,
     "metadata": {},
     "output_type": "execute_result"
    }
   ],
   "source": [
    "zone = 1\n",
    "subzone = 1\n",
    "my_wifi[(my_wifi.zone == zone) & (my_wifi.subzone == subzone)]"
   ]
  },
  {
   "cell_type": "code",
   "execution_count": 10,
   "metadata": {},
   "outputs": [
    {
     "data": {
      "text/html": [
       "<div>\n",
       "<style scoped>\n",
       "    .dataframe tbody tr th:only-of-type {\n",
       "        vertical-align: middle;\n",
       "    }\n",
       "\n",
       "    .dataframe tbody tr th {\n",
       "        vertical-align: top;\n",
       "    }\n",
       "\n",
       "    .dataframe thead th {\n",
       "        text-align: right;\n",
       "    }\n",
       "</style>\n",
       "<table border=\"1\" class=\"dataframe\">\n",
       "  <thead>\n",
       "    <tr style=\"text-align: right;\">\n",
       "      <th></th>\n",
       "      <th>name</th>\n",
       "      <th>zone</th>\n",
       "      <th>subzone</th>\n",
       "      <th>geometry</th>\n",
       "      <th>dBm_Signal</th>\n",
       "      <th>Channel</th>\n",
       "    </tr>\n",
       "  </thead>\n",
       "  <tbody>\n",
       "    <tr>\n",
       "      <td>0</td>\n",
       "      <td>Pasillo-1</td>\n",
       "      <td>0</td>\n",
       "      <td>1</td>\n",
       "      <td>POLYGON ((-11.31592 -10.69300, -10.67871 -10.6...</td>\n",
       "      <td>-67.800</td>\n",
       "      <td>48.0</td>\n",
       "    </tr>\n",
       "    <tr>\n",
       "      <td>1</td>\n",
       "      <td>Pasillo-2</td>\n",
       "      <td>0</td>\n",
       "      <td>2</td>\n",
       "      <td>POLYGON ((-10.66223 -10.70379, -9.78333 -10.70...</td>\n",
       "      <td>-57.800</td>\n",
       "      <td>48.0</td>\n",
       "    </tr>\n",
       "    <tr>\n",
       "      <td>2</td>\n",
       "      <td>Pasillo-3</td>\n",
       "      <td>0</td>\n",
       "      <td>3</td>\n",
       "      <td>POLYGON ((-9.76685 -10.69839, -9.18457 -10.698...</td>\n",
       "      <td>-53.000</td>\n",
       "      <td>48.0</td>\n",
       "    </tr>\n",
       "    <tr>\n",
       "      <td>3</td>\n",
       "      <td>Habitacion1-1</td>\n",
       "      <td>1</td>\n",
       "      <td>1</td>\n",
       "      <td>POLYGON ((-9.16260 -10.96816, -8.62427 -10.968...</td>\n",
       "      <td>-39.200</td>\n",
       "      <td>48.0</td>\n",
       "    </tr>\n",
       "    <tr>\n",
       "      <td>4</td>\n",
       "      <td>Habitacion1-2</td>\n",
       "      <td>1</td>\n",
       "      <td>2</td>\n",
       "      <td>POLYGON ((-9.16260 -11.42080, -8.62427 -11.420...</td>\n",
       "      <td>-40.600</td>\n",
       "      <td>48.0</td>\n",
       "    </tr>\n",
       "    <tr>\n",
       "      <td>5</td>\n",
       "      <td>Habitacion2-1</td>\n",
       "      <td>2</td>\n",
       "      <td>1</td>\n",
       "      <td>POLYGON ((-9.76685 -11.14607, -9.18457 -11.146...</td>\n",
       "      <td>-45.000</td>\n",
       "      <td>48.0</td>\n",
       "    </tr>\n",
       "    <tr>\n",
       "      <td>6</td>\n",
       "      <td>Habitacion2-2</td>\n",
       "      <td>2</td>\n",
       "      <td>2</td>\n",
       "      <td>POLYGON ((-9.76685 -11.58229, -9.17358 -11.582...</td>\n",
       "      <td>-47.000</td>\n",
       "      <td>48.0</td>\n",
       "    </tr>\n",
       "    <tr>\n",
       "      <td>7</td>\n",
       "      <td>Habitacion3-1</td>\n",
       "      <td>3</td>\n",
       "      <td>1</td>\n",
       "      <td>POLYGON ((-9.77783 -10.43920, -9.29993 -10.439...</td>\n",
       "      <td>-54.800</td>\n",
       "      <td>48.0</td>\n",
       "    </tr>\n",
       "    <tr>\n",
       "      <td>8</td>\n",
       "      <td>Habitacion3-2</td>\n",
       "      <td>3</td>\n",
       "      <td>2</td>\n",
       "      <td>POLYGON ((-9.28345 -10.43379, -8.76709 -10.433...</td>\n",
       "      <td>-52.200</td>\n",
       "      <td>48.0</td>\n",
       "    </tr>\n",
       "    <tr>\n",
       "      <td>9</td>\n",
       "      <td>Habitacion3-3</td>\n",
       "      <td>3</td>\n",
       "      <td>3</td>\n",
       "      <td>POLYGON ((-9.78882 -9.96344, -9.29443 -9.96344...</td>\n",
       "      <td>-53.000</td>\n",
       "      <td>48.0</td>\n",
       "    </tr>\n",
       "    <tr>\n",
       "      <td>10</td>\n",
       "      <td>Habitacion3-4</td>\n",
       "      <td>3</td>\n",
       "      <td>4</td>\n",
       "      <td>POLYGON ((-9.28345 -9.96344, -8.76709 -9.96344...</td>\n",
       "      <td>-52.000</td>\n",
       "      <td>48.0</td>\n",
       "    </tr>\n",
       "    <tr>\n",
       "      <td>11</td>\n",
       "      <td>Habitacion4-1</td>\n",
       "      <td>4</td>\n",
       "      <td>1</td>\n",
       "      <td>POLYGON ((-10.31616 -10.44460, -9.79980 -10.44...</td>\n",
       "      <td>-63.000</td>\n",
       "      <td>48.0</td>\n",
       "    </tr>\n",
       "    <tr>\n",
       "      <td>12</td>\n",
       "      <td>Habitacion4-2</td>\n",
       "      <td>4</td>\n",
       "      <td>2</td>\n",
       "      <td>POLYGON ((-10.31067 -9.95803, -9.80530 -9.9580...</td>\n",
       "      <td>-62.000</td>\n",
       "      <td>48.0</td>\n",
       "    </tr>\n",
       "    <tr>\n",
       "      <td>13</td>\n",
       "      <td>Salon-1</td>\n",
       "      <td>5</td>\n",
       "      <td>1</td>\n",
       "      <td>POLYGON ((-10.81055 -10.44460, -10.33264 -10.4...</td>\n",
       "      <td>-68.000</td>\n",
       "      <td>48.0</td>\n",
       "    </tr>\n",
       "    <tr>\n",
       "      <td>14</td>\n",
       "      <td>Salon-2</td>\n",
       "      <td>5</td>\n",
       "      <td>2</td>\n",
       "      <td>POLYGON ((-11.30493 -10.44460, -10.82703 -10.4...</td>\n",
       "      <td>-74.200</td>\n",
       "      <td>48.0</td>\n",
       "    </tr>\n",
       "    <tr>\n",
       "      <td>15</td>\n",
       "      <td>Salon-3</td>\n",
       "      <td>5</td>\n",
       "      <td>3</td>\n",
       "      <td>POLYGON ((-11.82678 -10.44460, -11.32141 -10.4...</td>\n",
       "      <td>-76.000</td>\n",
       "      <td>48.0</td>\n",
       "    </tr>\n",
       "    <tr>\n",
       "      <td>16</td>\n",
       "      <td>Salon-4</td>\n",
       "      <td>5</td>\n",
       "      <td>4</td>\n",
       "      <td>POLYGON ((-10.80505 -9.95803, -10.33264 -9.958...</td>\n",
       "      <td>-71.000</td>\n",
       "      <td>48.0</td>\n",
       "    </tr>\n",
       "    <tr>\n",
       "      <td>17</td>\n",
       "      <td>Salon-5</td>\n",
       "      <td>5</td>\n",
       "      <td>5</td>\n",
       "      <td>POLYGON ((-11.30493 -9.95262, -10.82703 -9.952...</td>\n",
       "      <td>-72.500</td>\n",
       "      <td>48.0</td>\n",
       "    </tr>\n",
       "    <tr>\n",
       "      <td>18</td>\n",
       "      <td>Salon-6</td>\n",
       "      <td>5</td>\n",
       "      <td>6</td>\n",
       "      <td>POLYGON ((-11.82129 -9.95262, -11.32141 -9.952...</td>\n",
       "      <td>-70.333</td>\n",
       "      <td>48.0</td>\n",
       "    </tr>\n",
       "    <tr>\n",
       "      <td>19</td>\n",
       "      <td>Cocina-1</td>\n",
       "      <td>6</td>\n",
       "      <td>1</td>\n",
       "      <td>POLYGON ((-11.83228 -10.87107, -11.33789 -10.8...</td>\n",
       "      <td>-72.000</td>\n",
       "      <td>48.0</td>\n",
       "    </tr>\n",
       "    <tr>\n",
       "      <td>20</td>\n",
       "      <td>Cocina-2</td>\n",
       "      <td>6</td>\n",
       "      <td>2</td>\n",
       "      <td>POLYGON ((-11.83228 -11.24306, -11.33789 -11.2...</td>\n",
       "      <td>-86.500</td>\n",
       "      <td>48.0</td>\n",
       "    </tr>\n",
       "    <tr>\n",
       "      <td>21</td>\n",
       "      <td>Lavabo1-1</td>\n",
       "      <td>7</td>\n",
       "      <td>1</td>\n",
       "      <td>POLYGON ((-11.06873 -11.25922, -10.67871 -11.2...</td>\n",
       "      <td>-74.600</td>\n",
       "      <td>48.0</td>\n",
       "    </tr>\n",
       "    <tr>\n",
       "      <td>22</td>\n",
       "      <td>Lavabo2-1</td>\n",
       "      <td>8</td>\n",
       "      <td>1</td>\n",
       "      <td>POLYGON ((-11.31592 -11.24845, -11.08521 -11.2...</td>\n",
       "      <td>-75.000</td>\n",
       "      <td>48.0</td>\n",
       "    </tr>\n",
       "    <tr>\n",
       "      <td>23</td>\n",
       "      <td>Terraza-1</td>\n",
       "      <td>9</td>\n",
       "      <td>1</td>\n",
       "      <td>POLYGON ((-11.81030 -9.45448, -10.84351 -9.454...</td>\n",
       "      <td>-75.800</td>\n",
       "      <td>48.0</td>\n",
       "    </tr>\n",
       "    <tr>\n",
       "      <td>24</td>\n",
       "      <td>Terraza-2</td>\n",
       "      <td>9</td>\n",
       "      <td>2</td>\n",
       "      <td>POLYGON ((-10.82703 -9.47074, -9.80530 -9.4707...</td>\n",
       "      <td>-69.000</td>\n",
       "      <td>48.0</td>\n",
       "    </tr>\n",
       "    <tr>\n",
       "      <td>25</td>\n",
       "      <td>Terraza-3</td>\n",
       "      <td>9</td>\n",
       "      <td>3</td>\n",
       "      <td>POLYGON ((-9.78333 -9.47615, -8.77808 -9.47615...</td>\n",
       "      <td>-72.000</td>\n",
       "      <td>48.0</td>\n",
       "    </tr>\n",
       "  </tbody>\n",
       "</table>\n",
       "</div>"
      ],
      "text/plain": [
       "             name  zone  subzone  \\\n",
       "0       Pasillo-1     0        1   \n",
       "1       Pasillo-2     0        2   \n",
       "2       Pasillo-3     0        3   \n",
       "3   Habitacion1-1     1        1   \n",
       "4   Habitacion1-2     1        2   \n",
       "5   Habitacion2-1     2        1   \n",
       "6   Habitacion2-2     2        2   \n",
       "7   Habitacion3-1     3        1   \n",
       "8   Habitacion3-2     3        2   \n",
       "9   Habitacion3-3     3        3   \n",
       "10  Habitacion3-4     3        4   \n",
       "11  Habitacion4-1     4        1   \n",
       "12  Habitacion4-2     4        2   \n",
       "13        Salon-1     5        1   \n",
       "14        Salon-2     5        2   \n",
       "15        Salon-3     5        3   \n",
       "16        Salon-4     5        4   \n",
       "17        Salon-5     5        5   \n",
       "18        Salon-6     5        6   \n",
       "19       Cocina-1     6        1   \n",
       "20       Cocina-2     6        2   \n",
       "21      Lavabo1-1     7        1   \n",
       "22      Lavabo2-1     8        1   \n",
       "23      Terraza-1     9        1   \n",
       "24      Terraza-2     9        2   \n",
       "25      Terraza-3     9        3   \n",
       "\n",
       "                                             geometry  dBm_Signal  Channel  \n",
       "0   POLYGON ((-11.31592 -10.69300, -10.67871 -10.6...     -67.800     48.0  \n",
       "1   POLYGON ((-10.66223 -10.70379, -9.78333 -10.70...     -57.800     48.0  \n",
       "2   POLYGON ((-9.76685 -10.69839, -9.18457 -10.698...     -53.000     48.0  \n",
       "3   POLYGON ((-9.16260 -10.96816, -8.62427 -10.968...     -39.200     48.0  \n",
       "4   POLYGON ((-9.16260 -11.42080, -8.62427 -11.420...     -40.600     48.0  \n",
       "5   POLYGON ((-9.76685 -11.14607, -9.18457 -11.146...     -45.000     48.0  \n",
       "6   POLYGON ((-9.76685 -11.58229, -9.17358 -11.582...     -47.000     48.0  \n",
       "7   POLYGON ((-9.77783 -10.43920, -9.29993 -10.439...     -54.800     48.0  \n",
       "8   POLYGON ((-9.28345 -10.43379, -8.76709 -10.433...     -52.200     48.0  \n",
       "9   POLYGON ((-9.78882 -9.96344, -9.29443 -9.96344...     -53.000     48.0  \n",
       "10  POLYGON ((-9.28345 -9.96344, -8.76709 -9.96344...     -52.000     48.0  \n",
       "11  POLYGON ((-10.31616 -10.44460, -9.79980 -10.44...     -63.000     48.0  \n",
       "12  POLYGON ((-10.31067 -9.95803, -9.80530 -9.9580...     -62.000     48.0  \n",
       "13  POLYGON ((-10.81055 -10.44460, -10.33264 -10.4...     -68.000     48.0  \n",
       "14  POLYGON ((-11.30493 -10.44460, -10.82703 -10.4...     -74.200     48.0  \n",
       "15  POLYGON ((-11.82678 -10.44460, -11.32141 -10.4...     -76.000     48.0  \n",
       "16  POLYGON ((-10.80505 -9.95803, -10.33264 -9.958...     -71.000     48.0  \n",
       "17  POLYGON ((-11.30493 -9.95262, -10.82703 -9.952...     -72.500     48.0  \n",
       "18  POLYGON ((-11.82129 -9.95262, -11.32141 -9.952...     -70.333     48.0  \n",
       "19  POLYGON ((-11.83228 -10.87107, -11.33789 -10.8...     -72.000     48.0  \n",
       "20  POLYGON ((-11.83228 -11.24306, -11.33789 -11.2...     -86.500     48.0  \n",
       "21  POLYGON ((-11.06873 -11.25922, -10.67871 -11.2...     -74.600     48.0  \n",
       "22  POLYGON ((-11.31592 -11.24845, -11.08521 -11.2...     -75.000     48.0  \n",
       "23  POLYGON ((-11.81030 -9.45448, -10.84351 -9.454...     -75.800     48.0  \n",
       "24  POLYGON ((-10.82703 -9.47074, -9.80530 -9.4707...     -69.000     48.0  \n",
       "25  POLYGON ((-9.78333 -9.47615, -8.77808 -9.47615...     -72.000     48.0  "
      ]
     },
     "execution_count": 10,
     "metadata": {},
     "output_type": "execute_result"
    }
   ],
   "source": [
    "my_wifi_5G_mean = my_wifi[my_wifi.SSID == 'WifiAle-5G'].groupby(['zone','subzone']).mean()\n",
    "my_wifi_5G_mean = my_wifi_5G_mean.reset_index()\n",
    "my_wifi_5G_mean = hz.merge(my_wifi_5G_mean,on=['zone','subzone'])\n",
    "#my_wifi_5G_mean = my_wifi_5G_mean.iloc[10:11]\n",
    "my_wifi_5G_mean"
   ]
  },
  {
   "cell_type": "code",
   "execution_count": 59,
   "metadata": {},
   "outputs": [
    {
     "data": {
      "image/png": "[encoded data removed]",
      "text/plain": [
       "<Figure size 2160x720 with 2 Axes>"
      ]
     },
     "metadata": {
      "needs_background": "light"
     },
     "output_type": "display_data"
    }
   ],
   "source": [
    "title = 'WiFi dBm per house area'\n",
    "col_name = 'dBm_Signal'\n",
    "label = 'name'\n",
    "gdf = my_wifi_5G_mean\n",
    "\n",
    "#Plot choropleth    \n",
    "plot_choropleth(gdf,title,col_name,label)"
   ]
  },
  {
   "cell_type": "markdown",
   "metadata": {},
   "source": [
    "## Band Ocupancy Analysis"
   ]
  },
  {
   "cell_type": "code",
   "execution_count": 12,
   "metadata": {},
   "outputs": [
    {
     "data": {
      "text/html": [
       "<div>\n",
       "<style scoped>\n",
       "    .dataframe tbody tr th:only-of-type {\n",
       "        vertical-align: middle;\n",
       "    }\n",
       "\n",
       "    .dataframe tbody tr th {\n",
       "        vertical-align: top;\n",
       "    }\n",
       "\n",
       "    .dataframe thead th {\n",
       "        text-align: right;\n",
       "    }\n",
       "</style>\n",
       "<table border=\"1\" class=\"dataframe\">\n",
       "  <thead>\n",
       "    <tr style=\"text-align: right;\">\n",
       "      <th></th>\n",
       "      <th>BSSID</th>\n",
       "      <th>SSID</th>\n",
       "      <th>zone</th>\n",
       "      <th>subzone</th>\n",
       "      <th>dBm_Signal</th>\n",
       "      <th>Channel</th>\n",
       "      <th>Crypto</th>\n",
       "    </tr>\n",
       "  </thead>\n",
       "  <tbody>\n",
       "    <tr>\n",
       "      <td>56</td>\n",
       "      <td>00:4a:77:e8:1b:c6</td>\n",
       "      <td>WifiAle-2.4G</td>\n",
       "      <td>1</td>\n",
       "      <td>1</td>\n",
       "      <td>-36</td>\n",
       "      <td>11</td>\n",
       "      <td>{'WPA/PSK', 'WPA2/PSK'}</td>\n",
       "    </tr>\n",
       "    <tr>\n",
       "      <td>59</td>\n",
       "      <td>50:7e:5d:67:53:ed</td>\n",
       "      <td>Orange-53EB</td>\n",
       "      <td>1</td>\n",
       "      <td>1</td>\n",
       "      <td>-51</td>\n",
       "      <td>11</td>\n",
       "      <td>{'WPA/PSK', 'WPA2/PSK'}</td>\n",
       "    </tr>\n",
       "    <tr>\n",
       "      <td>42</td>\n",
       "      <td>78:11:dc:e6:d0:97</td>\n",
       "      <td>rockrobo-vacuum-v1_miapD097</td>\n",
       "      <td>1</td>\n",
       "      <td>1</td>\n",
       "      <td>-59</td>\n",
       "      <td>6</td>\n",
       "      <td>{'OPN'}</td>\n",
       "    </tr>\n",
       "    <tr>\n",
       "      <td>21</td>\n",
       "      <td>44:fb:5a:b3:48:c0</td>\n",
       "      <td>DIGIFIBRA-PfRf</td>\n",
       "      <td>1</td>\n",
       "      <td>1</td>\n",
       "      <td>-60</td>\n",
       "      <td>5</td>\n",
       "      <td>{'WEP'}</td>\n",
       "    </tr>\n",
       "    <tr>\n",
       "      <td>18</td>\n",
       "      <td>04:a2:22:1e:1a:16</td>\n",
       "      <td>MiFibra-1A14</td>\n",
       "      <td>1</td>\n",
       "      <td>1</td>\n",
       "      <td>-63</td>\n",
       "      <td>1</td>\n",
       "      <td>{'WEP'}</td>\n",
       "    </tr>\n",
       "    <tr>\n",
       "      <td>16</td>\n",
       "      <td>62:8d:36:d1:75:61</td>\n",
       "      <td>Invitado-755E</td>\n",
       "      <td>1</td>\n",
       "      <td>1</td>\n",
       "      <td>-64</td>\n",
       "      <td>1</td>\n",
       "      <td>{'WEP'}</td>\n",
       "    </tr>\n",
       "    <tr>\n",
       "      <td>15</td>\n",
       "      <td>48:8d:36:d1:75:60</td>\n",
       "      <td>MiFibra-755E</td>\n",
       "      <td>1</td>\n",
       "      <td>1</td>\n",
       "      <td>-64</td>\n",
       "      <td>1</td>\n",
       "      <td>{'WEP'}</td>\n",
       "    </tr>\n",
       "    <tr>\n",
       "      <td>58</td>\n",
       "      <td>f4:06:8d:8c:ab:b1</td>\n",
       "      <td>devolo-bb1</td>\n",
       "      <td>1</td>\n",
       "      <td>1</td>\n",
       "      <td>-68</td>\n",
       "      <td>11</td>\n",
       "      <td>{'WPA2/PSK'}</td>\n",
       "    </tr>\n",
       "    <tr>\n",
       "      <td>47</td>\n",
       "      <td>ec:f4:51:55:0a:a1</td>\n",
       "      <td>MiFibra-0A9F</td>\n",
       "      <td>1</td>\n",
       "      <td>1</td>\n",
       "      <td>-69</td>\n",
       "      <td>6</td>\n",
       "      <td>{'WEP'}</td>\n",
       "    </tr>\n",
       "    <tr>\n",
       "      <td>27</td>\n",
       "      <td>ac:cf:85:52:bd:b5</td>\n",
       "      <td>_ONOWiFi</td>\n",
       "      <td>1</td>\n",
       "      <td>1</td>\n",
       "      <td>-72</td>\n",
       "      <td>5</td>\n",
       "      <td>{'OPN'}</td>\n",
       "    </tr>\n",
       "    <tr>\n",
       "      <td>32</td>\n",
       "      <td>ac:cf:85:52:bd:b4</td>\n",
       "      <td>vodafoneBDAC</td>\n",
       "      <td>1</td>\n",
       "      <td>1</td>\n",
       "      <td>-73</td>\n",
       "      <td>5</td>\n",
       "      <td>{'WPA2/PSK'}</td>\n",
       "    </tr>\n",
       "    <tr>\n",
       "      <td>6</td>\n",
       "      <td>78:31:2b:e1:87:ec</td>\n",
       "      <td>JAZZTEL_KfdA</td>\n",
       "      <td>1</td>\n",
       "      <td>1</td>\n",
       "      <td>-76</td>\n",
       "      <td>1</td>\n",
       "      <td>{'WEP'}</td>\n",
       "    </tr>\n",
       "    <tr>\n",
       "      <td>39</td>\n",
       "      <td>e2:41:36:84:12:f8</td>\n",
       "      <td>MOVISTAR_12F8</td>\n",
       "      <td>1</td>\n",
       "      <td>1</td>\n",
       "      <td>-80</td>\n",
       "      <td>6</td>\n",
       "      <td>{'WPA2/PSK'}</td>\n",
       "    </tr>\n",
       "    <tr>\n",
       "      <td>17</td>\n",
       "      <td>e4:3e:d7:e2:e9:70</td>\n",
       "      <td>MiFibra-E96E</td>\n",
       "      <td>1</td>\n",
       "      <td>1</td>\n",
       "      <td>-80</td>\n",
       "      <td>1</td>\n",
       "      <td>{'WEP'}</td>\n",
       "    </tr>\n",
       "    <tr>\n",
       "      <td>8</td>\n",
       "      <td>a0:8e:78:71:bf:8e</td>\n",
       "      <td>vodafoneBF88</td>\n",
       "      <td>1</td>\n",
       "      <td>1</td>\n",
       "      <td>-82</td>\n",
       "      <td>1</td>\n",
       "      <td>{'WPA/PSK', 'WPA2/PSK'}</td>\n",
       "    </tr>\n",
       "    <tr>\n",
       "      <td>4</td>\n",
       "      <td>e4:ab:89:34:6a:6c</td>\n",
       "      <td>MOVISTAR_6A6B</td>\n",
       "      <td>1</td>\n",
       "      <td>1</td>\n",
       "      <td>-82</td>\n",
       "      <td>1</td>\n",
       "      <td>{'WPA2/PSK'}</td>\n",
       "    </tr>\n",
       "    <tr>\n",
       "      <td>55</td>\n",
       "      <td>a4:08:f5:db:44:06</td>\n",
       "      <td>vodafone4400</td>\n",
       "      <td>1</td>\n",
       "      <td>1</td>\n",
       "      <td>-82</td>\n",
       "      <td>11</td>\n",
       "      <td>{'WPA/PSK', 'WPA2/PSK'}</td>\n",
       "    </tr>\n",
       "    <tr>\n",
       "      <td>52</td>\n",
       "      <td>b0:7f:b9:a7:84:76</td>\n",
       "      <td>Navi Wifi 5G_2GEXT</td>\n",
       "      <td>1</td>\n",
       "      <td>1</td>\n",
       "      <td>-83</td>\n",
       "      <td>10</td>\n",
       "      <td>{'WEP'}</td>\n",
       "    </tr>\n",
       "    <tr>\n",
       "      <td>5</td>\n",
       "      <td>e4:ca:12:95:53:38</td>\n",
       "      <td>MIWIFI_2G_dEw3</td>\n",
       "      <td>1</td>\n",
       "      <td>1</td>\n",
       "      <td>-84</td>\n",
       "      <td>1</td>\n",
       "      <td>{'WPA/PSK', 'WPA2/PSK'}</td>\n",
       "    </tr>\n",
       "    <tr>\n",
       "      <td>54</td>\n",
       "      <td>a8:9a:93:67:68:c0</td>\n",
       "      <td>MiFibra-68C0</td>\n",
       "      <td>1</td>\n",
       "      <td>1</td>\n",
       "      <td>-85</td>\n",
       "      <td>11</td>\n",
       "      <td>{'WEP'}</td>\n",
       "    </tr>\n",
       "    <tr>\n",
       "      <td>22</td>\n",
       "      <td>18:d6:c7:45:07:66</td>\n",
       "      <td>JAZZTEL_l0l4</td>\n",
       "      <td>1</td>\n",
       "      <td>1</td>\n",
       "      <td>-85</td>\n",
       "      <td>5</td>\n",
       "      <td>{'WPA2/PSK'}</td>\n",
       "    </tr>\n",
       "    <tr>\n",
       "      <td>50</td>\n",
       "      <td>62:8d:36:6d:96:f3</td>\n",
       "      <td>MiFibra-96EF-24G</td>\n",
       "      <td>1</td>\n",
       "      <td>1</td>\n",
       "      <td>-87</td>\n",
       "      <td>9</td>\n",
       "      <td>{'WEP'}</td>\n",
       "    </tr>\n",
       "    <tr>\n",
       "      <td>57</td>\n",
       "      <td>04:a2:22:1e:74:16</td>\n",
       "      <td>MiFibra-7414</td>\n",
       "      <td>1</td>\n",
       "      <td>1</td>\n",
       "      <td>-87</td>\n",
       "      <td>11</td>\n",
       "      <td>{'WEP'}</td>\n",
       "    </tr>\n",
       "    <tr>\n",
       "      <td>49</td>\n",
       "      <td>dc:53:7c:08:b0:88</td>\n",
       "      <td>ONO8AC2</td>\n",
       "      <td>1</td>\n",
       "      <td>1</td>\n",
       "      <td>-88</td>\n",
       "      <td>9</td>\n",
       "      <td>{'WPA/PSK', 'WPA2/PSK'}</td>\n",
       "    </tr>\n",
       "    <tr>\n",
       "      <td>36</td>\n",
       "      <td>d8:fb:5e:01:0c:6e</td>\n",
       "      <td>MOVISTAR_0C6D</td>\n",
       "      <td>1</td>\n",
       "      <td>1</td>\n",
       "      <td>-88</td>\n",
       "      <td>6</td>\n",
       "      <td>{'WPA2/PSK'}</td>\n",
       "    </tr>\n",
       "    <tr>\n",
       "      <td>0</td>\n",
       "      <td>8c:e1:17:d0:64:0e</td>\n",
       "      <td>MASMOVIL_2G_HJsC</td>\n",
       "      <td>1</td>\n",
       "      <td>1</td>\n",
       "      <td>-88</td>\n",
       "      <td>1</td>\n",
       "      <td>{'WPA/PSK', 'WPA2/PSK'}</td>\n",
       "    </tr>\n",
       "    <tr>\n",
       "      <td>20</td>\n",
       "      <td>d8:0d:17:bc:ea:bc</td>\n",
       "      <td>TP-Link_EABC</td>\n",
       "      <td>1</td>\n",
       "      <td>1</td>\n",
       "      <td>-91</td>\n",
       "      <td>4</td>\n",
       "      <td>{'WPA/PSK', 'WPA2/PSK'}</td>\n",
       "    </tr>\n",
       "  </tbody>\n",
       "</table>\n",
       "</div>"
      ],
      "text/plain": [
       "                BSSID                         SSID  zone  subzone  dBm_Signal  \\\n",
       "56  00:4a:77:e8:1b:c6                 WifiAle-2.4G     1        1         -36   \n",
       "59  50:7e:5d:67:53:ed                  Orange-53EB     1        1         -51   \n",
       "42  78:11:dc:e6:d0:97  rockrobo-vacuum-v1_miapD097     1        1         -59   \n",
       "21  44:fb:5a:b3:48:c0               DIGIFIBRA-PfRf     1        1         -60   \n",
       "18  04:a2:22:1e:1a:16                 MiFibra-1A14     1        1         -63   \n",
       "16  62:8d:36:d1:75:61                Invitado-755E     1        1         -64   \n",
       "15  48:8d:36:d1:75:60                 MiFibra-755E     1        1         -64   \n",
       "58  f4:06:8d:8c:ab:b1                   devolo-bb1     1        1         -68   \n",
       "47  ec:f4:51:55:0a:a1                 MiFibra-0A9F     1        1         -69   \n",
       "27  ac:cf:85:52:bd:b5                     _ONOWiFi     1        1         -72   \n",
       "32  ac:cf:85:52:bd:b4                 vodafoneBDAC     1        1         -73   \n",
       "6   78:31:2b:e1:87:ec                 JAZZTEL_KfdA     1        1         -76   \n",
       "39  e2:41:36:84:12:f8                MOVISTAR_12F8     1        1         -80   \n",
       "17  e4:3e:d7:e2:e9:70                 MiFibra-E96E     1        1         -80   \n",
       "8   a0:8e:78:71:bf:8e                 vodafoneBF88     1        1         -82   \n",
       "4   e4:ab:89:34:6a:6c                MOVISTAR_6A6B     1        1         -82   \n",
       "55  a4:08:f5:db:44:06                 vodafone4400     1        1         -82   \n",
       "52  b0:7f:b9:a7:84:76           Navi Wifi 5G_2GEXT     1        1         -83   \n",
       "5   e4:ca:12:95:53:38               MIWIFI_2G_dEw3     1        1         -84   \n",
       "54  a8:9a:93:67:68:c0                 MiFibra-68C0     1        1         -85   \n",
       "22  18:d6:c7:45:07:66                 JAZZTEL_l0l4     1        1         -85   \n",
       "50  62:8d:36:6d:96:f3             MiFibra-96EF-24G     1        1         -87   \n",
       "57  04:a2:22:1e:74:16                 MiFibra-7414     1        1         -87   \n",
       "49  dc:53:7c:08:b0:88                      ONO8AC2     1        1         -88   \n",
       "36  d8:fb:5e:01:0c:6e                MOVISTAR_0C6D     1        1         -88   \n",
       "0   8c:e1:17:d0:64:0e             MASMOVIL_2G_HJsC     1        1         -88   \n",
       "20  d8:0d:17:bc:ea:bc                 TP-Link_EABC     1        1         -91   \n",
       "\n",
       "    Channel                   Crypto  \n",
       "56       11  {'WPA/PSK', 'WPA2/PSK'}  \n",
       "59       11  {'WPA/PSK', 'WPA2/PSK'}  \n",
       "42        6                  {'OPN'}  \n",
       "21        5                  {'WEP'}  \n",
       "18        1                  {'WEP'}  \n",
       "16        1                  {'WEP'}  \n",
       "15        1                  {'WEP'}  \n",
       "58       11             {'WPA2/PSK'}  \n",
       "47        6                  {'WEP'}  \n",
       "27        5                  {'OPN'}  \n",
       "32        5             {'WPA2/PSK'}  \n",
       "6         1                  {'WEP'}  \n",
       "39        6             {'WPA2/PSK'}  \n",
       "17        1                  {'WEP'}  \n",
       "8         1  {'WPA/PSK', 'WPA2/PSK'}  \n",
       "4         1             {'WPA2/PSK'}  \n",
       "55       11  {'WPA/PSK', 'WPA2/PSK'}  \n",
       "52       10                  {'WEP'}  \n",
       "5         1  {'WPA/PSK', 'WPA2/PSK'}  \n",
       "54       11                  {'WEP'}  \n",
       "22        5             {'WPA2/PSK'}  \n",
       "50        9                  {'WEP'}  \n",
       "57       11                  {'WEP'}  \n",
       "49        9  {'WPA/PSK', 'WPA2/PSK'}  \n",
       "36        6             {'WPA2/PSK'}  \n",
       "0         1  {'WPA/PSK', 'WPA2/PSK'}  \n",
       "20        4  {'WPA/PSK', 'WPA2/PSK'}  "
      ]
     },
     "execution_count": 12,
     "metadata": {},
     "output_type": "execute_result"
    }
   ],
   "source": [
    "zone1_1_2G = scanned[(scanned.zone == 1) & (scanned.subzone == 1) & (scanned.Channel <= 14)]\n",
    "zone1_1_2G = zone1_1_2G.sort_values('dBm_Signal',ascending=False).drop_duplicates(['SSID'],keep='first')\n",
    "zone1_1_2G"
   ]
  },
  {
   "cell_type": "code",
   "execution_count": 46,
   "metadata": {},
   "outputs": [
    {
     "data": {
      "application/vnd.plotly.v1+json": {
       "config": {
        "plotlyServerURL": "https://plot.ly"
       },
       "data": [
        {
         "mode": "text",
         "text": [
          "WifiAle-2.4G",
          "Orange-53EB",
          "rockrobo-vacuum-v1_miapD097",
          "DIGIFIBRA-PfRf",
          "MiFibra-1A14",
          "Invitado-755E",
          "MiFibra-755E",
          "devolo-bb1",
          "MiFibra-0A9F",
          "_ONOWiFi",
          "vodafoneBDAC",
          "JAZZTEL_KfdA",
          "MiFibra-E96E",
          "MOVISTAR_12F8",
          "vodafoneBF88",
          "MOVISTAR_6A6B",
          "vodafone4400",
          "Navi Wifi 5G_2GEXT",
          "MIWIFI_2G_dEw3",
          "MiFibra-68C0",
          "JAZZTEL_l0l4",
          "MiFibra-96EF-24G",
          "MiFibra-7414",
          "MOVISTAR_0C6D",
          "MASMOVIL_2G_HJsC",
          "ONO8AC2",
          "TP-Link_EABC"
         ],
         "type": "scatter",
         "x": [
          11,
          11,
          6,
          5,
          1,
          1,
          1,
          11,
          6,
          5,
          5,
          1,
          1,
          6,
          1,
          1,
          11,
          10,
          1,
          11,
          5,
          9,
          11,
          6,
          1,
          9,
          4
         ],
         "y": [
          -36,
          -51,
          -59,
          -60,
          -63,
          -64,
          -64,
          -68,
          -69,
          -72,
          -73,
          -76,
          -80,
          -80,
          -82,
          -82,
          -82,
          -83,
          -84,
          -85,
          -85,
          -87,
          -87,
          -88,
          -88,
          -88,
          -91
         ]
        }
       ],
       "layout": {
        "shapes": [
         {
          "fillcolor": "#7d87b9",
          "line": {
           "color": "#7d87b9"
          },
          "name": "WifiAle-2.4G",
          "opacity": 0.3,
          "type": "circle",
          "x0": 9,
          "x1": 13,
          "xref": "x",
          "y0": -164,
          "y1": -36,
          "yref": "y"
         },
         {
          "fillcolor": "#bb7784",
          "line": {
           "color": "#bb7784"
          },
          "name": "Orange-53EB",
          "opacity": 0.3,
          "type": "circle",
          "x0": 9,
          "x1": 13,
          "xref": "x",
          "y0": -149,
          "y1": -51,
          "yref": "y"
         },
         {
          "fillcolor": "#8e063b",
          "line": {
           "color": "#8e063b"
          },
          "name": "rockrobo-vacuum-v1_miapD097",
          "opacity": 0.3,
          "type": "circle",
          "x0": 4,
          "x1": 8,
          "xref": "x",
          "y0": -141,
          "y1": -59,
          "yref": "y"
         },
         {
          "fillcolor": "#4a6fe3",
          "line": {
           "color": "#4a6fe3"
          },
          "name": "DIGIFIBRA-PfRf",
          "opacity": 0.3,
          "type": "circle",
          "x0": 3,
          "x1": 7,
          "xref": "x",
          "y0": -140,
          "y1": -60,
          "yref": "y"
         },
         {
          "fillcolor": "#8595e1",
          "line": {
           "color": "#8595e1"
          },
          "name": "MiFibra-1A14",
          "opacity": 0.3,
          "type": "circle",
          "x0": -1,
          "x1": 3,
          "xref": "x",
          "y0": -137,
          "y1": -63,
          "yref": "y"
         },
         {
          "fillcolor": "#e07b91",
          "line": {
           "color": "#e07b91"
          },
          "name": "Invitado-755E",
          "opacity": 0.3,
          "type": "circle",
          "x0": -1,
          "x1": 3,
          "xref": "x",
          "y0": -136,
          "y1": -64,
          "yref": "y"
         },
         {
          "fillcolor": "#d33f6a",
          "line": {
           "color": "#d33f6a"
          },
          "name": "MiFibra-755E",
          "opacity": 0.3,
          "type": "circle",
          "x0": -1,
          "x1": 3,
          "xref": "x",
          "y0": -136,
          "y1": -64,
          "yref": "y"
         },
         {
          "fillcolor": "#11c638",
          "line": {
           "color": "#11c638"
          },
          "name": "devolo-bb1",
          "opacity": 0.3,
          "type": "circle",
          "x0": 9,
          "x1": 13,
          "xref": "x",
          "y0": -132,
          "y1": -68,
          "yref": "y"
         },
         {
          "fillcolor": "#8dd593",
          "line": {
           "color": "#8dd593"
          },
          "name": "MiFibra-0A9F",
          "opacity": 0.3,
          "type": "circle",
          "x0": 4,
          "x1": 8,
          "xref": "x",
          "y0": -131,
          "y1": -69,
          "yref": "y"
         },
         {
          "fillcolor": "#ef9708",
          "line": {
           "color": "#ef9708"
          },
          "name": "_ONOWiFi",
          "opacity": 0.3,
          "type": "circle",
          "x0": 3,
          "x1": 7,
          "xref": "x",
          "y0": -128,
          "y1": -72,
          "yref": "y"
         },
         {
          "fillcolor": "#0fcfc0",
          "line": {
           "color": "#0fcfc0"
          },
          "name": "vodafoneBDAC",
          "opacity": 0.3,
          "type": "circle",
          "x0": 3,
          "x1": 7,
          "xref": "x",
          "y0": -127,
          "y1": -73,
          "yref": "y"
         },
         {
          "fillcolor": "#9cded6",
          "line": {
           "color": "#9cded6"
          },
          "name": "JAZZTEL_KfdA",
          "opacity": 0.3,
          "type": "circle",
          "x0": -1,
          "x1": 3,
          "xref": "x",
          "y0": -124,
          "y1": -76,
          "yref": "y"
         },
         {
          "fillcolor": "#f79cd4",
          "line": {
           "color": "#f79cd4"
          },
          "name": "MiFibra-E96E",
          "opacity": 0.3,
          "type": "circle",
          "x0": -1,
          "x1": 3,
          "xref": "x",
          "y0": -120,
          "y1": -80,
          "yref": "y"
         },
         {
          "fillcolor": "#023fa5",
          "line": {
           "color": "#023fa5"
          },
          "name": "MOVISTAR_12F8",
          "opacity": 0.3,
          "type": "circle",
          "x0": 4,
          "x1": 8,
          "xref": "x",
          "y0": -120,
          "y1": -80,
          "yref": "y"
         },
         {
          "fillcolor": "#7d87b9",
          "line": {
           "color": "#7d87b9"
          },
          "name": "vodafoneBF88",
          "opacity": 0.3,
          "type": "circle",
          "x0": -1,
          "x1": 3,
          "xref": "x",
          "y0": -118,
          "y1": -82,
          "yref": "y"
         },
         {
          "fillcolor": "#bb7784",
          "line": {
           "color": "#bb7784"
          },
          "name": "MOVISTAR_6A6B",
          "opacity": 0.3,
          "type": "circle",
          "x0": -1,
          "x1": 3,
          "xref": "x",
          "y0": -118,
          "y1": -82,
          "yref": "y"
         },
         {
          "fillcolor": "#8e063b",
          "line": {
           "color": "#8e063b"
          },
          "name": "vodafone4400",
          "opacity": 0.3,
          "type": "circle",
          "x0": 9,
          "x1": 13,
          "xref": "x",
          "y0": -118,
          "y1": -82,
          "yref": "y"
         },
         {
          "fillcolor": "#4a6fe3",
          "line": {
           "color": "#4a6fe3"
          },
          "name": "Navi Wifi 5G_2GEXT",
          "opacity": 0.3,
          "type": "circle",
          "x0": 8,
          "x1": 12,
          "xref": "x",
          "y0": -117,
          "y1": -83,
          "yref": "y"
         },
         {
          "fillcolor": "#8595e1",
          "line": {
           "color": "#8595e1"
          },
          "name": "MIWIFI_2G_dEw3",
          "opacity": 0.3,
          "type": "circle",
          "x0": -1,
          "x1": 3,
          "xref": "x",
          "y0": -116,
          "y1": -84,
          "yref": "y"
         },
         {
          "fillcolor": "#e07b91",
          "line": {
           "color": "#e07b91"
          },
          "name": "MiFibra-68C0",
          "opacity": 0.3,
          "type": "circle",
          "x0": 9,
          "x1": 13,
          "xref": "x",
          "y0": -115,
          "y1": -85,
          "yref": "y"
         },
         {
          "fillcolor": "#d33f6a",
          "line": {
           "color": "#d33f6a"
          },
          "name": "JAZZTEL_l0l4",
          "opacity": 0.3,
          "type": "circle",
          "x0": 3,
          "x1": 7,
          "xref": "x",
          "y0": -115,
          "y1": -85,
          "yref": "y"
         },
         {
          "fillcolor": "#11c638",
          "line": {
           "color": "#11c638"
          },
          "name": "MiFibra-96EF-24G",
          "opacity": 0.3,
          "type": "circle",
          "x0": 7,
          "x1": 11,
          "xref": "x",
          "y0": -113,
          "y1": -87,
          "yref": "y"
         },
         {
          "fillcolor": "#8dd593",
          "line": {
           "color": "#8dd593"
          },
          "name": "MiFibra-7414",
          "opacity": 0.3,
          "type": "circle",
          "x0": 9,
          "x1": 13,
          "xref": "x",
          "y0": -113,
          "y1": -87,
          "yref": "y"
         },
         {
          "fillcolor": "#ef9708",
          "line": {
           "color": "#ef9708"
          },
          "name": "MOVISTAR_0C6D",
          "opacity": 0.3,
          "type": "circle",
          "x0": 4,
          "x1": 8,
          "xref": "x",
          "y0": -112,
          "y1": -88,
          "yref": "y"
         },
         {
          "fillcolor": "#0fcfc0",
          "line": {
           "color": "#0fcfc0"
          },
          "name": "MASMOVIL_2G_HJsC",
          "opacity": 0.3,
          "type": "circle",
          "x0": -1,
          "x1": 3,
          "xref": "x",
          "y0": -112,
          "y1": -88,
          "yref": "y"
         },
         {
          "fillcolor": "#9cded6",
          "line": {
           "color": "#9cded6"
          },
          "name": "ONO8AC2",
          "opacity": 0.3,
          "type": "circle",
          "x0": 7,
          "x1": 11,
          "xref": "x",
          "y0": -112,
          "y1": -88,
          "yref": "y"
         },
         {
          "fillcolor": "#f79cd4",
          "line": {
           "color": "#f79cd4"
          },
          "name": "TP-Link_EABC",
          "opacity": 0.3,
          "type": "circle",
          "x0": 2,
          "x1": 6,
          "xref": "x",
          "y0": -109,
          "y1": -91,
          "yref": "y"
         }
        ],
        "template": {
         "data": {
          "bar": [
           {
            "error_x": {
             "color": "#f2f5fa"
            },
            "error_y": {
             "color": "#f2f5fa"
            },
            "marker": {
             "line": {
              "color": "rgb(17,17,17)",
              "width": 0.5
             }
            },
            "type": "bar"
           }
          ],
          "barpolar": [
           {
            "marker": {
             "line": {
              "color": "rgb(17,17,17)",
              "width": 0.5
             }
            },
            "type": "barpolar"
           }
          ],
          "carpet": [
           {
            "aaxis": {
             "endlinecolor": "#A2B1C6",
             "gridcolor": "#506784",
             "linecolor": "#506784",
             "minorgridcolor": "#506784",
             "startlinecolor": "#A2B1C6"
            },
            "baxis": {
             "endlinecolor": "#A2B1C6",
             "gridcolor": "#506784",
             "linecolor": "#506784",
             "minorgridcolor": "#506784",
             "startlinecolor": "#A2B1C6"
            },
            "type": "carpet"
           }
          ],
          "choropleth": [
           {
            "colorbar": {
             "outlinewidth": 0,
             "ticks": ""
            },
            "type": "choropleth"
           }
          ],
          "contour": [
           {
            "colorbar": {
             "outlinewidth": 0,
             "ticks": ""
            },
            "colorscale": [
             [
              0,
              "#0d0887"
             ],
             [
              0.1111111111111111,
              "#46039f"
             ],
             [
              0.2222222222222222,
              "#7201a8"
             ],
             [
              0.3333333333333333,
              "#9c179e"
             ],
             [
              0.4444444444444444,
              "#bd3786"
             ],
             [
              0.5555555555555556,
              "#d8576b"
             ],
             [
              0.6666666666666666,
              "#ed7953"
             ],
             [
              0.7777777777777778,
              "#fb9f3a"
             ],
             [
              0.8888888888888888,
              "#fdca26"
             ],
             [
              1,
              "#f0f921"
             ]
            ],
            "type": "contour"
           }
          ],
          "contourcarpet": [
           {
            "colorbar": {
             "outlinewidth": 0,
             "ticks": ""
            },
            "type": "contourcarpet"
           }
          ],
          "heatmap": [
           {
            "colorbar": {
             "outlinewidth": 0,
             "ticks": ""
            },
            "colorscale": [
             [
              0,
              "#0d0887"
             ],
             [
              0.1111111111111111,
              "#46039f"
             ],
             [
              0.2222222222222222,
              "#7201a8"
             ],
             [
              0.3333333333333333,
              "#9c179e"
             ],
             [
              0.4444444444444444,
              "#bd3786"
             ],
             [
              0.5555555555555556,
              "#d8576b"
             ],
             [
              0.6666666666666666,
              "#ed7953"
             ],
             [
              0.7777777777777778,
              "#fb9f3a"
             ],
             [
              0.8888888888888888,
              "#fdca26"
             ],
             [
              1,
              "#f0f921"
             ]
            ],
            "type": "heatmap"
           }
          ],
          "heatmapgl": [
           {
            "colorbar": {
             "outlinewidth": 0,
             "ticks": ""
            },
            "colorscale": [
             [
              0,
              "#0d0887"
             ],
             [
              0.1111111111111111,
              "#46039f"
             ],
             [
              0.2222222222222222,
              "#7201a8"
             ],
             [
              0.3333333333333333,
              "#9c179e"
             ],
             [
              0.4444444444444444,
              "#bd3786"
             ],
             [
              0.5555555555555556,
              "#d8576b"
             ],
             [
              0.6666666666666666,
              "#ed7953"
             ],
             [
              0.7777777777777778,
              "#fb9f3a"
             ],
             [
              0.8888888888888888,
              "#fdca26"
             ],
             [
              1,
              "#f0f921"
             ]
            ],
            "type": "heatmapgl"
           }
          ],
          "histogram": [
           {
            "marker": {
             "colorbar": {
              "outlinewidth": 0,
              "ticks": ""
             }
            },
            "type": "histogram"
           }
          ],
          "histogram2d": [
           {
            "colorbar": {
             "outlinewidth": 0,
             "ticks": ""
            },
            "colorscale": [
             [
              0,
              "#0d0887"
             ],
             [
              0.1111111111111111,
              "#46039f"
             ],
             [
              0.2222222222222222,
              "#7201a8"
             ],
             [
              0.3333333333333333,
              "#9c179e"
             ],
             [
              0.4444444444444444,
              "#bd3786"
             ],
             [
              0.5555555555555556,
              "#d8576b"
             ],
             [
              0.6666666666666666,
              "#ed7953"
             ],
             [
              0.7777777777777778,
              "#fb9f3a"
             ],
             [
              0.8888888888888888,
              "#fdca26"
             ],
             [
              1,
              "#f0f921"
             ]
            ],
            "type": "histogram2d"
           }
          ],
          "histogram2dcontour": [
           {
            "colorbar": {
             "outlinewidth": 0,
             "ticks": ""
            },
            "colorscale": [
             [
              0,
              "#0d0887"
             ],
             [
              0.1111111111111111,
              "#46039f"
             ],
             [
              0.2222222222222222,
              "#7201a8"
             ],
             [
              0.3333333333333333,
              "#9c179e"
             ],
             [
              0.4444444444444444,
              "#bd3786"
             ],
             [
              0.5555555555555556,
              "#d8576b"
             ],
             [
              0.6666666666666666,
              "#ed7953"
             ],
             [
              0.7777777777777778,
              "#fb9f3a"
             ],
             [
              0.8888888888888888,
              "#fdca26"
             ],
             [
              1,
              "#f0f921"
             ]
            ],
            "type": "histogram2dcontour"
           }
          ],
          "mesh3d": [
           {
            "colorbar": {
             "outlinewidth": 0,
             "ticks": ""
            },
            "type": "mesh3d"
           }
          ],
          "parcoords": [
           {
            "line": {
             "colorbar": {
              "outlinewidth": 0,
              "ticks": ""
             }
            },
            "type": "parcoords"
           }
          ],
          "pie": [
           {
            "automargin": true,
            "type": "pie"
           }
          ],
          "scatter": [
           {
            "marker": {
             "line": {
              "color": "#283442"
             }
            },
            "type": "scatter"
           }
          ],
          "scatter3d": [
           {
            "line": {
             "colorbar": {
              "outlinewidth": 0,
              "ticks": ""
             }
            },
            "marker": {
             "colorbar": {
              "outlinewidth": 0,
              "ticks": ""
             }
            },
            "type": "scatter3d"
           }
          ],
          "scattercarpet": [
           {
            "marker": {
             "colorbar": {
              "outlinewidth": 0,
              "ticks": ""
             }
            },
            "type": "scattercarpet"
           }
          ],
          "scattergeo": [
           {
            "marker": {
             "colorbar": {
              "outlinewidth": 0,
              "ticks": ""
             }
            },
            "type": "scattergeo"
           }
          ],
          "scattergl": [
           {
            "marker": {
             "line": {
              "color": "#283442"
             }
            },
            "type": "scattergl"
           }
          ],
          "scattermapbox": [
           {
            "marker": {
             "colorbar": {
              "outlinewidth": 0,
              "ticks": ""
             }
            },
            "type": "scattermapbox"
           }
          ],
          "scatterpolar": [
           {
            "marker": {
             "colorbar": {
              "outlinewidth": 0,
              "ticks": ""
             }
            },
            "type": "scatterpolar"
           }
          ],
          "scatterpolargl": [
           {
            "marker": {
             "colorbar": {
              "outlinewidth": 0,
              "ticks": ""
             }
            },
            "type": "scatterpolargl"
           }
          ],
          "scatterternary": [
           {
            "marker": {
             "colorbar": {
              "outlinewidth": 0,
              "ticks": ""
             }
            },
            "type": "scatterternary"
           }
          ],
          "surface": [
           {
            "colorbar": {
             "outlinewidth": 0,
             "ticks": ""
            },
            "colorscale": [
             [
              0,
              "#0d0887"
             ],
             [
              0.1111111111111111,
              "#46039f"
             ],
             [
              0.2222222222222222,
              "#7201a8"
             ],
             [
              0.3333333333333333,
              "#9c179e"
             ],
             [
              0.4444444444444444,
              "#bd3786"
             ],
             [
              0.5555555555555556,
              "#d8576b"
             ],
             [
              0.6666666666666666,
              "#ed7953"
             ],
             [
              0.7777777777777778,
              "#fb9f3a"
             ],
             [
              0.8888888888888888,
              "#fdca26"
             ],
             [
              1,
              "#f0f921"
             ]
            ],
            "type": "surface"
           }
          ],
          "table": [
           {
            "cells": {
             "fill": {
              "color": "#506784"
             },
             "line": {
              "color": "rgb(17,17,17)"
             }
            },
            "header": {
             "fill": {
              "color": "#2a3f5f"
             },
             "line": {
              "color": "rgb(17,17,17)"
             }
            },
            "type": "table"
           }
          ]
         },
         "layout": {
          "annotationdefaults": {
           "arrowcolor": "#f2f5fa",
           "arrowhead": 0,
           "arrowwidth": 1
          },
          "coloraxis": {
           "colorbar": {
            "outlinewidth": 0,
            "ticks": ""
           }
          },
          "colorscale": {
           "diverging": [
            [
             0,
             "#8e0152"
            ],
            [
             0.1,
             "#c51b7d"
            ],
            [
             0.2,
             "#de77ae"
            ],
            [
             0.3,
             "#f1b6da"
            ],
            [
             0.4,
             "#fde0ef"
            ],
            [
             0.5,
             "#f7f7f7"
            ],
            [
             0.6,
             "#e6f5d0"
            ],
            [
             0.7,
             "#b8e186"
            ],
            [
             0.8,
             "#7fbc41"
            ],
            [
             0.9,
             "#4d9221"
            ],
            [
             1,
             "#276419"
            ]
           ],
           "sequential": [
            [
             0,
             "#0d0887"
            ],
            [
             0.1111111111111111,
             "#46039f"
            ],
            [
             0.2222222222222222,
             "#7201a8"
            ],
            [
             0.3333333333333333,
             "#9c179e"
            ],
            [
             0.4444444444444444,
             "#bd3786"
            ],
            [
             0.5555555555555556,
             "#d8576b"
            ],
            [
             0.6666666666666666,
             "#ed7953"
            ],
            [
             0.7777777777777778,
             "#fb9f3a"
            ],
            [
             0.8888888888888888,
             "#fdca26"
            ],
            [
             1,
             "#f0f921"
            ]
           ],
           "sequentialminus": [
            [
             0,
             "#0d0887"
            ],
            [
             0.1111111111111111,
             "#46039f"
            ],
            [
             0.2222222222222222,
             "#7201a8"
            ],
            [
             0.3333333333333333,
             "#9c179e"
            ],
            [
             0.4444444444444444,
             "#bd3786"
            ],
            [
             0.5555555555555556,
             "#d8576b"
            ],
            [
             0.6666666666666666,
             "#ed7953"
            ],
            [
             0.7777777777777778,
             "#fb9f3a"
            ],
            [
             0.8888888888888888,
             "#fdca26"
            ],
            [
             1,
             "#f0f921"
            ]
           ]
          },
          "colorway": [
           "#636efa",
           "#EF553B",
           "#00cc96",
           "#ab63fa",
           "#FFA15A",
           "#19d3f3",
           "#FF6692",
           "#B6E880",
           "#FF97FF",
           "#FECB52"
          ],
          "font": {
           "color": "#f2f5fa"
          },
          "geo": {
           "bgcolor": "rgb(17,17,17)",
           "lakecolor": "rgb(17,17,17)",
           "landcolor": "rgb(17,17,17)",
           "showlakes": true,
           "showland": true,
           "subunitcolor": "#506784"
          },
          "hoverlabel": {
           "align": "left"
          },
          "hovermode": "closest",
          "mapbox": {
           "style": "dark"
          },
          "paper_bgcolor": "rgb(17,17,17)",
          "plot_bgcolor": "rgb(17,17,17)",
          "polar": {
           "angularaxis": {
            "gridcolor": "#506784",
            "linecolor": "#506784",
            "ticks": ""
           },
           "bgcolor": "rgb(17,17,17)",
           "radialaxis": {
            "gridcolor": "#506784",
            "linecolor": "#506784",
            "ticks": ""
           }
          },
          "scene": {
           "xaxis": {
            "backgroundcolor": "rgb(17,17,17)",
            "gridcolor": "#506784",
            "gridwidth": 2,
            "linecolor": "#506784",
            "showbackground": true,
            "ticks": "",
            "zerolinecolor": "#C8D4E3"
           },
           "yaxis": {
            "backgroundcolor": "rgb(17,17,17)",
            "gridcolor": "#506784",
            "gridwidth": 2,
            "linecolor": "#506784",
            "showbackground": true,
            "ticks": "",
            "zerolinecolor": "#C8D4E3"
           },
           "zaxis": {
            "backgroundcolor": "rgb(17,17,17)",
            "gridcolor": "#506784",
            "gridwidth": 2,
            "linecolor": "#506784",
            "showbackground": true,
            "ticks": "",
            "zerolinecolor": "#C8D4E3"
           }
          },
          "shapedefaults": {
           "line": {
            "color": "#f2f5fa"
           }
          },
          "sliderdefaults": {
           "bgcolor": "#C8D4E3",
           "bordercolor": "rgb(17,17,17)",
           "borderwidth": 1,
           "tickwidth": 0
          },
          "ternary": {
           "aaxis": {
            "gridcolor": "#506784",
            "linecolor": "#506784",
            "ticks": ""
           },
           "baxis": {
            "gridcolor": "#506784",
            "linecolor": "#506784",
            "ticks": ""
           },
           "bgcolor": "rgb(17,17,17)",
           "caxis": {
            "gridcolor": "#506784",
            "linecolor": "#506784",
            "ticks": ""
           }
          },
          "title": {
           "x": 0.05
          },
          "updatemenudefaults": {
           "bgcolor": "#506784",
           "borderwidth": 0
          },
          "xaxis": {
           "automargin": true,
           "gridcolor": "#283442",
           "linecolor": "#506784",
           "ticks": "",
           "title": {
            "standoff": 15
           },
           "zerolinecolor": "#283442",
           "zerolinewidth": 2
          },
          "yaxis": {
           "automargin": true,
           "gridcolor": "#283442",
           "linecolor": "#506784",
           "ticks": "",
           "title": {
            "standoff": 15
           },
           "zerolinecolor": "#283442",
           "zerolinewidth": 2
          }
         }
        },
        "title": {
         "text": "WiFi Signal per channel - 2.4GHz"
        },
        "xaxis": {
         "nticks": 17,
         "title": {
          "text": "Channels"
         }
        },
        "yaxis": {
         "range": [
          -100,
          -26
         ],
         "title": {
          "text": "dBm"
         }
        }
       }
      },
      "text/html": [
       "<div>\n",
       "        \n",
       "        \n",
       "            <div id=\"d9fb1bc5-ab56-41d0-b03f-dba2028a3003\" class=\"plotly-graph-div\" style=\"height:525px; width:100%;\"></div>\n",
       "            <script type=\"text/javascript\">\n",
       "                require([\"plotly\"], function(Plotly) {\n",
       "                    window.PLOTLYENV=window.PLOTLYENV || {};\n",
       "                    \n",
       "                if (document.getElementById(\"d9fb1bc5-ab56-41d0-b03f-dba2028a3003\")) {\n",
       "                    Plotly.newPlot(\n",
       "                        'd9fb1bc5-ab56-41d0-b03f-dba2028a3003',\n",
       "                        [{\"mode\": \"text\", \"text\": [\"WifiAle-2.4G\", \"Orange-53EB\", \"rockrobo-vacuum-v1_miapD097\", \"DIGIFIBRA-PfRf\", \"MiFibra-1A14\", \"Invitado-755E\", \"MiFibra-755E\", \"devolo-bb1\", \"MiFibra-0A9F\", \"_ONOWiFi\", \"vodafoneBDAC\", \"JAZZTEL_KfdA\", \"MiFibra-E96E\", \"MOVISTAR_12F8\", \"vodafoneBF88\", \"MOVISTAR_6A6B\", \"vodafone4400\", \"Navi Wifi 5G_2GEXT\", \"MIWIFI_2G_dEw3\", \"MiFibra-68C0\", \"JAZZTEL_l0l4\", \"MiFibra-96EF-24G\", \"MiFibra-7414\", \"MOVISTAR_0C6D\", \"MASMOVIL_2G_HJsC\", \"ONO8AC2\", \"TP-Link_EABC\"], \"type\": \"scatter\", \"x\": [11, 11, 6, 5, 1, 1, 1, 11, 6, 5, 5, 1, 1, 6, 1, 1, 11, 10, 1, 11, 5, 9, 11, 6, 1, 9, 4], \"y\": [-36, -51, -59, -60, -63, -64, -64, -68, -69, -72, -73, -76, -80, -80, -82, -82, -82, -83, -84, -85, -85, -87, -87, -88, -88, -88, -91]}],\n",
       "                        {\"shapes\": [{\"fillcolor\": \"#7d87b9\", \"line\": {\"color\": \"#7d87b9\"}, \"name\": \"WifiAle-2.4G\", \"opacity\": 0.3, \"type\": \"circle\", \"x0\": 9, \"x1\": 13, \"xref\": \"x\", \"y0\": -164, \"y1\": -36, \"yref\": \"y\"}, {\"fillcolor\": \"#bb7784\", \"line\": {\"color\": \"#bb7784\"}, \"name\": \"Orange-53EB\", \"opacity\": 0.3, \"type\": \"circle\", \"x0\": 9, \"x1\": 13, \"xref\": \"x\", \"y0\": -149, \"y1\": -51, \"yref\": \"y\"}, {\"fillcolor\": \"#8e063b\", \"line\": {\"color\": \"#8e063b\"}, \"name\": \"rockrobo-vacuum-v1_miapD097\", \"opacity\": 0.3, \"type\": \"circle\", \"x0\": 4, \"x1\": 8, \"xref\": \"x\", \"y0\": -141, \"y1\": -59, \"yref\": \"y\"}, {\"fillcolor\": \"#4a6fe3\", \"line\": {\"color\": \"#4a6fe3\"}, \"name\": \"DIGIFIBRA-PfRf\", \"opacity\": 0.3, \"type\": \"circle\", \"x0\": 3, \"x1\": 7, \"xref\": \"x\", \"y0\": -140, \"y1\": -60, \"yref\": \"y\"}, {\"fillcolor\": \"#8595e1\", \"line\": {\"color\": \"#8595e1\"}, \"name\": \"MiFibra-1A14\", \"opacity\": 0.3, \"type\": \"circle\", \"x0\": -1, \"x1\": 3, \"xref\": \"x\", \"y0\": -137, \"y1\": -63, \"yref\": \"y\"}, {\"fillcolor\": \"#e07b91\", \"line\": {\"color\": \"#e07b91\"}, \"name\": \"Invitado-755E\", \"opacity\": 0.3, \"type\": \"circle\", \"x0\": -1, \"x1\": 3, \"xref\": \"x\", \"y0\": -136, \"y1\": -64, \"yref\": \"y\"}, {\"fillcolor\": \"#d33f6a\", \"line\": {\"color\": \"#d33f6a\"}, \"name\": \"MiFibra-755E\", \"opacity\": 0.3, \"type\": \"circle\", \"x0\": -1, \"x1\": 3, \"xref\": \"x\", \"y0\": -136, \"y1\": -64, \"yref\": \"y\"}, {\"fillcolor\": \"#11c638\", \"line\": {\"color\": \"#11c638\"}, \"name\": \"devolo-bb1\", \"opacity\": 0.3, \"type\": \"circle\", \"x0\": 9, \"x1\": 13, \"xref\": \"x\", \"y0\": -132, \"y1\": -68, \"yref\": \"y\"}, {\"fillcolor\": \"#8dd593\", \"line\": {\"color\": \"#8dd593\"}, \"name\": \"MiFibra-0A9F\", \"opacity\": 0.3, \"type\": \"circle\", \"x0\": 4, \"x1\": 8, \"xref\": \"x\", \"y0\": -131, \"y1\": -69, \"yref\": \"y\"}, {\"fillcolor\": \"#ef9708\", \"line\": {\"color\": \"#ef9708\"}, \"name\": \"_ONOWiFi\", \"opacity\": 0.3, \"type\": \"circle\", \"x0\": 3, \"x1\": 7, \"xref\": \"x\", \"y0\": -128, \"y1\": -72, \"yref\": \"y\"}, {\"fillcolor\": \"#0fcfc0\", \"line\": {\"color\": \"#0fcfc0\"}, \"name\": \"vodafoneBDAC\", \"opacity\": 0.3, \"type\": \"circle\", \"x0\": 3, \"x1\": 7, \"xref\": \"x\", \"y0\": -127, \"y1\": -73, \"yref\": \"y\"}, {\"fillcolor\": \"#9cded6\", \"line\": {\"color\": \"#9cded6\"}, \"name\": \"JAZZTEL_KfdA\", \"opacity\": 0.3, \"type\": \"circle\", \"x0\": -1, \"x1\": 3, \"xref\": \"x\", \"y0\": -124, \"y1\": -76, \"yref\": \"y\"}, {\"fillcolor\": \"#f79cd4\", \"line\": {\"color\": \"#f79cd4\"}, \"name\": \"MiFibra-E96E\", \"opacity\": 0.3, \"type\": \"circle\", \"x0\": -1, \"x1\": 3, \"xref\": \"x\", \"y0\": -120, \"y1\": -80, \"yref\": \"y\"}, {\"fillcolor\": \"#023fa5\", \"line\": {\"color\": \"#023fa5\"}, \"name\": \"MOVISTAR_12F8\", \"opacity\": 0.3, \"type\": \"circle\", \"x0\": 4, \"x1\": 8, \"xref\": \"x\", \"y0\": -120, \"y1\": -80, \"yref\": \"y\"}, {\"fillcolor\": \"#7d87b9\", \"line\": {\"color\": \"#7d87b9\"}, \"name\": \"vodafoneBF88\", \"opacity\": 0.3, \"type\": \"circle\", \"x0\": -1, \"x1\": 3, \"xref\": \"x\", \"y0\": -118, \"y1\": -82, \"yref\": \"y\"}, {\"fillcolor\": \"#bb7784\", \"line\": {\"color\": \"#bb7784\"}, \"name\": \"MOVISTAR_6A6B\", \"opacity\": 0.3, \"type\": \"circle\", \"x0\": -1, \"x1\": 3, \"xref\": \"x\", \"y0\": -118, \"y1\": -82, \"yref\": \"y\"}, {\"fillcolor\": \"#8e063b\", \"line\": {\"color\": \"#8e063b\"}, \"name\": \"vodafone4400\", \"opacity\": 0.3, \"type\": \"circle\", \"x0\": 9, \"x1\": 13, \"xref\": \"x\", \"y0\": -118, \"y1\": -82, \"yref\": \"y\"}, {\"fillcolor\": \"#4a6fe3\", \"line\": {\"color\": \"#4a6fe3\"}, \"name\": \"Navi Wifi 5G_2GEXT\", \"opacity\": 0.3, \"type\": \"circle\", \"x0\": 8, \"x1\": 12, \"xref\": \"x\", \"y0\": -117, \"y1\": -83, \"yref\": \"y\"}, {\"fillcolor\": \"#8595e1\", \"line\": {\"color\": \"#8595e1\"}, \"name\": \"MIWIFI_2G_dEw3\", \"opacity\": 0.3, \"type\": \"circle\", \"x0\": -1, \"x1\": 3, \"xref\": \"x\", \"y0\": -116, \"y1\": -84, \"yref\": \"y\"}, {\"fillcolor\": \"#e07b91\", \"line\": {\"color\": \"#e07b91\"}, \"name\": \"MiFibra-68C0\", \"opacity\": 0.3, \"type\": \"circle\", \"x0\": 9, \"x1\": 13, \"xref\": \"x\", \"y0\": -115, \"y1\": -85, \"yref\": \"y\"}, {\"fillcolor\": \"#d33f6a\", \"line\": {\"color\": \"#d33f6a\"}, \"name\": \"JAZZTEL_l0l4\", \"opacity\": 0.3, \"type\": \"circle\", \"x0\": 3, \"x1\": 7, \"xref\": \"x\", \"y0\": -115, \"y1\": -85, \"yref\": \"y\"}, {\"fillcolor\": \"#11c638\", \"line\": {\"color\": \"#11c638\"}, \"name\": \"MiFibra-96EF-24G\", \"opacity\": 0.3, \"type\": \"circle\", \"x0\": 7, \"x1\": 11, \"xref\": \"x\", \"y0\": -113, \"y1\": -87, \"yref\": \"y\"}, {\"fillcolor\": \"#8dd593\", \"line\": {\"color\": \"#8dd593\"}, \"name\": \"MiFibra-7414\", \"opacity\": 0.3, \"type\": \"circle\", \"x0\": 9, \"x1\": 13, \"xref\": \"x\", \"y0\": -113, \"y1\": -87, \"yref\": \"y\"}, {\"fillcolor\": \"#ef9708\", \"line\": {\"color\": \"#ef9708\"}, \"name\": \"MOVISTAR_0C6D\", \"opacity\": 0.3, \"type\": \"circle\", \"x0\": 4, \"x1\": 8, \"xref\": \"x\", \"y0\": -112, \"y1\": -88, \"yref\": \"y\"}, {\"fillcolor\": \"#0fcfc0\", \"line\": {\"color\": \"#0fcfc0\"}, \"name\": \"MASMOVIL_2G_HJsC\", \"opacity\": 0.3, \"type\": \"circle\", \"x0\": -1, \"x1\": 3, \"xref\": \"x\", \"y0\": -112, \"y1\": -88, \"yref\": \"y\"}, {\"fillcolor\": \"#9cded6\", \"line\": {\"color\": \"#9cded6\"}, \"name\": \"ONO8AC2\", \"opacity\": 0.3, \"type\": \"circle\", \"x0\": 7, \"x1\": 11, \"xref\": \"x\", \"y0\": -112, \"y1\": -88, \"yref\": \"y\"}, {\"fillcolor\": \"#f79cd4\", \"line\": {\"color\": \"#f79cd4\"}, \"name\": \"TP-Link_EABC\", \"opacity\": 0.3, \"type\": \"circle\", \"x0\": 2, \"x1\": 6, \"xref\": \"x\", \"y0\": -109, \"y1\": -91, \"yref\": \"y\"}], \"template\": {\"data\": {\"bar\": [{\"error_x\": {\"color\": \"#f2f5fa\"}, \"error_y\": {\"color\": \"#f2f5fa\"}, \"marker\": {\"line\": {\"color\": \"rgb(17,17,17)\", \"width\": 0.5}}, \"type\": \"bar\"}], \"barpolar\": [{\"marker\": {\"line\": {\"color\": \"rgb(17,17,17)\", \"width\": 0.5}}, \"type\": \"barpolar\"}], \"carpet\": [{\"aaxis\": {\"endlinecolor\": \"#A2B1C6\", \"gridcolor\": \"#506784\", \"linecolor\": \"#506784\", \"minorgridcolor\": \"#506784\", \"startlinecolor\": \"#A2B1C6\"}, \"baxis\": {\"endlinecolor\": \"#A2B1C6\", \"gridcolor\": \"#506784\", \"linecolor\": \"#506784\", \"minorgridcolor\": \"#506784\", \"startlinecolor\": \"#A2B1C6\"}, \"type\": \"carpet\"}], \"choropleth\": [{\"colorbar\": {\"outlinewidth\": 0, \"ticks\": \"\"}, \"type\": \"choropleth\"}], \"contour\": [{\"colorbar\": {\"outlinewidth\": 0, \"ticks\": \"\"}, \"colorscale\": [[0.0, \"#0d0887\"], [0.1111111111111111, \"#46039f\"], [0.2222222222222222, \"#7201a8\"], [0.3333333333333333, \"#9c179e\"], [0.4444444444444444, \"#bd3786\"], [0.5555555555555556, \"#d8576b\"], [0.6666666666666666, \"#ed7953\"], [0.7777777777777778, \"#fb9f3a\"], [0.8888888888888888, \"#fdca26\"], [1.0, \"#f0f921\"]], \"type\": \"contour\"}], \"contourcarpet\": [{\"colorbar\": {\"outlinewidth\": 0, \"ticks\": \"\"}, \"type\": \"contourcarpet\"}], \"heatmap\": [{\"colorbar\": {\"outlinewidth\": 0, \"ticks\": \"\"}, \"colorscale\": [[0.0, \"#0d0887\"], [0.1111111111111111, \"#46039f\"], [0.2222222222222222, \"#7201a8\"], [0.3333333333333333, \"#9c179e\"], [0.4444444444444444, \"#bd3786\"], [0.5555555555555556, \"#d8576b\"], [0.6666666666666666, \"#ed7953\"], [0.7777777777777778, \"#fb9f3a\"], [0.8888888888888888, \"#fdca26\"], [1.0, \"#f0f921\"]], \"type\": \"heatmap\"}], \"heatmapgl\": [{\"colorbar\": {\"outlinewidth\": 0, \"ticks\": \"\"}, \"colorscale\": [[0.0, \"#0d0887\"], [0.1111111111111111, \"#46039f\"], [0.2222222222222222, \"#7201a8\"], [0.3333333333333333, \"#9c179e\"], [0.4444444444444444, \"#bd3786\"], [0.5555555555555556, \"#d8576b\"], [0.6666666666666666, \"#ed7953\"], [0.7777777777777778, \"#fb9f3a\"], [0.8888888888888888, \"#fdca26\"], [1.0, \"#f0f921\"]], \"type\": \"heatmapgl\"}], \"histogram\": [{\"marker\": {\"colorbar\": {\"outlinewidth\": 0, \"ticks\": \"\"}}, \"type\": \"histogram\"}], \"histogram2d\": [{\"colorbar\": {\"outlinewidth\": 0, \"ticks\": \"\"}, \"colorscale\": [[0.0, \"#0d0887\"], [0.1111111111111111, \"#46039f\"], [0.2222222222222222, \"#7201a8\"], [0.3333333333333333, \"#9c179e\"], [0.4444444444444444, \"#bd3786\"], [0.5555555555555556, \"#d8576b\"], [0.6666666666666666, \"#ed7953\"], [0.7777777777777778, \"#fb9f3a\"], [0.8888888888888888, \"#fdca26\"], [1.0, \"#f0f921\"]], \"type\": \"histogram2d\"}], \"histogram2dcontour\": [{\"colorbar\": {\"outlinewidth\": 0, \"ticks\": \"\"}, \"colorscale\": [[0.0, \"#0d0887\"], [0.1111111111111111, \"#46039f\"], [0.2222222222222222, \"#7201a8\"], [0.3333333333333333, \"#9c179e\"], [0.4444444444444444, \"#bd3786\"], [0.5555555555555556, \"#d8576b\"], [0.6666666666666666, \"#ed7953\"], [0.7777777777777778, \"#fb9f3a\"], [0.8888888888888888, \"#fdca26\"], [1.0, \"#f0f921\"]], \"type\": \"histogram2dcontour\"}], \"mesh3d\": [{\"colorbar\": {\"outlinewidth\": 0, \"ticks\": \"\"}, \"type\": \"mesh3d\"}], \"parcoords\": [{\"line\": {\"colorbar\": {\"outlinewidth\": 0, \"ticks\": \"\"}}, \"type\": \"parcoords\"}], \"pie\": [{\"automargin\": true, \"type\": \"pie\"}], \"scatter\": [{\"marker\": {\"line\": {\"color\": \"#283442\"}}, \"type\": \"scatter\"}], \"scatter3d\": [{\"line\": {\"colorbar\": {\"outlinewidth\": 0, \"ticks\": \"\"}}, \"marker\": {\"colorbar\": {\"outlinewidth\": 0, \"ticks\": \"\"}}, \"type\": \"scatter3d\"}], \"scattercarpet\": [{\"marker\": {\"colorbar\": {\"outlinewidth\": 0, \"ticks\": \"\"}}, \"type\": \"scattercarpet\"}], \"scattergeo\": [{\"marker\": {\"colorbar\": {\"outlinewidth\": 0, \"ticks\": \"\"}}, \"type\": \"scattergeo\"}], \"scattergl\": [{\"marker\": {\"line\": {\"color\": \"#283442\"}}, \"type\": \"scattergl\"}], \"scattermapbox\": [{\"marker\": {\"colorbar\": {\"outlinewidth\": 0, \"ticks\": \"\"}}, \"type\": \"scattermapbox\"}], \"scatterpolar\": [{\"marker\": {\"colorbar\": {\"outlinewidth\": 0, \"ticks\": \"\"}}, \"type\": \"scatterpolar\"}], \"scatterpolargl\": [{\"marker\": {\"colorbar\": {\"outlinewidth\": 0, \"ticks\": \"\"}}, \"type\": \"scatterpolargl\"}], \"scatterternary\": [{\"marker\": {\"colorbar\": {\"outlinewidth\": 0, \"ticks\": \"\"}}, \"type\": \"scatterternary\"}], \"surface\": [{\"colorbar\": {\"outlinewidth\": 0, \"ticks\": \"\"}, \"colorscale\": [[0.0, \"#0d0887\"], [0.1111111111111111, \"#46039f\"], [0.2222222222222222, \"#7201a8\"], [0.3333333333333333, \"#9c179e\"], [0.4444444444444444, \"#bd3786\"], [0.5555555555555556, \"#d8576b\"], [0.6666666666666666, \"#ed7953\"], [0.7777777777777778, \"#fb9f3a\"], [0.8888888888888888, \"#fdca26\"], [1.0, \"#f0f921\"]], \"type\": \"surface\"}], \"table\": [{\"cells\": {\"fill\": {\"color\": \"#506784\"}, \"line\": {\"color\": \"rgb(17,17,17)\"}}, \"header\": {\"fill\": {\"color\": \"#2a3f5f\"}, \"line\": {\"color\": \"rgb(17,17,17)\"}}, \"type\": \"table\"}]}, \"layout\": {\"annotationdefaults\": {\"arrowcolor\": \"#f2f5fa\", \"arrowhead\": 0, \"arrowwidth\": 1}, \"coloraxis\": {\"colorbar\": {\"outlinewidth\": 0, \"ticks\": \"\"}}, \"colorscale\": {\"diverging\": [[0, \"#8e0152\"], [0.1, \"#c51b7d\"], [0.2, \"#de77ae\"], [0.3, \"#f1b6da\"], [0.4, \"#fde0ef\"], [0.5, \"#f7f7f7\"], [0.6, \"#e6f5d0\"], [0.7, \"#b8e186\"], [0.8, \"#7fbc41\"], [0.9, \"#4d9221\"], [1, \"#276419\"]], \"sequential\": [[0.0, \"#0d0887\"], [0.1111111111111111, \"#46039f\"], [0.2222222222222222, \"#7201a8\"], [0.3333333333333333, \"#9c179e\"], [0.4444444444444444, \"#bd3786\"], [0.5555555555555556, \"#d8576b\"], [0.6666666666666666, \"#ed7953\"], [0.7777777777777778, \"#fb9f3a\"], [0.8888888888888888, \"#fdca26\"], [1.0, \"#f0f921\"]], \"sequentialminus\": [[0.0, \"#0d0887\"], [0.1111111111111111, \"#46039f\"], [0.2222222222222222, \"#7201a8\"], [0.3333333333333333, \"#9c179e\"], [0.4444444444444444, \"#bd3786\"], [0.5555555555555556, \"#d8576b\"], [0.6666666666666666, \"#ed7953\"], [0.7777777777777778, \"#fb9f3a\"], [0.8888888888888888, \"#fdca26\"], [1.0, \"#f0f921\"]]}, \"colorway\": [\"#636efa\", \"#EF553B\", \"#00cc96\", \"#ab63fa\", \"#FFA15A\", \"#19d3f3\", \"#FF6692\", \"#B6E880\", \"#FF97FF\", \"#FECB52\"], \"font\": {\"color\": \"#f2f5fa\"}, \"geo\": {\"bgcolor\": \"rgb(17,17,17)\", \"lakecolor\": \"rgb(17,17,17)\", \"landcolor\": \"rgb(17,17,17)\", \"showlakes\": true, \"showland\": true, \"subunitcolor\": \"#506784\"}, \"hoverlabel\": {\"align\": \"left\"}, \"hovermode\": \"closest\", \"mapbox\": {\"style\": \"dark\"}, \"paper_bgcolor\": \"rgb(17,17,17)\", \"plot_bgcolor\": \"rgb(17,17,17)\", \"polar\": {\"angularaxis\": {\"gridcolor\": \"#506784\", \"linecolor\": \"#506784\", \"ticks\": \"\"}, \"bgcolor\": \"rgb(17,17,17)\", \"radialaxis\": {\"gridcolor\": \"#506784\", \"linecolor\": \"#506784\", \"ticks\": \"\"}}, \"scene\": {\"xaxis\": {\"backgroundcolor\": \"rgb(17,17,17)\", \"gridcolor\": \"#506784\", \"gridwidth\": 2, \"linecolor\": \"#506784\", \"showbackground\": true, \"ticks\": \"\", \"zerolinecolor\": \"#C8D4E3\"}, \"yaxis\": {\"backgroundcolor\": \"rgb(17,17,17)\", \"gridcolor\": \"#506784\", \"gridwidth\": 2, \"linecolor\": \"#506784\", \"showbackground\": true, \"ticks\": \"\", \"zerolinecolor\": \"#C8D4E3\"}, \"zaxis\": {\"backgroundcolor\": \"rgb(17,17,17)\", \"gridcolor\": \"#506784\", \"gridwidth\": 2, \"linecolor\": \"#506784\", \"showbackground\": true, \"ticks\": \"\", \"zerolinecolor\": \"#C8D4E3\"}}, \"shapedefaults\": {\"line\": {\"color\": \"#f2f5fa\"}}, \"sliderdefaults\": {\"bgcolor\": \"#C8D4E3\", \"bordercolor\": \"rgb(17,17,17)\", \"borderwidth\": 1, \"tickwidth\": 0}, \"ternary\": {\"aaxis\": {\"gridcolor\": \"#506784\", \"linecolor\": \"#506784\", \"ticks\": \"\"}, \"baxis\": {\"gridcolor\": \"#506784\", \"linecolor\": \"#506784\", \"ticks\": \"\"}, \"bgcolor\": \"rgb(17,17,17)\", \"caxis\": {\"gridcolor\": \"#506784\", \"linecolor\": \"#506784\", \"ticks\": \"\"}}, \"title\": {\"x\": 0.05}, \"updatemenudefaults\": {\"bgcolor\": \"#506784\", \"borderwidth\": 0}, \"xaxis\": {\"automargin\": true, \"gridcolor\": \"#283442\", \"linecolor\": \"#506784\", \"ticks\": \"\", \"title\": {\"standoff\": 15}, \"zerolinecolor\": \"#283442\", \"zerolinewidth\": 2}, \"yaxis\": {\"automargin\": true, \"gridcolor\": \"#283442\", \"linecolor\": \"#506784\", \"ticks\": \"\", \"title\": {\"standoff\": 15}, \"zerolinecolor\": \"#283442\", \"zerolinewidth\": 2}}}, \"title\": {\"text\": \"WiFi Signal per channel - 2.4GHz\"}, \"xaxis\": {\"nticks\": 17, \"title\": {\"text\": \"Channels\"}}, \"yaxis\": {\"range\": [-100, -26], \"title\": {\"text\": \"dBm\"}}},\n",
       "                        {\"responsive\": true}\n",
       "                    ).then(function(){\n",
       "                            \n",
       "var gd = document.getElementById('d9fb1bc5-ab56-41d0-b03f-dba2028a3003');\n",
       "var x = new MutationObserver(function (mutations, observer) {{\n",
       "        var display = window.getComputedStyle(gd).display;\n",
       "        if (!display || display === 'none') {{\n",
       "            console.log([gd, 'removed!']);\n",
       "            Plotly.purge(gd);\n",
       "            observer.disconnect();\n",
       "        }}\n",
       "}});\n",
       "\n",
       "// Listen for the removal of the full notebook cells\n",
       "var notebookContainer = gd.closest('#notebook-container');\n",
       "if (notebookContainer) {{\n",
       "    x.observe(notebookContainer, {childList: true});\n",
       "}}\n",
       "\n",
       "// Listen for the clearing of the current output cell\n",
       "var outputEl = gd.closest('.output');\n",
       "if (outputEl) {{\n",
       "    x.observe(outputEl, {childList: true});\n",
       "}}\n",
       "\n",
       "                        })\n",
       "                };\n",
       "                });\n",
       "            </script>\n",
       "        </div>"
      ]
     },
     "metadata": {},
     "output_type": "display_data"
    }
   ],
   "source": [
    "zone1_1_2G = zone1_1_2G.sort_values('dBm_Signal',ascending=False).reset_index(drop=True)\n",
    "\n",
    "# Create figure\n",
    "fig = go.Figure()\n",
    "\n",
    "# Create scatter trace of text labels\n",
    "fig.add_trace(go.Scatter(\n",
    "    x=zone1_1_2G.Channel,\n",
    "    y=zone1_1_2G.dBm_Signal,\n",
    "    text=zone1_1_2G.SSID,\n",
    "    mode='text',\n",
    "))\n",
    "\n",
    "# Add shapes\n",
    "i = 0\n",
    "for row in zone1_1_2G.itertuples() :\n",
    "    i += 1\n",
    "    fig.add_shape(\n",
    "        type='circle',\n",
    "        name=row.SSID,\n",
    "        xref='x',\n",
    "        yref='y',\n",
    "        x0=row.Channel-2,\n",
    "        y0=-row.dBm_Signal-200,\n",
    "        x1=row.Channel+2,\n",
    "        y1=row.dBm_Signal,\n",
    "        opacity=0.3,\n",
    "        fillcolor=colors2[i%len(colors2)],\n",
    "        line_color=colors2[i%len(colors2)]\n",
    "    )\n",
    "\n",
    "fig.update_layout(\n",
    "    title='WiFi Signal per channel - 2.4GHz',\n",
    "    yaxis=dict(\n",
    "        title='dBm',\n",
    "        range = (-100,zone1_1_2G.dBm_Signal.max()+10)\n",
    "    ),\n",
    "    xaxis=dict(\n",
    "        title='Channels',\n",
    "        nticks=17\n",
    "    )\n",
    ")\n",
    "fig.show()"
   ]
  },
  {
   "cell_type": "code",
   "execution_count": 14,
   "metadata": {},
   "outputs": [
    {
     "data": {
      "text/html": [
       "<div>\n",
       "<style scoped>\n",
       "    .dataframe tbody tr th:only-of-type {\n",
       "        vertical-align: middle;\n",
       "    }\n",
       "\n",
       "    .dataframe tbody tr th {\n",
       "        vertical-align: top;\n",
       "    }\n",
       "\n",
       "    .dataframe thead th {\n",
       "        text-align: right;\n",
       "    }\n",
       "</style>\n",
       "<table border=\"1\" class=\"dataframe\">\n",
       "  <thead>\n",
       "    <tr style=\"text-align: right;\">\n",
       "      <th></th>\n",
       "      <th>BSSID</th>\n",
       "      <th>SSID</th>\n",
       "      <th>zone</th>\n",
       "      <th>subzone</th>\n",
       "      <th>dBm_Signal</th>\n",
       "      <th>Channel</th>\n",
       "      <th>Crypto</th>\n",
       "    </tr>\n",
       "  </thead>\n",
       "  <tbody>\n",
       "    <tr>\n",
       "      <td>65</td>\n",
       "      <td>00:4a:77:e8:1b:c7</td>\n",
       "      <td>WifiAle-5G</td>\n",
       "      <td>1</td>\n",
       "      <td>1</td>\n",
       "      <td>-39</td>\n",
       "      <td>48</td>\n",
       "      <td>{'WPA/PSK', 'WPA2/PSK'}</td>\n",
       "    </tr>\n",
       "    <tr>\n",
       "      <td>664</td>\n",
       "      <td>f4:06:8d:8c:ab:b2</td>\n",
       "      <td>devolo-bb1</td>\n",
       "      <td>3</td>\n",
       "      <td>2</td>\n",
       "      <td>-63</td>\n",
       "      <td>36</td>\n",
       "      <td>{'WPA2/PSK'}</td>\n",
       "    </tr>\n",
       "    <tr>\n",
       "      <td>731</td>\n",
       "      <td>ee:f4:51:55:0a:a2</td>\n",
       "      <td>MiFibra-0A9F-5G</td>\n",
       "      <td>3</td>\n",
       "      <td>3</td>\n",
       "      <td>-67</td>\n",
       "      <td>52</td>\n",
       "      <td>{'WPA2/PSK'}</td>\n",
       "    </tr>\n",
       "    <tr>\n",
       "      <td>729</td>\n",
       "      <td>e6:f4:51:55:0a:a2</td>\n",
       "      <td>MiFibra-0A9F</td>\n",
       "      <td>3</td>\n",
       "      <td>3</td>\n",
       "      <td>-69</td>\n",
       "      <td>52</td>\n",
       "      <td>{'WPA2/PSK'}</td>\n",
       "    </tr>\n",
       "    <tr>\n",
       "      <td>1892</td>\n",
       "      <td>74:b5:7e:f2:70:ff</td>\n",
       "      <td>MIWIFI_5G_pvER</td>\n",
       "      <td>9</td>\n",
       "      <td>1</td>\n",
       "      <td>-74</td>\n",
       "      <td>48</td>\n",
       "      <td>{'WPA2/PSK', 'WPA/PSK'}</td>\n",
       "    </tr>\n",
       "    <tr>\n",
       "      <td>1882</td>\n",
       "      <td>26:57:60:94:8b:4a</td>\n",
       "      <td>MOVISTAR_8B41</td>\n",
       "      <td>9</td>\n",
       "      <td>1</td>\n",
       "      <td>-80</td>\n",
       "      <td>36</td>\n",
       "      <td>{'WPA2/PSK'}</td>\n",
       "    </tr>\n",
       "    <tr>\n",
       "      <td>1881</td>\n",
       "      <td>34:57:60:94:8b:4a</td>\n",
       "      <td>MOVISTAR_PLUS_8B41</td>\n",
       "      <td>9</td>\n",
       "      <td>1</td>\n",
       "      <td>-80</td>\n",
       "      <td>36</td>\n",
       "      <td>{'WPA2/PSK'}</td>\n",
       "    </tr>\n",
       "    <tr>\n",
       "      <td>1238</td>\n",
       "      <td>46:fe:3b:3e:dc:9a</td>\n",
       "      <td>MiFibra-DC97</td>\n",
       "      <td>5</td>\n",
       "      <td>3</td>\n",
       "      <td>-87</td>\n",
       "      <td>56</td>\n",
       "      <td>{'WPA2/PSK'}</td>\n",
       "    </tr>\n",
       "    <tr>\n",
       "      <td>1885</td>\n",
       "      <td>e4:ca:12:8c:b0:1a</td>\n",
       "      <td>MIWIFI_5G_pLzb</td>\n",
       "      <td>9</td>\n",
       "      <td>1</td>\n",
       "      <td>-91</td>\n",
       "      <td>40</td>\n",
       "      <td>{'WPA2/PSK', 'WPA/PSK'}</td>\n",
       "    </tr>\n",
       "  </tbody>\n",
       "</table>\n",
       "</div>"
      ],
      "text/plain": [
       "                  BSSID                SSID  zone  subzone  dBm_Signal  \\\n",
       "65    00:4a:77:e8:1b:c7          WifiAle-5G     1        1         -39   \n",
       "664   f4:06:8d:8c:ab:b2          devolo-bb1     3        2         -63   \n",
       "731   ee:f4:51:55:0a:a2     MiFibra-0A9F-5G     3        3         -67   \n",
       "729   e6:f4:51:55:0a:a2        MiFibra-0A9F     3        3         -69   \n",
       "1892  74:b5:7e:f2:70:ff      MIWIFI_5G_pvER     9        1         -74   \n",
       "1882  26:57:60:94:8b:4a       MOVISTAR_8B41     9        1         -80   \n",
       "1881  34:57:60:94:8b:4a  MOVISTAR_PLUS_8B41     9        1         -80   \n",
       "1238  46:fe:3b:3e:dc:9a        MiFibra-DC97     5        3         -87   \n",
       "1885  e4:ca:12:8c:b0:1a      MIWIFI_5G_pLzb     9        1         -91   \n",
       "\n",
       "      Channel                   Crypto  \n",
       "65         48  {'WPA/PSK', 'WPA2/PSK'}  \n",
       "664        36             {'WPA2/PSK'}  \n",
       "731        52             {'WPA2/PSK'}  \n",
       "729        52             {'WPA2/PSK'}  \n",
       "1892       48  {'WPA2/PSK', 'WPA/PSK'}  \n",
       "1882       36             {'WPA2/PSK'}  \n",
       "1881       36             {'WPA2/PSK'}  \n",
       "1238       56             {'WPA2/PSK'}  \n",
       "1885       40  {'WPA2/PSK', 'WPA/PSK'}  "
      ]
     },
     "execution_count": 14,
     "metadata": {},
     "output_type": "execute_result"
    }
   ],
   "source": [
    "zone1_1_5G = scanned[(scanned.Channel > 14)] #(scanned.zone == 1) & (scanned.subzone == 1) & \n",
    "zone1_1_5G = zone1_1_5G.sort_values('dBm_Signal',ascending=False).drop_duplicates(['SSID'],keep='first')\n",
    "zone1_1_5G"
   ]
  },
  {
   "cell_type": "code",
   "execution_count": 47,
   "metadata": {},
   "outputs": [
    {
     "data": {
      "application/vnd.plotly.v1+json": {
       "config": {
        "plotlyServerURL": "https://plot.ly"
       },
       "data": [
        {
         "mode": "text",
         "text": [
          "WifiAle-5G",
          "devolo-bb1",
          "MiFibra-0A9F-5G",
          "MiFibra-0A9F",
          "MIWIFI_5G_pvER",
          "MOVISTAR_8B41",
          "MOVISTAR_PLUS_8B41",
          "MiFibra-DC97",
          "MIWIFI_5G_pLzb"
         ],
         "type": "scatter",
         "x": [
          48,
          36,
          52,
          52,
          48,
          36,
          36,
          56,
          40
         ],
         "y": [
          -39,
          -63,
          -67,
          -69,
          -74,
          -80,
          -80,
          -87,
          -91
         ]
        }
       ],
       "layout": {
        "shapes": [
         {
          "fillcolor": "#7d87b9",
          "line": {
           "color": "#7d87b9"
          },
          "name": "WifiAle-5G",
          "opacity": 0.3,
          "type": "circle",
          "x0": 46,
          "x1": 50,
          "xref": "x",
          "y0": -161,
          "y1": -39,
          "yref": "y"
         },
         {
          "fillcolor": "#bb7784",
          "line": {
           "color": "#bb7784"
          },
          "name": "devolo-bb1",
          "opacity": 0.3,
          "type": "circle",
          "x0": 34,
          "x1": 38,
          "xref": "x",
          "y0": -137,
          "y1": -63,
          "yref": "y"
         },
         {
          "fillcolor": "#8e063b",
          "line": {
           "color": "#8e063b"
          },
          "name": "MiFibra-0A9F-5G",
          "opacity": 0.3,
          "type": "circle",
          "x0": 50,
          "x1": 54,
          "xref": "x",
          "y0": -133,
          "y1": -67,
          "yref": "y"
         },
         {
          "fillcolor": "#4a6fe3",
          "line": {
           "color": "#4a6fe3"
          },
          "name": "MiFibra-0A9F",
          "opacity": 0.3,
          "type": "circle",
          "x0": 50,
          "x1": 54,
          "xref": "x",
          "y0": -131,
          "y1": -69,
          "yref": "y"
         },
         {
          "fillcolor": "#8595e1",
          "line": {
           "color": "#8595e1"
          },
          "name": "MIWIFI_5G_pvER",
          "opacity": 0.3,
          "type": "circle",
          "x0": 46,
          "x1": 50,
          "xref": "x",
          "y0": -126,
          "y1": -74,
          "yref": "y"
         },
         {
          "fillcolor": "#e07b91",
          "line": {
           "color": "#e07b91"
          },
          "name": "MOVISTAR_8B41",
          "opacity": 0.3,
          "type": "circle",
          "x0": 34,
          "x1": 38,
          "xref": "x",
          "y0": -120,
          "y1": -80,
          "yref": "y"
         },
         {
          "fillcolor": "#d33f6a",
          "line": {
           "color": "#d33f6a"
          },
          "name": "MOVISTAR_PLUS_8B41",
          "opacity": 0.3,
          "type": "circle",
          "x0": 34,
          "x1": 38,
          "xref": "x",
          "y0": -120,
          "y1": -80,
          "yref": "y"
         },
         {
          "fillcolor": "#11c638",
          "line": {
           "color": "#11c638"
          },
          "name": "MiFibra-DC97",
          "opacity": 0.3,
          "type": "circle",
          "x0": 54,
          "x1": 58,
          "xref": "x",
          "y0": -113,
          "y1": -87,
          "yref": "y"
         },
         {
          "fillcolor": "#8dd593",
          "line": {
           "color": "#8dd593"
          },
          "name": "MIWIFI_5G_pLzb",
          "opacity": 0.3,
          "type": "circle",
          "x0": 38,
          "x1": 42,
          "xref": "x",
          "y0": -109,
          "y1": -91,
          "yref": "y"
         }
        ],
        "template": {
         "data": {
          "bar": [
           {
            "error_x": {
             "color": "#f2f5fa"
            },
            "error_y": {
             "color": "#f2f5fa"
            },
            "marker": {
             "line": {
              "color": "rgb(17,17,17)",
              "width": 0.5
             }
            },
            "type": "bar"
           }
          ],
          "barpolar": [
           {
            "marker": {
             "line": {
              "color": "rgb(17,17,17)",
              "width": 0.5
             }
            },
            "type": "barpolar"
           }
          ],
          "carpet": [
           {
            "aaxis": {
             "endlinecolor": "#A2B1C6",
             "gridcolor": "#506784",
             "linecolor": "#506784",
             "minorgridcolor": "#506784",
             "startlinecolor": "#A2B1C6"
            },
            "baxis": {
             "endlinecolor": "#A2B1C6",
             "gridcolor": "#506784",
             "linecolor": "#506784",
             "minorgridcolor": "#506784",
             "startlinecolor": "#A2B1C6"
            },
            "type": "carpet"
           }
          ],
          "choropleth": [
           {
            "colorbar": {
             "outlinewidth": 0,
             "ticks": ""
            },
            "type": "choropleth"
           }
          ],
          "contour": [
           {
            "colorbar": {
             "outlinewidth": 0,
             "ticks": ""
            },
            "colorscale": [
             [
              0,
              "#0d0887"
             ],
             [
              0.1111111111111111,
              "#46039f"
             ],
             [
              0.2222222222222222,
              "#7201a8"
             ],
             [
              0.3333333333333333,
              "#9c179e"
             ],
             [
              0.4444444444444444,
              "#bd3786"
             ],
             [
              0.5555555555555556,
              "#d8576b"
             ],
             [
              0.6666666666666666,
              "#ed7953"
             ],
             [
              0.7777777777777778,
              "#fb9f3a"
             ],
             [
              0.8888888888888888,
              "#fdca26"
             ],
             [
              1,
              "#f0f921"
             ]
            ],
            "type": "contour"
           }
          ],
          "contourcarpet": [
           {
            "colorbar": {
             "outlinewidth": 0,
             "ticks": ""
            },
            "type": "contourcarpet"
           }
          ],
          "heatmap": [
           {
            "colorbar": {
             "outlinewidth": 0,
             "ticks": ""
            },
            "colorscale": [
             [
              0,
              "#0d0887"
             ],
             [
              0.1111111111111111,
              "#46039f"
             ],
             [
              0.2222222222222222,
              "#7201a8"
             ],
             [
              0.3333333333333333,
              "#9c179e"
             ],
             [
              0.4444444444444444,
              "#bd3786"
             ],
             [
              0.5555555555555556,
              "#d8576b"
             ],
             [
              0.6666666666666666,
              "#ed7953"
             ],
             [
              0.7777777777777778,
              "#fb9f3a"
             ],
             [
              0.8888888888888888,
              "#fdca26"
             ],
             [
              1,
              "#f0f921"
             ]
            ],
            "type": "heatmap"
           }
          ],
          "heatmapgl": [
           {
            "colorbar": {
             "outlinewidth": 0,
             "ticks": ""
            },
            "colorscale": [
             [
              0,
              "#0d0887"
             ],
             [
              0.1111111111111111,
              "#46039f"
             ],
             [
              0.2222222222222222,
              "#7201a8"
             ],
             [
              0.3333333333333333,
              "#9c179e"
             ],
             [
              0.4444444444444444,
              "#bd3786"
             ],
             [
              0.5555555555555556,
              "#d8576b"
             ],
             [
              0.6666666666666666,
              "#ed7953"
             ],
             [
              0.7777777777777778,
              "#fb9f3a"
             ],
             [
              0.8888888888888888,
              "#fdca26"
             ],
             [
              1,
              "#f0f921"
             ]
            ],
            "type": "heatmapgl"
           }
          ],
          "histogram": [
           {
            "marker": {
             "colorbar": {
              "outlinewidth": 0,
              "ticks": ""
             }
            },
            "type": "histogram"
           }
          ],
          "histogram2d": [
           {
            "colorbar": {
             "outlinewidth": 0,
             "ticks": ""
            },
            "colorscale": [
             [
              0,
              "#0d0887"
             ],
             [
              0.1111111111111111,
              "#46039f"
             ],
             [
              0.2222222222222222,
              "#7201a8"
             ],
             [
              0.3333333333333333,
              "#9c179e"
             ],
             [
              0.4444444444444444,
              "#bd3786"
             ],
             [
              0.5555555555555556,
              "#d8576b"
             ],
             [
              0.6666666666666666,
              "#ed7953"
             ],
             [
              0.7777777777777778,
              "#fb9f3a"
             ],
             [
              0.8888888888888888,
              "#fdca26"
             ],
             [
              1,
              "#f0f921"
             ]
            ],
            "type": "histogram2d"
           }
          ],
          "histogram2dcontour": [
           {
            "colorbar": {
             "outlinewidth": 0,
             "ticks": ""
            },
            "colorscale": [
             [
              0,
              "#0d0887"
             ],
             [
              0.1111111111111111,
              "#46039f"
             ],
             [
              0.2222222222222222,
              "#7201a8"
             ],
             [
              0.3333333333333333,
              "#9c179e"
             ],
             [
              0.4444444444444444,
              "#bd3786"
             ],
             [
              0.5555555555555556,
              "#d8576b"
             ],
             [
              0.6666666666666666,
              "#ed7953"
             ],
             [
              0.7777777777777778,
              "#fb9f3a"
             ],
             [
              0.8888888888888888,
              "#fdca26"
             ],
             [
              1,
              "#f0f921"
             ]
            ],
            "type": "histogram2dcontour"
           }
          ],
          "mesh3d": [
           {
            "colorbar": {
             "outlinewidth": 0,
             "ticks": ""
            },
            "type": "mesh3d"
           }
          ],
          "parcoords": [
           {
            "line": {
             "colorbar": {
              "outlinewidth": 0,
              "ticks": ""
             }
            },
            "type": "parcoords"
           }
          ],
          "pie": [
           {
            "automargin": true,
            "type": "pie"
           }
          ],
          "scatter": [
           {
            "marker": {
             "line": {
              "color": "#283442"
             }
            },
            "type": "scatter"
           }
          ],
          "scatter3d": [
           {
            "line": {
             "colorbar": {
              "outlinewidth": 0,
              "ticks": ""
             }
            },
            "marker": {
             "colorbar": {
              "outlinewidth": 0,
              "ticks": ""
             }
            },
            "type": "scatter3d"
           }
          ],
          "scattercarpet": [
           {
            "marker": {
             "colorbar": {
              "outlinewidth": 0,
              "ticks": ""
             }
            },
            "type": "scattercarpet"
           }
          ],
          "scattergeo": [
           {
            "marker": {
             "colorbar": {
              "outlinewidth": 0,
              "ticks": ""
             }
            },
            "type": "scattergeo"
           }
          ],
          "scattergl": [
           {
            "marker": {
             "line": {
              "color": "#283442"
             }
            },
            "type": "scattergl"
           }
          ],
          "scattermapbox": [
           {
            "marker": {
             "colorbar": {
              "outlinewidth": 0,
              "ticks": ""
             }
            },
            "type": "scattermapbox"
           }
          ],
          "scatterpolar": [
           {
            "marker": {
             "colorbar": {
              "outlinewidth": 0,
              "ticks": ""
             }
            },
            "type": "scatterpolar"
           }
          ],
          "scatterpolargl": [
           {
            "marker": {
             "colorbar": {
              "outlinewidth": 0,
              "ticks": ""
             }
            },
            "type": "scatterpolargl"
           }
          ],
          "scatterternary": [
           {
            "marker": {
             "colorbar": {
              "outlinewidth": 0,
              "ticks": ""
             }
            },
            "type": "scatterternary"
           }
          ],
          "surface": [
           {
            "colorbar": {
             "outlinewidth": 0,
             "ticks": ""
            },
            "colorscale": [
             [
              0,
              "#0d0887"
             ],
             [
              0.1111111111111111,
              "#46039f"
             ],
             [
              0.2222222222222222,
              "#7201a8"
             ],
             [
              0.3333333333333333,
              "#9c179e"
             ],
             [
              0.4444444444444444,
              "#bd3786"
             ],
             [
              0.5555555555555556,
              "#d8576b"
             ],
             [
              0.6666666666666666,
              "#ed7953"
             ],
             [
              0.7777777777777778,
              "#fb9f3a"
             ],
             [
              0.8888888888888888,
              "#fdca26"
             ],
             [
              1,
              "#f0f921"
             ]
            ],
            "type": "surface"
           }
          ],
          "table": [
           {
            "cells": {
             "fill": {
              "color": "#506784"
             },
             "line": {
              "color": "rgb(17,17,17)"
             }
            },
            "header": {
             "fill": {
              "color": "#2a3f5f"
             },
             "line": {
              "color": "rgb(17,17,17)"
             }
            },
            "type": "table"
           }
          ]
         },
         "layout": {
          "annotationdefaults": {
           "arrowcolor": "#f2f5fa",
           "arrowhead": 0,
           "arrowwidth": 1
          },
          "coloraxis": {
           "colorbar": {
            "outlinewidth": 0,
            "ticks": ""
           }
          },
          "colorscale": {
           "diverging": [
            [
             0,
             "#8e0152"
            ],
            [
             0.1,
             "#c51b7d"
            ],
            [
             0.2,
             "#de77ae"
            ],
            [
             0.3,
             "#f1b6da"
            ],
            [
             0.4,
             "#fde0ef"
            ],
            [
             0.5,
             "#f7f7f7"
            ],
            [
             0.6,
             "#e6f5d0"
            ],
            [
             0.7,
             "#b8e186"
            ],
            [
             0.8,
             "#7fbc41"
            ],
            [
             0.9,
             "#4d9221"
            ],
            [
             1,
             "#276419"
            ]
           ],
           "sequential": [
            [
             0,
             "#0d0887"
            ],
            [
             0.1111111111111111,
             "#46039f"
            ],
            [
             0.2222222222222222,
             "#7201a8"
            ],
            [
             0.3333333333333333,
             "#9c179e"
            ],
            [
             0.4444444444444444,
             "#bd3786"
            ],
            [
             0.5555555555555556,
             "#d8576b"
            ],
            [
             0.6666666666666666,
             "#ed7953"
            ],
            [
             0.7777777777777778,
             "#fb9f3a"
            ],
            [
             0.8888888888888888,
             "#fdca26"
            ],
            [
             1,
             "#f0f921"
            ]
           ],
           "sequentialminus": [
            [
             0,
             "#0d0887"
            ],
            [
             0.1111111111111111,
             "#46039f"
            ],
            [
             0.2222222222222222,
             "#7201a8"
            ],
            [
             0.3333333333333333,
             "#9c179e"
            ],
            [
             0.4444444444444444,
             "#bd3786"
            ],
            [
             0.5555555555555556,
             "#d8576b"
            ],
            [
             0.6666666666666666,
             "#ed7953"
            ],
            [
             0.7777777777777778,
             "#fb9f3a"
            ],
            [
             0.8888888888888888,
             "#fdca26"
            ],
            [
             1,
             "#f0f921"
            ]
           ]
          },
          "colorway": [
           "#636efa",
           "#EF553B",
           "#00cc96",
           "#ab63fa",
           "#FFA15A",
           "#19d3f3",
           "#FF6692",
           "#B6E880",
           "#FF97FF",
           "#FECB52"
          ],
          "font": {
           "color": "#f2f5fa"
          },
          "geo": {
           "bgcolor": "rgb(17,17,17)",
           "lakecolor": "rgb(17,17,17)",
           "landcolor": "rgb(17,17,17)",
           "showlakes": true,
           "showland": true,
           "subunitcolor": "#506784"
          },
          "hoverlabel": {
           "align": "left"
          },
          "hovermode": "closest",
          "mapbox": {
           "style": "dark"
          },
          "paper_bgcolor": "rgb(17,17,17)",
          "plot_bgcolor": "rgb(17,17,17)",
          "polar": {
           "angularaxis": {
            "gridcolor": "#506784",
            "linecolor": "#506784",
            "ticks": ""
           },
           "bgcolor": "rgb(17,17,17)",
           "radialaxis": {
            "gridcolor": "#506784",
            "linecolor": "#506784",
            "ticks": ""
           }
          },
          "scene": {
           "xaxis": {
            "backgroundcolor": "rgb(17,17,17)",
            "gridcolor": "#506784",
            "gridwidth": 2,
            "linecolor": "#506784",
            "showbackground": true,
            "ticks": "",
            "zerolinecolor": "#C8D4E3"
           },
           "yaxis": {
            "backgroundcolor": "rgb(17,17,17)",
            "gridcolor": "#506784",
            "gridwidth": 2,
            "linecolor": "#506784",
            "showbackground": true,
            "ticks": "",
            "zerolinecolor": "#C8D4E3"
           },
           "zaxis": {
            "backgroundcolor": "rgb(17,17,17)",
            "gridcolor": "#506784",
            "gridwidth": 2,
            "linecolor": "#506784",
            "showbackground": true,
            "ticks": "",
            "zerolinecolor": "#C8D4E3"
           }
          },
          "shapedefaults": {
           "line": {
            "color": "#f2f5fa"
           }
          },
          "sliderdefaults": {
           "bgcolor": "#C8D4E3",
           "bordercolor": "rgb(17,17,17)",
           "borderwidth": 1,
           "tickwidth": 0
          },
          "ternary": {
           "aaxis": {
            "gridcolor": "#506784",
            "linecolor": "#506784",
            "ticks": ""
           },
           "baxis": {
            "gridcolor": "#506784",
            "linecolor": "#506784",
            "ticks": ""
           },
           "bgcolor": "rgb(17,17,17)",
           "caxis": {
            "gridcolor": "#506784",
            "linecolor": "#506784",
            "ticks": ""
           }
          },
          "title": {
           "x": 0.05
          },
          "updatemenudefaults": {
           "bgcolor": "#506784",
           "borderwidth": 0
          },
          "xaxis": {
           "automargin": true,
           "gridcolor": "#283442",
           "linecolor": "#506784",
           "ticks": "",
           "title": {
            "standoff": 15
           },
           "zerolinecolor": "#283442",
           "zerolinewidth": 2
          },
          "yaxis": {
           "automargin": true,
           "gridcolor": "#283442",
           "linecolor": "#506784",
           "ticks": "",
           "title": {
            "standoff": 15
           },
           "zerolinecolor": "#283442",
           "zerolinewidth": 2
          }
         }
        },
        "title": {
         "text": "WiFi Signal per channel - 2.4GHz"
        },
        "xaxis": {
         "nticks": 17,
         "title": {
          "text": "Channels"
         }
        },
        "yaxis": {
         "range": [
          -100,
          -26
         ],
         "title": {
          "text": "dBm"
         }
        }
       }
      },
      "text/html": [
       "<div>\n",
       "        \n",
       "        \n",
       "            <div id=\"d7f0f61c-bb47-4b36-8359-fc704ee34e51\" class=\"plotly-graph-div\" style=\"height:525px; width:100%;\"></div>\n",
       "            <script type=\"text/javascript\">\n",
       "                require([\"plotly\"], function(Plotly) {\n",
       "                    window.PLOTLYENV=window.PLOTLYENV || {};\n",
       "                    \n",
       "                if (document.getElementById(\"d7f0f61c-bb47-4b36-8359-fc704ee34e51\")) {\n",
       "                    Plotly.newPlot(\n",
       "                        'd7f0f61c-bb47-4b36-8359-fc704ee34e51',\n",
       "                        [{\"mode\": \"text\", \"text\": [\"WifiAle-5G\", \"devolo-bb1\", \"MiFibra-0A9F-5G\", \"MiFibra-0A9F\", \"MIWIFI_5G_pvER\", \"MOVISTAR_8B41\", \"MOVISTAR_PLUS_8B41\", \"MiFibra-DC97\", \"MIWIFI_5G_pLzb\"], \"type\": \"scatter\", \"x\": [48, 36, 52, 52, 48, 36, 36, 56, 40], \"y\": [-39, -63, -67, -69, -74, -80, -80, -87, -91]}],\n",
       "                        {\"shapes\": [{\"fillcolor\": \"#7d87b9\", \"line\": {\"color\": \"#7d87b9\"}, \"name\": \"WifiAle-5G\", \"opacity\": 0.3, \"type\": \"circle\", \"x0\": 46, \"x1\": 50, \"xref\": \"x\", \"y0\": -161, \"y1\": -39, \"yref\": \"y\"}, {\"fillcolor\": \"#bb7784\", \"line\": {\"color\": \"#bb7784\"}, \"name\": \"devolo-bb1\", \"opacity\": 0.3, \"type\": \"circle\", \"x0\": 34, \"x1\": 38, \"xref\": \"x\", \"y0\": -137, \"y1\": -63, \"yref\": \"y\"}, {\"fillcolor\": \"#8e063b\", \"line\": {\"color\": \"#8e063b\"}, \"name\": \"MiFibra-0A9F-5G\", \"opacity\": 0.3, \"type\": \"circle\", \"x0\": 50, \"x1\": 54, \"xref\": \"x\", \"y0\": -133, \"y1\": -67, \"yref\": \"y\"}, {\"fillcolor\": \"#4a6fe3\", \"line\": {\"color\": \"#4a6fe3\"}, \"name\": \"MiFibra-0A9F\", \"opacity\": 0.3, \"type\": \"circle\", \"x0\": 50, \"x1\": 54, \"xref\": \"x\", \"y0\": -131, \"y1\": -69, \"yref\": \"y\"}, {\"fillcolor\": \"#8595e1\", \"line\": {\"color\": \"#8595e1\"}, \"name\": \"MIWIFI_5G_pvER\", \"opacity\": 0.3, \"type\": \"circle\", \"x0\": 46, \"x1\": 50, \"xref\": \"x\", \"y0\": -126, \"y1\": -74, \"yref\": \"y\"}, {\"fillcolor\": \"#e07b91\", \"line\": {\"color\": \"#e07b91\"}, \"name\": \"MOVISTAR_8B41\", \"opacity\": 0.3, \"type\": \"circle\", \"x0\": 34, \"x1\": 38, \"xref\": \"x\", \"y0\": -120, \"y1\": -80, \"yref\": \"y\"}, {\"fillcolor\": \"#d33f6a\", \"line\": {\"color\": \"#d33f6a\"}, \"name\": \"MOVISTAR_PLUS_8B41\", \"opacity\": 0.3, \"type\": \"circle\", \"x0\": 34, \"x1\": 38, \"xref\": \"x\", \"y0\": -120, \"y1\": -80, \"yref\": \"y\"}, {\"fillcolor\": \"#11c638\", \"line\": {\"color\": \"#11c638\"}, \"name\": \"MiFibra-DC97\", \"opacity\": 0.3, \"type\": \"circle\", \"x0\": 54, \"x1\": 58, \"xref\": \"x\", \"y0\": -113, \"y1\": -87, \"yref\": \"y\"}, {\"fillcolor\": \"#8dd593\", \"line\": {\"color\": \"#8dd593\"}, \"name\": \"MIWIFI_5G_pLzb\", \"opacity\": 0.3, \"type\": \"circle\", \"x0\": 38, \"x1\": 42, \"xref\": \"x\", \"y0\": -109, \"y1\": -91, \"yref\": \"y\"}], \"template\": {\"data\": {\"bar\": [{\"error_x\": {\"color\": \"#f2f5fa\"}, \"error_y\": {\"color\": \"#f2f5fa\"}, \"marker\": {\"line\": {\"color\": \"rgb(17,17,17)\", \"width\": 0.5}}, \"type\": \"bar\"}], \"barpolar\": [{\"marker\": {\"line\": {\"color\": \"rgb(17,17,17)\", \"width\": 0.5}}, \"type\": \"barpolar\"}], \"carpet\": [{\"aaxis\": {\"endlinecolor\": \"#A2B1C6\", \"gridcolor\": \"#506784\", \"linecolor\": \"#506784\", \"minorgridcolor\": \"#506784\", \"startlinecolor\": \"#A2B1C6\"}, \"baxis\": {\"endlinecolor\": \"#A2B1C6\", \"gridcolor\": \"#506784\", \"linecolor\": \"#506784\", \"minorgridcolor\": \"#506784\", \"startlinecolor\": \"#A2B1C6\"}, \"type\": \"carpet\"}], \"choropleth\": [{\"colorbar\": {\"outlinewidth\": 0, \"ticks\": \"\"}, \"type\": \"choropleth\"}], \"contour\": [{\"colorbar\": {\"outlinewidth\": 0, \"ticks\": \"\"}, \"colorscale\": [[0.0, \"#0d0887\"], [0.1111111111111111, \"#46039f\"], [0.2222222222222222, \"#7201a8\"], [0.3333333333333333, \"#9c179e\"], [0.4444444444444444, \"#bd3786\"], [0.5555555555555556, \"#d8576b\"], [0.6666666666666666, \"#ed7953\"], [0.7777777777777778, \"#fb9f3a\"], [0.8888888888888888, \"#fdca26\"], [1.0, \"#f0f921\"]], \"type\": \"contour\"}], \"contourcarpet\": [{\"colorbar\": {\"outlinewidth\": 0, \"ticks\": \"\"}, \"type\": \"contourcarpet\"}], \"heatmap\": [{\"colorbar\": {\"outlinewidth\": 0, \"ticks\": \"\"}, \"colorscale\": [[0.0, \"#0d0887\"], [0.1111111111111111, \"#46039f\"], [0.2222222222222222, \"#7201a8\"], [0.3333333333333333, \"#9c179e\"], [0.4444444444444444, \"#bd3786\"], [0.5555555555555556, \"#d8576b\"], [0.6666666666666666, \"#ed7953\"], [0.7777777777777778, \"#fb9f3a\"], [0.8888888888888888, \"#fdca26\"], [1.0, \"#f0f921\"]], \"type\": \"heatmap\"}], \"heatmapgl\": [{\"colorbar\": {\"outlinewidth\": 0, \"ticks\": \"\"}, \"colorscale\": [[0.0, \"#0d0887\"], [0.1111111111111111, \"#46039f\"], [0.2222222222222222, \"#7201a8\"], [0.3333333333333333, \"#9c179e\"], [0.4444444444444444, \"#bd3786\"], [0.5555555555555556, \"#d8576b\"], [0.6666666666666666, \"#ed7953\"], [0.7777777777777778, \"#fb9f3a\"], [0.8888888888888888, \"#fdca26\"], [1.0, \"#f0f921\"]], \"type\": \"heatmapgl\"}], \"histogram\": [{\"marker\": {\"colorbar\": {\"outlinewidth\": 0, \"ticks\": \"\"}}, \"type\": \"histogram\"}], \"histogram2d\": [{\"colorbar\": {\"outlinewidth\": 0, \"ticks\": \"\"}, \"colorscale\": [[0.0, \"#0d0887\"], [0.1111111111111111, \"#46039f\"], [0.2222222222222222, \"#7201a8\"], [0.3333333333333333, \"#9c179e\"], [0.4444444444444444, \"#bd3786\"], [0.5555555555555556, \"#d8576b\"], [0.6666666666666666, \"#ed7953\"], [0.7777777777777778, \"#fb9f3a\"], [0.8888888888888888, \"#fdca26\"], [1.0, \"#f0f921\"]], \"type\": \"histogram2d\"}], \"histogram2dcontour\": [{\"colorbar\": {\"outlinewidth\": 0, \"ticks\": \"\"}, \"colorscale\": [[0.0, \"#0d0887\"], [0.1111111111111111, \"#46039f\"], [0.2222222222222222, \"#7201a8\"], [0.3333333333333333, \"#9c179e\"], [0.4444444444444444, \"#bd3786\"], [0.5555555555555556, \"#d8576b\"], [0.6666666666666666, \"#ed7953\"], [0.7777777777777778, \"#fb9f3a\"], [0.8888888888888888, \"#fdca26\"], [1.0, \"#f0f921\"]], \"type\": \"histogram2dcontour\"}], \"mesh3d\": [{\"colorbar\": {\"outlinewidth\": 0, \"ticks\": \"\"}, \"type\": \"mesh3d\"}], \"parcoords\": [{\"line\": {\"colorbar\": {\"outlinewidth\": 0, \"ticks\": \"\"}}, \"type\": \"parcoords\"}], \"pie\": [{\"automargin\": true, \"type\": \"pie\"}], \"scatter\": [{\"marker\": {\"line\": {\"color\": \"#283442\"}}, \"type\": \"scatter\"}], \"scatter3d\": [{\"line\": {\"colorbar\": {\"outlinewidth\": 0, \"ticks\": \"\"}}, \"marker\": {\"colorbar\": {\"outlinewidth\": 0, \"ticks\": \"\"}}, \"type\": \"scatter3d\"}], \"scattercarpet\": [{\"marker\": {\"colorbar\": {\"outlinewidth\": 0, \"ticks\": \"\"}}, \"type\": \"scattercarpet\"}], \"scattergeo\": [{\"marker\": {\"colorbar\": {\"outlinewidth\": 0, \"ticks\": \"\"}}, \"type\": \"scattergeo\"}], \"scattergl\": [{\"marker\": {\"line\": {\"color\": \"#283442\"}}, \"type\": \"scattergl\"}], \"scattermapbox\": [{\"marker\": {\"colorbar\": {\"outlinewidth\": 0, \"ticks\": \"\"}}, \"type\": \"scattermapbox\"}], \"scatterpolar\": [{\"marker\": {\"colorbar\": {\"outlinewidth\": 0, \"ticks\": \"\"}}, \"type\": \"scatterpolar\"}], \"scatterpolargl\": [{\"marker\": {\"colorbar\": {\"outlinewidth\": 0, \"ticks\": \"\"}}, \"type\": \"scatterpolargl\"}], \"scatterternary\": [{\"marker\": {\"colorbar\": {\"outlinewidth\": 0, \"ticks\": \"\"}}, \"type\": \"scatterternary\"}], \"surface\": [{\"colorbar\": {\"outlinewidth\": 0, \"ticks\": \"\"}, \"colorscale\": [[0.0, \"#0d0887\"], [0.1111111111111111, \"#46039f\"], [0.2222222222222222, \"#7201a8\"], [0.3333333333333333, \"#9c179e\"], [0.4444444444444444, \"#bd3786\"], [0.5555555555555556, \"#d8576b\"], [0.6666666666666666, \"#ed7953\"], [0.7777777777777778, \"#fb9f3a\"], [0.8888888888888888, \"#fdca26\"], [1.0, \"#f0f921\"]], \"type\": \"surface\"}], \"table\": [{\"cells\": {\"fill\": {\"color\": \"#506784\"}, \"line\": {\"color\": \"rgb(17,17,17)\"}}, \"header\": {\"fill\": {\"color\": \"#2a3f5f\"}, \"line\": {\"color\": \"rgb(17,17,17)\"}}, \"type\": \"table\"}]}, \"layout\": {\"annotationdefaults\": {\"arrowcolor\": \"#f2f5fa\", \"arrowhead\": 0, \"arrowwidth\": 1}, \"coloraxis\": {\"colorbar\": {\"outlinewidth\": 0, \"ticks\": \"\"}}, \"colorscale\": {\"diverging\": [[0, \"#8e0152\"], [0.1, \"#c51b7d\"], [0.2, \"#de77ae\"], [0.3, \"#f1b6da\"], [0.4, \"#fde0ef\"], [0.5, \"#f7f7f7\"], [0.6, \"#e6f5d0\"], [0.7, \"#b8e186\"], [0.8, \"#7fbc41\"], [0.9, \"#4d9221\"], [1, \"#276419\"]], \"sequential\": [[0.0, \"#0d0887\"], [0.1111111111111111, \"#46039f\"], [0.2222222222222222, \"#7201a8\"], [0.3333333333333333, \"#9c179e\"], [0.4444444444444444, \"#bd3786\"], [0.5555555555555556, \"#d8576b\"], [0.6666666666666666, \"#ed7953\"], [0.7777777777777778, \"#fb9f3a\"], [0.8888888888888888, \"#fdca26\"], [1.0, \"#f0f921\"]], \"sequentialminus\": [[0.0, \"#0d0887\"], [0.1111111111111111, \"#46039f\"], [0.2222222222222222, \"#7201a8\"], [0.3333333333333333, \"#9c179e\"], [0.4444444444444444, \"#bd3786\"], [0.5555555555555556, \"#d8576b\"], [0.6666666666666666, \"#ed7953\"], [0.7777777777777778, \"#fb9f3a\"], [0.8888888888888888, \"#fdca26\"], [1.0, \"#f0f921\"]]}, \"colorway\": [\"#636efa\", \"#EF553B\", \"#00cc96\", \"#ab63fa\", \"#FFA15A\", \"#19d3f3\", \"#FF6692\", \"#B6E880\", \"#FF97FF\", \"#FECB52\"], \"font\": {\"color\": \"#f2f5fa\"}, \"geo\": {\"bgcolor\": \"rgb(17,17,17)\", \"lakecolor\": \"rgb(17,17,17)\", \"landcolor\": \"rgb(17,17,17)\", \"showlakes\": true, \"showland\": true, \"subunitcolor\": \"#506784\"}, \"hoverlabel\": {\"align\": \"left\"}, \"hovermode\": \"closest\", \"mapbox\": {\"style\": \"dark\"}, \"paper_bgcolor\": \"rgb(17,17,17)\", \"plot_bgcolor\": \"rgb(17,17,17)\", \"polar\": {\"angularaxis\": {\"gridcolor\": \"#506784\", \"linecolor\": \"#506784\", \"ticks\": \"\"}, \"bgcolor\": \"rgb(17,17,17)\", \"radialaxis\": {\"gridcolor\": \"#506784\", \"linecolor\": \"#506784\", \"ticks\": \"\"}}, \"scene\": {\"xaxis\": {\"backgroundcolor\": \"rgb(17,17,17)\", \"gridcolor\": \"#506784\", \"gridwidth\": 2, \"linecolor\": \"#506784\", \"showbackground\": true, \"ticks\": \"\", \"zerolinecolor\": \"#C8D4E3\"}, \"yaxis\": {\"backgroundcolor\": \"rgb(17,17,17)\", \"gridcolor\": \"#506784\", \"gridwidth\": 2, \"linecolor\": \"#506784\", \"showbackground\": true, \"ticks\": \"\", \"zerolinecolor\": \"#C8D4E3\"}, \"zaxis\": {\"backgroundcolor\": \"rgb(17,17,17)\", \"gridcolor\": \"#506784\", \"gridwidth\": 2, \"linecolor\": \"#506784\", \"showbackground\": true, \"ticks\": \"\", \"zerolinecolor\": \"#C8D4E3\"}}, \"shapedefaults\": {\"line\": {\"color\": \"#f2f5fa\"}}, \"sliderdefaults\": {\"bgcolor\": \"#C8D4E3\", \"bordercolor\": \"rgb(17,17,17)\", \"borderwidth\": 1, \"tickwidth\": 0}, \"ternary\": {\"aaxis\": {\"gridcolor\": \"#506784\", \"linecolor\": \"#506784\", \"ticks\": \"\"}, \"baxis\": {\"gridcolor\": \"#506784\", \"linecolor\": \"#506784\", \"ticks\": \"\"}, \"bgcolor\": \"rgb(17,17,17)\", \"caxis\": {\"gridcolor\": \"#506784\", \"linecolor\": \"#506784\", \"ticks\": \"\"}}, \"title\": {\"x\": 0.05}, \"updatemenudefaults\": {\"bgcolor\": \"#506784\", \"borderwidth\": 0}, \"xaxis\": {\"automargin\": true, \"gridcolor\": \"#283442\", \"linecolor\": \"#506784\", \"ticks\": \"\", \"title\": {\"standoff\": 15}, \"zerolinecolor\": \"#283442\", \"zerolinewidth\": 2}, \"yaxis\": {\"automargin\": true, \"gridcolor\": \"#283442\", \"linecolor\": \"#506784\", \"ticks\": \"\", \"title\": {\"standoff\": 15}, \"zerolinecolor\": \"#283442\", \"zerolinewidth\": 2}}}, \"title\": {\"text\": \"WiFi Signal per channel - 2.4GHz\"}, \"xaxis\": {\"nticks\": 17, \"title\": {\"text\": \"Channels\"}}, \"yaxis\": {\"range\": [-100, -26], \"title\": {\"text\": \"dBm\"}}},\n",
       "                        {\"responsive\": true}\n",
       "                    ).then(function(){\n",
       "                            \n",
       "var gd = document.getElementById('d7f0f61c-bb47-4b36-8359-fc704ee34e51');\n",
       "var x = new MutationObserver(function (mutations, observer) {{\n",
       "        var display = window.getComputedStyle(gd).display;\n",
       "        if (!display || display === 'none') {{\n",
       "            console.log([gd, 'removed!']);\n",
       "            Plotly.purge(gd);\n",
       "            observer.disconnect();\n",
       "        }}\n",
       "}});\n",
       "\n",
       "// Listen for the removal of the full notebook cells\n",
       "var notebookContainer = gd.closest('#notebook-container');\n",
       "if (notebookContainer) {{\n",
       "    x.observe(notebookContainer, {childList: true});\n",
       "}}\n",
       "\n",
       "// Listen for the clearing of the current output cell\n",
       "var outputEl = gd.closest('.output');\n",
       "if (outputEl) {{\n",
       "    x.observe(outputEl, {childList: true});\n",
       "}}\n",
       "\n",
       "                        })\n",
       "                };\n",
       "                });\n",
       "            </script>\n",
       "        </div>"
      ]
     },
     "metadata": {},
     "output_type": "display_data"
    }
   ],
   "source": [
    "# Create figure\n",
    "fig = go.Figure()\n",
    "\n",
    "# Create scatter trace of text labels\n",
    "fig.add_trace(go.Scatter(\n",
    "    x=zone1_1_5G.Channel,\n",
    "    y=zone1_1_5G.dBm_Signal,\n",
    "    text=zone1_1_5G.SSID,\n",
    "    mode='text',\n",
    "))\n",
    "\n",
    "# Add shapes\n",
    "i = 0\n",
    "for row in zone1_1_5G.itertuples() :\n",
    "    i += 1\n",
    "    fig.add_shape(\n",
    "        type='circle',\n",
    "        name=row.SSID,\n",
    "        xref='x',\n",
    "        yref='y',\n",
    "        x0=row.Channel-2,\n",
    "        y0=-row.dBm_Signal-200,\n",
    "        x1=row.Channel+2,\n",
    "        y1=row.dBm_Signal,\n",
    "        opacity=0.3,\n",
    "        fillcolor=colors2[i%len(colors2)],\n",
    "        line_color=colors2[i%len(colors2)]\n",
    "    )\n",
    "\n",
    "fig.update_layout(\n",
    "    title='WiFi Signal per channel - 2.4GHz',\n",
    "    yaxis=dict(\n",
    "        title='dBm',\n",
    "        range = (-100,zone1_1_2G.dBm_Signal.max()+10)\n",
    "    ),\n",
    "    xaxis=dict(\n",
    "        title='Channels',\n",
    "        nticks=17\n",
    "    )\n",
    ")\n",
    "fig.show()"
   ]
  },
  {
   "cell_type": "markdown",
   "metadata": {},
   "source": [
    "## Different Wi-Fi Ubication Simulation\n",
    "A partir de las intensidades de señal medidas a lo largo de la casa, podemos simular que el router se encuetra en otro lugar aplicando de manera reciproca las ganancias que hay de una habitacion a otra.\n",
    "\n",
    "Una vez seleccionada la ubicación nueva del Wi-Fi, calculamos las ganancias a cada una de las otras habitaciones y simulamos el nuevo plano."
   ]
  },
  {
   "cell_type": "code",
   "execution_count": 151,
   "metadata": {},
   "outputs": [],
   "source": [
    "dBm_max = my_wifi_5G_mean.dBm_Signal.max()\n",
    "\n",
    "def calc_atts(df):\n",
    "    atts = {}\n",
    "    for name in df.name.unique() :\n",
    "        source = df[(df.name == name)].iloc[0]\n",
    "        source_signal = source.dBm_Signal\n",
    "    \n",
    "        atts[name] = {}\n",
    "        for row in df.itertuples() :\n",
    "            atts[name][row.name] = {}\n",
    "            atts[name][row.name] = round(abs(source_signal-row.dBm_Signal),3)\n",
    "\n",
    "    return atts\n",
    "\n",
    "#Atenuations dictionary\n",
    "atts = calc_atts(my_wifi_5G_mean)"
   ]
  },
  {
   "cell_type": "code",
   "execution_count": 263,
   "metadata": {},
   "outputs": [
    {
     "name": "stdout",
     "output_type": "stream",
     "text": [
      "Loss per meter = 3dB\n",
      "Loss per wall = 6dB\n"
     ]
    }
   ],
   "source": [
    "#Distance between house areas\n",
    "zone1_1 = my_wifi_5G_mean.iloc[3]\n",
    "zone1_2 = my_wifi_5G_mean.iloc[4]\n",
    "zone2_1 = my_wifi_5G_mean.iloc[5]\n",
    "zone5_1 = my_wifi_5G_mean.iloc[13]\n",
    "zone5_5 = my_wifi_5G_mean.iloc[17]\n",
    "\n",
    "p1_1 = zone1_1.geometry.centroid\n",
    "p1_2 = zone1_2.geometry.centroid\n",
    "p2_1 = zone2_1.geometry.centroid\n",
    "p5_1 = zone5_1.geometry.centroid\n",
    "p5_5 = zone5_5.geometry.centroid\n",
    "\n",
    "dBm1_1 = zone1_1.dBm_Signal\n",
    "dBm1_2 = zone1_2.dBm_Signal\n",
    "dBm2_1 = zone2_1.dBm_Signal\n",
    "dBm5_1 = zone5_1.dBm_Signal\n",
    "dBm5_5 = zone5_5.dBm_Signal\n",
    "\n",
    "#dBloss_per_m = round(abs(dBm5_1-dBm5_5)/(p5_1.distance(p5_5)*2.6),3)\n",
    "dBloss_per_m = 3\n",
    "\n",
    "#dBloss_per_w = round(abs(dBm1_1-dBm2_1) - dBloss_per_m*(p1_1.distance(p2_1)*2.6),3)\n",
    "dBloss_per_w = 6\n",
    "\n",
    "print('Loss per meter = {}dB'.format(dBloss_per_m))\n",
    "print('Loss per wall = {}dB'.format(dBloss_per_w))"
   ]
  },
  {
   "cell_type": "code",
   "execution_count": 264,
   "metadata": {},
   "outputs": [],
   "source": [
    "#Walls bt house areas\n",
    "walls_bt = [\n",
    "    [0, 1, 1, 1, 1, 1, 1, 1, 1, 2],\n",
    "    [1, 0, 1, 1, 3, 3, 5, 3, 4, 2],\n",
    "    [1, 1, 0, 2, 2, 3, 4, 2, 3, 3],\n",
    "    [1, 1, 2, 0, 1, 2, 5, 3, 4, 1],\n",
    "    [1, 3, 2, 1, 0, 1, 3, 3, 3, 1],\n",
    "    [1, 3, 3, 2, 1, 0, 2, 2, 2, 1],\n",
    "    [1, 5, 4, 5, 3, 2, 0, 2, 1, 2],\n",
    "    [1, 3, 2, 3, 3, 2, 2, 0, 1, 3],\n",
    "    [1, 4, 3, 4, 3, 2, 1, 1, 0, 3],\n",
    "    [2, 2, 3, 1, 1, 1, 2, 3, 3, 0]\n",
    "]"
   ]
  },
  {
   "cell_type": "code",
   "execution_count": 292,
   "metadata": {},
   "outputs": [
    {
     "data": {
      "image/png": "[encoded data removed]",
      "text/plain": [
       "<Figure size 2160x720 with 2 Axes>"
      ]
     },
     "metadata": {
      "needs_background": "light"
     },
     "output_type": "display_data"
    }
   ],
   "source": [
    "def recalc_signal_strength(df,name) :\n",
    "    orig = df[df['name'] == name].iloc[0]\n",
    "    \n",
    "    def recalc_dBm (row) :\n",
    "        dist = orig.geometry.centroid.distance(row.geometry.centroid)\n",
    "        walls = walls_bt[orig.zone][row.zone]\n",
    "        att = dist*dBloss_per_m + walls*dBloss_per_w\n",
    "        \n",
    "        row.dBm_Signal = dBm_max - att\n",
    "        return row\n",
    "    \n",
    "    return df.apply(recalc_dBm, axis=1)\n",
    "\n",
    "name = 'Habitacion1-1' #New source name\n",
    "recalc_df = recalc_signal_strength(my_wifi_5G_mean,name)\n",
    "\n",
    "#Draw result\n",
    "title='WiFi dBm Signal if located in {}'.format(name)\n",
    "col_name = 'dBm_Signal'\n",
    "label='name'\n",
    "plot_choropleth(recalc_df,title,col_name,label)"
   ]
  },
  {
   "cell_type": "code",
   "execution_count": 290,
   "metadata": {},
   "outputs": [
    {
     "name": "stdout",
     "output_type": "stream",
     "text": [
      "Best WiFi location is Pasillo-2. Score = 22.767\n",
      "Signal mean -48.401dBm\n",
      "Signal std 3.779dBm\n"
     ]
    }
   ],
   "source": [
    "#Calculate optimal WiFi ubication\n",
    "def optimal_room(df) :\n",
    "    recalc_dfs = []\n",
    "    i = 0\n",
    "    max_score = -1\n",
    "    \n",
    "    def calc_score(df) :\n",
    "        score = 0\n",
    "        scores = []\n",
    "        for zone in df.zone.unique() :\n",
    "            zone_df = df[df.zone == zone]\n",
    "            mW_Signal = math.pow(10,zone_df.dBm_Signal.mean()/10)\n",
    "            if zone == 5 :\n",
    "                scores.append(mW_Signal * 1.5)\n",
    "            elif zone in [1,2,3,4] :\n",
    "                scores.append(mW_Signal * 1.25)\n",
    "            else :\n",
    "                scores.append(mW_Signal * 1)\n",
    "                \n",
    "        return sum(scores)/len(scores)*10**6\n",
    "        \n",
    "    for name in my_wifi_5G_mean['name'].unique() :\n",
    "        recalc_df = recalc_signal_strength(my_wifi_5G_mean,name)\n",
    "        recalc_dfs.append(recalc_df)\n",
    "        room_score = round(calc_score(recalc_df),3)\n",
    "        if room_score > max_score :\n",
    "            max_score = room_score\n",
    "            opt_room_df = recalc_df\n",
    "            opt_room_name = name\n",
    "            opt_room_mean = round(recalc_df.dBm_Signal.mean(),3)\n",
    "            opt_room_std = round(recalc_df.dBm_Signal.std(),3)\n",
    "    \n",
    "    print('Best WiFi location is {}. Score = {}'.format(opt_room_name,max_score))\n",
    "    print('Signal mean {}dBm'.format(opt_room_mean))\n",
    "    print('Signal std {}dBm'.format(opt_room_std))\n",
    "    return opt_room_df,opt_room_name\n",
    "\n",
    "opt_room_df,opt_room_name = optimal_room(my_wifi_5G_mean)"
   ]
  },
  {
   "cell_type": "code",
   "execution_count": 291,
   "metadata": {},
   "outputs": [
    {
     "data": {
      "image/png": "[encoded data removed]",
      "text/plain": [
       "<Figure size 2160x720 with 2 Axes>"
      ]
     },
     "metadata": {
      "needs_background": "light"
     },
     "output_type": "display_data"
    }
   ],
   "source": [
    "#Draw result\n",
    "title='WiFi dBm Signal if located in {}'.format(opt_room_name)\n",
    "col_name = 'dBm_Signal'\n",
    "plot_choropleth(opt_room_df,title,col_name,label)"
   ]
  },
  {
   "cell_type": "markdown",
   "metadata": {},
   "source": [
    "## WiFi Repeater Simulation"
   ]
  },
  {
   "cell_type": "code",
   "execution_count": null,
   "metadata": {},
   "outputs": [],
   "source": []
  }
 ],
 "metadata": {
  "kernelspec": {
   "display_name": "Python 3",
   "language": "python",
   "name": "python3"
  },
  "language_info": {
   "codemirror_mode": {
    "name": "ipython",
    "version": 3
   },
   "file_extension": ".py",
   "mimetype": "text/x-python",
   "name": "python",
   "nbconvert_exporter": "python",
   "pygments_lexer": "ipython3",
   "version": "3.7.3"
  }
 },
 "nbformat": 4,
 "nbformat_minor": 2
}
