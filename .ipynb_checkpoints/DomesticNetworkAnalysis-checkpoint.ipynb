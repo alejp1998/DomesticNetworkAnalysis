{
 "cells": [
  {
   "cell_type": "markdown",
   "metadata": {},
   "source": [
    "# DOMESTIC NETWORK ANALYSIS\n",
    "## Alejandro Jarabo Peñas - SCON 2020"
   ]
  },
  {
   "cell_type": "code",
   "execution_count": 1,
   "metadata": {},
   "outputs": [],
   "source": [
    "import json\n",
    "\n",
    "import pandas as pd\n",
    "import geopandas as gpd\n",
    "\n",
    "import math\n",
    "import numpy as np\n",
    "\n",
    "import matplotlib\n",
    "import matplotlib.pyplot as plt\n",
    "\n",
    "import plotly.graph_objects as go\n",
    "import plotly.io as pio\n",
    "import plotly.express as px\n",
    "pio.templates.default = 'plotly_dark'\n",
    "pd.set_option(\"display.precision\", 3)\n",
    "\n",
    "%matplotlib inline"
   ]
  },
  {
   "cell_type": "code",
   "execution_count": 2,
   "metadata": {},
   "outputs": [],
   "source": [
    "#Available colors\n",
    "colors2 = [\n",
    "    \"#023fa5\", \"#7d87b9\", \"#bb7784\", \n",
    "    \"#8e063b\", \"#4a6fe3\", \"#8595e1\",\n",
    "    \"#e07b91\", \"#d33f6a\", \"#11c638\", \n",
    "    \"#8dd593\", \"#ef9708\", \"#0fcfc0\", \n",
    "    \"#9cded6\", \"#f79cd4\"\n",
    "]"
   ]
  },
  {
   "cell_type": "code",
   "execution_count": 3,
   "metadata": {},
   "outputs": [],
   "source": [
    "#Functions\n",
    "def plot_choropleth (gdf, title, col_name, col_label) :\n",
    "    # set the value column that will be visualised\n",
    "    # set the range for the choropleth values\n",
    "    vmin, vmax = gdf[col_name].min(), gdf[col_name].max()\n",
    "        \n",
    "    # create figure and axes for Matplotlib\n",
    "    fig, ax = plt.subplots(1, figsize=(30, 10))\n",
    "    # remove the axis\n",
    "    ax.axis('off')\n",
    "    # add a title and annotation\n",
    "    ax.set_title(title, fontdict={'fontsize': '30', 'fontweight' : '5'})\n",
    "    ax.set_facecolor('black')\n",
    "    \n",
    "    # Create colorbar legend\n",
    "    sm = plt.cm.ScalarMappable(norm=plt.Normalize(vmin=vmin, vmax=vmax))\n",
    "    # empty array for the data range\n",
    "    sm.set_array([]) # or alternatively sm._A = []. Not sure why this step is necessary, but many recommends it\n",
    "    # add the colorbar to the figure\n",
    "    fig.colorbar(sm)\n",
    "    # create map\n",
    "    gdf.plot(column=col_name, linewidth=7, ax=ax, edgecolor='0')\n",
    "    \n",
    "    # Add Labels\n",
    "    gdf['coords'] = gdf['geometry'].apply(lambda x: x.representative_point().coords[:])\n",
    "    gdf['coords'] = [coords[0] for coords in gdf['coords']]\n",
    "    for idx, row in gdf.iterrows():\n",
    "        plt.annotate(s=row[col_label], xy=row['coords'], horizontalalignment='center')"
   ]
  },
  {
   "cell_type": "code",
   "execution_count": 4,
   "metadata": {
    "code_folding": []
   },
   "outputs": [],
   "source": [
    "f = 'data/house_zones.geojson' \n",
    "with open(f) as file:\n",
    "    house_zones = json.load(file)"
   ]
  },
  {
   "cell_type": "code",
   "execution_count": 5,
   "metadata": {},
   "outputs": [],
   "source": [
    "#house_zones"
   ]
  },
  {
   "cell_type": "code",
   "execution_count": 6,
   "metadata": {},
   "outputs": [
    {
     "data": {
      "text/html": [
       "<div>\n",
       "<style scoped>\n",
       "    .dataframe tbody tr th:only-of-type {\n",
       "        vertical-align: middle;\n",
       "    }\n",
       "\n",
       "    .dataframe tbody tr th {\n",
       "        vertical-align: top;\n",
       "    }\n",
       "\n",
       "    .dataframe thead th {\n",
       "        text-align: right;\n",
       "    }\n",
       "</style>\n",
       "<table border=\"1\" class=\"dataframe\">\n",
       "  <thead>\n",
       "    <tr style=\"text-align: right;\">\n",
       "      <th></th>\n",
       "      <th>name</th>\n",
       "      <th>zone</th>\n",
       "      <th>subzone</th>\n",
       "      <th>geometry</th>\n",
       "    </tr>\n",
       "  </thead>\n",
       "  <tbody>\n",
       "    <tr>\n",
       "      <td>0</td>\n",
       "      <td>Pasillo-1</td>\n",
       "      <td>0</td>\n",
       "      <td>1</td>\n",
       "      <td>POLYGON ((-11.31592 -10.69300, -10.67871 -10.6...</td>\n",
       "    </tr>\n",
       "    <tr>\n",
       "      <td>1</td>\n",
       "      <td>Pasillo-2</td>\n",
       "      <td>0</td>\n",
       "      <td>2</td>\n",
       "      <td>POLYGON ((-10.66223 -10.70379, -9.78333 -10.70...</td>\n",
       "    </tr>\n",
       "    <tr>\n",
       "      <td>2</td>\n",
       "      <td>Pasillo-3</td>\n",
       "      <td>0</td>\n",
       "      <td>3</td>\n",
       "      <td>POLYGON ((-9.76685 -10.69839, -9.18457 -10.698...</td>\n",
       "    </tr>\n",
       "    <tr>\n",
       "      <td>3</td>\n",
       "      <td>Habitacion1-1</td>\n",
       "      <td>1</td>\n",
       "      <td>1</td>\n",
       "      <td>POLYGON ((-9.16260 -10.96816, -8.62427 -10.968...</td>\n",
       "    </tr>\n",
       "    <tr>\n",
       "      <td>4</td>\n",
       "      <td>Habitacion1-2</td>\n",
       "      <td>1</td>\n",
       "      <td>2</td>\n",
       "      <td>POLYGON ((-9.16260 -11.42080, -8.62427 -11.420...</td>\n",
       "    </tr>\n",
       "    <tr>\n",
       "      <td>5</td>\n",
       "      <td>Habitacion2-1</td>\n",
       "      <td>2</td>\n",
       "      <td>1</td>\n",
       "      <td>POLYGON ((-9.76685 -11.14607, -9.18457 -11.146...</td>\n",
       "    </tr>\n",
       "    <tr>\n",
       "      <td>6</td>\n",
       "      <td>Habitacion2-2</td>\n",
       "      <td>2</td>\n",
       "      <td>2</td>\n",
       "      <td>POLYGON ((-9.76685 -11.58229, -9.17358 -11.582...</td>\n",
       "    </tr>\n",
       "    <tr>\n",
       "      <td>7</td>\n",
       "      <td>Habitacion3-1</td>\n",
       "      <td>3</td>\n",
       "      <td>1</td>\n",
       "      <td>POLYGON ((-9.77783 -10.43920, -9.29993 -10.439...</td>\n",
       "    </tr>\n",
       "    <tr>\n",
       "      <td>8</td>\n",
       "      <td>Habitacion3-2</td>\n",
       "      <td>3</td>\n",
       "      <td>2</td>\n",
       "      <td>POLYGON ((-9.28345 -10.43379, -8.76709 -10.433...</td>\n",
       "    </tr>\n",
       "    <tr>\n",
       "      <td>9</td>\n",
       "      <td>Habitacion3-3</td>\n",
       "      <td>3</td>\n",
       "      <td>3</td>\n",
       "      <td>POLYGON ((-9.78882 -9.96344, -9.29443 -9.96344...</td>\n",
       "    </tr>\n",
       "    <tr>\n",
       "      <td>10</td>\n",
       "      <td>Habitacion3-4</td>\n",
       "      <td>3</td>\n",
       "      <td>4</td>\n",
       "      <td>POLYGON ((-9.28345 -9.96344, -8.76709 -9.96344...</td>\n",
       "    </tr>\n",
       "    <tr>\n",
       "      <td>11</td>\n",
       "      <td>Habitacion4-1</td>\n",
       "      <td>4</td>\n",
       "      <td>1</td>\n",
       "      <td>POLYGON ((-10.31616 -10.44460, -9.79980 -10.44...</td>\n",
       "    </tr>\n",
       "    <tr>\n",
       "      <td>12</td>\n",
       "      <td>Habitacion4-2</td>\n",
       "      <td>4</td>\n",
       "      <td>2</td>\n",
       "      <td>POLYGON ((-10.31067 -9.95803, -9.80530 -9.9580...</td>\n",
       "    </tr>\n",
       "    <tr>\n",
       "      <td>13</td>\n",
       "      <td>Salon-1</td>\n",
       "      <td>5</td>\n",
       "      <td>1</td>\n",
       "      <td>POLYGON ((-10.81055 -10.44460, -10.33264 -10.4...</td>\n",
       "    </tr>\n",
       "    <tr>\n",
       "      <td>14</td>\n",
       "      <td>Salon-2</td>\n",
       "      <td>5</td>\n",
       "      <td>2</td>\n",
       "      <td>POLYGON ((-11.30493 -10.44460, -10.82703 -10.4...</td>\n",
       "    </tr>\n",
       "    <tr>\n",
       "      <td>15</td>\n",
       "      <td>Salon-3</td>\n",
       "      <td>5</td>\n",
       "      <td>3</td>\n",
       "      <td>POLYGON ((-11.82678 -10.44460, -11.32141 -10.4...</td>\n",
       "    </tr>\n",
       "    <tr>\n",
       "      <td>16</td>\n",
       "      <td>Salon-4</td>\n",
       "      <td>5</td>\n",
       "      <td>4</td>\n",
       "      <td>POLYGON ((-10.80505 -9.95803, -10.33264 -9.958...</td>\n",
       "    </tr>\n",
       "    <tr>\n",
       "      <td>17</td>\n",
       "      <td>Salon-5</td>\n",
       "      <td>5</td>\n",
       "      <td>5</td>\n",
       "      <td>POLYGON ((-11.30493 -9.95262, -10.82703 -9.952...</td>\n",
       "    </tr>\n",
       "    <tr>\n",
       "      <td>18</td>\n",
       "      <td>Salon-6</td>\n",
       "      <td>5</td>\n",
       "      <td>6</td>\n",
       "      <td>POLYGON ((-11.82129 -9.95262, -11.32141 -9.952...</td>\n",
       "    </tr>\n",
       "    <tr>\n",
       "      <td>19</td>\n",
       "      <td>Cocina-1</td>\n",
       "      <td>6</td>\n",
       "      <td>1</td>\n",
       "      <td>POLYGON ((-11.83228 -10.87107, -11.33789 -10.8...</td>\n",
       "    </tr>\n",
       "    <tr>\n",
       "      <td>20</td>\n",
       "      <td>Cocina-2</td>\n",
       "      <td>6</td>\n",
       "      <td>2</td>\n",
       "      <td>POLYGON ((-11.83228 -11.24306, -11.33789 -11.2...</td>\n",
       "    </tr>\n",
       "    <tr>\n",
       "      <td>21</td>\n",
       "      <td>Lavabo1-1</td>\n",
       "      <td>7</td>\n",
       "      <td>1</td>\n",
       "      <td>POLYGON ((-11.06873 -11.25922, -10.67871 -11.2...</td>\n",
       "    </tr>\n",
       "    <tr>\n",
       "      <td>22</td>\n",
       "      <td>Lavabo2-1</td>\n",
       "      <td>8</td>\n",
       "      <td>1</td>\n",
       "      <td>POLYGON ((-11.31592 -11.24845, -11.08521 -11.2...</td>\n",
       "    </tr>\n",
       "    <tr>\n",
       "      <td>23</td>\n",
       "      <td>Terraza-1</td>\n",
       "      <td>9</td>\n",
       "      <td>1</td>\n",
       "      <td>POLYGON ((-11.81030 -9.45448, -10.84351 -9.454...</td>\n",
       "    </tr>\n",
       "    <tr>\n",
       "      <td>24</td>\n",
       "      <td>Terraza-2</td>\n",
       "      <td>9</td>\n",
       "      <td>2</td>\n",
       "      <td>POLYGON ((-10.82703 -9.47074, -9.80530 -9.4707...</td>\n",
       "    </tr>\n",
       "    <tr>\n",
       "      <td>25</td>\n",
       "      <td>Terraza-3</td>\n",
       "      <td>9</td>\n",
       "      <td>3</td>\n",
       "      <td>POLYGON ((-9.78333 -9.47615, -8.77808 -9.47615...</td>\n",
       "    </tr>\n",
       "  </tbody>\n",
       "</table>\n",
       "</div>"
      ],
      "text/plain": [
       "             name  zone  subzone  \\\n",
       "0       Pasillo-1     0        1   \n",
       "1       Pasillo-2     0        2   \n",
       "2       Pasillo-3     0        3   \n",
       "3   Habitacion1-1     1        1   \n",
       "4   Habitacion1-2     1        2   \n",
       "5   Habitacion2-1     2        1   \n",
       "6   Habitacion2-2     2        2   \n",
       "7   Habitacion3-1     3        1   \n",
       "8   Habitacion3-2     3        2   \n",
       "9   Habitacion3-3     3        3   \n",
       "10  Habitacion3-4     3        4   \n",
       "11  Habitacion4-1     4        1   \n",
       "12  Habitacion4-2     4        2   \n",
       "13        Salon-1     5        1   \n",
       "14        Salon-2     5        2   \n",
       "15        Salon-3     5        3   \n",
       "16        Salon-4     5        4   \n",
       "17        Salon-5     5        5   \n",
       "18        Salon-6     5        6   \n",
       "19       Cocina-1     6        1   \n",
       "20       Cocina-2     6        2   \n",
       "21      Lavabo1-1     7        1   \n",
       "22      Lavabo2-1     8        1   \n",
       "23      Terraza-1     9        1   \n",
       "24      Terraza-2     9        2   \n",
       "25      Terraza-3     9        3   \n",
       "\n",
       "                                             geometry  \n",
       "0   POLYGON ((-11.31592 -10.69300, -10.67871 -10.6...  \n",
       "1   POLYGON ((-10.66223 -10.70379, -9.78333 -10.70...  \n",
       "2   POLYGON ((-9.76685 -10.69839, -9.18457 -10.698...  \n",
       "3   POLYGON ((-9.16260 -10.96816, -8.62427 -10.968...  \n",
       "4   POLYGON ((-9.16260 -11.42080, -8.62427 -11.420...  \n",
       "5   POLYGON ((-9.76685 -11.14607, -9.18457 -11.146...  \n",
       "6   POLYGON ((-9.76685 -11.58229, -9.17358 -11.582...  \n",
       "7   POLYGON ((-9.77783 -10.43920, -9.29993 -10.439...  \n",
       "8   POLYGON ((-9.28345 -10.43379, -8.76709 -10.433...  \n",
       "9   POLYGON ((-9.78882 -9.96344, -9.29443 -9.96344...  \n",
       "10  POLYGON ((-9.28345 -9.96344, -8.76709 -9.96344...  \n",
       "11  POLYGON ((-10.31616 -10.44460, -9.79980 -10.44...  \n",
       "12  POLYGON ((-10.31067 -9.95803, -9.80530 -9.9580...  \n",
       "13  POLYGON ((-10.81055 -10.44460, -10.33264 -10.4...  \n",
       "14  POLYGON ((-11.30493 -10.44460, -10.82703 -10.4...  \n",
       "15  POLYGON ((-11.82678 -10.44460, -11.32141 -10.4...  \n",
       "16  POLYGON ((-10.80505 -9.95803, -10.33264 -9.958...  \n",
       "17  POLYGON ((-11.30493 -9.95262, -10.82703 -9.952...  \n",
       "18  POLYGON ((-11.82129 -9.95262, -11.32141 -9.952...  \n",
       "19  POLYGON ((-11.83228 -10.87107, -11.33789 -10.8...  \n",
       "20  POLYGON ((-11.83228 -11.24306, -11.33789 -11.2...  \n",
       "21  POLYGON ((-11.06873 -11.25922, -10.67871 -11.2...  \n",
       "22  POLYGON ((-11.31592 -11.24845, -11.08521 -11.2...  \n",
       "23  POLYGON ((-11.81030 -9.45448, -10.84351 -9.454...  \n",
       "24  POLYGON ((-10.82703 -9.47074, -9.80530 -9.4707...  \n",
       "25  POLYGON ((-9.78333 -9.47615, -8.77808 -9.47615...  "
      ]
     },
     "execution_count": 6,
     "metadata": {},
     "output_type": "execute_result"
    }
   ],
   "source": [
    "hz = gpd.read_file(f)\n",
    "hz = hz[['name','zone','subzone','geometry']].sort_values(['zone','subzone']).reset_index(drop=True)\n",
    "hz"
   ]
  },
  {
   "cell_type": "code",
   "execution_count": 82,
   "metadata": {},
   "outputs": [
    {
     "data": {
      "image/png": "[encoded data removed]",
      "text/plain": [
       "<Figure size 2160x720 with 2 Axes>"
      ]
     },
     "metadata": {
      "needs_background": "light"
     },
     "output_type": "display_data"
    }
   ],
   "source": [
    "title = 'Different house rooms'\n",
    "col_name = 'zone'\n",
    "label = 'name'\n",
    "gdf = hz\n",
    "\n",
    "#Plot choropleth    \n",
    "plot_choropleth(gdf,title,col_name,label)"
   ]
  },
  {
   "cell_type": "code",
   "execution_count": 8,
   "metadata": {},
   "outputs": [],
   "source": [
    "#Read measured data\n",
    "scanned = pd.read_csv('data/scanned_networks.csv').dropna()\n",
    "scanned = scanned[['BSSID','SSID','zone','subzone','dBm_Signal','Channel','Crypto']].reset_index(drop=True)\n",
    "scanned['Channel'] = scanned.Channel.astype(int)"
   ]
  },
  {
   "cell_type": "code",
   "execution_count": 9,
   "metadata": {},
   "outputs": [],
   "source": [
    "def change_ssid(row) :\n",
    "    if row.SSID == 'TontoElQueLoLea-2.4G' :\n",
    "        row.SSID = 'WifiAle-2.4G'\n",
    "    elif row.SSID == 'TontoElQueLoLea-5G' :\n",
    "        row.SSID = 'WifiAle-5G'\n",
    "    return row\n",
    "scanned = scanned.apply(change_ssid,axis=1)"
   ]
  },
  {
   "cell_type": "code",
   "execution_count": 10,
   "metadata": {},
   "outputs": [
    {
     "data": {
      "text/html": [
       "<div>\n",
       "<style scoped>\n",
       "    .dataframe tbody tr th:only-of-type {\n",
       "        vertical-align: middle;\n",
       "    }\n",
       "\n",
       "    .dataframe tbody tr th {\n",
       "        vertical-align: top;\n",
       "    }\n",
       "\n",
       "    .dataframe thead th {\n",
       "        text-align: right;\n",
       "    }\n",
       "</style>\n",
       "<table border=\"1\" class=\"dataframe\">\n",
       "  <thead>\n",
       "    <tr style=\"text-align: right;\">\n",
       "      <th></th>\n",
       "      <th>BSSID</th>\n",
       "      <th>SSID</th>\n",
       "      <th>zone</th>\n",
       "      <th>subzone</th>\n",
       "      <th>dBm_Signal</th>\n",
       "      <th>Channel</th>\n",
       "      <th>Crypto</th>\n",
       "    </tr>\n",
       "  </thead>\n",
       "  <tbody>\n",
       "    <tr>\n",
       "      <td>134</td>\n",
       "      <td>00:4a:77:e8:1b:c7</td>\n",
       "      <td>WifiAle-5G</td>\n",
       "      <td>1</td>\n",
       "      <td>2</td>\n",
       "      <td>-41</td>\n",
       "      <td>48</td>\n",
       "      <td>{'WPA2/PSK', 'WPA/PSK'}</td>\n",
       "    </tr>\n",
       "    <tr>\n",
       "      <td>135</td>\n",
       "      <td>00:4a:77:e8:1b:c7</td>\n",
       "      <td>WifiAle-5G</td>\n",
       "      <td>1</td>\n",
       "      <td>2</td>\n",
       "      <td>-40</td>\n",
       "      <td>48</td>\n",
       "      <td>{'WPA2/PSK', 'WPA/PSK'}</td>\n",
       "    </tr>\n",
       "    <tr>\n",
       "      <td>136</td>\n",
       "      <td>00:4a:77:e8:1b:c7</td>\n",
       "      <td>WifiAle-5G</td>\n",
       "      <td>1</td>\n",
       "      <td>2</td>\n",
       "      <td>-40</td>\n",
       "      <td>48</td>\n",
       "      <td>{'WPA2/PSK', 'WPA/PSK'}</td>\n",
       "    </tr>\n",
       "    <tr>\n",
       "      <td>137</td>\n",
       "      <td>00:4a:77:e8:1b:c7</td>\n",
       "      <td>WifiAle-5G</td>\n",
       "      <td>1</td>\n",
       "      <td>2</td>\n",
       "      <td>-39</td>\n",
       "      <td>48</td>\n",
       "      <td>{'WPA2/PSK', 'WPA/PSK'}</td>\n",
       "    </tr>\n",
       "    <tr>\n",
       "      <td>138</td>\n",
       "      <td>e6:f4:51:55:0a:a2</td>\n",
       "      <td>MiFibra-0A9F</td>\n",
       "      <td>1</td>\n",
       "      <td>2</td>\n",
       "      <td>-80</td>\n",
       "      <td>52</td>\n",
       "      <td>{'WPA2/PSK'}</td>\n",
       "    </tr>\n",
       "    <tr>\n",
       "      <td>139</td>\n",
       "      <td>48:8d:36:d1:75:60</td>\n",
       "      <td>MiFibra-755E</td>\n",
       "      <td>0</td>\n",
       "      <td>1</td>\n",
       "      <td>-59</td>\n",
       "      <td>1</td>\n",
       "      <td>{'WEP'}</td>\n",
       "    </tr>\n",
       "    <tr>\n",
       "      <td>140</td>\n",
       "      <td>62:8d:36:d1:75:61</td>\n",
       "      <td>Invitado-755E</td>\n",
       "      <td>0</td>\n",
       "      <td>1</td>\n",
       "      <td>-59</td>\n",
       "      <td>1</td>\n",
       "      <td>{'WEP'}</td>\n",
       "    </tr>\n",
       "    <tr>\n",
       "      <td>141</td>\n",
       "      <td>78:31:2b:e1:87:ec</td>\n",
       "      <td>JAZZTEL_KfdA</td>\n",
       "      <td>0</td>\n",
       "      <td>1</td>\n",
       "      <td>-62</td>\n",
       "      <td>1</td>\n",
       "      <td>{'WEP'}</td>\n",
       "    </tr>\n",
       "    <tr>\n",
       "      <td>142</td>\n",
       "      <td>78:31:2b:dc:2f:a0</td>\n",
       "      <td>JAZZTEL_xdpk</td>\n",
       "      <td>0</td>\n",
       "      <td>1</td>\n",
       "      <td>-76</td>\n",
       "      <td>1</td>\n",
       "      <td>{'WEP'}</td>\n",
       "    </tr>\n",
       "  </tbody>\n",
       "</table>\n",
       "</div>"
      ],
      "text/plain": [
       "                 BSSID           SSID  zone  subzone  dBm_Signal  Channel  \\\n",
       "134  00:4a:77:e8:1b:c7     WifiAle-5G     1        2         -41       48   \n",
       "135  00:4a:77:e8:1b:c7     WifiAle-5G     1        2         -40       48   \n",
       "136  00:4a:77:e8:1b:c7     WifiAle-5G     1        2         -40       48   \n",
       "137  00:4a:77:e8:1b:c7     WifiAle-5G     1        2         -39       48   \n",
       "138  e6:f4:51:55:0a:a2   MiFibra-0A9F     1        2         -80       52   \n",
       "139  48:8d:36:d1:75:60   MiFibra-755E     0        1         -59        1   \n",
       "140  62:8d:36:d1:75:61  Invitado-755E     0        1         -59        1   \n",
       "141  78:31:2b:e1:87:ec   JAZZTEL_KfdA     0        1         -62        1   \n",
       "142  78:31:2b:dc:2f:a0   JAZZTEL_xdpk     0        1         -76        1   \n",
       "\n",
       "                      Crypto  \n",
       "134  {'WPA2/PSK', 'WPA/PSK'}  \n",
       "135  {'WPA2/PSK', 'WPA/PSK'}  \n",
       "136  {'WPA2/PSK', 'WPA/PSK'}  \n",
       "137  {'WPA2/PSK', 'WPA/PSK'}  \n",
       "138             {'WPA2/PSK'}  \n",
       "139                  {'WEP'}  \n",
       "140                  {'WEP'}  \n",
       "141                  {'WEP'}  \n",
       "142                  {'WEP'}  "
      ]
     },
     "execution_count": 10,
     "metadata": {},
     "output_type": "execute_result"
    }
   ],
   "source": [
    "scanned.iloc[134:143]"
   ]
  },
  {
   "cell_type": "markdown",
   "metadata": {},
   "source": [
    "## Signal Strenght Analysis"
   ]
  },
  {
   "cell_type": "code",
   "execution_count": 11,
   "metadata": {},
   "outputs": [],
   "source": [
    "my_wifi = scanned[(scanned.SSID == 'WifiAle-2.4G') | (scanned.SSID == 'WifiAle-5G')].sort_values('dBm_Signal',ascending=False)"
   ]
  },
  {
   "cell_type": "code",
   "execution_count": 12,
   "metadata": {},
   "outputs": [
    {
     "data": {
      "text/html": [
       "<div>\n",
       "<style scoped>\n",
       "    .dataframe tbody tr th:only-of-type {\n",
       "        vertical-align: middle;\n",
       "    }\n",
       "\n",
       "    .dataframe tbody tr th {\n",
       "        vertical-align: top;\n",
       "    }\n",
       "\n",
       "    .dataframe thead th {\n",
       "        text-align: right;\n",
       "    }\n",
       "</style>\n",
       "<table border=\"1\" class=\"dataframe\">\n",
       "  <thead>\n",
       "    <tr style=\"text-align: right;\">\n",
       "      <th></th>\n",
       "      <th>BSSID</th>\n",
       "      <th>SSID</th>\n",
       "      <th>zone</th>\n",
       "      <th>subzone</th>\n",
       "      <th>dBm_Signal</th>\n",
       "      <th>Channel</th>\n",
       "      <th>Crypto</th>\n",
       "    </tr>\n",
       "  </thead>\n",
       "  <tbody>\n",
       "    <tr>\n",
       "      <td>56</td>\n",
       "      <td>00:4a:77:e8:1b:c6</td>\n",
       "      <td>WifiAle-2.4G</td>\n",
       "      <td>1</td>\n",
       "      <td>1</td>\n",
       "      <td>-36</td>\n",
       "      <td>11</td>\n",
       "      <td>{'WPA/PSK', 'WPA2/PSK'}</td>\n",
       "    </tr>\n",
       "    <tr>\n",
       "      <td>68</td>\n",
       "      <td>00:4a:77:e8:1b:c7</td>\n",
       "      <td>WifiAle-5G</td>\n",
       "      <td>1</td>\n",
       "      <td>1</td>\n",
       "      <td>-39</td>\n",
       "      <td>48</td>\n",
       "      <td>{'WPA/PSK', 'WPA2/PSK'}</td>\n",
       "    </tr>\n",
       "    <tr>\n",
       "      <td>69</td>\n",
       "      <td>00:4a:77:e8:1b:c7</td>\n",
       "      <td>WifiAle-5G</td>\n",
       "      <td>1</td>\n",
       "      <td>1</td>\n",
       "      <td>-39</td>\n",
       "      <td>48</td>\n",
       "      <td>{'WPA/PSK', 'WPA2/PSK'}</td>\n",
       "    </tr>\n",
       "    <tr>\n",
       "      <td>62</td>\n",
       "      <td>00:4a:77:e8:1b:c6</td>\n",
       "      <td>WifiAle-2.4G</td>\n",
       "      <td>1</td>\n",
       "      <td>1</td>\n",
       "      <td>-39</td>\n",
       "      <td>11</td>\n",
       "      <td>{'WPA/PSK', 'WPA2/PSK'}</td>\n",
       "    </tr>\n",
       "    <tr>\n",
       "      <td>67</td>\n",
       "      <td>00:4a:77:e8:1b:c7</td>\n",
       "      <td>WifiAle-5G</td>\n",
       "      <td>1</td>\n",
       "      <td>1</td>\n",
       "      <td>-39</td>\n",
       "      <td>48</td>\n",
       "      <td>{'WPA/PSK', 'WPA2/PSK'}</td>\n",
       "    </tr>\n",
       "    <tr>\n",
       "      <td>65</td>\n",
       "      <td>00:4a:77:e8:1b:c7</td>\n",
       "      <td>WifiAle-5G</td>\n",
       "      <td>1</td>\n",
       "      <td>1</td>\n",
       "      <td>-39</td>\n",
       "      <td>48</td>\n",
       "      <td>{'WPA/PSK', 'WPA2/PSK'}</td>\n",
       "    </tr>\n",
       "    <tr>\n",
       "      <td>66</td>\n",
       "      <td>00:4a:77:e8:1b:c7</td>\n",
       "      <td>WifiAle-5G</td>\n",
       "      <td>1</td>\n",
       "      <td>1</td>\n",
       "      <td>-40</td>\n",
       "      <td>48</td>\n",
       "      <td>{'WPA/PSK', 'WPA2/PSK'}</td>\n",
       "    </tr>\n",
       "  </tbody>\n",
       "</table>\n",
       "</div>"
      ],
      "text/plain": [
       "                BSSID          SSID  zone  subzone  dBm_Signal  Channel  \\\n",
       "56  00:4a:77:e8:1b:c6  WifiAle-2.4G     1        1         -36       11   \n",
       "68  00:4a:77:e8:1b:c7    WifiAle-5G     1        1         -39       48   \n",
       "69  00:4a:77:e8:1b:c7    WifiAle-5G     1        1         -39       48   \n",
       "62  00:4a:77:e8:1b:c6  WifiAle-2.4G     1        1         -39       11   \n",
       "67  00:4a:77:e8:1b:c7    WifiAle-5G     1        1         -39       48   \n",
       "65  00:4a:77:e8:1b:c7    WifiAle-5G     1        1         -39       48   \n",
       "66  00:4a:77:e8:1b:c7    WifiAle-5G     1        1         -40       48   \n",
       "\n",
       "                     Crypto  \n",
       "56  {'WPA/PSK', 'WPA2/PSK'}  \n",
       "68  {'WPA/PSK', 'WPA2/PSK'}  \n",
       "69  {'WPA/PSK', 'WPA2/PSK'}  \n",
       "62  {'WPA/PSK', 'WPA2/PSK'}  \n",
       "67  {'WPA/PSK', 'WPA2/PSK'}  \n",
       "65  {'WPA/PSK', 'WPA2/PSK'}  \n",
       "66  {'WPA/PSK', 'WPA2/PSK'}  "
      ]
     },
     "execution_count": 12,
     "metadata": {},
     "output_type": "execute_result"
    }
   ],
   "source": [
    "zone = 1\n",
    "subzone = 1\n",
    "my_wifi[(my_wifi.zone == zone) & (my_wifi.subzone == subzone)]"
   ]
  },
  {
   "cell_type": "code",
   "execution_count": 13,
   "metadata": {},
   "outputs": [
    {
     "data": {
      "text/html": [
       "<div>\n",
       "<style scoped>\n",
       "    .dataframe tbody tr th:only-of-type {\n",
       "        vertical-align: middle;\n",
       "    }\n",
       "\n",
       "    .dataframe tbody tr th {\n",
       "        vertical-align: top;\n",
       "    }\n",
       "\n",
       "    .dataframe thead th {\n",
       "        text-align: right;\n",
       "    }\n",
       "</style>\n",
       "<table border=\"1\" class=\"dataframe\">\n",
       "  <thead>\n",
       "    <tr style=\"text-align: right;\">\n",
       "      <th></th>\n",
       "      <th>name</th>\n",
       "      <th>zone</th>\n",
       "      <th>subzone</th>\n",
       "      <th>dBm_Signal</th>\n",
       "      <th>Channel</th>\n",
       "    </tr>\n",
       "  </thead>\n",
       "  <tbody>\n",
       "    <tr>\n",
       "      <td>0</td>\n",
       "      <td>Pasillo-1</td>\n",
       "      <td>0</td>\n",
       "      <td>1</td>\n",
       "      <td>-67.800</td>\n",
       "      <td>48.0</td>\n",
       "    </tr>\n",
       "    <tr>\n",
       "      <td>1</td>\n",
       "      <td>Pasillo-2</td>\n",
       "      <td>0</td>\n",
       "      <td>2</td>\n",
       "      <td>-57.800</td>\n",
       "      <td>48.0</td>\n",
       "    </tr>\n",
       "    <tr>\n",
       "      <td>2</td>\n",
       "      <td>Pasillo-3</td>\n",
       "      <td>0</td>\n",
       "      <td>3</td>\n",
       "      <td>-53.000</td>\n",
       "      <td>48.0</td>\n",
       "    </tr>\n",
       "    <tr>\n",
       "      <td>3</td>\n",
       "      <td>Habitacion1-1</td>\n",
       "      <td>1</td>\n",
       "      <td>1</td>\n",
       "      <td>-39.200</td>\n",
       "      <td>48.0</td>\n",
       "    </tr>\n",
       "    <tr>\n",
       "      <td>4</td>\n",
       "      <td>Habitacion1-2</td>\n",
       "      <td>1</td>\n",
       "      <td>2</td>\n",
       "      <td>-40.600</td>\n",
       "      <td>48.0</td>\n",
       "    </tr>\n",
       "    <tr>\n",
       "      <td>5</td>\n",
       "      <td>Habitacion2-1</td>\n",
       "      <td>2</td>\n",
       "      <td>1</td>\n",
       "      <td>-45.000</td>\n",
       "      <td>48.0</td>\n",
       "    </tr>\n",
       "    <tr>\n",
       "      <td>6</td>\n",
       "      <td>Habitacion2-2</td>\n",
       "      <td>2</td>\n",
       "      <td>2</td>\n",
       "      <td>-47.000</td>\n",
       "      <td>48.0</td>\n",
       "    </tr>\n",
       "    <tr>\n",
       "      <td>7</td>\n",
       "      <td>Habitacion3-1</td>\n",
       "      <td>3</td>\n",
       "      <td>1</td>\n",
       "      <td>-54.800</td>\n",
       "      <td>48.0</td>\n",
       "    </tr>\n",
       "    <tr>\n",
       "      <td>8</td>\n",
       "      <td>Habitacion3-2</td>\n",
       "      <td>3</td>\n",
       "      <td>2</td>\n",
       "      <td>-52.200</td>\n",
       "      <td>48.0</td>\n",
       "    </tr>\n",
       "    <tr>\n",
       "      <td>9</td>\n",
       "      <td>Habitacion3-3</td>\n",
       "      <td>3</td>\n",
       "      <td>3</td>\n",
       "      <td>-53.000</td>\n",
       "      <td>48.0</td>\n",
       "    </tr>\n",
       "    <tr>\n",
       "      <td>10</td>\n",
       "      <td>Habitacion3-4</td>\n",
       "      <td>3</td>\n",
       "      <td>4</td>\n",
       "      <td>-52.000</td>\n",
       "      <td>48.0</td>\n",
       "    </tr>\n",
       "    <tr>\n",
       "      <td>11</td>\n",
       "      <td>Habitacion4-1</td>\n",
       "      <td>4</td>\n",
       "      <td>1</td>\n",
       "      <td>-63.000</td>\n",
       "      <td>48.0</td>\n",
       "    </tr>\n",
       "    <tr>\n",
       "      <td>12</td>\n",
       "      <td>Habitacion4-2</td>\n",
       "      <td>4</td>\n",
       "      <td>2</td>\n",
       "      <td>-62.000</td>\n",
       "      <td>48.0</td>\n",
       "    </tr>\n",
       "    <tr>\n",
       "      <td>13</td>\n",
       "      <td>Salon-1</td>\n",
       "      <td>5</td>\n",
       "      <td>1</td>\n",
       "      <td>-68.000</td>\n",
       "      <td>48.0</td>\n",
       "    </tr>\n",
       "    <tr>\n",
       "      <td>14</td>\n",
       "      <td>Salon-2</td>\n",
       "      <td>5</td>\n",
       "      <td>2</td>\n",
       "      <td>-74.200</td>\n",
       "      <td>48.0</td>\n",
       "    </tr>\n",
       "    <tr>\n",
       "      <td>15</td>\n",
       "      <td>Salon-3</td>\n",
       "      <td>5</td>\n",
       "      <td>3</td>\n",
       "      <td>-76.000</td>\n",
       "      <td>48.0</td>\n",
       "    </tr>\n",
       "    <tr>\n",
       "      <td>16</td>\n",
       "      <td>Salon-4</td>\n",
       "      <td>5</td>\n",
       "      <td>4</td>\n",
       "      <td>-71.000</td>\n",
       "      <td>48.0</td>\n",
       "    </tr>\n",
       "    <tr>\n",
       "      <td>17</td>\n",
       "      <td>Salon-5</td>\n",
       "      <td>5</td>\n",
       "      <td>5</td>\n",
       "      <td>-72.500</td>\n",
       "      <td>48.0</td>\n",
       "    </tr>\n",
       "    <tr>\n",
       "      <td>18</td>\n",
       "      <td>Salon-6</td>\n",
       "      <td>5</td>\n",
       "      <td>6</td>\n",
       "      <td>-70.333</td>\n",
       "      <td>48.0</td>\n",
       "    </tr>\n",
       "    <tr>\n",
       "      <td>19</td>\n",
       "      <td>Cocina-1</td>\n",
       "      <td>6</td>\n",
       "      <td>1</td>\n",
       "      <td>-72.000</td>\n",
       "      <td>48.0</td>\n",
       "    </tr>\n",
       "    <tr>\n",
       "      <td>20</td>\n",
       "      <td>Cocina-2</td>\n",
       "      <td>6</td>\n",
       "      <td>2</td>\n",
       "      <td>-86.500</td>\n",
       "      <td>48.0</td>\n",
       "    </tr>\n",
       "    <tr>\n",
       "      <td>21</td>\n",
       "      <td>Lavabo1-1</td>\n",
       "      <td>7</td>\n",
       "      <td>1</td>\n",
       "      <td>-74.600</td>\n",
       "      <td>48.0</td>\n",
       "    </tr>\n",
       "    <tr>\n",
       "      <td>22</td>\n",
       "      <td>Lavabo2-1</td>\n",
       "      <td>8</td>\n",
       "      <td>1</td>\n",
       "      <td>-75.000</td>\n",
       "      <td>48.0</td>\n",
       "    </tr>\n",
       "    <tr>\n",
       "      <td>23</td>\n",
       "      <td>Terraza-1</td>\n",
       "      <td>9</td>\n",
       "      <td>1</td>\n",
       "      <td>-75.800</td>\n",
       "      <td>48.0</td>\n",
       "    </tr>\n",
       "    <tr>\n",
       "      <td>24</td>\n",
       "      <td>Terraza-2</td>\n",
       "      <td>9</td>\n",
       "      <td>2</td>\n",
       "      <td>-69.000</td>\n",
       "      <td>48.0</td>\n",
       "    </tr>\n",
       "    <tr>\n",
       "      <td>25</td>\n",
       "      <td>Terraza-3</td>\n",
       "      <td>9</td>\n",
       "      <td>3</td>\n",
       "      <td>-72.000</td>\n",
       "      <td>48.0</td>\n",
       "    </tr>\n",
       "  </tbody>\n",
       "</table>\n",
       "</div>"
      ],
      "text/plain": [
       "             name  zone  subzone  dBm_Signal  Channel\n",
       "0       Pasillo-1     0        1     -67.800     48.0\n",
       "1       Pasillo-2     0        2     -57.800     48.0\n",
       "2       Pasillo-3     0        3     -53.000     48.0\n",
       "3   Habitacion1-1     1        1     -39.200     48.0\n",
       "4   Habitacion1-2     1        2     -40.600     48.0\n",
       "5   Habitacion2-1     2        1     -45.000     48.0\n",
       "6   Habitacion2-2     2        2     -47.000     48.0\n",
       "7   Habitacion3-1     3        1     -54.800     48.0\n",
       "8   Habitacion3-2     3        2     -52.200     48.0\n",
       "9   Habitacion3-3     3        3     -53.000     48.0\n",
       "10  Habitacion3-4     3        4     -52.000     48.0\n",
       "11  Habitacion4-1     4        1     -63.000     48.0\n",
       "12  Habitacion4-2     4        2     -62.000     48.0\n",
       "13        Salon-1     5        1     -68.000     48.0\n",
       "14        Salon-2     5        2     -74.200     48.0\n",
       "15        Salon-3     5        3     -76.000     48.0\n",
       "16        Salon-4     5        4     -71.000     48.0\n",
       "17        Salon-5     5        5     -72.500     48.0\n",
       "18        Salon-6     5        6     -70.333     48.0\n",
       "19       Cocina-1     6        1     -72.000     48.0\n",
       "20       Cocina-2     6        2     -86.500     48.0\n",
       "21      Lavabo1-1     7        1     -74.600     48.0\n",
       "22      Lavabo2-1     8        1     -75.000     48.0\n",
       "23      Terraza-1     9        1     -75.800     48.0\n",
       "24      Terraza-2     9        2     -69.000     48.0\n",
       "25      Terraza-3     9        3     -72.000     48.0"
      ]
     },
     "execution_count": 13,
     "metadata": {},
     "output_type": "execute_result"
    }
   ],
   "source": [
    "my_wifi_5G_mean = my_wifi[my_wifi.SSID == 'WifiAle-5G'].groupby(['zone','subzone']).mean()\n",
    "my_wifi_5G_mean = my_wifi_5G_mean.reset_index()\n",
    "my_wifi_5G_mean = hz.merge(my_wifi_5G_mean,on=['zone','subzone'])\n",
    "#my_wifi_5G_mean = my_wifi_5G_mean.iloc[10:11]\n",
    "my_wifi_5G_mean[['name','zone','subzone','dBm_Signal','Channel']]"
   ]
  },
  {
   "cell_type": "code",
   "execution_count": 83,
   "metadata": {},
   "outputs": [
    {
     "data": {
      "image/png": "[encoded data removed]",
      "text/plain": [
       "<Figure size 2160x720 with 2 Axes>"
      ]
     },
     "metadata": {
      "needs_background": "light"
     },
     "output_type": "display_data"
    }
   ],
   "source": [
    "title = 'WiFi dBm per house area'\n",
    "col_name = 'dBm_Signal'\n",
    "label = 'name'\n",
    "gdf = my_wifi_5G_mean\n",
    "\n",
    "#Plot choropleth    \n",
    "plot_choropleth(gdf,title,col_name,label)"
   ]
  },
  {
   "cell_type": "markdown",
   "metadata": {},
   "source": [
    "## Band Ocupancy Analysis"
   ]
  },
  {
   "cell_type": "code",
   "execution_count": 37,
   "metadata": {},
   "outputs": [],
   "source": [
    "zone1_1_2G = scanned[(scanned.zone.isin([1])) & (scanned.Channel <= 14)]\n",
    "zone1_1_2G = zone1_1_2G.sort_values('dBm_Signal',ascending=False).drop_duplicates(['SSID'],keep='first')"
   ]
  },
  {
   "cell_type": "code",
   "execution_count": 38,
   "metadata": {},
   "outputs": [
    {
     "data": {
      "application/vnd.plotly.v1+json": {
       "config": {
        "plotlyServerURL": "https://plot.ly"
       },
       "data": [
        {
         "mode": "text",
         "text": [
          "WifiAle-2.4G",
          "Orange-53EB",
          "rockrobo-vacuum-v1_miapD097",
          "DIGIFIBRA-PfRf",
          "MiFibra-1A14",
          "MiFibra-0A9F",
          "Invitado-755E",
          "MiFibra-755E",
          "devolo-bb1",
          "vodafoneBF88",
          "JAZZTEL_l0l4",
          "_ONOWiFi",
          "vodafoneBDAC",
          "MOVISTAR_12F8",
          "MiFibra-7414",
          "JAZZTEL_KfdA",
          "MiFibra-944F",
          "MiFibra-BC20",
          "Navi Wifi 5G_2GEXT",
          "EUDAIMONIA",
          "MASMOVIL_2G_HJsC",
          "MiFibra-E96E",
          "MOVISTAR_4CBC",
          "MIWIFI_2G_T4G6",
          "MiFibra-2C88",
          "MiFibra-96EF",
          "MOVISTAR_6A6B",
          "vodafone4400",
          "DIRECT-vHM2020 Series",
          "Invitado-2C88",
          "MIWIFI_2G_dEw3",
          "MiFibra-68C0",
          "MIWIFI_2G_XKS4",
          "LowiAB99",
          "MiFibra-96EF-24G",
          "MOVISTAR_0C6D",
          "ONO8AC2",
          "TP-Link_EABC"
         ],
         "type": "scatter",
         "x": [
          11,
          11,
          6,
          5,
          1,
          6,
          1,
          1,
          11,
          1,
          5,
          5,
          5,
          6,
          11,
          1,
          1,
          1,
          10,
          7,
          1,
          1,
          11,
          4,
          6,
          9,
          1,
          11,
          5,
          6,
          1,
          11,
          6,
          1,
          9,
          6,
          9,
          4
         ],
         "y": [
          -36,
          -43,
          -59,
          -60,
          -61,
          -63,
          -64,
          -64,
          -67,
          -70,
          -71,
          -72,
          -73,
          -75,
          -75,
          -76,
          -77,
          -77,
          -77,
          -77,
          -78,
          -79,
          -80,
          -81,
          -82,
          -82,
          -82,
          -82,
          -83,
          -84,
          -84,
          -85,
          -86,
          -86,
          -87,
          -88,
          -88,
          -91
         ]
        }
       ],
       "layout": {
        "shapes": [
         {
          "fillcolor": "#7d87b9",
          "line": {
           "color": "#7d87b9"
          },
          "name": "WifiAle-2.4G",
          "opacity": 0.3,
          "type": "circle",
          "x0": 9,
          "x1": 13,
          "xref": "x",
          "y0": -164,
          "y1": -36,
          "yref": "y"
         },
         {
          "fillcolor": "#bb7784",
          "line": {
           "color": "#bb7784"
          },
          "name": "Orange-53EB",
          "opacity": 0.3,
          "type": "circle",
          "x0": 9,
          "x1": 13,
          "xref": "x",
          "y0": -157,
          "y1": -43,
          "yref": "y"
         },
         {
          "fillcolor": "#8e063b",
          "line": {
           "color": "#8e063b"
          },
          "name": "rockrobo-vacuum-v1_miapD097",
          "opacity": 0.3,
          "type": "circle",
          "x0": 4,
          "x1": 8,
          "xref": "x",
          "y0": -141,
          "y1": -59,
          "yref": "y"
         },
         {
          "fillcolor": "#4a6fe3",
          "line": {
           "color": "#4a6fe3"
          },
          "name": "DIGIFIBRA-PfRf",
          "opacity": 0.3,
          "type": "circle",
          "x0": 3,
          "x1": 7,
          "xref": "x",
          "y0": -140,
          "y1": -60,
          "yref": "y"
         },
         {
          "fillcolor": "#8595e1",
          "line": {
           "color": "#8595e1"
          },
          "name": "MiFibra-1A14",
          "opacity": 0.3,
          "type": "circle",
          "x0": -1,
          "x1": 3,
          "xref": "x",
          "y0": -139,
          "y1": -61,
          "yref": "y"
         },
         {
          "fillcolor": "#e07b91",
          "line": {
           "color": "#e07b91"
          },
          "name": "MiFibra-0A9F",
          "opacity": 0.3,
          "type": "circle",
          "x0": 4,
          "x1": 8,
          "xref": "x",
          "y0": -137,
          "y1": -63,
          "yref": "y"
         },
         {
          "fillcolor": "#d33f6a",
          "line": {
           "color": "#d33f6a"
          },
          "name": "Invitado-755E",
          "opacity": 0.3,
          "type": "circle",
          "x0": -1,
          "x1": 3,
          "xref": "x",
          "y0": -136,
          "y1": -64,
          "yref": "y"
         },
         {
          "fillcolor": "#11c638",
          "line": {
           "color": "#11c638"
          },
          "name": "MiFibra-755E",
          "opacity": 0.3,
          "type": "circle",
          "x0": -1,
          "x1": 3,
          "xref": "x",
          "y0": -136,
          "y1": -64,
          "yref": "y"
         },
         {
          "fillcolor": "#8dd593",
          "line": {
           "color": "#8dd593"
          },
          "name": "devolo-bb1",
          "opacity": 0.3,
          "type": "circle",
          "x0": 9,
          "x1": 13,
          "xref": "x",
          "y0": -133,
          "y1": -67,
          "yref": "y"
         },
         {
          "fillcolor": "#ef9708",
          "line": {
           "color": "#ef9708"
          },
          "name": "vodafoneBF88",
          "opacity": 0.3,
          "type": "circle",
          "x0": -1,
          "x1": 3,
          "xref": "x",
          "y0": -130,
          "y1": -70,
          "yref": "y"
         },
         {
          "fillcolor": "#0fcfc0",
          "line": {
           "color": "#0fcfc0"
          },
          "name": "JAZZTEL_l0l4",
          "opacity": 0.3,
          "type": "circle",
          "x0": 3,
          "x1": 7,
          "xref": "x",
          "y0": -129,
          "y1": -71,
          "yref": "y"
         },
         {
          "fillcolor": "#9cded6",
          "line": {
           "color": "#9cded6"
          },
          "name": "_ONOWiFi",
          "opacity": 0.3,
          "type": "circle",
          "x0": 3,
          "x1": 7,
          "xref": "x",
          "y0": -128,
          "y1": -72,
          "yref": "y"
         },
         {
          "fillcolor": "#f79cd4",
          "line": {
           "color": "#f79cd4"
          },
          "name": "vodafoneBDAC",
          "opacity": 0.3,
          "type": "circle",
          "x0": 3,
          "x1": 7,
          "xref": "x",
          "y0": -127,
          "y1": -73,
          "yref": "y"
         },
         {
          "fillcolor": "#023fa5",
          "line": {
           "color": "#023fa5"
          },
          "name": "MOVISTAR_12F8",
          "opacity": 0.3,
          "type": "circle",
          "x0": 4,
          "x1": 8,
          "xref": "x",
          "y0": -125,
          "y1": -75,
          "yref": "y"
         },
         {
          "fillcolor": "#7d87b9",
          "line": {
           "color": "#7d87b9"
          },
          "name": "MiFibra-7414",
          "opacity": 0.3,
          "type": "circle",
          "x0": 9,
          "x1": 13,
          "xref": "x",
          "y0": -125,
          "y1": -75,
          "yref": "y"
         },
         {
          "fillcolor": "#bb7784",
          "line": {
           "color": "#bb7784"
          },
          "name": "JAZZTEL_KfdA",
          "opacity": 0.3,
          "type": "circle",
          "x0": -1,
          "x1": 3,
          "xref": "x",
          "y0": -124,
          "y1": -76,
          "yref": "y"
         },
         {
          "fillcolor": "#8e063b",
          "line": {
           "color": "#8e063b"
          },
          "name": "MiFibra-944F",
          "opacity": 0.3,
          "type": "circle",
          "x0": -1,
          "x1": 3,
          "xref": "x",
          "y0": -123,
          "y1": -77,
          "yref": "y"
         },
         {
          "fillcolor": "#4a6fe3",
          "line": {
           "color": "#4a6fe3"
          },
          "name": "MiFibra-BC20",
          "opacity": 0.3,
          "type": "circle",
          "x0": -1,
          "x1": 3,
          "xref": "x",
          "y0": -123,
          "y1": -77,
          "yref": "y"
         },
         {
          "fillcolor": "#8595e1",
          "line": {
           "color": "#8595e1"
          },
          "name": "Navi Wifi 5G_2GEXT",
          "opacity": 0.3,
          "type": "circle",
          "x0": 8,
          "x1": 12,
          "xref": "x",
          "y0": -123,
          "y1": -77,
          "yref": "y"
         },
         {
          "fillcolor": "#e07b91",
          "line": {
           "color": "#e07b91"
          },
          "name": "EUDAIMONIA",
          "opacity": 0.3,
          "type": "circle",
          "x0": 5,
          "x1": 9,
          "xref": "x",
          "y0": -123,
          "y1": -77,
          "yref": "y"
         },
         {
          "fillcolor": "#d33f6a",
          "line": {
           "color": "#d33f6a"
          },
          "name": "MASMOVIL_2G_HJsC",
          "opacity": 0.3,
          "type": "circle",
          "x0": -1,
          "x1": 3,
          "xref": "x",
          "y0": -122,
          "y1": -78,
          "yref": "y"
         },
         {
          "fillcolor": "#11c638",
          "line": {
           "color": "#11c638"
          },
          "name": "MiFibra-E96E",
          "opacity": 0.3,
          "type": "circle",
          "x0": -1,
          "x1": 3,
          "xref": "x",
          "y0": -121,
          "y1": -79,
          "yref": "y"
         },
         {
          "fillcolor": "#8dd593",
          "line": {
           "color": "#8dd593"
          },
          "name": "MOVISTAR_4CBC",
          "opacity": 0.3,
          "type": "circle",
          "x0": 9,
          "x1": 13,
          "xref": "x",
          "y0": -120,
          "y1": -80,
          "yref": "y"
         },
         {
          "fillcolor": "#ef9708",
          "line": {
           "color": "#ef9708"
          },
          "name": "MIWIFI_2G_T4G6",
          "opacity": 0.3,
          "type": "circle",
          "x0": 2,
          "x1": 6,
          "xref": "x",
          "y0": -119,
          "y1": -81,
          "yref": "y"
         },
         {
          "fillcolor": "#0fcfc0",
          "line": {
           "color": "#0fcfc0"
          },
          "name": "MiFibra-2C88",
          "opacity": 0.3,
          "type": "circle",
          "x0": 4,
          "x1": 8,
          "xref": "x",
          "y0": -118,
          "y1": -82,
          "yref": "y"
         },
         {
          "fillcolor": "#9cded6",
          "line": {
           "color": "#9cded6"
          },
          "name": "MiFibra-96EF",
          "opacity": 0.3,
          "type": "circle",
          "x0": 7,
          "x1": 11,
          "xref": "x",
          "y0": -118,
          "y1": -82,
          "yref": "y"
         },
         {
          "fillcolor": "#f79cd4",
          "line": {
           "color": "#f79cd4"
          },
          "name": "MOVISTAR_6A6B",
          "opacity": 0.3,
          "type": "circle",
          "x0": -1,
          "x1": 3,
          "xref": "x",
          "y0": -118,
          "y1": -82,
          "yref": "y"
         },
         {
          "fillcolor": "#023fa5",
          "line": {
           "color": "#023fa5"
          },
          "name": "vodafone4400",
          "opacity": 0.3,
          "type": "circle",
          "x0": 9,
          "x1": 13,
          "xref": "x",
          "y0": -118,
          "y1": -82,
          "yref": "y"
         },
         {
          "fillcolor": "#7d87b9",
          "line": {
           "color": "#7d87b9"
          },
          "name": "DIRECT-vHM2020 Series",
          "opacity": 0.3,
          "type": "circle",
          "x0": 3,
          "x1": 7,
          "xref": "x",
          "y0": -117,
          "y1": -83,
          "yref": "y"
         },
         {
          "fillcolor": "#bb7784",
          "line": {
           "color": "#bb7784"
          },
          "name": "Invitado-2C88",
          "opacity": 0.3,
          "type": "circle",
          "x0": 4,
          "x1": 8,
          "xref": "x",
          "y0": -116,
          "y1": -84,
          "yref": "y"
         },
         {
          "fillcolor": "#8e063b",
          "line": {
           "color": "#8e063b"
          },
          "name": "MIWIFI_2G_dEw3",
          "opacity": 0.3,
          "type": "circle",
          "x0": -1,
          "x1": 3,
          "xref": "x",
          "y0": -116,
          "y1": -84,
          "yref": "y"
         },
         {
          "fillcolor": "#4a6fe3",
          "line": {
           "color": "#4a6fe3"
          },
          "name": "MiFibra-68C0",
          "opacity": 0.3,
          "type": "circle",
          "x0": 9,
          "x1": 13,
          "xref": "x",
          "y0": -115,
          "y1": -85,
          "yref": "y"
         },
         {
          "fillcolor": "#8595e1",
          "line": {
           "color": "#8595e1"
          },
          "name": "MIWIFI_2G_XKS4",
          "opacity": 0.3,
          "type": "circle",
          "x0": 4,
          "x1": 8,
          "xref": "x",
          "y0": -114,
          "y1": -86,
          "yref": "y"
         },
         {
          "fillcolor": "#e07b91",
          "line": {
           "color": "#e07b91"
          },
          "name": "LowiAB99",
          "opacity": 0.3,
          "type": "circle",
          "x0": -1,
          "x1": 3,
          "xref": "x",
          "y0": -114,
          "y1": -86,
          "yref": "y"
         },
         {
          "fillcolor": "#d33f6a",
          "line": {
           "color": "#d33f6a"
          },
          "name": "MiFibra-96EF-24G",
          "opacity": 0.3,
          "type": "circle",
          "x0": 7,
          "x1": 11,
          "xref": "x",
          "y0": -113,
          "y1": -87,
          "yref": "y"
         },
         {
          "fillcolor": "#11c638",
          "line": {
           "color": "#11c638"
          },
          "name": "MOVISTAR_0C6D",
          "opacity": 0.3,
          "type": "circle",
          "x0": 4,
          "x1": 8,
          "xref": "x",
          "y0": -112,
          "y1": -88,
          "yref": "y"
         },
         {
          "fillcolor": "#8dd593",
          "line": {
           "color": "#8dd593"
          },
          "name": "ONO8AC2",
          "opacity": 0.3,
          "type": "circle",
          "x0": 7,
          "x1": 11,
          "xref": "x",
          "y0": -112,
          "y1": -88,
          "yref": "y"
         },
         {
          "fillcolor": "#ef9708",
          "line": {
           "color": "#ef9708"
          },
          "name": "TP-Link_EABC",
          "opacity": 0.3,
          "type": "circle",
          "x0": 2,
          "x1": 6,
          "xref": "x",
          "y0": -109,
          "y1": -91,
          "yref": "y"
         }
        ],
        "template": {
         "data": {
          "bar": [
           {
            "error_x": {
             "color": "#f2f5fa"
            },
            "error_y": {
             "color": "#f2f5fa"
            },
            "marker": {
             "line": {
              "color": "rgb(17,17,17)",
              "width": 0.5
             }
            },
            "type": "bar"
           }
          ],
          "barpolar": [
           {
            "marker": {
             "line": {
              "color": "rgb(17,17,17)",
              "width": 0.5
             }
            },
            "type": "barpolar"
           }
          ],
          "carpet": [
           {
            "aaxis": {
             "endlinecolor": "#A2B1C6",
             "gridcolor": "#506784",
             "linecolor": "#506784",
             "minorgridcolor": "#506784",
             "startlinecolor": "#A2B1C6"
            },
            "baxis": {
             "endlinecolor": "#A2B1C6",
             "gridcolor": "#506784",
             "linecolor": "#506784",
             "minorgridcolor": "#506784",
             "startlinecolor": "#A2B1C6"
            },
            "type": "carpet"
           }
          ],
          "choropleth": [
           {
            "colorbar": {
             "outlinewidth": 0,
             "ticks": ""
            },
            "type": "choropleth"
           }
          ],
          "contour": [
           {
            "colorbar": {
             "outlinewidth": 0,
             "ticks": ""
            },
            "colorscale": [
             [
              0,
              "#0d0887"
             ],
             [
              0.1111111111111111,
              "#46039f"
             ],
             [
              0.2222222222222222,
              "#7201a8"
             ],
             [
              0.3333333333333333,
              "#9c179e"
             ],
             [
              0.4444444444444444,
              "#bd3786"
             ],
             [
              0.5555555555555556,
              "#d8576b"
             ],
             [
              0.6666666666666666,
              "#ed7953"
             ],
             [
              0.7777777777777778,
              "#fb9f3a"
             ],
             [
              0.8888888888888888,
              "#fdca26"
             ],
             [
              1,
              "#f0f921"
             ]
            ],
            "type": "contour"
           }
          ],
          "contourcarpet": [
           {
            "colorbar": {
             "outlinewidth": 0,
             "ticks": ""
            },
            "type": "contourcarpet"
           }
          ],
          "heatmap": [
           {
            "colorbar": {
             "outlinewidth": 0,
             "ticks": ""
            },
            "colorscale": [
             [
              0,
              "#0d0887"
             ],
             [
              0.1111111111111111,
              "#46039f"
             ],
             [
              0.2222222222222222,
              "#7201a8"
             ],
             [
              0.3333333333333333,
              "#9c179e"
             ],
             [
              0.4444444444444444,
              "#bd3786"
             ],
             [
              0.5555555555555556,
              "#d8576b"
             ],
             [
              0.6666666666666666,
              "#ed7953"
             ],
             [
              0.7777777777777778,
              "#fb9f3a"
             ],
             [
              0.8888888888888888,
              "#fdca26"
             ],
             [
              1,
              "#f0f921"
             ]
            ],
            "type": "heatmap"
           }
          ],
          "heatmapgl": [
           {
            "colorbar": {
             "outlinewidth": 0,
             "ticks": ""
            },
            "colorscale": [
             [
              0,
              "#0d0887"
             ],
             [
              0.1111111111111111,
              "#46039f"
             ],
             [
              0.2222222222222222,
              "#7201a8"
             ],
             [
              0.3333333333333333,
              "#9c179e"
             ],
             [
              0.4444444444444444,
              "#bd3786"
             ],
             [
              0.5555555555555556,
              "#d8576b"
             ],
             [
              0.6666666666666666,
              "#ed7953"
             ],
             [
              0.7777777777777778,
              "#fb9f3a"
             ],
             [
              0.8888888888888888,
              "#fdca26"
             ],
             [
              1,
              "#f0f921"
             ]
            ],
            "type": "heatmapgl"
           }
          ],
          "histogram": [
           {
            "marker": {
             "colorbar": {
              "outlinewidth": 0,
              "ticks": ""
             }
            },
            "type": "histogram"
           }
          ],
          "histogram2d": [
           {
            "colorbar": {
             "outlinewidth": 0,
             "ticks": ""
            },
            "colorscale": [
             [
              0,
              "#0d0887"
             ],
             [
              0.1111111111111111,
              "#46039f"
             ],
             [
              0.2222222222222222,
              "#7201a8"
             ],
             [
              0.3333333333333333,
              "#9c179e"
             ],
             [
              0.4444444444444444,
              "#bd3786"
             ],
             [
              0.5555555555555556,
              "#d8576b"
             ],
             [
              0.6666666666666666,
              "#ed7953"
             ],
             [
              0.7777777777777778,
              "#fb9f3a"
             ],
             [
              0.8888888888888888,
              "#fdca26"
             ],
             [
              1,
              "#f0f921"
             ]
            ],
            "type": "histogram2d"
           }
          ],
          "histogram2dcontour": [
           {
            "colorbar": {
             "outlinewidth": 0,
             "ticks": ""
            },
            "colorscale": [
             [
              0,
              "#0d0887"
             ],
             [
              0.1111111111111111,
              "#46039f"
             ],
             [
              0.2222222222222222,
              "#7201a8"
             ],
             [
              0.3333333333333333,
              "#9c179e"
             ],
             [
              0.4444444444444444,
              "#bd3786"
             ],
             [
              0.5555555555555556,
              "#d8576b"
             ],
             [
              0.6666666666666666,
              "#ed7953"
             ],
             [
              0.7777777777777778,
              "#fb9f3a"
             ],
             [
              0.8888888888888888,
              "#fdca26"
             ],
             [
              1,
              "#f0f921"
             ]
            ],
            "type": "histogram2dcontour"
           }
          ],
          "mesh3d": [
           {
            "colorbar": {
             "outlinewidth": 0,
             "ticks": ""
            },
            "type": "mesh3d"
           }
          ],
          "parcoords": [
           {
            "line": {
             "colorbar": {
              "outlinewidth": 0,
              "ticks": ""
             }
            },
            "type": "parcoords"
           }
          ],
          "pie": [
           {
            "automargin": true,
            "type": "pie"
           }
          ],
          "scatter": [
           {
            "marker": {
             "line": {
              "color": "#283442"
             }
            },
            "type": "scatter"
           }
          ],
          "scatter3d": [
           {
            "line": {
             "colorbar": {
              "outlinewidth": 0,
              "ticks": ""
             }
            },
            "marker": {
             "colorbar": {
              "outlinewidth": 0,
              "ticks": ""
             }
            },
            "type": "scatter3d"
           }
          ],
          "scattercarpet": [
           {
            "marker": {
             "colorbar": {
              "outlinewidth": 0,
              "ticks": ""
             }
            },
            "type": "scattercarpet"
           }
          ],
          "scattergeo": [
           {
            "marker": {
             "colorbar": {
              "outlinewidth": 0,
              "ticks": ""
             }
            },
            "type": "scattergeo"
           }
          ],
          "scattergl": [
           {
            "marker": {
             "line": {
              "color": "#283442"
             }
            },
            "type": "scattergl"
           }
          ],
          "scattermapbox": [
           {
            "marker": {
             "colorbar": {
              "outlinewidth": 0,
              "ticks": ""
             }
            },
            "type": "scattermapbox"
           }
          ],
          "scatterpolar": [
           {
            "marker": {
             "colorbar": {
              "outlinewidth": 0,
              "ticks": ""
             }
            },
            "type": "scatterpolar"
           }
          ],
          "scatterpolargl": [
           {
            "marker": {
             "colorbar": {
              "outlinewidth": 0,
              "ticks": ""
             }
            },
            "type": "scatterpolargl"
           }
          ],
          "scatterternary": [
           {
            "marker": {
             "colorbar": {
              "outlinewidth": 0,
              "ticks": ""
             }
            },
            "type": "scatterternary"
           }
          ],
          "surface": [
           {
            "colorbar": {
             "outlinewidth": 0,
             "ticks": ""
            },
            "colorscale": [
             [
              0,
              "#0d0887"
             ],
             [
              0.1111111111111111,
              "#46039f"
             ],
             [
              0.2222222222222222,
              "#7201a8"
             ],
             [
              0.3333333333333333,
              "#9c179e"
             ],
             [
              0.4444444444444444,
              "#bd3786"
             ],
             [
              0.5555555555555556,
              "#d8576b"
             ],
             [
              0.6666666666666666,
              "#ed7953"
             ],
             [
              0.7777777777777778,
              "#fb9f3a"
             ],
             [
              0.8888888888888888,
              "#fdca26"
             ],
             [
              1,
              "#f0f921"
             ]
            ],
            "type": "surface"
           }
          ],
          "table": [
           {
            "cells": {
             "fill": {
              "color": "#506784"
             },
             "line": {
              "color": "rgb(17,17,17)"
             }
            },
            "header": {
             "fill": {
              "color": "#2a3f5f"
             },
             "line": {
              "color": "rgb(17,17,17)"
             }
            },
            "type": "table"
           }
          ]
         },
         "layout": {
          "annotationdefaults": {
           "arrowcolor": "#f2f5fa",
           "arrowhead": 0,
           "arrowwidth": 1
          },
          "coloraxis": {
           "colorbar": {
            "outlinewidth": 0,
            "ticks": ""
           }
          },
          "colorscale": {
           "diverging": [
            [
             0,
             "#8e0152"
            ],
            [
             0.1,
             "#c51b7d"
            ],
            [
             0.2,
             "#de77ae"
            ],
            [
             0.3,
             "#f1b6da"
            ],
            [
             0.4,
             "#fde0ef"
            ],
            [
             0.5,
             "#f7f7f7"
            ],
            [
             0.6,
             "#e6f5d0"
            ],
            [
             0.7,
             "#b8e186"
            ],
            [
             0.8,
             "#7fbc41"
            ],
            [
             0.9,
             "#4d9221"
            ],
            [
             1,
             "#276419"
            ]
           ],
           "sequential": [
            [
             0,
             "#0d0887"
            ],
            [
             0.1111111111111111,
             "#46039f"
            ],
            [
             0.2222222222222222,
             "#7201a8"
            ],
            [
             0.3333333333333333,
             "#9c179e"
            ],
            [
             0.4444444444444444,
             "#bd3786"
            ],
            [
             0.5555555555555556,
             "#d8576b"
            ],
            [
             0.6666666666666666,
             "#ed7953"
            ],
            [
             0.7777777777777778,
             "#fb9f3a"
            ],
            [
             0.8888888888888888,
             "#fdca26"
            ],
            [
             1,
             "#f0f921"
            ]
           ],
           "sequentialminus": [
            [
             0,
             "#0d0887"
            ],
            [
             0.1111111111111111,
             "#46039f"
            ],
            [
             0.2222222222222222,
             "#7201a8"
            ],
            [
             0.3333333333333333,
             "#9c179e"
            ],
            [
             0.4444444444444444,
             "#bd3786"
            ],
            [
             0.5555555555555556,
             "#d8576b"
            ],
            [
             0.6666666666666666,
             "#ed7953"
            ],
            [
             0.7777777777777778,
             "#fb9f3a"
            ],
            [
             0.8888888888888888,
             "#fdca26"
            ],
            [
             1,
             "#f0f921"
            ]
           ]
          },
          "colorway": [
           "#636efa",
           "#EF553B",
           "#00cc96",
           "#ab63fa",
           "#FFA15A",
           "#19d3f3",
           "#FF6692",
           "#B6E880",
           "#FF97FF",
           "#FECB52"
          ],
          "font": {
           "color": "#f2f5fa"
          },
          "geo": {
           "bgcolor": "rgb(17,17,17)",
           "lakecolor": "rgb(17,17,17)",
           "landcolor": "rgb(17,17,17)",
           "showlakes": true,
           "showland": true,
           "subunitcolor": "#506784"
          },
          "hoverlabel": {
           "align": "left"
          },
          "hovermode": "closest",
          "mapbox": {
           "style": "dark"
          },
          "paper_bgcolor": "rgb(17,17,17)",
          "plot_bgcolor": "rgb(17,17,17)",
          "polar": {
           "angularaxis": {
            "gridcolor": "#506784",
            "linecolor": "#506784",
            "ticks": ""
           },
           "bgcolor": "rgb(17,17,17)",
           "radialaxis": {
            "gridcolor": "#506784",
            "linecolor": "#506784",
            "ticks": ""
           }
          },
          "scene": {
           "xaxis": {
            "backgroundcolor": "rgb(17,17,17)",
            "gridcolor": "#506784",
            "gridwidth": 2,
            "linecolor": "#506784",
            "showbackground": true,
            "ticks": "",
            "zerolinecolor": "#C8D4E3"
           },
           "yaxis": {
            "backgroundcolor": "rgb(17,17,17)",
            "gridcolor": "#506784",
            "gridwidth": 2,
            "linecolor": "#506784",
            "showbackground": true,
            "ticks": "",
            "zerolinecolor": "#C8D4E3"
           },
           "zaxis": {
            "backgroundcolor": "rgb(17,17,17)",
            "gridcolor": "#506784",
            "gridwidth": 2,
            "linecolor": "#506784",
            "showbackground": true,
            "ticks": "",
            "zerolinecolor": "#C8D4E3"
           }
          },
          "shapedefaults": {
           "line": {
            "color": "#f2f5fa"
           }
          },
          "sliderdefaults": {
           "bgcolor": "#C8D4E3",
           "bordercolor": "rgb(17,17,17)",
           "borderwidth": 1,
           "tickwidth": 0
          },
          "ternary": {
           "aaxis": {
            "gridcolor": "#506784",
            "linecolor": "#506784",
            "ticks": ""
           },
           "baxis": {
            "gridcolor": "#506784",
            "linecolor": "#506784",
            "ticks": ""
           },
           "bgcolor": "rgb(17,17,17)",
           "caxis": {
            "gridcolor": "#506784",
            "linecolor": "#506784",
            "ticks": ""
           }
          },
          "title": {
           "x": 0.05
          },
          "updatemenudefaults": {
           "bgcolor": "#506784",
           "borderwidth": 0
          },
          "xaxis": {
           "automargin": true,
           "gridcolor": "#283442",
           "linecolor": "#506784",
           "ticks": "",
           "title": {
            "standoff": 15
           },
           "zerolinecolor": "#283442",
           "zerolinewidth": 2
          },
          "yaxis": {
           "automargin": true,
           "gridcolor": "#283442",
           "linecolor": "#506784",
           "ticks": "",
           "title": {
            "standoff": 15
           },
           "zerolinecolor": "#283442",
           "zerolinewidth": 2
          }
         }
        },
        "title": {
         "text": "<b>WiFi Signal per channel - 2.4GHz - Habitacion1-1"
        },
        "xaxis": {
         "nticks": 17,
         "title": {
          "text": "Channels"
         }
        },
        "yaxis": {
         "range": [
          -100,
          -26
         ],
         "title": {
          "text": "dBm"
         }
        }
       }
      },
      "text/html": [
       "<div>\n",
       "        \n",
       "        \n",
       "            <div id=\"2a33f3f1-9dad-4b1d-8de2-01197742927d\" class=\"plotly-graph-div\" style=\"height:525px; width:100%;\"></div>\n",
       "            <script type=\"text/javascript\">\n",
       "                require([\"plotly\"], function(Plotly) {\n",
       "                    window.PLOTLYENV=window.PLOTLYENV || {};\n",
       "                    \n",
       "                if (document.getElementById(\"2a33f3f1-9dad-4b1d-8de2-01197742927d\")) {\n",
       "                    Plotly.newPlot(\n",
       "                        '2a33f3f1-9dad-4b1d-8de2-01197742927d',\n",
       "                        [{\"mode\": \"text\", \"text\": [\"WifiAle-2.4G\", \"Orange-53EB\", \"rockrobo-vacuum-v1_miapD097\", \"DIGIFIBRA-PfRf\", \"MiFibra-1A14\", \"MiFibra-0A9F\", \"Invitado-755E\", \"MiFibra-755E\", \"devolo-bb1\", \"vodafoneBF88\", \"JAZZTEL_l0l4\", \"_ONOWiFi\", \"vodafoneBDAC\", \"MOVISTAR_12F8\", \"MiFibra-7414\", \"JAZZTEL_KfdA\", \"MiFibra-944F\", \"MiFibra-BC20\", \"Navi Wifi 5G_2GEXT\", \"EUDAIMONIA\", \"MASMOVIL_2G_HJsC\", \"MiFibra-E96E\", \"MOVISTAR_4CBC\", \"MIWIFI_2G_T4G6\", \"MiFibra-2C88\", \"MiFibra-96EF\", \"MOVISTAR_6A6B\", \"vodafone4400\", \"DIRECT-vHM2020 Series\", \"Invitado-2C88\", \"MIWIFI_2G_dEw3\", \"MiFibra-68C0\", \"MIWIFI_2G_XKS4\", \"LowiAB99\", \"MiFibra-96EF-24G\", \"MOVISTAR_0C6D\", \"ONO8AC2\", \"TP-Link_EABC\"], \"type\": \"scatter\", \"x\": [11, 11, 6, 5, 1, 6, 1, 1, 11, 1, 5, 5, 5, 6, 11, 1, 1, 1, 10, 7, 1, 1, 11, 4, 6, 9, 1, 11, 5, 6, 1, 11, 6, 1, 9, 6, 9, 4], \"y\": [-36, -43, -59, -60, -61, -63, -64, -64, -67, -70, -71, -72, -73, -75, -75, -76, -77, -77, -77, -77, -78, -79, -80, -81, -82, -82, -82, -82, -83, -84, -84, -85, -86, -86, -87, -88, -88, -91]}],\n",
       "                        {\"shapes\": [{\"fillcolor\": \"#7d87b9\", \"line\": {\"color\": \"#7d87b9\"}, \"name\": \"WifiAle-2.4G\", \"opacity\": 0.3, \"type\": \"circle\", \"x0\": 9, \"x1\": 13, \"xref\": \"x\", \"y0\": -164, \"y1\": -36, \"yref\": \"y\"}, {\"fillcolor\": \"#bb7784\", \"line\": {\"color\": \"#bb7784\"}, \"name\": \"Orange-53EB\", \"opacity\": 0.3, \"type\": \"circle\", \"x0\": 9, \"x1\": 13, \"xref\": \"x\", \"y0\": -157, \"y1\": -43, \"yref\": \"y\"}, {\"fillcolor\": \"#8e063b\", \"line\": {\"color\": \"#8e063b\"}, \"name\": \"rockrobo-vacuum-v1_miapD097\", \"opacity\": 0.3, \"type\": \"circle\", \"x0\": 4, \"x1\": 8, \"xref\": \"x\", \"y0\": -141, \"y1\": -59, \"yref\": \"y\"}, {\"fillcolor\": \"#4a6fe3\", \"line\": {\"color\": \"#4a6fe3\"}, \"name\": \"DIGIFIBRA-PfRf\", \"opacity\": 0.3, \"type\": \"circle\", \"x0\": 3, \"x1\": 7, \"xref\": \"x\", \"y0\": -140, \"y1\": -60, \"yref\": \"y\"}, {\"fillcolor\": \"#8595e1\", \"line\": {\"color\": \"#8595e1\"}, \"name\": \"MiFibra-1A14\", \"opacity\": 0.3, \"type\": \"circle\", \"x0\": -1, \"x1\": 3, \"xref\": \"x\", \"y0\": -139, \"y1\": -61, \"yref\": \"y\"}, {\"fillcolor\": \"#e07b91\", \"line\": {\"color\": \"#e07b91\"}, \"name\": \"MiFibra-0A9F\", \"opacity\": 0.3, \"type\": \"circle\", \"x0\": 4, \"x1\": 8, \"xref\": \"x\", \"y0\": -137, \"y1\": -63, \"yref\": \"y\"}, {\"fillcolor\": \"#d33f6a\", \"line\": {\"color\": \"#d33f6a\"}, \"name\": \"Invitado-755E\", \"opacity\": 0.3, \"type\": \"circle\", \"x0\": -1, \"x1\": 3, \"xref\": \"x\", \"y0\": -136, \"y1\": -64, \"yref\": \"y\"}, {\"fillcolor\": \"#11c638\", \"line\": {\"color\": \"#11c638\"}, \"name\": \"MiFibra-755E\", \"opacity\": 0.3, \"type\": \"circle\", \"x0\": -1, \"x1\": 3, \"xref\": \"x\", \"y0\": -136, \"y1\": -64, \"yref\": \"y\"}, {\"fillcolor\": \"#8dd593\", \"line\": {\"color\": \"#8dd593\"}, \"name\": \"devolo-bb1\", \"opacity\": 0.3, \"type\": \"circle\", \"x0\": 9, \"x1\": 13, \"xref\": \"x\", \"y0\": -133, \"y1\": -67, \"yref\": \"y\"}, {\"fillcolor\": \"#ef9708\", \"line\": {\"color\": \"#ef9708\"}, \"name\": \"vodafoneBF88\", \"opacity\": 0.3, \"type\": \"circle\", \"x0\": -1, \"x1\": 3, \"xref\": \"x\", \"y0\": -130, \"y1\": -70, \"yref\": \"y\"}, {\"fillcolor\": \"#0fcfc0\", \"line\": {\"color\": \"#0fcfc0\"}, \"name\": \"JAZZTEL_l0l4\", \"opacity\": 0.3, \"type\": \"circle\", \"x0\": 3, \"x1\": 7, \"xref\": \"x\", \"y0\": -129, \"y1\": -71, \"yref\": \"y\"}, {\"fillcolor\": \"#9cded6\", \"line\": {\"color\": \"#9cded6\"}, \"name\": \"_ONOWiFi\", \"opacity\": 0.3, \"type\": \"circle\", \"x0\": 3, \"x1\": 7, \"xref\": \"x\", \"y0\": -128, \"y1\": -72, \"yref\": \"y\"}, {\"fillcolor\": \"#f79cd4\", \"line\": {\"color\": \"#f79cd4\"}, \"name\": \"vodafoneBDAC\", \"opacity\": 0.3, \"type\": \"circle\", \"x0\": 3, \"x1\": 7, \"xref\": \"x\", \"y0\": -127, \"y1\": -73, \"yref\": \"y\"}, {\"fillcolor\": \"#023fa5\", \"line\": {\"color\": \"#023fa5\"}, \"name\": \"MOVISTAR_12F8\", \"opacity\": 0.3, \"type\": \"circle\", \"x0\": 4, \"x1\": 8, \"xref\": \"x\", \"y0\": -125, \"y1\": -75, \"yref\": \"y\"}, {\"fillcolor\": \"#7d87b9\", \"line\": {\"color\": \"#7d87b9\"}, \"name\": \"MiFibra-7414\", \"opacity\": 0.3, \"type\": \"circle\", \"x0\": 9, \"x1\": 13, \"xref\": \"x\", \"y0\": -125, \"y1\": -75, \"yref\": \"y\"}, {\"fillcolor\": \"#bb7784\", \"line\": {\"color\": \"#bb7784\"}, \"name\": \"JAZZTEL_KfdA\", \"opacity\": 0.3, \"type\": \"circle\", \"x0\": -1, \"x1\": 3, \"xref\": \"x\", \"y0\": -124, \"y1\": -76, \"yref\": \"y\"}, {\"fillcolor\": \"#8e063b\", \"line\": {\"color\": \"#8e063b\"}, \"name\": \"MiFibra-944F\", \"opacity\": 0.3, \"type\": \"circle\", \"x0\": -1, \"x1\": 3, \"xref\": \"x\", \"y0\": -123, \"y1\": -77, \"yref\": \"y\"}, {\"fillcolor\": \"#4a6fe3\", \"line\": {\"color\": \"#4a6fe3\"}, \"name\": \"MiFibra-BC20\", \"opacity\": 0.3, \"type\": \"circle\", \"x0\": -1, \"x1\": 3, \"xref\": \"x\", \"y0\": -123, \"y1\": -77, \"yref\": \"y\"}, {\"fillcolor\": \"#8595e1\", \"line\": {\"color\": \"#8595e1\"}, \"name\": \"Navi Wifi 5G_2GEXT\", \"opacity\": 0.3, \"type\": \"circle\", \"x0\": 8, \"x1\": 12, \"xref\": \"x\", \"y0\": -123, \"y1\": -77, \"yref\": \"y\"}, {\"fillcolor\": \"#e07b91\", \"line\": {\"color\": \"#e07b91\"}, \"name\": \"EUDAIMONIA\", \"opacity\": 0.3, \"type\": \"circle\", \"x0\": 5, \"x1\": 9, \"xref\": \"x\", \"y0\": -123, \"y1\": -77, \"yref\": \"y\"}, {\"fillcolor\": \"#d33f6a\", \"line\": {\"color\": \"#d33f6a\"}, \"name\": \"MASMOVIL_2G_HJsC\", \"opacity\": 0.3, \"type\": \"circle\", \"x0\": -1, \"x1\": 3, \"xref\": \"x\", \"y0\": -122, \"y1\": -78, \"yref\": \"y\"}, {\"fillcolor\": \"#11c638\", \"line\": {\"color\": \"#11c638\"}, \"name\": \"MiFibra-E96E\", \"opacity\": 0.3, \"type\": \"circle\", \"x0\": -1, \"x1\": 3, \"xref\": \"x\", \"y0\": -121, \"y1\": -79, \"yref\": \"y\"}, {\"fillcolor\": \"#8dd593\", \"line\": {\"color\": \"#8dd593\"}, \"name\": \"MOVISTAR_4CBC\", \"opacity\": 0.3, \"type\": \"circle\", \"x0\": 9, \"x1\": 13, \"xref\": \"x\", \"y0\": -120, \"y1\": -80, \"yref\": \"y\"}, {\"fillcolor\": \"#ef9708\", \"line\": {\"color\": \"#ef9708\"}, \"name\": \"MIWIFI_2G_T4G6\", \"opacity\": 0.3, \"type\": \"circle\", \"x0\": 2, \"x1\": 6, \"xref\": \"x\", \"y0\": -119, \"y1\": -81, \"yref\": \"y\"}, {\"fillcolor\": \"#0fcfc0\", \"line\": {\"color\": \"#0fcfc0\"}, \"name\": \"MiFibra-2C88\", \"opacity\": 0.3, \"type\": \"circle\", \"x0\": 4, \"x1\": 8, \"xref\": \"x\", \"y0\": -118, \"y1\": -82, \"yref\": \"y\"}, {\"fillcolor\": \"#9cded6\", \"line\": {\"color\": \"#9cded6\"}, \"name\": \"MiFibra-96EF\", \"opacity\": 0.3, \"type\": \"circle\", \"x0\": 7, \"x1\": 11, \"xref\": \"x\", \"y0\": -118, \"y1\": -82, \"yref\": \"y\"}, {\"fillcolor\": \"#f79cd4\", \"line\": {\"color\": \"#f79cd4\"}, \"name\": \"MOVISTAR_6A6B\", \"opacity\": 0.3, \"type\": \"circle\", \"x0\": -1, \"x1\": 3, \"xref\": \"x\", \"y0\": -118, \"y1\": -82, \"yref\": \"y\"}, {\"fillcolor\": \"#023fa5\", \"line\": {\"color\": \"#023fa5\"}, \"name\": \"vodafone4400\", \"opacity\": 0.3, \"type\": \"circle\", \"x0\": 9, \"x1\": 13, \"xref\": \"x\", \"y0\": -118, \"y1\": -82, \"yref\": \"y\"}, {\"fillcolor\": \"#7d87b9\", \"line\": {\"color\": \"#7d87b9\"}, \"name\": \"DIRECT-vHM2020 Series\", \"opacity\": 0.3, \"type\": \"circle\", \"x0\": 3, \"x1\": 7, \"xref\": \"x\", \"y0\": -117, \"y1\": -83, \"yref\": \"y\"}, {\"fillcolor\": \"#bb7784\", \"line\": {\"color\": \"#bb7784\"}, \"name\": \"Invitado-2C88\", \"opacity\": 0.3, \"type\": \"circle\", \"x0\": 4, \"x1\": 8, \"xref\": \"x\", \"y0\": -116, \"y1\": -84, \"yref\": \"y\"}, {\"fillcolor\": \"#8e063b\", \"line\": {\"color\": \"#8e063b\"}, \"name\": \"MIWIFI_2G_dEw3\", \"opacity\": 0.3, \"type\": \"circle\", \"x0\": -1, \"x1\": 3, \"xref\": \"x\", \"y0\": -116, \"y1\": -84, \"yref\": \"y\"}, {\"fillcolor\": \"#4a6fe3\", \"line\": {\"color\": \"#4a6fe3\"}, \"name\": \"MiFibra-68C0\", \"opacity\": 0.3, \"type\": \"circle\", \"x0\": 9, \"x1\": 13, \"xref\": \"x\", \"y0\": -115, \"y1\": -85, \"yref\": \"y\"}, {\"fillcolor\": \"#8595e1\", \"line\": {\"color\": \"#8595e1\"}, \"name\": \"MIWIFI_2G_XKS4\", \"opacity\": 0.3, \"type\": \"circle\", \"x0\": 4, \"x1\": 8, \"xref\": \"x\", \"y0\": -114, \"y1\": -86, \"yref\": \"y\"}, {\"fillcolor\": \"#e07b91\", \"line\": {\"color\": \"#e07b91\"}, \"name\": \"LowiAB99\", \"opacity\": 0.3, \"type\": \"circle\", \"x0\": -1, \"x1\": 3, \"xref\": \"x\", \"y0\": -114, \"y1\": -86, \"yref\": \"y\"}, {\"fillcolor\": \"#d33f6a\", \"line\": {\"color\": \"#d33f6a\"}, \"name\": \"MiFibra-96EF-24G\", \"opacity\": 0.3, \"type\": \"circle\", \"x0\": 7, \"x1\": 11, \"xref\": \"x\", \"y0\": -113, \"y1\": -87, \"yref\": \"y\"}, {\"fillcolor\": \"#11c638\", \"line\": {\"color\": \"#11c638\"}, \"name\": \"MOVISTAR_0C6D\", \"opacity\": 0.3, \"type\": \"circle\", \"x0\": 4, \"x1\": 8, \"xref\": \"x\", \"y0\": -112, \"y1\": -88, \"yref\": \"y\"}, {\"fillcolor\": \"#8dd593\", \"line\": {\"color\": \"#8dd593\"}, \"name\": \"ONO8AC2\", \"opacity\": 0.3, \"type\": \"circle\", \"x0\": 7, \"x1\": 11, \"xref\": \"x\", \"y0\": -112, \"y1\": -88, \"yref\": \"y\"}, {\"fillcolor\": \"#ef9708\", \"line\": {\"color\": \"#ef9708\"}, \"name\": \"TP-Link_EABC\", \"opacity\": 0.3, \"type\": \"circle\", \"x0\": 2, \"x1\": 6, \"xref\": \"x\", \"y0\": -109, \"y1\": -91, \"yref\": \"y\"}], \"template\": {\"data\": {\"bar\": [{\"error_x\": {\"color\": \"#f2f5fa\"}, \"error_y\": {\"color\": \"#f2f5fa\"}, \"marker\": {\"line\": {\"color\": \"rgb(17,17,17)\", \"width\": 0.5}}, \"type\": \"bar\"}], \"barpolar\": [{\"marker\": {\"line\": {\"color\": \"rgb(17,17,17)\", \"width\": 0.5}}, \"type\": \"barpolar\"}], \"carpet\": [{\"aaxis\": {\"endlinecolor\": \"#A2B1C6\", \"gridcolor\": \"#506784\", \"linecolor\": \"#506784\", \"minorgridcolor\": \"#506784\", \"startlinecolor\": \"#A2B1C6\"}, \"baxis\": {\"endlinecolor\": \"#A2B1C6\", \"gridcolor\": \"#506784\", \"linecolor\": \"#506784\", \"minorgridcolor\": \"#506784\", \"startlinecolor\": \"#A2B1C6\"}, \"type\": \"carpet\"}], \"choropleth\": [{\"colorbar\": {\"outlinewidth\": 0, \"ticks\": \"\"}, \"type\": \"choropleth\"}], \"contour\": [{\"colorbar\": {\"outlinewidth\": 0, \"ticks\": \"\"}, \"colorscale\": [[0.0, \"#0d0887\"], [0.1111111111111111, \"#46039f\"], [0.2222222222222222, \"#7201a8\"], [0.3333333333333333, \"#9c179e\"], [0.4444444444444444, \"#bd3786\"], [0.5555555555555556, \"#d8576b\"], [0.6666666666666666, \"#ed7953\"], [0.7777777777777778, \"#fb9f3a\"], [0.8888888888888888, \"#fdca26\"], [1.0, \"#f0f921\"]], \"type\": \"contour\"}], \"contourcarpet\": [{\"colorbar\": {\"outlinewidth\": 0, \"ticks\": \"\"}, \"type\": \"contourcarpet\"}], \"heatmap\": [{\"colorbar\": {\"outlinewidth\": 0, \"ticks\": \"\"}, \"colorscale\": [[0.0, \"#0d0887\"], [0.1111111111111111, \"#46039f\"], [0.2222222222222222, \"#7201a8\"], [0.3333333333333333, \"#9c179e\"], [0.4444444444444444, \"#bd3786\"], [0.5555555555555556, \"#d8576b\"], [0.6666666666666666, \"#ed7953\"], [0.7777777777777778, \"#fb9f3a\"], [0.8888888888888888, \"#fdca26\"], [1.0, \"#f0f921\"]], \"type\": \"heatmap\"}], \"heatmapgl\": [{\"colorbar\": {\"outlinewidth\": 0, \"ticks\": \"\"}, \"colorscale\": [[0.0, \"#0d0887\"], [0.1111111111111111, \"#46039f\"], [0.2222222222222222, \"#7201a8\"], [0.3333333333333333, \"#9c179e\"], [0.4444444444444444, \"#bd3786\"], [0.5555555555555556, \"#d8576b\"], [0.6666666666666666, \"#ed7953\"], [0.7777777777777778, \"#fb9f3a\"], [0.8888888888888888, \"#fdca26\"], [1.0, \"#f0f921\"]], \"type\": \"heatmapgl\"}], \"histogram\": [{\"marker\": {\"colorbar\": {\"outlinewidth\": 0, \"ticks\": \"\"}}, \"type\": \"histogram\"}], \"histogram2d\": [{\"colorbar\": {\"outlinewidth\": 0, \"ticks\": \"\"}, \"colorscale\": [[0.0, \"#0d0887\"], [0.1111111111111111, \"#46039f\"], [0.2222222222222222, \"#7201a8\"], [0.3333333333333333, \"#9c179e\"], [0.4444444444444444, \"#bd3786\"], [0.5555555555555556, \"#d8576b\"], [0.6666666666666666, \"#ed7953\"], [0.7777777777777778, \"#fb9f3a\"], [0.8888888888888888, \"#fdca26\"], [1.0, \"#f0f921\"]], \"type\": \"histogram2d\"}], \"histogram2dcontour\": [{\"colorbar\": {\"outlinewidth\": 0, \"ticks\": \"\"}, \"colorscale\": [[0.0, \"#0d0887\"], [0.1111111111111111, \"#46039f\"], [0.2222222222222222, \"#7201a8\"], [0.3333333333333333, \"#9c179e\"], [0.4444444444444444, \"#bd3786\"], [0.5555555555555556, \"#d8576b\"], [0.6666666666666666, \"#ed7953\"], [0.7777777777777778, \"#fb9f3a\"], [0.8888888888888888, \"#fdca26\"], [1.0, \"#f0f921\"]], \"type\": \"histogram2dcontour\"}], \"mesh3d\": [{\"colorbar\": {\"outlinewidth\": 0, \"ticks\": \"\"}, \"type\": \"mesh3d\"}], \"parcoords\": [{\"line\": {\"colorbar\": {\"outlinewidth\": 0, \"ticks\": \"\"}}, \"type\": \"parcoords\"}], \"pie\": [{\"automargin\": true, \"type\": \"pie\"}], \"scatter\": [{\"marker\": {\"line\": {\"color\": \"#283442\"}}, \"type\": \"scatter\"}], \"scatter3d\": [{\"line\": {\"colorbar\": {\"outlinewidth\": 0, \"ticks\": \"\"}}, \"marker\": {\"colorbar\": {\"outlinewidth\": 0, \"ticks\": \"\"}}, \"type\": \"scatter3d\"}], \"scattercarpet\": [{\"marker\": {\"colorbar\": {\"outlinewidth\": 0, \"ticks\": \"\"}}, \"type\": \"scattercarpet\"}], \"scattergeo\": [{\"marker\": {\"colorbar\": {\"outlinewidth\": 0, \"ticks\": \"\"}}, \"type\": \"scattergeo\"}], \"scattergl\": [{\"marker\": {\"line\": {\"color\": \"#283442\"}}, \"type\": \"scattergl\"}], \"scattermapbox\": [{\"marker\": {\"colorbar\": {\"outlinewidth\": 0, \"ticks\": \"\"}}, \"type\": \"scattermapbox\"}], \"scatterpolar\": [{\"marker\": {\"colorbar\": {\"outlinewidth\": 0, \"ticks\": \"\"}}, \"type\": \"scatterpolar\"}], \"scatterpolargl\": [{\"marker\": {\"colorbar\": {\"outlinewidth\": 0, \"ticks\": \"\"}}, \"type\": \"scatterpolargl\"}], \"scatterternary\": [{\"marker\": {\"colorbar\": {\"outlinewidth\": 0, \"ticks\": \"\"}}, \"type\": \"scatterternary\"}], \"surface\": [{\"colorbar\": {\"outlinewidth\": 0, \"ticks\": \"\"}, \"colorscale\": [[0.0, \"#0d0887\"], [0.1111111111111111, \"#46039f\"], [0.2222222222222222, \"#7201a8\"], [0.3333333333333333, \"#9c179e\"], [0.4444444444444444, \"#bd3786\"], [0.5555555555555556, \"#d8576b\"], [0.6666666666666666, \"#ed7953\"], [0.7777777777777778, \"#fb9f3a\"], [0.8888888888888888, \"#fdca26\"], [1.0, \"#f0f921\"]], \"type\": \"surface\"}], \"table\": [{\"cells\": {\"fill\": {\"color\": \"#506784\"}, \"line\": {\"color\": \"rgb(17,17,17)\"}}, \"header\": {\"fill\": {\"color\": \"#2a3f5f\"}, \"line\": {\"color\": \"rgb(17,17,17)\"}}, \"type\": \"table\"}]}, \"layout\": {\"annotationdefaults\": {\"arrowcolor\": \"#f2f5fa\", \"arrowhead\": 0, \"arrowwidth\": 1}, \"coloraxis\": {\"colorbar\": {\"outlinewidth\": 0, \"ticks\": \"\"}}, \"colorscale\": {\"diverging\": [[0, \"#8e0152\"], [0.1, \"#c51b7d\"], [0.2, \"#de77ae\"], [0.3, \"#f1b6da\"], [0.4, \"#fde0ef\"], [0.5, \"#f7f7f7\"], [0.6, \"#e6f5d0\"], [0.7, \"#b8e186\"], [0.8, \"#7fbc41\"], [0.9, \"#4d9221\"], [1, \"#276419\"]], \"sequential\": [[0.0, \"#0d0887\"], [0.1111111111111111, \"#46039f\"], [0.2222222222222222, \"#7201a8\"], [0.3333333333333333, \"#9c179e\"], [0.4444444444444444, \"#bd3786\"], [0.5555555555555556, \"#d8576b\"], [0.6666666666666666, \"#ed7953\"], [0.7777777777777778, \"#fb9f3a\"], [0.8888888888888888, \"#fdca26\"], [1.0, \"#f0f921\"]], \"sequentialminus\": [[0.0, \"#0d0887\"], [0.1111111111111111, \"#46039f\"], [0.2222222222222222, \"#7201a8\"], [0.3333333333333333, \"#9c179e\"], [0.4444444444444444, \"#bd3786\"], [0.5555555555555556, \"#d8576b\"], [0.6666666666666666, \"#ed7953\"], [0.7777777777777778, \"#fb9f3a\"], [0.8888888888888888, \"#fdca26\"], [1.0, \"#f0f921\"]]}, \"colorway\": [\"#636efa\", \"#EF553B\", \"#00cc96\", \"#ab63fa\", \"#FFA15A\", \"#19d3f3\", \"#FF6692\", \"#B6E880\", \"#FF97FF\", \"#FECB52\"], \"font\": {\"color\": \"#f2f5fa\"}, \"geo\": {\"bgcolor\": \"rgb(17,17,17)\", \"lakecolor\": \"rgb(17,17,17)\", \"landcolor\": \"rgb(17,17,17)\", \"showlakes\": true, \"showland\": true, \"subunitcolor\": \"#506784\"}, \"hoverlabel\": {\"align\": \"left\"}, \"hovermode\": \"closest\", \"mapbox\": {\"style\": \"dark\"}, \"paper_bgcolor\": \"rgb(17,17,17)\", \"plot_bgcolor\": \"rgb(17,17,17)\", \"polar\": {\"angularaxis\": {\"gridcolor\": \"#506784\", \"linecolor\": \"#506784\", \"ticks\": \"\"}, \"bgcolor\": \"rgb(17,17,17)\", \"radialaxis\": {\"gridcolor\": \"#506784\", \"linecolor\": \"#506784\", \"ticks\": \"\"}}, \"scene\": {\"xaxis\": {\"backgroundcolor\": \"rgb(17,17,17)\", \"gridcolor\": \"#506784\", \"gridwidth\": 2, \"linecolor\": \"#506784\", \"showbackground\": true, \"ticks\": \"\", \"zerolinecolor\": \"#C8D4E3\"}, \"yaxis\": {\"backgroundcolor\": \"rgb(17,17,17)\", \"gridcolor\": \"#506784\", \"gridwidth\": 2, \"linecolor\": \"#506784\", \"showbackground\": true, \"ticks\": \"\", \"zerolinecolor\": \"#C8D4E3\"}, \"zaxis\": {\"backgroundcolor\": \"rgb(17,17,17)\", \"gridcolor\": \"#506784\", \"gridwidth\": 2, \"linecolor\": \"#506784\", \"showbackground\": true, \"ticks\": \"\", \"zerolinecolor\": \"#C8D4E3\"}}, \"shapedefaults\": {\"line\": {\"color\": \"#f2f5fa\"}}, \"sliderdefaults\": {\"bgcolor\": \"#C8D4E3\", \"bordercolor\": \"rgb(17,17,17)\", \"borderwidth\": 1, \"tickwidth\": 0}, \"ternary\": {\"aaxis\": {\"gridcolor\": \"#506784\", \"linecolor\": \"#506784\", \"ticks\": \"\"}, \"baxis\": {\"gridcolor\": \"#506784\", \"linecolor\": \"#506784\", \"ticks\": \"\"}, \"bgcolor\": \"rgb(17,17,17)\", \"caxis\": {\"gridcolor\": \"#506784\", \"linecolor\": \"#506784\", \"ticks\": \"\"}}, \"title\": {\"x\": 0.05}, \"updatemenudefaults\": {\"bgcolor\": \"#506784\", \"borderwidth\": 0}, \"xaxis\": {\"automargin\": true, \"gridcolor\": \"#283442\", \"linecolor\": \"#506784\", \"ticks\": \"\", \"title\": {\"standoff\": 15}, \"zerolinecolor\": \"#283442\", \"zerolinewidth\": 2}, \"yaxis\": {\"automargin\": true, \"gridcolor\": \"#283442\", \"linecolor\": \"#506784\", \"ticks\": \"\", \"title\": {\"standoff\": 15}, \"zerolinecolor\": \"#283442\", \"zerolinewidth\": 2}}}, \"title\": {\"text\": \"<b>WiFi Signal per channel - 2.4GHz - Habitacion1-1\"}, \"xaxis\": {\"nticks\": 17, \"title\": {\"text\": \"Channels\"}}, \"yaxis\": {\"range\": [-100, -26], \"title\": {\"text\": \"dBm\"}}},\n",
       "                        {\"responsive\": true}\n",
       "                    ).then(function(){\n",
       "                            \n",
       "var gd = document.getElementById('2a33f3f1-9dad-4b1d-8de2-01197742927d');\n",
       "var x = new MutationObserver(function (mutations, observer) {{\n",
       "        var display = window.getComputedStyle(gd).display;\n",
       "        if (!display || display === 'none') {{\n",
       "            console.log([gd, 'removed!']);\n",
       "            Plotly.purge(gd);\n",
       "            observer.disconnect();\n",
       "        }}\n",
       "}});\n",
       "\n",
       "// Listen for the removal of the full notebook cells\n",
       "var notebookContainer = gd.closest('#notebook-container');\n",
       "if (notebookContainer) {{\n",
       "    x.observe(notebookContainer, {childList: true});\n",
       "}}\n",
       "\n",
       "// Listen for the clearing of the current output cell\n",
       "var outputEl = gd.closest('.output');\n",
       "if (outputEl) {{\n",
       "    x.observe(outputEl, {childList: true});\n",
       "}}\n",
       "\n",
       "                        })\n",
       "                };\n",
       "                });\n",
       "            </script>\n",
       "        </div>"
      ]
     },
     "metadata": {},
     "output_type": "display_data"
    }
   ],
   "source": [
    "zone1_1_2G = zone1_1_2G.sort_values('dBm_Signal',ascending=False).reset_index(drop=True)\n",
    "\n",
    "# Create figure\n",
    "fig = go.Figure()\n",
    "\n",
    "# Create scatter trace of text labels\n",
    "fig.add_trace(go.Scatter(\n",
    "    x=zone1_1_2G.Channel,\n",
    "    y=zone1_1_2G.dBm_Signal,\n",
    "    text=zone1_1_2G.SSID,\n",
    "    mode='text',\n",
    "))\n",
    "\n",
    "# Add shapes\n",
    "i = 0\n",
    "for row in zone1_1_2G.itertuples() :\n",
    "    i += 1\n",
    "    fig.add_shape(\n",
    "        type='circle',\n",
    "        name=row.SSID,\n",
    "        xref='x',\n",
    "        yref='y',\n",
    "        x0=row.Channel-2,\n",
    "        y0=-row.dBm_Signal-200,\n",
    "        x1=row.Channel+2,\n",
    "        y1=row.dBm_Signal,\n",
    "        opacity=0.3,\n",
    "        fillcolor=colors2[i%len(colors2)],\n",
    "        line_color=colors2[i%len(colors2)]\n",
    "    )\n",
    "\n",
    "fig.update_layout(\n",
    "    title='<b>WiFi Signal per channel - 2.4GHz - Habitacion1-1',\n",
    "    yaxis=dict(\n",
    "        title='dBm',\n",
    "        range = (-100,zone1_1_2G.dBm_Signal.max()+10)\n",
    "    ),\n",
    "    xaxis=dict(\n",
    "        title='Channels',\n",
    "        nticks=17\n",
    "    )\n",
    ")\n",
    "fig.show()"
   ]
  },
  {
   "cell_type": "code",
   "execution_count": 62,
   "metadata": {},
   "outputs": [
    {
     "name": "stderr",
     "output_type": "stream",
     "text": [
      "/opt/conda/lib/python3.7/site-packages/ipykernel_launcher.py:5: UserWarning:\n",
      "\n",
      "Boolean Series key will be reindexed to match DataFrame index.\n",
      "\n",
      "/opt/conda/lib/python3.7/site-packages/ipykernel_launcher.py:7: UserWarning:\n",
      "\n",
      "Boolean Series key will be reindexed to match DataFrame index.\n",
      "\n"
     ]
    },
    {
     "data": {
      "text/html": [
       "<div>\n",
       "<style scoped>\n",
       "    .dataframe tbody tr th:only-of-type {\n",
       "        vertical-align: middle;\n",
       "    }\n",
       "\n",
       "    .dataframe tbody tr th {\n",
       "        vertical-align: top;\n",
       "    }\n",
       "\n",
       "    .dataframe thead th {\n",
       "        text-align: right;\n",
       "    }\n",
       "</style>\n",
       "<table border=\"1\" class=\"dataframe\">\n",
       "  <thead>\n",
       "    <tr style=\"text-align: right;\">\n",
       "      <th></th>\n",
       "      <th>co_channel_count</th>\n",
       "      <th>co_channel_max_signal</th>\n",
       "      <th>overlap_channel_count</th>\n",
       "      <th>overlap_channel_max_signal</th>\n",
       "    </tr>\n",
       "    <tr>\n",
       "      <th>channel</th>\n",
       "      <th></th>\n",
       "      <th></th>\n",
       "      <th></th>\n",
       "      <th></th>\n",
       "    </tr>\n",
       "  </thead>\n",
       "  <tbody>\n",
       "    <tr>\n",
       "      <td>1</td>\n",
       "      <td>12</td>\n",
       "      <td>-61.0</td>\n",
       "      <td>14</td>\n",
       "      <td>-61</td>\n",
       "    </tr>\n",
       "    <tr>\n",
       "      <td>2</td>\n",
       "      <td>0</td>\n",
       "      <td>NaN</td>\n",
       "      <td>19</td>\n",
       "      <td>-60</td>\n",
       "    </tr>\n",
       "    <tr>\n",
       "      <td>3</td>\n",
       "      <td>0</td>\n",
       "      <td>NaN</td>\n",
       "      <td>26</td>\n",
       "      <td>-59</td>\n",
       "    </tr>\n",
       "    <tr>\n",
       "      <td>4</td>\n",
       "      <td>2</td>\n",
       "      <td>-81.0</td>\n",
       "      <td>27</td>\n",
       "      <td>-59</td>\n",
       "    </tr>\n",
       "    <tr>\n",
       "      <td>5</td>\n",
       "      <td>5</td>\n",
       "      <td>-60.0</td>\n",
       "      <td>15</td>\n",
       "      <td>-59</td>\n",
       "    </tr>\n",
       "    <tr>\n",
       "      <td>6</td>\n",
       "      <td>7</td>\n",
       "      <td>-59.0</td>\n",
       "      <td>18</td>\n",
       "      <td>-59</td>\n",
       "    </tr>\n",
       "    <tr>\n",
       "      <td>7</td>\n",
       "      <td>1</td>\n",
       "      <td>-77.0</td>\n",
       "      <td>19</td>\n",
       "      <td>-59</td>\n",
       "    </tr>\n",
       "    <tr>\n",
       "      <td>8</td>\n",
       "      <td>0</td>\n",
       "      <td>NaN</td>\n",
       "      <td>23</td>\n",
       "      <td>-43</td>\n",
       "    </tr>\n",
       "    <tr>\n",
       "      <td>9</td>\n",
       "      <td>3</td>\n",
       "      <td>-82.0</td>\n",
       "      <td>18</td>\n",
       "      <td>-43</td>\n",
       "    </tr>\n",
       "    <tr>\n",
       "      <td>10</td>\n",
       "      <td>1</td>\n",
       "      <td>-77.0</td>\n",
       "      <td>11</td>\n",
       "      <td>-43</td>\n",
       "    </tr>\n",
       "    <tr>\n",
       "      <td>11</td>\n",
       "      <td>6</td>\n",
       "      <td>-43.0</td>\n",
       "      <td>10</td>\n",
       "      <td>-43</td>\n",
       "    </tr>\n",
       "    <tr>\n",
       "      <td>12</td>\n",
       "      <td>0</td>\n",
       "      <td>NaN</td>\n",
       "      <td>10</td>\n",
       "      <td>-43</td>\n",
       "    </tr>\n",
       "    <tr>\n",
       "      <td>13</td>\n",
       "      <td>0</td>\n",
       "      <td>NaN</td>\n",
       "      <td>7</td>\n",
       "      <td>-43</td>\n",
       "    </tr>\n",
       "  </tbody>\n",
       "</table>\n",
       "</div>"
      ],
      "text/plain": [
       "         co_channel_count  co_channel_max_signal  overlap_channel_count  \\\n",
       "channel                                                                   \n",
       "1                      12                  -61.0                     14   \n",
       "2                       0                    NaN                     19   \n",
       "3                       0                    NaN                     26   \n",
       "4                       2                  -81.0                     27   \n",
       "5                       5                  -60.0                     15   \n",
       "6                       7                  -59.0                     18   \n",
       "7                       1                  -77.0                     19   \n",
       "8                       0                    NaN                     23   \n",
       "9                       3                  -82.0                     18   \n",
       "10                      1                  -77.0                     11   \n",
       "11                      6                  -43.0                     10   \n",
       "12                      0                    NaN                     10   \n",
       "13                      0                    NaN                      7   \n",
       "\n",
       "         overlap_channel_max_signal  \n",
       "channel                              \n",
       "1                               -61  \n",
       "2                               -60  \n",
       "3                               -59  \n",
       "4                               -59  \n",
       "5                               -59  \n",
       "6                               -59  \n",
       "7                               -59  \n",
       "8                               -43  \n",
       "9                               -43  \n",
       "10                              -43  \n",
       "11                              -43  \n",
       "12                              -43  \n",
       "13                              -43  "
      ]
     },
     "execution_count": 62,
     "metadata": {},
     "output_type": "execute_result"
    }
   ],
   "source": [
    "#Channels characteristics\n",
    "channel_stats = []\n",
    "rest_channels = zone1_1_2G[zone1_1_2G.SSID != 'WifiAle-2.4G']\n",
    "for channel in range(1,14):\n",
    "    channel_df = rest_channels[zone1_1_2G.Channel == channel]\n",
    "    neigh_channels = [channel+i for i in range(-3,4)]\n",
    "    neigh_channels_df = rest_channels[zone1_1_2G.Channel.isin(neigh_channels)]\n",
    "    \n",
    "    channel_stat = {}\n",
    "    channel_stat['channel'] = channel\n",
    "    channel_stat['co_channel_count'] = channel_df.shape[0]\n",
    "    channel_stat['co_channel_max_signal'] = channel_df.dBm_Signal.max()\n",
    "    channel_stat['overlap_channel_count'] = neigh_channels_df.shape[0]\n",
    "    channel_stat['overlap_channel_max_signal'] = neigh_channels_df.dBm_Signal.max()\n",
    "    \n",
    "    channel_stats.append(channel_stat)\n",
    "\n",
    "channel_stats_df = pd.DataFrame(channel_stats)\n",
    "channel_stats_df.sort_values('channel').set_index('channel')"
   ]
  },
  {
   "cell_type": "code",
   "execution_count": 41,
   "metadata": {},
   "outputs": [],
   "source": [
    "zone1_1_5G = scanned[(scanned.Channel > 14) & (scanned.zone.isin([1,2]))]\n",
    "zone1_1_5G = zone1_1_5G.sort_values('dBm_Signal',ascending=False).drop_duplicates(['SSID'],keep='first')"
   ]
  },
  {
   "cell_type": "code",
   "execution_count": 42,
   "metadata": {},
   "outputs": [
    {
     "data": {
      "application/vnd.plotly.v1+json": {
       "config": {
        "plotlyServerURL": "https://plot.ly"
       },
       "data": [
        {
         "mode": "text",
         "text": [
          "WifiAle-5G",
          "devolo-bb1",
          "MiFibra-0A9F",
          "MiFibra-0A9F-5G"
         ],
         "type": "scatter",
         "x": [
          48,
          36,
          52,
          52
         ],
         "y": [
          -39,
          -74,
          -80,
          -85
         ]
        }
       ],
       "layout": {
        "shapes": [
         {
          "fillcolor": "#7d87b9",
          "line": {
           "color": "#7d87b9"
          },
          "name": "WifiAle-5G",
          "opacity": 0.5,
          "type": "circle",
          "x0": 46,
          "x1": 50,
          "xref": "x",
          "y0": -161,
          "y1": -39,
          "yref": "y"
         },
         {
          "fillcolor": "#bb7784",
          "line": {
           "color": "#bb7784"
          },
          "name": "devolo-bb1",
          "opacity": 0.5,
          "type": "circle",
          "x0": 34,
          "x1": 38,
          "xref": "x",
          "y0": -126,
          "y1": -74,
          "yref": "y"
         },
         {
          "fillcolor": "#8e063b",
          "line": {
           "color": "#8e063b"
          },
          "name": "MiFibra-0A9F",
          "opacity": 0.5,
          "type": "circle",
          "x0": 50,
          "x1": 54,
          "xref": "x",
          "y0": -120,
          "y1": -80,
          "yref": "y"
         },
         {
          "fillcolor": "#4a6fe3",
          "line": {
           "color": "#4a6fe3"
          },
          "name": "MiFibra-0A9F-5G",
          "opacity": 0.5,
          "type": "circle",
          "x0": 50,
          "x1": 54,
          "xref": "x",
          "y0": -115,
          "y1": -85,
          "yref": "y"
         }
        ],
        "template": {
         "data": {
          "bar": [
           {
            "error_x": {
             "color": "#f2f5fa"
            },
            "error_y": {
             "color": "#f2f5fa"
            },
            "marker": {
             "line": {
              "color": "rgb(17,17,17)",
              "width": 0.5
             }
            },
            "type": "bar"
           }
          ],
          "barpolar": [
           {
            "marker": {
             "line": {
              "color": "rgb(17,17,17)",
              "width": 0.5
             }
            },
            "type": "barpolar"
           }
          ],
          "carpet": [
           {
            "aaxis": {
             "endlinecolor": "#A2B1C6",
             "gridcolor": "#506784",
             "linecolor": "#506784",
             "minorgridcolor": "#506784",
             "startlinecolor": "#A2B1C6"
            },
            "baxis": {
             "endlinecolor": "#A2B1C6",
             "gridcolor": "#506784",
             "linecolor": "#506784",
             "minorgridcolor": "#506784",
             "startlinecolor": "#A2B1C6"
            },
            "type": "carpet"
           }
          ],
          "choropleth": [
           {
            "colorbar": {
             "outlinewidth": 0,
             "ticks": ""
            },
            "type": "choropleth"
           }
          ],
          "contour": [
           {
            "colorbar": {
             "outlinewidth": 0,
             "ticks": ""
            },
            "colorscale": [
             [
              0,
              "#0d0887"
             ],
             [
              0.1111111111111111,
              "#46039f"
             ],
             [
              0.2222222222222222,
              "#7201a8"
             ],
             [
              0.3333333333333333,
              "#9c179e"
             ],
             [
              0.4444444444444444,
              "#bd3786"
             ],
             [
              0.5555555555555556,
              "#d8576b"
             ],
             [
              0.6666666666666666,
              "#ed7953"
             ],
             [
              0.7777777777777778,
              "#fb9f3a"
             ],
             [
              0.8888888888888888,
              "#fdca26"
             ],
             [
              1,
              "#f0f921"
             ]
            ],
            "type": "contour"
           }
          ],
          "contourcarpet": [
           {
            "colorbar": {
             "outlinewidth": 0,
             "ticks": ""
            },
            "type": "contourcarpet"
           }
          ],
          "heatmap": [
           {
            "colorbar": {
             "outlinewidth": 0,
             "ticks": ""
            },
            "colorscale": [
             [
              0,
              "#0d0887"
             ],
             [
              0.1111111111111111,
              "#46039f"
             ],
             [
              0.2222222222222222,
              "#7201a8"
             ],
             [
              0.3333333333333333,
              "#9c179e"
             ],
             [
              0.4444444444444444,
              "#bd3786"
             ],
             [
              0.5555555555555556,
              "#d8576b"
             ],
             [
              0.6666666666666666,
              "#ed7953"
             ],
             [
              0.7777777777777778,
              "#fb9f3a"
             ],
             [
              0.8888888888888888,
              "#fdca26"
             ],
             [
              1,
              "#f0f921"
             ]
            ],
            "type": "heatmap"
           }
          ],
          "heatmapgl": [
           {
            "colorbar": {
             "outlinewidth": 0,
             "ticks": ""
            },
            "colorscale": [
             [
              0,
              "#0d0887"
             ],
             [
              0.1111111111111111,
              "#46039f"
             ],
             [
              0.2222222222222222,
              "#7201a8"
             ],
             [
              0.3333333333333333,
              "#9c179e"
             ],
             [
              0.4444444444444444,
              "#bd3786"
             ],
             [
              0.5555555555555556,
              "#d8576b"
             ],
             [
              0.6666666666666666,
              "#ed7953"
             ],
             [
              0.7777777777777778,
              "#fb9f3a"
             ],
             [
              0.8888888888888888,
              "#fdca26"
             ],
             [
              1,
              "#f0f921"
             ]
            ],
            "type": "heatmapgl"
           }
          ],
          "histogram": [
           {
            "marker": {
             "colorbar": {
              "outlinewidth": 0,
              "ticks": ""
             }
            },
            "type": "histogram"
           }
          ],
          "histogram2d": [
           {
            "colorbar": {
             "outlinewidth": 0,
             "ticks": ""
            },
            "colorscale": [
             [
              0,
              "#0d0887"
             ],
             [
              0.1111111111111111,
              "#46039f"
             ],
             [
              0.2222222222222222,
              "#7201a8"
             ],
             [
              0.3333333333333333,
              "#9c179e"
             ],
             [
              0.4444444444444444,
              "#bd3786"
             ],
             [
              0.5555555555555556,
              "#d8576b"
             ],
             [
              0.6666666666666666,
              "#ed7953"
             ],
             [
              0.7777777777777778,
              "#fb9f3a"
             ],
             [
              0.8888888888888888,
              "#fdca26"
             ],
             [
              1,
              "#f0f921"
             ]
            ],
            "type": "histogram2d"
           }
          ],
          "histogram2dcontour": [
           {
            "colorbar": {
             "outlinewidth": 0,
             "ticks": ""
            },
            "colorscale": [
             [
              0,
              "#0d0887"
             ],
             [
              0.1111111111111111,
              "#46039f"
             ],
             [
              0.2222222222222222,
              "#7201a8"
             ],
             [
              0.3333333333333333,
              "#9c179e"
             ],
             [
              0.4444444444444444,
              "#bd3786"
             ],
             [
              0.5555555555555556,
              "#d8576b"
             ],
             [
              0.6666666666666666,
              "#ed7953"
             ],
             [
              0.7777777777777778,
              "#fb9f3a"
             ],
             [
              0.8888888888888888,
              "#fdca26"
             ],
             [
              1,
              "#f0f921"
             ]
            ],
            "type": "histogram2dcontour"
           }
          ],
          "mesh3d": [
           {
            "colorbar": {
             "outlinewidth": 0,
             "ticks": ""
            },
            "type": "mesh3d"
           }
          ],
          "parcoords": [
           {
            "line": {
             "colorbar": {
              "outlinewidth": 0,
              "ticks": ""
             }
            },
            "type": "parcoords"
           }
          ],
          "pie": [
           {
            "automargin": true,
            "type": "pie"
           }
          ],
          "scatter": [
           {
            "marker": {
             "line": {
              "color": "#283442"
             }
            },
            "type": "scatter"
           }
          ],
          "scatter3d": [
           {
            "line": {
             "colorbar": {
              "outlinewidth": 0,
              "ticks": ""
             }
            },
            "marker": {
             "colorbar": {
              "outlinewidth": 0,
              "ticks": ""
             }
            },
            "type": "scatter3d"
           }
          ],
          "scattercarpet": [
           {
            "marker": {
             "colorbar": {
              "outlinewidth": 0,
              "ticks": ""
             }
            },
            "type": "scattercarpet"
           }
          ],
          "scattergeo": [
           {
            "marker": {
             "colorbar": {
              "outlinewidth": 0,
              "ticks": ""
             }
            },
            "type": "scattergeo"
           }
          ],
          "scattergl": [
           {
            "marker": {
             "line": {
              "color": "#283442"
             }
            },
            "type": "scattergl"
           }
          ],
          "scattermapbox": [
           {
            "marker": {
             "colorbar": {
              "outlinewidth": 0,
              "ticks": ""
             }
            },
            "type": "scattermapbox"
           }
          ],
          "scatterpolar": [
           {
            "marker": {
             "colorbar": {
              "outlinewidth": 0,
              "ticks": ""
             }
            },
            "type": "scatterpolar"
           }
          ],
          "scatterpolargl": [
           {
            "marker": {
             "colorbar": {
              "outlinewidth": 0,
              "ticks": ""
             }
            },
            "type": "scatterpolargl"
           }
          ],
          "scatterternary": [
           {
            "marker": {
             "colorbar": {
              "outlinewidth": 0,
              "ticks": ""
             }
            },
            "type": "scatterternary"
           }
          ],
          "surface": [
           {
            "colorbar": {
             "outlinewidth": 0,
             "ticks": ""
            },
            "colorscale": [
             [
              0,
              "#0d0887"
             ],
             [
              0.1111111111111111,
              "#46039f"
             ],
             [
              0.2222222222222222,
              "#7201a8"
             ],
             [
              0.3333333333333333,
              "#9c179e"
             ],
             [
              0.4444444444444444,
              "#bd3786"
             ],
             [
              0.5555555555555556,
              "#d8576b"
             ],
             [
              0.6666666666666666,
              "#ed7953"
             ],
             [
              0.7777777777777778,
              "#fb9f3a"
             ],
             [
              0.8888888888888888,
              "#fdca26"
             ],
             [
              1,
              "#f0f921"
             ]
            ],
            "type": "surface"
           }
          ],
          "table": [
           {
            "cells": {
             "fill": {
              "color": "#506784"
             },
             "line": {
              "color": "rgb(17,17,17)"
             }
            },
            "header": {
             "fill": {
              "color": "#2a3f5f"
             },
             "line": {
              "color": "rgb(17,17,17)"
             }
            },
            "type": "table"
           }
          ]
         },
         "layout": {
          "annotationdefaults": {
           "arrowcolor": "#f2f5fa",
           "arrowhead": 0,
           "arrowwidth": 1
          },
          "coloraxis": {
           "colorbar": {
            "outlinewidth": 0,
            "ticks": ""
           }
          },
          "colorscale": {
           "diverging": [
            [
             0,
             "#8e0152"
            ],
            [
             0.1,
             "#c51b7d"
            ],
            [
             0.2,
             "#de77ae"
            ],
            [
             0.3,
             "#f1b6da"
            ],
            [
             0.4,
             "#fde0ef"
            ],
            [
             0.5,
             "#f7f7f7"
            ],
            [
             0.6,
             "#e6f5d0"
            ],
            [
             0.7,
             "#b8e186"
            ],
            [
             0.8,
             "#7fbc41"
            ],
            [
             0.9,
             "#4d9221"
            ],
            [
             1,
             "#276419"
            ]
           ],
           "sequential": [
            [
             0,
             "#0d0887"
            ],
            [
             0.1111111111111111,
             "#46039f"
            ],
            [
             0.2222222222222222,
             "#7201a8"
            ],
            [
             0.3333333333333333,
             "#9c179e"
            ],
            [
             0.4444444444444444,
             "#bd3786"
            ],
            [
             0.5555555555555556,
             "#d8576b"
            ],
            [
             0.6666666666666666,
             "#ed7953"
            ],
            [
             0.7777777777777778,
             "#fb9f3a"
            ],
            [
             0.8888888888888888,
             "#fdca26"
            ],
            [
             1,
             "#f0f921"
            ]
           ],
           "sequentialminus": [
            [
             0,
             "#0d0887"
            ],
            [
             0.1111111111111111,
             "#46039f"
            ],
            [
             0.2222222222222222,
             "#7201a8"
            ],
            [
             0.3333333333333333,
             "#9c179e"
            ],
            [
             0.4444444444444444,
             "#bd3786"
            ],
            [
             0.5555555555555556,
             "#d8576b"
            ],
            [
             0.6666666666666666,
             "#ed7953"
            ],
            [
             0.7777777777777778,
             "#fb9f3a"
            ],
            [
             0.8888888888888888,
             "#fdca26"
            ],
            [
             1,
             "#f0f921"
            ]
           ]
          },
          "colorway": [
           "#636efa",
           "#EF553B",
           "#00cc96",
           "#ab63fa",
           "#FFA15A",
           "#19d3f3",
           "#FF6692",
           "#B6E880",
           "#FF97FF",
           "#FECB52"
          ],
          "font": {
           "color": "#f2f5fa"
          },
          "geo": {
           "bgcolor": "rgb(17,17,17)",
           "lakecolor": "rgb(17,17,17)",
           "landcolor": "rgb(17,17,17)",
           "showlakes": true,
           "showland": true,
           "subunitcolor": "#506784"
          },
          "hoverlabel": {
           "align": "left"
          },
          "hovermode": "closest",
          "mapbox": {
           "style": "dark"
          },
          "paper_bgcolor": "rgb(17,17,17)",
          "plot_bgcolor": "rgb(17,17,17)",
          "polar": {
           "angularaxis": {
            "gridcolor": "#506784",
            "linecolor": "#506784",
            "ticks": ""
           },
           "bgcolor": "rgb(17,17,17)",
           "radialaxis": {
            "gridcolor": "#506784",
            "linecolor": "#506784",
            "ticks": ""
           }
          },
          "scene": {
           "xaxis": {
            "backgroundcolor": "rgb(17,17,17)",
            "gridcolor": "#506784",
            "gridwidth": 2,
            "linecolor": "#506784",
            "showbackground": true,
            "ticks": "",
            "zerolinecolor": "#C8D4E3"
           },
           "yaxis": {
            "backgroundcolor": "rgb(17,17,17)",
            "gridcolor": "#506784",
            "gridwidth": 2,
            "linecolor": "#506784",
            "showbackground": true,
            "ticks": "",
            "zerolinecolor": "#C8D4E3"
           },
           "zaxis": {
            "backgroundcolor": "rgb(17,17,17)",
            "gridcolor": "#506784",
            "gridwidth": 2,
            "linecolor": "#506784",
            "showbackground": true,
            "ticks": "",
            "zerolinecolor": "#C8D4E3"
           }
          },
          "shapedefaults": {
           "line": {
            "color": "#f2f5fa"
           }
          },
          "sliderdefaults": {
           "bgcolor": "#C8D4E3",
           "bordercolor": "rgb(17,17,17)",
           "borderwidth": 1,
           "tickwidth": 0
          },
          "ternary": {
           "aaxis": {
            "gridcolor": "#506784",
            "linecolor": "#506784",
            "ticks": ""
           },
           "baxis": {
            "gridcolor": "#506784",
            "linecolor": "#506784",
            "ticks": ""
           },
           "bgcolor": "rgb(17,17,17)",
           "caxis": {
            "gridcolor": "#506784",
            "linecolor": "#506784",
            "ticks": ""
           }
          },
          "title": {
           "x": 0.05
          },
          "updatemenudefaults": {
           "bgcolor": "#506784",
           "borderwidth": 0
          },
          "xaxis": {
           "automargin": true,
           "gridcolor": "#283442",
           "linecolor": "#506784",
           "ticks": "",
           "title": {
            "standoff": 15
           },
           "zerolinecolor": "#283442",
           "zerolinewidth": 2
          },
          "yaxis": {
           "automargin": true,
           "gridcolor": "#283442",
           "linecolor": "#506784",
           "ticks": "",
           "title": {
            "standoff": 15
           },
           "zerolinecolor": "#283442",
           "zerolinewidth": 2
          }
         }
        },
        "title": {
         "text": "<b>WiFi Signal per channel - 5GHz  - Habitacion1-1"
        },
        "xaxis": {
         "nticks": 17,
         "title": {
          "text": "Channels"
         }
        },
        "yaxis": {
         "range": [
          -100,
          -26
         ],
         "title": {
          "text": "dBm"
         }
        }
       }
      },
      "text/html": [
       "<div>\n",
       "        \n",
       "        \n",
       "            <div id=\"2e04299b-0e98-4855-be80-4d42906efc63\" class=\"plotly-graph-div\" style=\"height:525px; width:100%;\"></div>\n",
       "            <script type=\"text/javascript\">\n",
       "                require([\"plotly\"], function(Plotly) {\n",
       "                    window.PLOTLYENV=window.PLOTLYENV || {};\n",
       "                    \n",
       "                if (document.getElementById(\"2e04299b-0e98-4855-be80-4d42906efc63\")) {\n",
       "                    Plotly.newPlot(\n",
       "                        '2e04299b-0e98-4855-be80-4d42906efc63',\n",
       "                        [{\"mode\": \"text\", \"text\": [\"WifiAle-5G\", \"devolo-bb1\", \"MiFibra-0A9F\", \"MiFibra-0A9F-5G\"], \"type\": \"scatter\", \"x\": [48, 36, 52, 52], \"y\": [-39, -74, -80, -85]}],\n",
       "                        {\"shapes\": [{\"fillcolor\": \"#7d87b9\", \"line\": {\"color\": \"#7d87b9\"}, \"name\": \"WifiAle-5G\", \"opacity\": 0.5, \"type\": \"circle\", \"x0\": 46, \"x1\": 50, \"xref\": \"x\", \"y0\": -161, \"y1\": -39, \"yref\": \"y\"}, {\"fillcolor\": \"#bb7784\", \"line\": {\"color\": \"#bb7784\"}, \"name\": \"devolo-bb1\", \"opacity\": 0.5, \"type\": \"circle\", \"x0\": 34, \"x1\": 38, \"xref\": \"x\", \"y0\": -126, \"y1\": -74, \"yref\": \"y\"}, {\"fillcolor\": \"#8e063b\", \"line\": {\"color\": \"#8e063b\"}, \"name\": \"MiFibra-0A9F\", \"opacity\": 0.5, \"type\": \"circle\", \"x0\": 50, \"x1\": 54, \"xref\": \"x\", \"y0\": -120, \"y1\": -80, \"yref\": \"y\"}, {\"fillcolor\": \"#4a6fe3\", \"line\": {\"color\": \"#4a6fe3\"}, \"name\": \"MiFibra-0A9F-5G\", \"opacity\": 0.5, \"type\": \"circle\", \"x0\": 50, \"x1\": 54, \"xref\": \"x\", \"y0\": -115, \"y1\": -85, \"yref\": \"y\"}], \"template\": {\"data\": {\"bar\": [{\"error_x\": {\"color\": \"#f2f5fa\"}, \"error_y\": {\"color\": \"#f2f5fa\"}, \"marker\": {\"line\": {\"color\": \"rgb(17,17,17)\", \"width\": 0.5}}, \"type\": \"bar\"}], \"barpolar\": [{\"marker\": {\"line\": {\"color\": \"rgb(17,17,17)\", \"width\": 0.5}}, \"type\": \"barpolar\"}], \"carpet\": [{\"aaxis\": {\"endlinecolor\": \"#A2B1C6\", \"gridcolor\": \"#506784\", \"linecolor\": \"#506784\", \"minorgridcolor\": \"#506784\", \"startlinecolor\": \"#A2B1C6\"}, \"baxis\": {\"endlinecolor\": \"#A2B1C6\", \"gridcolor\": \"#506784\", \"linecolor\": \"#506784\", \"minorgridcolor\": \"#506784\", \"startlinecolor\": \"#A2B1C6\"}, \"type\": \"carpet\"}], \"choropleth\": [{\"colorbar\": {\"outlinewidth\": 0, \"ticks\": \"\"}, \"type\": \"choropleth\"}], \"contour\": [{\"colorbar\": {\"outlinewidth\": 0, \"ticks\": \"\"}, \"colorscale\": [[0.0, \"#0d0887\"], [0.1111111111111111, \"#46039f\"], [0.2222222222222222, \"#7201a8\"], [0.3333333333333333, \"#9c179e\"], [0.4444444444444444, \"#bd3786\"], [0.5555555555555556, \"#d8576b\"], [0.6666666666666666, \"#ed7953\"], [0.7777777777777778, \"#fb9f3a\"], [0.8888888888888888, \"#fdca26\"], [1.0, \"#f0f921\"]], \"type\": \"contour\"}], \"contourcarpet\": [{\"colorbar\": {\"outlinewidth\": 0, \"ticks\": \"\"}, \"type\": \"contourcarpet\"}], \"heatmap\": [{\"colorbar\": {\"outlinewidth\": 0, \"ticks\": \"\"}, \"colorscale\": [[0.0, \"#0d0887\"], [0.1111111111111111, \"#46039f\"], [0.2222222222222222, \"#7201a8\"], [0.3333333333333333, \"#9c179e\"], [0.4444444444444444, \"#bd3786\"], [0.5555555555555556, \"#d8576b\"], [0.6666666666666666, \"#ed7953\"], [0.7777777777777778, \"#fb9f3a\"], [0.8888888888888888, \"#fdca26\"], [1.0, \"#f0f921\"]], \"type\": \"heatmap\"}], \"heatmapgl\": [{\"colorbar\": {\"outlinewidth\": 0, \"ticks\": \"\"}, \"colorscale\": [[0.0, \"#0d0887\"], [0.1111111111111111, \"#46039f\"], [0.2222222222222222, \"#7201a8\"], [0.3333333333333333, \"#9c179e\"], [0.4444444444444444, \"#bd3786\"], [0.5555555555555556, \"#d8576b\"], [0.6666666666666666, \"#ed7953\"], [0.7777777777777778, \"#fb9f3a\"], [0.8888888888888888, \"#fdca26\"], [1.0, \"#f0f921\"]], \"type\": \"heatmapgl\"}], \"histogram\": [{\"marker\": {\"colorbar\": {\"outlinewidth\": 0, \"ticks\": \"\"}}, \"type\": \"histogram\"}], \"histogram2d\": [{\"colorbar\": {\"outlinewidth\": 0, \"ticks\": \"\"}, \"colorscale\": [[0.0, \"#0d0887\"], [0.1111111111111111, \"#46039f\"], [0.2222222222222222, \"#7201a8\"], [0.3333333333333333, \"#9c179e\"], [0.4444444444444444, \"#bd3786\"], [0.5555555555555556, \"#d8576b\"], [0.6666666666666666, \"#ed7953\"], [0.7777777777777778, \"#fb9f3a\"], [0.8888888888888888, \"#fdca26\"], [1.0, \"#f0f921\"]], \"type\": \"histogram2d\"}], \"histogram2dcontour\": [{\"colorbar\": {\"outlinewidth\": 0, \"ticks\": \"\"}, \"colorscale\": [[0.0, \"#0d0887\"], [0.1111111111111111, \"#46039f\"], [0.2222222222222222, \"#7201a8\"], [0.3333333333333333, \"#9c179e\"], [0.4444444444444444, \"#bd3786\"], [0.5555555555555556, \"#d8576b\"], [0.6666666666666666, \"#ed7953\"], [0.7777777777777778, \"#fb9f3a\"], [0.8888888888888888, \"#fdca26\"], [1.0, \"#f0f921\"]], \"type\": \"histogram2dcontour\"}], \"mesh3d\": [{\"colorbar\": {\"outlinewidth\": 0, \"ticks\": \"\"}, \"type\": \"mesh3d\"}], \"parcoords\": [{\"line\": {\"colorbar\": {\"outlinewidth\": 0, \"ticks\": \"\"}}, \"type\": \"parcoords\"}], \"pie\": [{\"automargin\": true, \"type\": \"pie\"}], \"scatter\": [{\"marker\": {\"line\": {\"color\": \"#283442\"}}, \"type\": \"scatter\"}], \"scatter3d\": [{\"line\": {\"colorbar\": {\"outlinewidth\": 0, \"ticks\": \"\"}}, \"marker\": {\"colorbar\": {\"outlinewidth\": 0, \"ticks\": \"\"}}, \"type\": \"scatter3d\"}], \"scattercarpet\": [{\"marker\": {\"colorbar\": {\"outlinewidth\": 0, \"ticks\": \"\"}}, \"type\": \"scattercarpet\"}], \"scattergeo\": [{\"marker\": {\"colorbar\": {\"outlinewidth\": 0, \"ticks\": \"\"}}, \"type\": \"scattergeo\"}], \"scattergl\": [{\"marker\": {\"line\": {\"color\": \"#283442\"}}, \"type\": \"scattergl\"}], \"scattermapbox\": [{\"marker\": {\"colorbar\": {\"outlinewidth\": 0, \"ticks\": \"\"}}, \"type\": \"scattermapbox\"}], \"scatterpolar\": [{\"marker\": {\"colorbar\": {\"outlinewidth\": 0, \"ticks\": \"\"}}, \"type\": \"scatterpolar\"}], \"scatterpolargl\": [{\"marker\": {\"colorbar\": {\"outlinewidth\": 0, \"ticks\": \"\"}}, \"type\": \"scatterpolargl\"}], \"scatterternary\": [{\"marker\": {\"colorbar\": {\"outlinewidth\": 0, \"ticks\": \"\"}}, \"type\": \"scatterternary\"}], \"surface\": [{\"colorbar\": {\"outlinewidth\": 0, \"ticks\": \"\"}, \"colorscale\": [[0.0, \"#0d0887\"], [0.1111111111111111, \"#46039f\"], [0.2222222222222222, \"#7201a8\"], [0.3333333333333333, \"#9c179e\"], [0.4444444444444444, \"#bd3786\"], [0.5555555555555556, \"#d8576b\"], [0.6666666666666666, \"#ed7953\"], [0.7777777777777778, \"#fb9f3a\"], [0.8888888888888888, \"#fdca26\"], [1.0, \"#f0f921\"]], \"type\": \"surface\"}], \"table\": [{\"cells\": {\"fill\": {\"color\": \"#506784\"}, \"line\": {\"color\": \"rgb(17,17,17)\"}}, \"header\": {\"fill\": {\"color\": \"#2a3f5f\"}, \"line\": {\"color\": \"rgb(17,17,17)\"}}, \"type\": \"table\"}]}, \"layout\": {\"annotationdefaults\": {\"arrowcolor\": \"#f2f5fa\", \"arrowhead\": 0, \"arrowwidth\": 1}, \"coloraxis\": {\"colorbar\": {\"outlinewidth\": 0, \"ticks\": \"\"}}, \"colorscale\": {\"diverging\": [[0, \"#8e0152\"], [0.1, \"#c51b7d\"], [0.2, \"#de77ae\"], [0.3, \"#f1b6da\"], [0.4, \"#fde0ef\"], [0.5, \"#f7f7f7\"], [0.6, \"#e6f5d0\"], [0.7, \"#b8e186\"], [0.8, \"#7fbc41\"], [0.9, \"#4d9221\"], [1, \"#276419\"]], \"sequential\": [[0.0, \"#0d0887\"], [0.1111111111111111, \"#46039f\"], [0.2222222222222222, \"#7201a8\"], [0.3333333333333333, \"#9c179e\"], [0.4444444444444444, \"#bd3786\"], [0.5555555555555556, \"#d8576b\"], [0.6666666666666666, \"#ed7953\"], [0.7777777777777778, \"#fb9f3a\"], [0.8888888888888888, \"#fdca26\"], [1.0, \"#f0f921\"]], \"sequentialminus\": [[0.0, \"#0d0887\"], [0.1111111111111111, \"#46039f\"], [0.2222222222222222, \"#7201a8\"], [0.3333333333333333, \"#9c179e\"], [0.4444444444444444, \"#bd3786\"], [0.5555555555555556, \"#d8576b\"], [0.6666666666666666, \"#ed7953\"], [0.7777777777777778, \"#fb9f3a\"], [0.8888888888888888, \"#fdca26\"], [1.0, \"#f0f921\"]]}, \"colorway\": [\"#636efa\", \"#EF553B\", \"#00cc96\", \"#ab63fa\", \"#FFA15A\", \"#19d3f3\", \"#FF6692\", \"#B6E880\", \"#FF97FF\", \"#FECB52\"], \"font\": {\"color\": \"#f2f5fa\"}, \"geo\": {\"bgcolor\": \"rgb(17,17,17)\", \"lakecolor\": \"rgb(17,17,17)\", \"landcolor\": \"rgb(17,17,17)\", \"showlakes\": true, \"showland\": true, \"subunitcolor\": \"#506784\"}, \"hoverlabel\": {\"align\": \"left\"}, \"hovermode\": \"closest\", \"mapbox\": {\"style\": \"dark\"}, \"paper_bgcolor\": \"rgb(17,17,17)\", \"plot_bgcolor\": \"rgb(17,17,17)\", \"polar\": {\"angularaxis\": {\"gridcolor\": \"#506784\", \"linecolor\": \"#506784\", \"ticks\": \"\"}, \"bgcolor\": \"rgb(17,17,17)\", \"radialaxis\": {\"gridcolor\": \"#506784\", \"linecolor\": \"#506784\", \"ticks\": \"\"}}, \"scene\": {\"xaxis\": {\"backgroundcolor\": \"rgb(17,17,17)\", \"gridcolor\": \"#506784\", \"gridwidth\": 2, \"linecolor\": \"#506784\", \"showbackground\": true, \"ticks\": \"\", \"zerolinecolor\": \"#C8D4E3\"}, \"yaxis\": {\"backgroundcolor\": \"rgb(17,17,17)\", \"gridcolor\": \"#506784\", \"gridwidth\": 2, \"linecolor\": \"#506784\", \"showbackground\": true, \"ticks\": \"\", \"zerolinecolor\": \"#C8D4E3\"}, \"zaxis\": {\"backgroundcolor\": \"rgb(17,17,17)\", \"gridcolor\": \"#506784\", \"gridwidth\": 2, \"linecolor\": \"#506784\", \"showbackground\": true, \"ticks\": \"\", \"zerolinecolor\": \"#C8D4E3\"}}, \"shapedefaults\": {\"line\": {\"color\": \"#f2f5fa\"}}, \"sliderdefaults\": {\"bgcolor\": \"#C8D4E3\", \"bordercolor\": \"rgb(17,17,17)\", \"borderwidth\": 1, \"tickwidth\": 0}, \"ternary\": {\"aaxis\": {\"gridcolor\": \"#506784\", \"linecolor\": \"#506784\", \"ticks\": \"\"}, \"baxis\": {\"gridcolor\": \"#506784\", \"linecolor\": \"#506784\", \"ticks\": \"\"}, \"bgcolor\": \"rgb(17,17,17)\", \"caxis\": {\"gridcolor\": \"#506784\", \"linecolor\": \"#506784\", \"ticks\": \"\"}}, \"title\": {\"x\": 0.05}, \"updatemenudefaults\": {\"bgcolor\": \"#506784\", \"borderwidth\": 0}, \"xaxis\": {\"automargin\": true, \"gridcolor\": \"#283442\", \"linecolor\": \"#506784\", \"ticks\": \"\", \"title\": {\"standoff\": 15}, \"zerolinecolor\": \"#283442\", \"zerolinewidth\": 2}, \"yaxis\": {\"automargin\": true, \"gridcolor\": \"#283442\", \"linecolor\": \"#506784\", \"ticks\": \"\", \"title\": {\"standoff\": 15}, \"zerolinecolor\": \"#283442\", \"zerolinewidth\": 2}}}, \"title\": {\"text\": \"<b>WiFi Signal per channel - 5GHz  - Habitacion1-1\"}, \"xaxis\": {\"nticks\": 17, \"title\": {\"text\": \"Channels\"}}, \"yaxis\": {\"range\": [-100, -26], \"title\": {\"text\": \"dBm\"}}},\n",
       "                        {\"responsive\": true}\n",
       "                    ).then(function(){\n",
       "                            \n",
       "var gd = document.getElementById('2e04299b-0e98-4855-be80-4d42906efc63');\n",
       "var x = new MutationObserver(function (mutations, observer) {{\n",
       "        var display = window.getComputedStyle(gd).display;\n",
       "        if (!display || display === 'none') {{\n",
       "            console.log([gd, 'removed!']);\n",
       "            Plotly.purge(gd);\n",
       "            observer.disconnect();\n",
       "        }}\n",
       "}});\n",
       "\n",
       "// Listen for the removal of the full notebook cells\n",
       "var notebookContainer = gd.closest('#notebook-container');\n",
       "if (notebookContainer) {{\n",
       "    x.observe(notebookContainer, {childList: true});\n",
       "}}\n",
       "\n",
       "// Listen for the clearing of the current output cell\n",
       "var outputEl = gd.closest('.output');\n",
       "if (outputEl) {{\n",
       "    x.observe(outputEl, {childList: true});\n",
       "}}\n",
       "\n",
       "                        })\n",
       "                };\n",
       "                });\n",
       "            </script>\n",
       "        </div>"
      ]
     },
     "metadata": {},
     "output_type": "display_data"
    }
   ],
   "source": [
    "# Create figure\n",
    "fig = go.Figure()\n",
    "\n",
    "# Create scatter trace of text labels\n",
    "fig.add_trace(go.Scatter(\n",
    "    x=zone1_1_5G.Channel,\n",
    "    y=zone1_1_5G.dBm_Signal,\n",
    "    text=zone1_1_5G.SSID,\n",
    "    mode='text',\n",
    "))\n",
    "\n",
    "# Add shapes\n",
    "i = 0\n",
    "for row in zone1_1_5G.itertuples() :\n",
    "    i += 1\n",
    "    fig.add_shape(\n",
    "        type='circle',\n",
    "        name=row.SSID,\n",
    "        xref='x',\n",
    "        yref='y',\n",
    "        x0=row.Channel-2,\n",
    "        y0=-row.dBm_Signal-200,\n",
    "        x1=row.Channel+2,\n",
    "        y1=row.dBm_Signal,\n",
    "        opacity=0.5,\n",
    "        fillcolor=colors2[i%len(colors2)],\n",
    "        line_color=colors2[i%len(colors2)]\n",
    "    )\n",
    "\n",
    "fig.update_layout(\n",
    "    title='<b>WiFi Signal per channel - 5GHz  - Habitacion1-1',\n",
    "    yaxis=dict(\n",
    "        title='dBm',\n",
    "        range = (-100,zone1_1_2G.dBm_Signal.max()+10)\n",
    "    ),\n",
    "    xaxis=dict(\n",
    "        title='Channels',\n",
    "        nticks=17\n",
    "    )\n",
    ")\n",
    "fig.show()"
   ]
  },
  {
   "cell_type": "markdown",
   "metadata": {},
   "source": [
    "## Different Wi-Fi Ubication Simulation\n",
    "A partir de las intensidades de señal medidas a lo largo de la casa, podemos simular que el router se encuetra en otro lugar aplicando de manera reciproca las ganancias que hay de una habitacion a otra.\n",
    "\n",
    "Una vez seleccionada la ubicación nueva del Wi-Fi, calculamos las ganancias a cada una de las otras habitaciones y simulamos el nuevo plano."
   ]
  },
  {
   "cell_type": "code",
   "execution_count": 19,
   "metadata": {},
   "outputs": [],
   "source": [
    "dBm_max = my_wifi_5G_mean.dBm_Signal.max()\n",
    "dBm_min = my_wifi_5G_mean.dBm_Signal.min()"
   ]
  },
  {
   "cell_type": "code",
   "execution_count": 20,
   "metadata": {},
   "outputs": [],
   "source": [
    "def calc_atts(df):\n",
    "    atts = {}\n",
    "    for name in df.name.unique() :\n",
    "        source = df[(df.name == name)].iloc[0]\n",
    "        source_signal = source.dBm_Signal\n",
    "    \n",
    "        atts[name] = {}\n",
    "        for row in df.itertuples() :\n",
    "            atts[name][row.name] = {}\n",
    "            atts[name][row.name] = round(abs(source_signal-row.dBm_Signal),3)\n",
    "\n",
    "    return atts\n",
    "\n",
    "#Atenuations dictionary\n",
    "atts = calc_atts(my_wifi_5G_mean)"
   ]
  },
  {
   "cell_type": "code",
   "execution_count": 21,
   "metadata": {},
   "outputs": [
    {
     "name": "stdout",
     "output_type": "stream",
     "text": [
      "Loss per meter = 3dB\n",
      "Loss per wall = 7dB\n"
     ]
    }
   ],
   "source": [
    "#Distance between house areas\n",
    "zone1_1 = my_wifi_5G_mean.iloc[3]\n",
    "zone1_2 = my_wifi_5G_mean.iloc[4]\n",
    "zone2_1 = my_wifi_5G_mean.iloc[5]\n",
    "zone5_1 = my_wifi_5G_mean.iloc[13]\n",
    "zone5_5 = my_wifi_5G_mean.iloc[17]\n",
    "\n",
    "p1_1 = zone1_1.geometry.centroid\n",
    "p1_2 = zone1_2.geometry.centroid\n",
    "p2_1 = zone2_1.geometry.centroid\n",
    "p5_1 = zone5_1.geometry.centroid\n",
    "p5_5 = zone5_5.geometry.centroid\n",
    "\n",
    "dBm1_1 = zone1_1.dBm_Signal\n",
    "dBm1_2 = zone1_2.dBm_Signal\n",
    "dBm2_1 = zone2_1.dBm_Signal\n",
    "dBm5_1 = zone5_1.dBm_Signal\n",
    "dBm5_5 = zone5_5.dBm_Signal\n",
    "\n",
    "#dBloss_per_m = round(abs(dBm5_1-dBm5_5)/(p5_1.distance(p5_5)*2.6),3)\n",
    "dBloss_per_m = 3\n",
    "\n",
    "#dBloss_per_w = round(abs(dBm1_1-dBm2_1) - dBloss_per_m*(p1_1.distance(p2_1)*2.6),3)\n",
    "dBloss_per_w = 7\n",
    "\n",
    "print('Loss per meter = {}dB'.format(dBloss_per_m))\n",
    "print('Loss per wall = {}dB'.format(dBloss_per_w))"
   ]
  },
  {
   "cell_type": "code",
   "execution_count": 22,
   "metadata": {},
   "outputs": [],
   "source": [
    "#Walls bt house areas\n",
    "walls_bt = [\n",
    "    [0, 1, 1, 1, 1, 1, 1, 1, 1, 2],\n",
    "    [1, 0, 1, 1, 3, 3, 5, 3, 4, 2],\n",
    "    [1, 1, 0, 2, 2, 3, 4, 2, 3, 3],\n",
    "    [1, 1, 2, 0, 1, 2, 5, 3, 4, 1],\n",
    "    [1, 3, 2, 1, 0, 1, 3, 3, 3, 1],\n",
    "    [1, 3, 3, 2, 1, 0, 2, 2, 2, 1],\n",
    "    [1, 5, 4, 5, 3, 2, 0, 2, 1, 2],\n",
    "    [1, 3, 2, 3, 3, 2, 2, 0, 1, 3],\n",
    "    [1, 4, 3, 4, 3, 2, 1, 1, 0, 3],\n",
    "    [2, 2, 3, 1, 1, 1, 2, 3, 3, 0]\n",
    "]"
   ]
  },
  {
   "cell_type": "code",
   "execution_count": 84,
   "metadata": {},
   "outputs": [
    {
     "data": {
      "image/png": "[encoded data removed]",
      "text/plain": [
       "<Figure size 2160x720 with 2 Axes>"
      ]
     },
     "metadata": {
      "needs_background": "light"
     },
     "output_type": "display_data"
    }
   ],
   "source": [
    "def recalc_signal_strength(df,name) :\n",
    "    orig = df[df['name'] == name].iloc[0]\n",
    "    \n",
    "    def recalc_dBm (row) :\n",
    "        dist = orig.geometry.centroid.distance(row.geometry.centroid)\n",
    "        walls = walls_bt[orig.zone][row.zone]\n",
    "        att = dist*dBloss_per_m + walls*dBloss_per_w\n",
    "        \n",
    "        row.dBm_Signal = dBm_max - att\n",
    "        return row\n",
    "    \n",
    "    return df.apply(recalc_dBm, axis=1)\n",
    "\n",
    "name = 'Habitacion1-1' #New source name\n",
    "recalc_df = recalc_signal_strength(my_wifi_5G_mean,name)\n",
    "\n",
    "#Draw result\n",
    "title='WiFi dBm Signal if located in {}'.format(name)\n",
    "col_name = 'dBm_Signal'\n",
    "label='name'\n",
    "plot_choropleth(recalc_df,title,col_name,label)"
   ]
  },
  {
   "cell_type": "code",
   "execution_count": 24,
   "metadata": {},
   "outputs": [
    {
     "name": "stdout",
     "output_type": "stream",
     "text": [
      "Best WiFi location is Pasillo-2. Score = 19.78139548142991\n",
      "Signal mean -49.401dBm\n",
      "Signal std 4.254dBm\n"
     ]
    }
   ],
   "source": [
    "#Calculate optimal WiFi ubication\n",
    "def optimal_room(df) :\n",
    "    recalc_dfs = []\n",
    "    i = 0\n",
    "    max_score = -1\n",
    "    \n",
    "    def calc_score(df) :\n",
    "        score = 0\n",
    "        scores = []\n",
    "        for zone in df.zone.unique() :\n",
    "            zone_df = df[df.zone == zone]\n",
    "            mW_Signal = math.pow(10,zone_df.dBm_Signal.mean()/10)\n",
    "            if zone == 5 :\n",
    "                scores.append(mW_Signal * 1.5)\n",
    "            elif zone in [1,2,3,4] :\n",
    "                scores.append(mW_Signal * 1.25)\n",
    "            else :\n",
    "                scores.append(mW_Signal * 1)\n",
    "                \n",
    "        return 10**6*sum(scores)/len(scores)\n",
    "    \n",
    "    score_rows = []\n",
    "    for name in my_wifi_5G_mean['name'].unique() :\n",
    "        recalc_df = recalc_signal_strength(my_wifi_5G_mean,name)\n",
    "        recalc_dfs.append(recalc_df)\n",
    "        room_score = calc_score(recalc_df)\n",
    "        score_row = {'name':name,'score':room_score}\n",
    "        score_rows.append(score_row)\n",
    "        if room_score > max_score :\n",
    "            max_score = room_score\n",
    "            opt_room_df = recalc_df\n",
    "            opt_room_name = name\n",
    "            opt_room_mean = round(recalc_df.dBm_Signal.mean(),3)\n",
    "            opt_room_std = round(recalc_df.dBm_Signal.std(),3)\n",
    "    \n",
    "    scores_df = pd.DataFrame(score_rows)\n",
    "    #scores_df['score'] = scores_df['score']/scores_df['score'].max()\n",
    "    scores_df = scores_df.sort_values('score',ascending=False).reset_index(drop=True)\n",
    "    \n",
    "    print('Best WiFi location is {}. Score = {}'.format(opt_room_name,max_score))\n",
    "    print('Signal mean {}dBm'.format(opt_room_mean))\n",
    "    print('Signal std {}dBm'.format(opt_room_std))\n",
    "    \n",
    "    return scores_df,opt_room_df,opt_room_name\n",
    "\n",
    "scores_df,opt_room_df,opt_room_name = optimal_room(my_wifi_5G_mean)"
   ]
  },
  {
   "cell_type": "code",
   "execution_count": 25,
   "metadata": {},
   "outputs": [
    {
     "data": {
      "application/vnd.plotly.v1+json": {
       "config": {
        "plotlyServerURL": "https://plot.ly"
       },
       "data": [
        {
         "name": "Pasillo-2",
         "type": "bar",
         "x": [
          "Pasillo-2"
         ],
         "y": [
          19.78139548142991
         ]
        },
        {
         "name": "Habitacion4-1",
         "type": "bar",
         "x": [
          "Habitacion4-1"
         ],
         "y": [
          19.05536934356115
         ]
        },
        {
         "name": "Habitacion4-2",
         "type": "bar",
         "x": [
          "Habitacion4-2"
         ],
         "y": [
          18.890864246515825
         ]
        },
        {
         "name": "Pasillo-1",
         "type": "bar",
         "x": [
          "Pasillo-1"
         ],
         "y": [
          18.302916892354094
         ]
        },
        {
         "name": "Pasillo-3",
         "type": "bar",
         "x": [
          "Pasillo-3"
         ],
         "y": [
          17.84816569869451
         ]
        },
        {
         "name": "Salon-2",
         "type": "bar",
         "x": [
          "Salon-2"
         ],
         "y": [
          17.583882013961222
         ]
        },
        {
         "name": "Habitacion3-1",
         "type": "bar",
         "x": [
          "Habitacion3-1"
         ],
         "y": [
          17.5193816402745
         ]
        },
        {
         "name": "Salon-5",
         "type": "bar",
         "x": [
          "Salon-5"
         ],
         "y": [
          17.324888733851715
         ]
        },
        {
         "name": "Habitacion1-1",
         "type": "bar",
         "x": [
          "Habitacion1-1"
         ],
         "y": [
          17.280659036353903
         ]
        },
        {
         "name": "Lavabo2-1",
         "type": "bar",
         "x": [
          "Lavabo2-1"
         ],
         "y": [
          17.278915495712766
         ]
        },
        {
         "name": "Salon-1",
         "type": "bar",
         "x": [
          "Salon-1"
         ],
         "y": [
          17.145302215299573
         ]
        },
        {
         "name": "Habitacion3-3",
         "type": "bar",
         "x": [
          "Habitacion3-3"
         ],
         "y": [
          17.019731864146916
         ]
        },
        {
         "name": "Habitacion2-1",
         "type": "bar",
         "x": [
          "Habitacion2-1"
         ],
         "y": [
          16.95256263026718
         ]
        },
        {
         "name": "Salon-4",
         "type": "bar",
         "x": [
          "Salon-4"
         ],
         "y": [
          16.898403034883977
         ]
        },
        {
         "name": "Habitacion1-2",
         "type": "bar",
         "x": [
          "Habitacion1-2"
         ],
         "y": [
          16.879688038152132
         ]
        },
        {
         "name": "Habitacion3-2",
         "type": "bar",
         "x": [
          "Habitacion3-2"
         ],
         "y": [
          16.653230498850156
         ]
        },
        {
         "name": "Habitacion2-2",
         "type": "bar",
         "x": [
          "Habitacion2-2"
         ],
         "y": [
          16.418902883011786
         ]
        },
        {
         "name": "Lavabo1-1",
         "type": "bar",
         "x": [
          "Lavabo1-1"
         ],
         "y": [
          16.219160612750077
         ]
        },
        {
         "name": "Habitacion3-4",
         "type": "bar",
         "x": [
          "Habitacion3-4"
         ],
         "y": [
          16.073892064386847
         ]
        },
        {
         "name": "Salon-3",
         "type": "bar",
         "x": [
          "Salon-3"
         ],
         "y": [
          15.289121404448967
         ]
        },
        {
         "name": "Salon-6",
         "type": "bar",
         "x": [
          "Salon-6"
         ],
         "y": [
          15.103268653211241
         ]
        },
        {
         "name": "Cocina-1",
         "type": "bar",
         "x": [
          "Cocina-1"
         ],
         "y": [
          13.951305661623687
         ]
        },
        {
         "name": "Cocina-2",
         "type": "bar",
         "x": [
          "Cocina-2"
         ],
         "y": [
          13.919441837914695
         ]
        },
        {
         "name": "Terraza-2",
         "type": "bar",
         "x": [
          "Terraza-2"
         ],
         "y": [
          12.982237908534165
         ]
        },
        {
         "name": "Terraza-3",
         "type": "bar",
         "x": [
          "Terraza-3"
         ],
         "y": [
          10.755552855987167
         ]
        },
        {
         "name": "Terraza-1",
         "type": "bar",
         "x": [
          "Terraza-1"
         ],
         "y": [
          10.31954534641303
         ]
        }
       ],
       "layout": {
        "showlegend": false,
        "template": {
         "data": {
          "bar": [
           {
            "error_x": {
             "color": "#f2f5fa"
            },
            "error_y": {
             "color": "#f2f5fa"
            },
            "marker": {
             "line": {
              "color": "rgb(17,17,17)",
              "width": 0.5
             }
            },
            "type": "bar"
           }
          ],
          "barpolar": [
           {
            "marker": {
             "line": {
              "color": "rgb(17,17,17)",
              "width": 0.5
             }
            },
            "type": "barpolar"
           }
          ],
          "carpet": [
           {
            "aaxis": {
             "endlinecolor": "#A2B1C6",
             "gridcolor": "#506784",
             "linecolor": "#506784",
             "minorgridcolor": "#506784",
             "startlinecolor": "#A2B1C6"
            },
            "baxis": {
             "endlinecolor": "#A2B1C6",
             "gridcolor": "#506784",
             "linecolor": "#506784",
             "minorgridcolor": "#506784",
             "startlinecolor": "#A2B1C6"
            },
            "type": "carpet"
           }
          ],
          "choropleth": [
           {
            "colorbar": {
             "outlinewidth": 0,
             "ticks": ""
            },
            "type": "choropleth"
           }
          ],
          "contour": [
           {
            "colorbar": {
             "outlinewidth": 0,
             "ticks": ""
            },
            "colorscale": [
             [
              0,
              "#0d0887"
             ],
             [
              0.1111111111111111,
              "#46039f"
             ],
             [
              0.2222222222222222,
              "#7201a8"
             ],
             [
              0.3333333333333333,
              "#9c179e"
             ],
             [
              0.4444444444444444,
              "#bd3786"
             ],
             [
              0.5555555555555556,
              "#d8576b"
             ],
             [
              0.6666666666666666,
              "#ed7953"
             ],
             [
              0.7777777777777778,
              "#fb9f3a"
             ],
             [
              0.8888888888888888,
              "#fdca26"
             ],
             [
              1,
              "#f0f921"
             ]
            ],
            "type": "contour"
           }
          ],
          "contourcarpet": [
           {
            "colorbar": {
             "outlinewidth": 0,
             "ticks": ""
            },
            "type": "contourcarpet"
           }
          ],
          "heatmap": [
           {
            "colorbar": {
             "outlinewidth": 0,
             "ticks": ""
            },
            "colorscale": [
             [
              0,
              "#0d0887"
             ],
             [
              0.1111111111111111,
              "#46039f"
             ],
             [
              0.2222222222222222,
              "#7201a8"
             ],
             [
              0.3333333333333333,
              "#9c179e"
             ],
             [
              0.4444444444444444,
              "#bd3786"
             ],
             [
              0.5555555555555556,
              "#d8576b"
             ],
             [
              0.6666666666666666,
              "#ed7953"
             ],
             [
              0.7777777777777778,
              "#fb9f3a"
             ],
             [
              0.8888888888888888,
              "#fdca26"
             ],
             [
              1,
              "#f0f921"
             ]
            ],
            "type": "heatmap"
           }
          ],
          "heatmapgl": [
           {
            "colorbar": {
             "outlinewidth": 0,
             "ticks": ""
            },
            "colorscale": [
             [
              0,
              "#0d0887"
             ],
             [
              0.1111111111111111,
              "#46039f"
             ],
             [
              0.2222222222222222,
              "#7201a8"
             ],
             [
              0.3333333333333333,
              "#9c179e"
             ],
             [
              0.4444444444444444,
              "#bd3786"
             ],
             [
              0.5555555555555556,
              "#d8576b"
             ],
             [
              0.6666666666666666,
              "#ed7953"
             ],
             [
              0.7777777777777778,
              "#fb9f3a"
             ],
             [
              0.8888888888888888,
              "#fdca26"
             ],
             [
              1,
              "#f0f921"
             ]
            ],
            "type": "heatmapgl"
           }
          ],
          "histogram": [
           {
            "marker": {
             "colorbar": {
              "outlinewidth": 0,
              "ticks": ""
             }
            },
            "type": "histogram"
           }
          ],
          "histogram2d": [
           {
            "colorbar": {
             "outlinewidth": 0,
             "ticks": ""
            },
            "colorscale": [
             [
              0,
              "#0d0887"
             ],
             [
              0.1111111111111111,
              "#46039f"
             ],
             [
              0.2222222222222222,
              "#7201a8"
             ],
             [
              0.3333333333333333,
              "#9c179e"
             ],
             [
              0.4444444444444444,
              "#bd3786"
             ],
             [
              0.5555555555555556,
              "#d8576b"
             ],
             [
              0.6666666666666666,
              "#ed7953"
             ],
             [
              0.7777777777777778,
              "#fb9f3a"
             ],
             [
              0.8888888888888888,
              "#fdca26"
             ],
             [
              1,
              "#f0f921"
             ]
            ],
            "type": "histogram2d"
           }
          ],
          "histogram2dcontour": [
           {
            "colorbar": {
             "outlinewidth": 0,
             "ticks": ""
            },
            "colorscale": [
             [
              0,
              "#0d0887"
             ],
             [
              0.1111111111111111,
              "#46039f"
             ],
             [
              0.2222222222222222,
              "#7201a8"
             ],
             [
              0.3333333333333333,
              "#9c179e"
             ],
             [
              0.4444444444444444,
              "#bd3786"
             ],
             [
              0.5555555555555556,
              "#d8576b"
             ],
             [
              0.6666666666666666,
              "#ed7953"
             ],
             [
              0.7777777777777778,
              "#fb9f3a"
             ],
             [
              0.8888888888888888,
              "#fdca26"
             ],
             [
              1,
              "#f0f921"
             ]
            ],
            "type": "histogram2dcontour"
           }
          ],
          "mesh3d": [
           {
            "colorbar": {
             "outlinewidth": 0,
             "ticks": ""
            },
            "type": "mesh3d"
           }
          ],
          "parcoords": [
           {
            "line": {
             "colorbar": {
              "outlinewidth": 0,
              "ticks": ""
             }
            },
            "type": "parcoords"
           }
          ],
          "pie": [
           {
            "automargin": true,
            "type": "pie"
           }
          ],
          "scatter": [
           {
            "marker": {
             "line": {
              "color": "#283442"
             }
            },
            "type": "scatter"
           }
          ],
          "scatter3d": [
           {
            "line": {
             "colorbar": {
              "outlinewidth": 0,
              "ticks": ""
             }
            },
            "marker": {
             "colorbar": {
              "outlinewidth": 0,
              "ticks": ""
             }
            },
            "type": "scatter3d"
           }
          ],
          "scattercarpet": [
           {
            "marker": {
             "colorbar": {
              "outlinewidth": 0,
              "ticks": ""
             }
            },
            "type": "scattercarpet"
           }
          ],
          "scattergeo": [
           {
            "marker": {
             "colorbar": {
              "outlinewidth": 0,
              "ticks": ""
             }
            },
            "type": "scattergeo"
           }
          ],
          "scattergl": [
           {
            "marker": {
             "line": {
              "color": "#283442"
             }
            },
            "type": "scattergl"
           }
          ],
          "scattermapbox": [
           {
            "marker": {
             "colorbar": {
              "outlinewidth": 0,
              "ticks": ""
             }
            },
            "type": "scattermapbox"
           }
          ],
          "scatterpolar": [
           {
            "marker": {
             "colorbar": {
              "outlinewidth": 0,
              "ticks": ""
             }
            },
            "type": "scatterpolar"
           }
          ],
          "scatterpolargl": [
           {
            "marker": {
             "colorbar": {
              "outlinewidth": 0,
              "ticks": ""
             }
            },
            "type": "scatterpolargl"
           }
          ],
          "scatterternary": [
           {
            "marker": {
             "colorbar": {
              "outlinewidth": 0,
              "ticks": ""
             }
            },
            "type": "scatterternary"
           }
          ],
          "surface": [
           {
            "colorbar": {
             "outlinewidth": 0,
             "ticks": ""
            },
            "colorscale": [
             [
              0,
              "#0d0887"
             ],
             [
              0.1111111111111111,
              "#46039f"
             ],
             [
              0.2222222222222222,
              "#7201a8"
             ],
             [
              0.3333333333333333,
              "#9c179e"
             ],
             [
              0.4444444444444444,
              "#bd3786"
             ],
             [
              0.5555555555555556,
              "#d8576b"
             ],
             [
              0.6666666666666666,
              "#ed7953"
             ],
             [
              0.7777777777777778,
              "#fb9f3a"
             ],
             [
              0.8888888888888888,
              "#fdca26"
             ],
             [
              1,
              "#f0f921"
             ]
            ],
            "type": "surface"
           }
          ],
          "table": [
           {
            "cells": {
             "fill": {
              "color": "#506784"
             },
             "line": {
              "color": "rgb(17,17,17)"
             }
            },
            "header": {
             "fill": {
              "color": "#2a3f5f"
             },
             "line": {
              "color": "rgb(17,17,17)"
             }
            },
            "type": "table"
           }
          ]
         },
         "layout": {
          "annotationdefaults": {
           "arrowcolor": "#f2f5fa",
           "arrowhead": 0,
           "arrowwidth": 1
          },
          "coloraxis": {
           "colorbar": {
            "outlinewidth": 0,
            "ticks": ""
           }
          },
          "colorscale": {
           "diverging": [
            [
             0,
             "#8e0152"
            ],
            [
             0.1,
             "#c51b7d"
            ],
            [
             0.2,
             "#de77ae"
            ],
            [
             0.3,
             "#f1b6da"
            ],
            [
             0.4,
             "#fde0ef"
            ],
            [
             0.5,
             "#f7f7f7"
            ],
            [
             0.6,
             "#e6f5d0"
            ],
            [
             0.7,
             "#b8e186"
            ],
            [
             0.8,
             "#7fbc41"
            ],
            [
             0.9,
             "#4d9221"
            ],
            [
             1,
             "#276419"
            ]
           ],
           "sequential": [
            [
             0,
             "#0d0887"
            ],
            [
             0.1111111111111111,
             "#46039f"
            ],
            [
             0.2222222222222222,
             "#7201a8"
            ],
            [
             0.3333333333333333,
             "#9c179e"
            ],
            [
             0.4444444444444444,
             "#bd3786"
            ],
            [
             0.5555555555555556,
             "#d8576b"
            ],
            [
             0.6666666666666666,
             "#ed7953"
            ],
            [
             0.7777777777777778,
             "#fb9f3a"
            ],
            [
             0.8888888888888888,
             "#fdca26"
            ],
            [
             1,
             "#f0f921"
            ]
           ],
           "sequentialminus": [
            [
             0,
             "#0d0887"
            ],
            [
             0.1111111111111111,
             "#46039f"
            ],
            [
             0.2222222222222222,
             "#7201a8"
            ],
            [
             0.3333333333333333,
             "#9c179e"
            ],
            [
             0.4444444444444444,
             "#bd3786"
            ],
            [
             0.5555555555555556,
             "#d8576b"
            ],
            [
             0.6666666666666666,
             "#ed7953"
            ],
            [
             0.7777777777777778,
             "#fb9f3a"
            ],
            [
             0.8888888888888888,
             "#fdca26"
            ],
            [
             1,
             "#f0f921"
            ]
           ]
          },
          "colorway": [
           "#636efa",
           "#EF553B",
           "#00cc96",
           "#ab63fa",
           "#FFA15A",
           "#19d3f3",
           "#FF6692",
           "#B6E880",
           "#FF97FF",
           "#FECB52"
          ],
          "font": {
           "color": "#f2f5fa"
          },
          "geo": {
           "bgcolor": "rgb(17,17,17)",
           "lakecolor": "rgb(17,17,17)",
           "landcolor": "rgb(17,17,17)",
           "showlakes": true,
           "showland": true,
           "subunitcolor": "#506784"
          },
          "hoverlabel": {
           "align": "left"
          },
          "hovermode": "closest",
          "mapbox": {
           "style": "dark"
          },
          "paper_bgcolor": "rgb(17,17,17)",
          "plot_bgcolor": "rgb(17,17,17)",
          "polar": {
           "angularaxis": {
            "gridcolor": "#506784",
            "linecolor": "#506784",
            "ticks": ""
           },
           "bgcolor": "rgb(17,17,17)",
           "radialaxis": {
            "gridcolor": "#506784",
            "linecolor": "#506784",
            "ticks": ""
           }
          },
          "scene": {
           "xaxis": {
            "backgroundcolor": "rgb(17,17,17)",
            "gridcolor": "#506784",
            "gridwidth": 2,
            "linecolor": "#506784",
            "showbackground": true,
            "ticks": "",
            "zerolinecolor": "#C8D4E3"
           },
           "yaxis": {
            "backgroundcolor": "rgb(17,17,17)",
            "gridcolor": "#506784",
            "gridwidth": 2,
            "linecolor": "#506784",
            "showbackground": true,
            "ticks": "",
            "zerolinecolor": "#C8D4E3"
           },
           "zaxis": {
            "backgroundcolor": "rgb(17,17,17)",
            "gridcolor": "#506784",
            "gridwidth": 2,
            "linecolor": "#506784",
            "showbackground": true,
            "ticks": "",
            "zerolinecolor": "#C8D4E3"
           }
          },
          "shapedefaults": {
           "line": {
            "color": "#f2f5fa"
           }
          },
          "sliderdefaults": {
           "bgcolor": "#C8D4E3",
           "bordercolor": "rgb(17,17,17)",
           "borderwidth": 1,
           "tickwidth": 0
          },
          "ternary": {
           "aaxis": {
            "gridcolor": "#506784",
            "linecolor": "#506784",
            "ticks": ""
           },
           "baxis": {
            "gridcolor": "#506784",
            "linecolor": "#506784",
            "ticks": ""
           },
           "bgcolor": "rgb(17,17,17)",
           "caxis": {
            "gridcolor": "#506784",
            "linecolor": "#506784",
            "ticks": ""
           }
          },
          "title": {
           "x": 0.05
          },
          "updatemenudefaults": {
           "bgcolor": "#506784",
           "borderwidth": 0
          },
          "xaxis": {
           "automargin": true,
           "gridcolor": "#283442",
           "linecolor": "#506784",
           "ticks": "",
           "title": {
            "standoff": 15
           },
           "zerolinecolor": "#283442",
           "zerolinewidth": 2
          },
          "yaxis": {
           "automargin": true,
           "gridcolor": "#283442",
           "linecolor": "#506784",
           "ticks": "",
           "title": {
            "standoff": 15
           },
           "zerolinecolor": "#283442",
           "zerolinewidth": 2
          }
         }
        },
        "title": {
         "text": "<b>WiFi Locations Score Ranking"
        },
        "xaxis": {
         "tickfont": {
          "size": 10
         }
        },
        "yaxis": {
         "nticks": 20,
         "title": {
          "text": "Score"
         }
        }
       }
      },
      "text/html": [
       "<div>\n",
       "        \n",
       "        \n",
       "            <div id=\"887b7169-5561-40f8-9a30-2925b214bf1e\" class=\"plotly-graph-div\" style=\"height:525px; width:100%;\"></div>\n",
       "            <script type=\"text/javascript\">\n",
       "                require([\"plotly\"], function(Plotly) {\n",
       "                    window.PLOTLYENV=window.PLOTLYENV || {};\n",
       "                    \n",
       "                if (document.getElementById(\"887b7169-5561-40f8-9a30-2925b214bf1e\")) {\n",
       "                    Plotly.newPlot(\n",
       "                        '887b7169-5561-40f8-9a30-2925b214bf1e',\n",
       "                        [{\"name\": \"Pasillo-2\", \"type\": \"bar\", \"x\": [\"Pasillo-2\"], \"y\": [19.78139548142991]}, {\"name\": \"Habitacion4-1\", \"type\": \"bar\", \"x\": [\"Habitacion4-1\"], \"y\": [19.05536934356115]}, {\"name\": \"Habitacion4-2\", \"type\": \"bar\", \"x\": [\"Habitacion4-2\"], \"y\": [18.890864246515825]}, {\"name\": \"Pasillo-1\", \"type\": \"bar\", \"x\": [\"Pasillo-1\"], \"y\": [18.302916892354094]}, {\"name\": \"Pasillo-3\", \"type\": \"bar\", \"x\": [\"Pasillo-3\"], \"y\": [17.84816569869451]}, {\"name\": \"Salon-2\", \"type\": \"bar\", \"x\": [\"Salon-2\"], \"y\": [17.583882013961222]}, {\"name\": \"Habitacion3-1\", \"type\": \"bar\", \"x\": [\"Habitacion3-1\"], \"y\": [17.5193816402745]}, {\"name\": \"Salon-5\", \"type\": \"bar\", \"x\": [\"Salon-5\"], \"y\": [17.324888733851715]}, {\"name\": \"Habitacion1-1\", \"type\": \"bar\", \"x\": [\"Habitacion1-1\"], \"y\": [17.280659036353903]}, {\"name\": \"Lavabo2-1\", \"type\": \"bar\", \"x\": [\"Lavabo2-1\"], \"y\": [17.278915495712766]}, {\"name\": \"Salon-1\", \"type\": \"bar\", \"x\": [\"Salon-1\"], \"y\": [17.145302215299573]}, {\"name\": \"Habitacion3-3\", \"type\": \"bar\", \"x\": [\"Habitacion3-3\"], \"y\": [17.019731864146916]}, {\"name\": \"Habitacion2-1\", \"type\": \"bar\", \"x\": [\"Habitacion2-1\"], \"y\": [16.95256263026718]}, {\"name\": \"Salon-4\", \"type\": \"bar\", \"x\": [\"Salon-4\"], \"y\": [16.898403034883977]}, {\"name\": \"Habitacion1-2\", \"type\": \"bar\", \"x\": [\"Habitacion1-2\"], \"y\": [16.879688038152132]}, {\"name\": \"Habitacion3-2\", \"type\": \"bar\", \"x\": [\"Habitacion3-2\"], \"y\": [16.653230498850156]}, {\"name\": \"Habitacion2-2\", \"type\": \"bar\", \"x\": [\"Habitacion2-2\"], \"y\": [16.418902883011786]}, {\"name\": \"Lavabo1-1\", \"type\": \"bar\", \"x\": [\"Lavabo1-1\"], \"y\": [16.219160612750077]}, {\"name\": \"Habitacion3-4\", \"type\": \"bar\", \"x\": [\"Habitacion3-4\"], \"y\": [16.073892064386847]}, {\"name\": \"Salon-3\", \"type\": \"bar\", \"x\": [\"Salon-3\"], \"y\": [15.289121404448967]}, {\"name\": \"Salon-6\", \"type\": \"bar\", \"x\": [\"Salon-6\"], \"y\": [15.103268653211241]}, {\"name\": \"Cocina-1\", \"type\": \"bar\", \"x\": [\"Cocina-1\"], \"y\": [13.951305661623687]}, {\"name\": \"Cocina-2\", \"type\": \"bar\", \"x\": [\"Cocina-2\"], \"y\": [13.919441837914695]}, {\"name\": \"Terraza-2\", \"type\": \"bar\", \"x\": [\"Terraza-2\"], \"y\": [12.982237908534165]}, {\"name\": \"Terraza-3\", \"type\": \"bar\", \"x\": [\"Terraza-3\"], \"y\": [10.755552855987167]}, {\"name\": \"Terraza-1\", \"type\": \"bar\", \"x\": [\"Terraza-1\"], \"y\": [10.31954534641303]}],\n",
       "                        {\"showlegend\": false, \"template\": {\"data\": {\"bar\": [{\"error_x\": {\"color\": \"#f2f5fa\"}, \"error_y\": {\"color\": \"#f2f5fa\"}, \"marker\": {\"line\": {\"color\": \"rgb(17,17,17)\", \"width\": 0.5}}, \"type\": \"bar\"}], \"barpolar\": [{\"marker\": {\"line\": {\"color\": \"rgb(17,17,17)\", \"width\": 0.5}}, \"type\": \"barpolar\"}], \"carpet\": [{\"aaxis\": {\"endlinecolor\": \"#A2B1C6\", \"gridcolor\": \"#506784\", \"linecolor\": \"#506784\", \"minorgridcolor\": \"#506784\", \"startlinecolor\": \"#A2B1C6\"}, \"baxis\": {\"endlinecolor\": \"#A2B1C6\", \"gridcolor\": \"#506784\", \"linecolor\": \"#506784\", \"minorgridcolor\": \"#506784\", \"startlinecolor\": \"#A2B1C6\"}, \"type\": \"carpet\"}], \"choropleth\": [{\"colorbar\": {\"outlinewidth\": 0, \"ticks\": \"\"}, \"type\": \"choropleth\"}], \"contour\": [{\"colorbar\": {\"outlinewidth\": 0, \"ticks\": \"\"}, \"colorscale\": [[0.0, \"#0d0887\"], [0.1111111111111111, \"#46039f\"], [0.2222222222222222, \"#7201a8\"], [0.3333333333333333, \"#9c179e\"], [0.4444444444444444, \"#bd3786\"], [0.5555555555555556, \"#d8576b\"], [0.6666666666666666, \"#ed7953\"], [0.7777777777777778, \"#fb9f3a\"], [0.8888888888888888, \"#fdca26\"], [1.0, \"#f0f921\"]], \"type\": \"contour\"}], \"contourcarpet\": [{\"colorbar\": {\"outlinewidth\": 0, \"ticks\": \"\"}, \"type\": \"contourcarpet\"}], \"heatmap\": [{\"colorbar\": {\"outlinewidth\": 0, \"ticks\": \"\"}, \"colorscale\": [[0.0, \"#0d0887\"], [0.1111111111111111, \"#46039f\"], [0.2222222222222222, \"#7201a8\"], [0.3333333333333333, \"#9c179e\"], [0.4444444444444444, \"#bd3786\"], [0.5555555555555556, \"#d8576b\"], [0.6666666666666666, \"#ed7953\"], [0.7777777777777778, \"#fb9f3a\"], [0.8888888888888888, \"#fdca26\"], [1.0, \"#f0f921\"]], \"type\": \"heatmap\"}], \"heatmapgl\": [{\"colorbar\": {\"outlinewidth\": 0, \"ticks\": \"\"}, \"colorscale\": [[0.0, \"#0d0887\"], [0.1111111111111111, \"#46039f\"], [0.2222222222222222, \"#7201a8\"], [0.3333333333333333, \"#9c179e\"], [0.4444444444444444, \"#bd3786\"], [0.5555555555555556, \"#d8576b\"], [0.6666666666666666, \"#ed7953\"], [0.7777777777777778, \"#fb9f3a\"], [0.8888888888888888, \"#fdca26\"], [1.0, \"#f0f921\"]], \"type\": \"heatmapgl\"}], \"histogram\": [{\"marker\": {\"colorbar\": {\"outlinewidth\": 0, \"ticks\": \"\"}}, \"type\": \"histogram\"}], \"histogram2d\": [{\"colorbar\": {\"outlinewidth\": 0, \"ticks\": \"\"}, \"colorscale\": [[0.0, \"#0d0887\"], [0.1111111111111111, \"#46039f\"], [0.2222222222222222, \"#7201a8\"], [0.3333333333333333, \"#9c179e\"], [0.4444444444444444, \"#bd3786\"], [0.5555555555555556, \"#d8576b\"], [0.6666666666666666, \"#ed7953\"], [0.7777777777777778, \"#fb9f3a\"], [0.8888888888888888, \"#fdca26\"], [1.0, \"#f0f921\"]], \"type\": \"histogram2d\"}], \"histogram2dcontour\": [{\"colorbar\": {\"outlinewidth\": 0, \"ticks\": \"\"}, \"colorscale\": [[0.0, \"#0d0887\"], [0.1111111111111111, \"#46039f\"], [0.2222222222222222, \"#7201a8\"], [0.3333333333333333, \"#9c179e\"], [0.4444444444444444, \"#bd3786\"], [0.5555555555555556, \"#d8576b\"], [0.6666666666666666, \"#ed7953\"], [0.7777777777777778, \"#fb9f3a\"], [0.8888888888888888, \"#fdca26\"], [1.0, \"#f0f921\"]], \"type\": \"histogram2dcontour\"}], \"mesh3d\": [{\"colorbar\": {\"outlinewidth\": 0, \"ticks\": \"\"}, \"type\": \"mesh3d\"}], \"parcoords\": [{\"line\": {\"colorbar\": {\"outlinewidth\": 0, \"ticks\": \"\"}}, \"type\": \"parcoords\"}], \"pie\": [{\"automargin\": true, \"type\": \"pie\"}], \"scatter\": [{\"marker\": {\"line\": {\"color\": \"#283442\"}}, \"type\": \"scatter\"}], \"scatter3d\": [{\"line\": {\"colorbar\": {\"outlinewidth\": 0, \"ticks\": \"\"}}, \"marker\": {\"colorbar\": {\"outlinewidth\": 0, \"ticks\": \"\"}}, \"type\": \"scatter3d\"}], \"scattercarpet\": [{\"marker\": {\"colorbar\": {\"outlinewidth\": 0, \"ticks\": \"\"}}, \"type\": \"scattercarpet\"}], \"scattergeo\": [{\"marker\": {\"colorbar\": {\"outlinewidth\": 0, \"ticks\": \"\"}}, \"type\": \"scattergeo\"}], \"scattergl\": [{\"marker\": {\"line\": {\"color\": \"#283442\"}}, \"type\": \"scattergl\"}], \"scattermapbox\": [{\"marker\": {\"colorbar\": {\"outlinewidth\": 0, \"ticks\": \"\"}}, \"type\": \"scattermapbox\"}], \"scatterpolar\": [{\"marker\": {\"colorbar\": {\"outlinewidth\": 0, \"ticks\": \"\"}}, \"type\": \"scatterpolar\"}], \"scatterpolargl\": [{\"marker\": {\"colorbar\": {\"outlinewidth\": 0, \"ticks\": \"\"}}, \"type\": \"scatterpolargl\"}], \"scatterternary\": [{\"marker\": {\"colorbar\": {\"outlinewidth\": 0, \"ticks\": \"\"}}, \"type\": \"scatterternary\"}], \"surface\": [{\"colorbar\": {\"outlinewidth\": 0, \"ticks\": \"\"}, \"colorscale\": [[0.0, \"#0d0887\"], [0.1111111111111111, \"#46039f\"], [0.2222222222222222, \"#7201a8\"], [0.3333333333333333, \"#9c179e\"], [0.4444444444444444, \"#bd3786\"], [0.5555555555555556, \"#d8576b\"], [0.6666666666666666, \"#ed7953\"], [0.7777777777777778, \"#fb9f3a\"], [0.8888888888888888, \"#fdca26\"], [1.0, \"#f0f921\"]], \"type\": \"surface\"}], \"table\": [{\"cells\": {\"fill\": {\"color\": \"#506784\"}, \"line\": {\"color\": \"rgb(17,17,17)\"}}, \"header\": {\"fill\": {\"color\": \"#2a3f5f\"}, \"line\": {\"color\": \"rgb(17,17,17)\"}}, \"type\": \"table\"}]}, \"layout\": {\"annotationdefaults\": {\"arrowcolor\": \"#f2f5fa\", \"arrowhead\": 0, \"arrowwidth\": 1}, \"coloraxis\": {\"colorbar\": {\"outlinewidth\": 0, \"ticks\": \"\"}}, \"colorscale\": {\"diverging\": [[0, \"#8e0152\"], [0.1, \"#c51b7d\"], [0.2, \"#de77ae\"], [0.3, \"#f1b6da\"], [0.4, \"#fde0ef\"], [0.5, \"#f7f7f7\"], [0.6, \"#e6f5d0\"], [0.7, \"#b8e186\"], [0.8, \"#7fbc41\"], [0.9, \"#4d9221\"], [1, \"#276419\"]], \"sequential\": [[0.0, \"#0d0887\"], [0.1111111111111111, \"#46039f\"], [0.2222222222222222, \"#7201a8\"], [0.3333333333333333, \"#9c179e\"], [0.4444444444444444, \"#bd3786\"], [0.5555555555555556, \"#d8576b\"], [0.6666666666666666, \"#ed7953\"], [0.7777777777777778, \"#fb9f3a\"], [0.8888888888888888, \"#fdca26\"], [1.0, \"#f0f921\"]], \"sequentialminus\": [[0.0, \"#0d0887\"], [0.1111111111111111, \"#46039f\"], [0.2222222222222222, \"#7201a8\"], [0.3333333333333333, \"#9c179e\"], [0.4444444444444444, \"#bd3786\"], [0.5555555555555556, \"#d8576b\"], [0.6666666666666666, \"#ed7953\"], [0.7777777777777778, \"#fb9f3a\"], [0.8888888888888888, \"#fdca26\"], [1.0, \"#f0f921\"]]}, \"colorway\": [\"#636efa\", \"#EF553B\", \"#00cc96\", \"#ab63fa\", \"#FFA15A\", \"#19d3f3\", \"#FF6692\", \"#B6E880\", \"#FF97FF\", \"#FECB52\"], \"font\": {\"color\": \"#f2f5fa\"}, \"geo\": {\"bgcolor\": \"rgb(17,17,17)\", \"lakecolor\": \"rgb(17,17,17)\", \"landcolor\": \"rgb(17,17,17)\", \"showlakes\": true, \"showland\": true, \"subunitcolor\": \"#506784\"}, \"hoverlabel\": {\"align\": \"left\"}, \"hovermode\": \"closest\", \"mapbox\": {\"style\": \"dark\"}, \"paper_bgcolor\": \"rgb(17,17,17)\", \"plot_bgcolor\": \"rgb(17,17,17)\", \"polar\": {\"angularaxis\": {\"gridcolor\": \"#506784\", \"linecolor\": \"#506784\", \"ticks\": \"\"}, \"bgcolor\": \"rgb(17,17,17)\", \"radialaxis\": {\"gridcolor\": \"#506784\", \"linecolor\": \"#506784\", \"ticks\": \"\"}}, \"scene\": {\"xaxis\": {\"backgroundcolor\": \"rgb(17,17,17)\", \"gridcolor\": \"#506784\", \"gridwidth\": 2, \"linecolor\": \"#506784\", \"showbackground\": true, \"ticks\": \"\", \"zerolinecolor\": \"#C8D4E3\"}, \"yaxis\": {\"backgroundcolor\": \"rgb(17,17,17)\", \"gridcolor\": \"#506784\", \"gridwidth\": 2, \"linecolor\": \"#506784\", \"showbackground\": true, \"ticks\": \"\", \"zerolinecolor\": \"#C8D4E3\"}, \"zaxis\": {\"backgroundcolor\": \"rgb(17,17,17)\", \"gridcolor\": \"#506784\", \"gridwidth\": 2, \"linecolor\": \"#506784\", \"showbackground\": true, \"ticks\": \"\", \"zerolinecolor\": \"#C8D4E3\"}}, \"shapedefaults\": {\"line\": {\"color\": \"#f2f5fa\"}}, \"sliderdefaults\": {\"bgcolor\": \"#C8D4E3\", \"bordercolor\": \"rgb(17,17,17)\", \"borderwidth\": 1, \"tickwidth\": 0}, \"ternary\": {\"aaxis\": {\"gridcolor\": \"#506784\", \"linecolor\": \"#506784\", \"ticks\": \"\"}, \"baxis\": {\"gridcolor\": \"#506784\", \"linecolor\": \"#506784\", \"ticks\": \"\"}, \"bgcolor\": \"rgb(17,17,17)\", \"caxis\": {\"gridcolor\": \"#506784\", \"linecolor\": \"#506784\", \"ticks\": \"\"}}, \"title\": {\"x\": 0.05}, \"updatemenudefaults\": {\"bgcolor\": \"#506784\", \"borderwidth\": 0}, \"xaxis\": {\"automargin\": true, \"gridcolor\": \"#283442\", \"linecolor\": \"#506784\", \"ticks\": \"\", \"title\": {\"standoff\": 15}, \"zerolinecolor\": \"#283442\", \"zerolinewidth\": 2}, \"yaxis\": {\"automargin\": true, \"gridcolor\": \"#283442\", \"linecolor\": \"#506784\", \"ticks\": \"\", \"title\": {\"standoff\": 15}, \"zerolinecolor\": \"#283442\", \"zerolinewidth\": 2}}}, \"title\": {\"text\": \"<b>WiFi Locations Score Ranking\"}, \"xaxis\": {\"tickfont\": {\"size\": 10}}, \"yaxis\": {\"nticks\": 20, \"title\": {\"text\": \"Score\"}}},\n",
       "                        {\"responsive\": true}\n",
       "                    ).then(function(){\n",
       "                            \n",
       "var gd = document.getElementById('887b7169-5561-40f8-9a30-2925b214bf1e');\n",
       "var x = new MutationObserver(function (mutations, observer) {{\n",
       "        var display = window.getComputedStyle(gd).display;\n",
       "        if (!display || display === 'none') {{\n",
       "            console.log([gd, 'removed!']);\n",
       "            Plotly.purge(gd);\n",
       "            observer.disconnect();\n",
       "        }}\n",
       "}});\n",
       "\n",
       "// Listen for the removal of the full notebook cells\n",
       "var notebookContainer = gd.closest('#notebook-container');\n",
       "if (notebookContainer) {{\n",
       "    x.observe(notebookContainer, {childList: true});\n",
       "}}\n",
       "\n",
       "// Listen for the clearing of the current output cell\n",
       "var outputEl = gd.closest('.output');\n",
       "if (outputEl) {{\n",
       "    x.observe(outputEl, {childList: true});\n",
       "}}\n",
       "\n",
       "                        })\n",
       "                };\n",
       "                });\n",
       "            </script>\n",
       "        </div>"
      ]
     },
     "metadata": {},
     "output_type": "display_data"
    }
   ],
   "source": [
    "bar_graph = go.Figure()\n",
    "for i in range(scores_df.shape[0]) :\n",
    "    row = scores_df.iloc[i]\n",
    "    bar_graph.add_trace(go.Bar(\n",
    "        x=[row['name']],\n",
    "        y=[row['score']],\n",
    "        name=row['name']\n",
    "    ))\n",
    "\n",
    "bar_graph.update_layout(\n",
    "    title='<b>WiFi Locations Score Ranking',\n",
    "    showlegend=False,\n",
    "    xaxis=dict(\n",
    "        tickfont=dict(size=10)\n",
    "    ),\n",
    "    yaxis=dict(\n",
    "        title='Score',\n",
    "        nticks=20\n",
    "    ),\n",
    ")\n",
    "bar_graph.show()"
   ]
  },
  {
   "cell_type": "code",
   "execution_count": 85,
   "metadata": {},
   "outputs": [
    {
     "data": {
      "image/png": "[encoded data removed]",
      "text/plain": [
       "<Figure size 2160x720 with 2 Axes>"
      ]
     },
     "metadata": {
      "needs_background": "light"
     },
     "output_type": "display_data"
    }
   ],
   "source": [
    "#Draw result\n",
    "title='WiFi dBm Signal if located in {}'.format(opt_room_name)\n",
    "col_name = 'dBm_Signal'\n",
    "plot_choropleth(opt_room_df,title,col_name,label)"
   ]
  },
  {
   "cell_type": "markdown",
   "metadata": {},
   "source": [
    "## WiFi Repeater Simulation\n",
    "Como no podemos situar el WiFi en un sitio distinto, vamos a decidir a partir de otra simulacion cual es mejor lugar para colocar el repetidor. En este caso el repetidor obtiene la señal que llegue desde el WiFi a la habitacion en la que se encuentre y la reemite. La potencia de señal de cada habitacion mostrada ahora es la mayor de las que dan el repetidor y el WiFi. \n",
    "\n",
    "Ya que al repetidor debe llegar una potencia de señal aceptable, vamos a definir como posibles localizaciones aquellas a las que lleguen más de -70dBm de la señal original."
   ]
  },
  {
   "cell_type": "code",
   "execution_count": 27,
   "metadata": {},
   "outputs": [
    {
     "data": {
      "image/png": "[encoded data removed]",
      "text/plain": [
       "<Figure size 2160x720 with 2 Axes>"
      ]
     },
     "metadata": {
      "needs_background": "light"
     },
     "output_type": "display_data"
    }
   ],
   "source": [
    "def recalc_signal_strength_rep(df,source,rep) :\n",
    "    orig = df[df['name'] == source].iloc[0]\n",
    "    rep = df[df['name'] == rep].iloc[0]\n",
    "    \n",
    "    \n",
    "    def recalc_dBm (row) :\n",
    "        \n",
    "        dist1 = orig.geometry.centroid.distance(row.geometry.centroid)\n",
    "        walls1 = walls_bt[orig.zone][row.zone]\n",
    "        att1 = dist1*dBloss_per_m + walls1*dBloss_per_w\n",
    "        \n",
    "        dist2 = rep.geometry.centroid.distance(row.geometry.centroid)\n",
    "        walls2 = walls_bt[rep.zone][row.zone]\n",
    "        att2 = dist2*dBloss_per_m + walls2*dBloss_per_w\n",
    "        \n",
    "        row.dBm_Signal = dBm_max - min(att1,att2)\n",
    "        \n",
    "        return row\n",
    "    \n",
    "    return df.apply(recalc_dBm, axis=1)\n",
    "\n",
    "\n",
    "source = 'Habitacion1-1'\n",
    "rep = 'Salon-6' #Repeater location\n",
    "recalc_df = recalc_signal_strength_rep(my_wifi_5G_mean,source,rep)\n",
    "\n",
    "#Draw result\n",
    "title='WiFi dBm Signal if repeater located in {}'.format(rep)\n",
    "col_name = 'dBm_Signal'\n",
    "label='name'\n",
    "plot_choropleth(recalc_df,title,col_name,label)"
   ]
  },
  {
   "cell_type": "code",
   "execution_count": 28,
   "metadata": {},
   "outputs": [
    {
     "name": "stdout",
     "output_type": "stream",
     "text": [
      "Best repeater location is Habitacion4-2. Score = 33.45275990209972\n",
      "Signal mean -50.051dBm\n",
      "Signal std 7.501dBm\n"
     ]
    }
   ],
   "source": [
    "#Calculate optimal WiFi ubication\n",
    "def optimal_room(df) :\n",
    "    recalc_dfs = []\n",
    "    i = 0\n",
    "    max_score = -1\n",
    "    \n",
    "    source = 'Habitacion1-1'\n",
    "    \n",
    "    def calc_score(df) :\n",
    "        score = 0\n",
    "        scores = []\n",
    "        for zone in df.zone.unique() :\n",
    "            zone_df = df[df.zone == zone]\n",
    "            mW_Signal = math.pow(10,zone_df.dBm_Signal.mean()/10)\n",
    "            if zone == 5 :\n",
    "                scores.append(mW_Signal * 1.5)\n",
    "            elif zone in [1,2,3,4] :\n",
    "                scores.append(mW_Signal * 1.25)\n",
    "            else :\n",
    "                scores.append(mW_Signal * 1)\n",
    "                \n",
    "        return 10**6*sum(scores)/len(scores)\n",
    "    \n",
    "    score_rows = []\n",
    "    \n",
    "    over_threshold = my_wifi_5G_mean[my_wifi_5G_mean.dBm_Signal > -70]\n",
    "    \n",
    "    for name in over_threshold['name'].unique() :\n",
    "        recalc_df = recalc_signal_strength_rep(my_wifi_5G_mean,source,name)\n",
    "        recalc_dfs.append(recalc_df)\n",
    "        room_score = calc_score(recalc_df)\n",
    "        score_row = {'name':name,'score':room_score}\n",
    "        score_rows.append(score_row)\n",
    "        if room_score > max_score :\n",
    "            max_score = room_score\n",
    "            opt_room_df = recalc_df\n",
    "            opt_room_name = name\n",
    "            opt_room_mean = round(recalc_df.dBm_Signal.mean(),3)\n",
    "            opt_room_std = round(recalc_df.dBm_Signal.std(),3)\n",
    "    \n",
    "    scores_df = pd.DataFrame(score_rows)\n",
    "    #scores_df['score'] = scores_df['score']/scores_df['score'].max()\n",
    "    scores_df = scores_df.sort_values('score',ascending=False).reset_index(drop=True)\n",
    "    \n",
    "    print('Best repeater location is {}. Score = {}'.format(opt_room_name,max_score))\n",
    "    print('Signal mean {}dBm'.format(opt_room_mean))\n",
    "    print('Signal std {}dBm'.format(opt_room_std))\n",
    "    \n",
    "    return scores_df,opt_room_df,opt_room_name\n",
    "\n",
    "scores_df,opt_room_df,opt_room_name = optimal_room(my_wifi_5G_mean)"
   ]
  },
  {
   "cell_type": "code",
   "execution_count": 29,
   "metadata": {},
   "outputs": [
    {
     "data": {
      "application/vnd.plotly.v1+json": {
       "config": {
        "plotlyServerURL": "https://plot.ly"
       },
       "data": [
        {
         "name": "Habitacion4-2",
         "type": "bar",
         "x": [
          "Habitacion4-2"
         ],
         "y": [
          33.45275990209972
         ]
        },
        {
         "name": "Habitacion4-1",
         "type": "bar",
         "x": [
          "Habitacion4-1"
         ],
         "y": [
          33.447415023866235
         ]
        },
        {
         "name": "Salon-1",
         "type": "bar",
         "x": [
          "Salon-1"
         ],
         "y": [
          33.14389951649805
         ]
        },
        {
         "name": "Pasillo-1",
         "type": "bar",
         "x": [
          "Pasillo-1"
         ],
         "y": [
          31.960846611914302
         ]
        },
        {
         "name": "Pasillo-2",
         "type": "bar",
         "x": [
          "Pasillo-2"
         ],
         "y": [
          31.9013875951403
         ]
        },
        {
         "name": "Habitacion3-3",
         "type": "bar",
         "x": [
          "Habitacion3-3"
         ],
         "y": [
          30.199694167511627
         ]
        },
        {
         "name": "Habitacion3-1",
         "type": "bar",
         "x": [
          "Habitacion3-1"
         ],
         "y": [
          30.194235651250885
         ]
        },
        {
         "name": "Habitacion3-4",
         "type": "bar",
         "x": [
          "Habitacion3-4"
         ],
         "y": [
          29.18402626424065
         ]
        },
        {
         "name": "Habitacion2-1",
         "type": "bar",
         "x": [
          "Habitacion2-1"
         ],
         "y": [
          29.137925920884477
         ]
        },
        {
         "name": "Habitacion3-2",
         "type": "bar",
         "x": [
          "Habitacion3-2"
         ],
         "y": [
          29.07997088177275
         ]
        },
        {
         "name": "Habitacion2-2",
         "type": "bar",
         "x": [
          "Habitacion2-2"
         ],
         "y": [
          28.873880315872547
         ]
        },
        {
         "name": "Pasillo-3",
         "type": "bar",
         "x": [
          "Pasillo-3"
         ],
         "y": [
          28.748560491978214
         ]
        },
        {
         "name": "Terraza-2",
         "type": "bar",
         "x": [
          "Terraza-2"
         ],
         "y": [
          28.50062247752586
         ]
        },
        {
         "name": "Habitacion1-2",
         "type": "bar",
         "x": [
          "Habitacion1-2"
         ],
         "y": [
          19.790190577237478
         ]
        },
        {
         "name": "Habitacion1-1",
         "type": "bar",
         "x": [
          "Habitacion1-1"
         ],
         "y": [
          17.280659036353903
         ]
        }
       ],
       "layout": {
        "showlegend": false,
        "template": {
         "data": {
          "bar": [
           {
            "error_x": {
             "color": "#f2f5fa"
            },
            "error_y": {
             "color": "#f2f5fa"
            },
            "marker": {
             "line": {
              "color": "rgb(17,17,17)",
              "width": 0.5
             }
            },
            "type": "bar"
           }
          ],
          "barpolar": [
           {
            "marker": {
             "line": {
              "color": "rgb(17,17,17)",
              "width": 0.5
             }
            },
            "type": "barpolar"
           }
          ],
          "carpet": [
           {
            "aaxis": {
             "endlinecolor": "#A2B1C6",
             "gridcolor": "#506784",
             "linecolor": "#506784",
             "minorgridcolor": "#506784",
             "startlinecolor": "#A2B1C6"
            },
            "baxis": {
             "endlinecolor": "#A2B1C6",
             "gridcolor": "#506784",
             "linecolor": "#506784",
             "minorgridcolor": "#506784",
             "startlinecolor": "#A2B1C6"
            },
            "type": "carpet"
           }
          ],
          "choropleth": [
           {
            "colorbar": {
             "outlinewidth": 0,
             "ticks": ""
            },
            "type": "choropleth"
           }
          ],
          "contour": [
           {
            "colorbar": {
             "outlinewidth": 0,
             "ticks": ""
            },
            "colorscale": [
             [
              0,
              "#0d0887"
             ],
             [
              0.1111111111111111,
              "#46039f"
             ],
             [
              0.2222222222222222,
              "#7201a8"
             ],
             [
              0.3333333333333333,
              "#9c179e"
             ],
             [
              0.4444444444444444,
              "#bd3786"
             ],
             [
              0.5555555555555556,
              "#d8576b"
             ],
             [
              0.6666666666666666,
              "#ed7953"
             ],
             [
              0.7777777777777778,
              "#fb9f3a"
             ],
             [
              0.8888888888888888,
              "#fdca26"
             ],
             [
              1,
              "#f0f921"
             ]
            ],
            "type": "contour"
           }
          ],
          "contourcarpet": [
           {
            "colorbar": {
             "outlinewidth": 0,
             "ticks": ""
            },
            "type": "contourcarpet"
           }
          ],
          "heatmap": [
           {
            "colorbar": {
             "outlinewidth": 0,
             "ticks": ""
            },
            "colorscale": [
             [
              0,
              "#0d0887"
             ],
             [
              0.1111111111111111,
              "#46039f"
             ],
             [
              0.2222222222222222,
              "#7201a8"
             ],
             [
              0.3333333333333333,
              "#9c179e"
             ],
             [
              0.4444444444444444,
              "#bd3786"
             ],
             [
              0.5555555555555556,
              "#d8576b"
             ],
             [
              0.6666666666666666,
              "#ed7953"
             ],
             [
              0.7777777777777778,
              "#fb9f3a"
             ],
             [
              0.8888888888888888,
              "#fdca26"
             ],
             [
              1,
              "#f0f921"
             ]
            ],
            "type": "heatmap"
           }
          ],
          "heatmapgl": [
           {
            "colorbar": {
             "outlinewidth": 0,
             "ticks": ""
            },
            "colorscale": [
             [
              0,
              "#0d0887"
             ],
             [
              0.1111111111111111,
              "#46039f"
             ],
             [
              0.2222222222222222,
              "#7201a8"
             ],
             [
              0.3333333333333333,
              "#9c179e"
             ],
             [
              0.4444444444444444,
              "#bd3786"
             ],
             [
              0.5555555555555556,
              "#d8576b"
             ],
             [
              0.6666666666666666,
              "#ed7953"
             ],
             [
              0.7777777777777778,
              "#fb9f3a"
             ],
             [
              0.8888888888888888,
              "#fdca26"
             ],
             [
              1,
              "#f0f921"
             ]
            ],
            "type": "heatmapgl"
           }
          ],
          "histogram": [
           {
            "marker": {
             "colorbar": {
              "outlinewidth": 0,
              "ticks": ""
             }
            },
            "type": "histogram"
           }
          ],
          "histogram2d": [
           {
            "colorbar": {
             "outlinewidth": 0,
             "ticks": ""
            },
            "colorscale": [
             [
              0,
              "#0d0887"
             ],
             [
              0.1111111111111111,
              "#46039f"
             ],
             [
              0.2222222222222222,
              "#7201a8"
             ],
             [
              0.3333333333333333,
              "#9c179e"
             ],
             [
              0.4444444444444444,
              "#bd3786"
             ],
             [
              0.5555555555555556,
              "#d8576b"
             ],
             [
              0.6666666666666666,
              "#ed7953"
             ],
             [
              0.7777777777777778,
              "#fb9f3a"
             ],
             [
              0.8888888888888888,
              "#fdca26"
             ],
             [
              1,
              "#f0f921"
             ]
            ],
            "type": "histogram2d"
           }
          ],
          "histogram2dcontour": [
           {
            "colorbar": {
             "outlinewidth": 0,
             "ticks": ""
            },
            "colorscale": [
             [
              0,
              "#0d0887"
             ],
             [
              0.1111111111111111,
              "#46039f"
             ],
             [
              0.2222222222222222,
              "#7201a8"
             ],
             [
              0.3333333333333333,
              "#9c179e"
             ],
             [
              0.4444444444444444,
              "#bd3786"
             ],
             [
              0.5555555555555556,
              "#d8576b"
             ],
             [
              0.6666666666666666,
              "#ed7953"
             ],
             [
              0.7777777777777778,
              "#fb9f3a"
             ],
             [
              0.8888888888888888,
              "#fdca26"
             ],
             [
              1,
              "#f0f921"
             ]
            ],
            "type": "histogram2dcontour"
           }
          ],
          "mesh3d": [
           {
            "colorbar": {
             "outlinewidth": 0,
             "ticks": ""
            },
            "type": "mesh3d"
           }
          ],
          "parcoords": [
           {
            "line": {
             "colorbar": {
              "outlinewidth": 0,
              "ticks": ""
             }
            },
            "type": "parcoords"
           }
          ],
          "pie": [
           {
            "automargin": true,
            "type": "pie"
           }
          ],
          "scatter": [
           {
            "marker": {
             "line": {
              "color": "#283442"
             }
            },
            "type": "scatter"
           }
          ],
          "scatter3d": [
           {
            "line": {
             "colorbar": {
              "outlinewidth": 0,
              "ticks": ""
             }
            },
            "marker": {
             "colorbar": {
              "outlinewidth": 0,
              "ticks": ""
             }
            },
            "type": "scatter3d"
           }
          ],
          "scattercarpet": [
           {
            "marker": {
             "colorbar": {
              "outlinewidth": 0,
              "ticks": ""
             }
            },
            "type": "scattercarpet"
           }
          ],
          "scattergeo": [
           {
            "marker": {
             "colorbar": {
              "outlinewidth": 0,
              "ticks": ""
             }
            },
            "type": "scattergeo"
           }
          ],
          "scattergl": [
           {
            "marker": {
             "line": {
              "color": "#283442"
             }
            },
            "type": "scattergl"
           }
          ],
          "scattermapbox": [
           {
            "marker": {
             "colorbar": {
              "outlinewidth": 0,
              "ticks": ""
             }
            },
            "type": "scattermapbox"
           }
          ],
          "scatterpolar": [
           {
            "marker": {
             "colorbar": {
              "outlinewidth": 0,
              "ticks": ""
             }
            },
            "type": "scatterpolar"
           }
          ],
          "scatterpolargl": [
           {
            "marker": {
             "colorbar": {
              "outlinewidth": 0,
              "ticks": ""
             }
            },
            "type": "scatterpolargl"
           }
          ],
          "scatterternary": [
           {
            "marker": {
             "colorbar": {
              "outlinewidth": 0,
              "ticks": ""
             }
            },
            "type": "scatterternary"
           }
          ],
          "surface": [
           {
            "colorbar": {
             "outlinewidth": 0,
             "ticks": ""
            },
            "colorscale": [
             [
              0,
              "#0d0887"
             ],
             [
              0.1111111111111111,
              "#46039f"
             ],
             [
              0.2222222222222222,
              "#7201a8"
             ],
             [
              0.3333333333333333,
              "#9c179e"
             ],
             [
              0.4444444444444444,
              "#bd3786"
             ],
             [
              0.5555555555555556,
              "#d8576b"
             ],
             [
              0.6666666666666666,
              "#ed7953"
             ],
             [
              0.7777777777777778,
              "#fb9f3a"
             ],
             [
              0.8888888888888888,
              "#fdca26"
             ],
             [
              1,
              "#f0f921"
             ]
            ],
            "type": "surface"
           }
          ],
          "table": [
           {
            "cells": {
             "fill": {
              "color": "#506784"
             },
             "line": {
              "color": "rgb(17,17,17)"
             }
            },
            "header": {
             "fill": {
              "color": "#2a3f5f"
             },
             "line": {
              "color": "rgb(17,17,17)"
             }
            },
            "type": "table"
           }
          ]
         },
         "layout": {
          "annotationdefaults": {
           "arrowcolor": "#f2f5fa",
           "arrowhead": 0,
           "arrowwidth": 1
          },
          "coloraxis": {
           "colorbar": {
            "outlinewidth": 0,
            "ticks": ""
           }
          },
          "colorscale": {
           "diverging": [
            [
             0,
             "#8e0152"
            ],
            [
             0.1,
             "#c51b7d"
            ],
            [
             0.2,
             "#de77ae"
            ],
            [
             0.3,
             "#f1b6da"
            ],
            [
             0.4,
             "#fde0ef"
            ],
            [
             0.5,
             "#f7f7f7"
            ],
            [
             0.6,
             "#e6f5d0"
            ],
            [
             0.7,
             "#b8e186"
            ],
            [
             0.8,
             "#7fbc41"
            ],
            [
             0.9,
             "#4d9221"
            ],
            [
             1,
             "#276419"
            ]
           ],
           "sequential": [
            [
             0,
             "#0d0887"
            ],
            [
             0.1111111111111111,
             "#46039f"
            ],
            [
             0.2222222222222222,
             "#7201a8"
            ],
            [
             0.3333333333333333,
             "#9c179e"
            ],
            [
             0.4444444444444444,
             "#bd3786"
            ],
            [
             0.5555555555555556,
             "#d8576b"
            ],
            [
             0.6666666666666666,
             "#ed7953"
            ],
            [
             0.7777777777777778,
             "#fb9f3a"
            ],
            [
             0.8888888888888888,
             "#fdca26"
            ],
            [
             1,
             "#f0f921"
            ]
           ],
           "sequentialminus": [
            [
             0,
             "#0d0887"
            ],
            [
             0.1111111111111111,
             "#46039f"
            ],
            [
             0.2222222222222222,
             "#7201a8"
            ],
            [
             0.3333333333333333,
             "#9c179e"
            ],
            [
             0.4444444444444444,
             "#bd3786"
            ],
            [
             0.5555555555555556,
             "#d8576b"
            ],
            [
             0.6666666666666666,
             "#ed7953"
            ],
            [
             0.7777777777777778,
             "#fb9f3a"
            ],
            [
             0.8888888888888888,
             "#fdca26"
            ],
            [
             1,
             "#f0f921"
            ]
           ]
          },
          "colorway": [
           "#636efa",
           "#EF553B",
           "#00cc96",
           "#ab63fa",
           "#FFA15A",
           "#19d3f3",
           "#FF6692",
           "#B6E880",
           "#FF97FF",
           "#FECB52"
          ],
          "font": {
           "color": "#f2f5fa"
          },
          "geo": {
           "bgcolor": "rgb(17,17,17)",
           "lakecolor": "rgb(17,17,17)",
           "landcolor": "rgb(17,17,17)",
           "showlakes": true,
           "showland": true,
           "subunitcolor": "#506784"
          },
          "hoverlabel": {
           "align": "left"
          },
          "hovermode": "closest",
          "mapbox": {
           "style": "dark"
          },
          "paper_bgcolor": "rgb(17,17,17)",
          "plot_bgcolor": "rgb(17,17,17)",
          "polar": {
           "angularaxis": {
            "gridcolor": "#506784",
            "linecolor": "#506784",
            "ticks": ""
           },
           "bgcolor": "rgb(17,17,17)",
           "radialaxis": {
            "gridcolor": "#506784",
            "linecolor": "#506784",
            "ticks": ""
           }
          },
          "scene": {
           "xaxis": {
            "backgroundcolor": "rgb(17,17,17)",
            "gridcolor": "#506784",
            "gridwidth": 2,
            "linecolor": "#506784",
            "showbackground": true,
            "ticks": "",
            "zerolinecolor": "#C8D4E3"
           },
           "yaxis": {
            "backgroundcolor": "rgb(17,17,17)",
            "gridcolor": "#506784",
            "gridwidth": 2,
            "linecolor": "#506784",
            "showbackground": true,
            "ticks": "",
            "zerolinecolor": "#C8D4E3"
           },
           "zaxis": {
            "backgroundcolor": "rgb(17,17,17)",
            "gridcolor": "#506784",
            "gridwidth": 2,
            "linecolor": "#506784",
            "showbackground": true,
            "ticks": "",
            "zerolinecolor": "#C8D4E3"
           }
          },
          "shapedefaults": {
           "line": {
            "color": "#f2f5fa"
           }
          },
          "sliderdefaults": {
           "bgcolor": "#C8D4E3",
           "bordercolor": "rgb(17,17,17)",
           "borderwidth": 1,
           "tickwidth": 0
          },
          "ternary": {
           "aaxis": {
            "gridcolor": "#506784",
            "linecolor": "#506784",
            "ticks": ""
           },
           "baxis": {
            "gridcolor": "#506784",
            "linecolor": "#506784",
            "ticks": ""
           },
           "bgcolor": "rgb(17,17,17)",
           "caxis": {
            "gridcolor": "#506784",
            "linecolor": "#506784",
            "ticks": ""
           }
          },
          "title": {
           "x": 0.05
          },
          "updatemenudefaults": {
           "bgcolor": "#506784",
           "borderwidth": 0
          },
          "xaxis": {
           "automargin": true,
           "gridcolor": "#283442",
           "linecolor": "#506784",
           "ticks": "",
           "title": {
            "standoff": 15
           },
           "zerolinecolor": "#283442",
           "zerolinewidth": 2
          },
          "yaxis": {
           "automargin": true,
           "gridcolor": "#283442",
           "linecolor": "#506784",
           "ticks": "",
           "title": {
            "standoff": 15
           },
           "zerolinecolor": "#283442",
           "zerolinewidth": 2
          }
         }
        },
        "title": {
         "text": "<b>Repeater Locations Score Ranking"
        },
        "xaxis": {
         "tickfont": {
          "size": 10
         }
        },
        "yaxis": {
         "nticks": 20,
         "title": {
          "text": "Score"
         }
        }
       }
      },
      "text/html": [
       "<div>\n",
       "        \n",
       "        \n",
       "            <div id=\"106ba79f-f09f-41c4-b584-56620f2f7683\" class=\"plotly-graph-div\" style=\"height:525px; width:100%;\"></div>\n",
       "            <script type=\"text/javascript\">\n",
       "                require([\"plotly\"], function(Plotly) {\n",
       "                    window.PLOTLYENV=window.PLOTLYENV || {};\n",
       "                    \n",
       "                if (document.getElementById(\"106ba79f-f09f-41c4-b584-56620f2f7683\")) {\n",
       "                    Plotly.newPlot(\n",
       "                        '106ba79f-f09f-41c4-b584-56620f2f7683',\n",
       "                        [{\"name\": \"Habitacion4-2\", \"type\": \"bar\", \"x\": [\"Habitacion4-2\"], \"y\": [33.45275990209972]}, {\"name\": \"Habitacion4-1\", \"type\": \"bar\", \"x\": [\"Habitacion4-1\"], \"y\": [33.447415023866235]}, {\"name\": \"Salon-1\", \"type\": \"bar\", \"x\": [\"Salon-1\"], \"y\": [33.14389951649805]}, {\"name\": \"Pasillo-1\", \"type\": \"bar\", \"x\": [\"Pasillo-1\"], \"y\": [31.960846611914302]}, {\"name\": \"Pasillo-2\", \"type\": \"bar\", \"x\": [\"Pasillo-2\"], \"y\": [31.9013875951403]}, {\"name\": \"Habitacion3-3\", \"type\": \"bar\", \"x\": [\"Habitacion3-3\"], \"y\": [30.199694167511627]}, {\"name\": \"Habitacion3-1\", \"type\": \"bar\", \"x\": [\"Habitacion3-1\"], \"y\": [30.194235651250885]}, {\"name\": \"Habitacion3-4\", \"type\": \"bar\", \"x\": [\"Habitacion3-4\"], \"y\": [29.18402626424065]}, {\"name\": \"Habitacion2-1\", \"type\": \"bar\", \"x\": [\"Habitacion2-1\"], \"y\": [29.137925920884477]}, {\"name\": \"Habitacion3-2\", \"type\": \"bar\", \"x\": [\"Habitacion3-2\"], \"y\": [29.07997088177275]}, {\"name\": \"Habitacion2-2\", \"type\": \"bar\", \"x\": [\"Habitacion2-2\"], \"y\": [28.873880315872547]}, {\"name\": \"Pasillo-3\", \"type\": \"bar\", \"x\": [\"Pasillo-3\"], \"y\": [28.748560491978214]}, {\"name\": \"Terraza-2\", \"type\": \"bar\", \"x\": [\"Terraza-2\"], \"y\": [28.50062247752586]}, {\"name\": \"Habitacion1-2\", \"type\": \"bar\", \"x\": [\"Habitacion1-2\"], \"y\": [19.790190577237478]}, {\"name\": \"Habitacion1-1\", \"type\": \"bar\", \"x\": [\"Habitacion1-1\"], \"y\": [17.280659036353903]}],\n",
       "                        {\"showlegend\": false, \"template\": {\"data\": {\"bar\": [{\"error_x\": {\"color\": \"#f2f5fa\"}, \"error_y\": {\"color\": \"#f2f5fa\"}, \"marker\": {\"line\": {\"color\": \"rgb(17,17,17)\", \"width\": 0.5}}, \"type\": \"bar\"}], \"barpolar\": [{\"marker\": {\"line\": {\"color\": \"rgb(17,17,17)\", \"width\": 0.5}}, \"type\": \"barpolar\"}], \"carpet\": [{\"aaxis\": {\"endlinecolor\": \"#A2B1C6\", \"gridcolor\": \"#506784\", \"linecolor\": \"#506784\", \"minorgridcolor\": \"#506784\", \"startlinecolor\": \"#A2B1C6\"}, \"baxis\": {\"endlinecolor\": \"#A2B1C6\", \"gridcolor\": \"#506784\", \"linecolor\": \"#506784\", \"minorgridcolor\": \"#506784\", \"startlinecolor\": \"#A2B1C6\"}, \"type\": \"carpet\"}], \"choropleth\": [{\"colorbar\": {\"outlinewidth\": 0, \"ticks\": \"\"}, \"type\": \"choropleth\"}], \"contour\": [{\"colorbar\": {\"outlinewidth\": 0, \"ticks\": \"\"}, \"colorscale\": [[0.0, \"#0d0887\"], [0.1111111111111111, \"#46039f\"], [0.2222222222222222, \"#7201a8\"], [0.3333333333333333, \"#9c179e\"], [0.4444444444444444, \"#bd3786\"], [0.5555555555555556, \"#d8576b\"], [0.6666666666666666, \"#ed7953\"], [0.7777777777777778, \"#fb9f3a\"], [0.8888888888888888, \"#fdca26\"], [1.0, \"#f0f921\"]], \"type\": \"contour\"}], \"contourcarpet\": [{\"colorbar\": {\"outlinewidth\": 0, \"ticks\": \"\"}, \"type\": \"contourcarpet\"}], \"heatmap\": [{\"colorbar\": {\"outlinewidth\": 0, \"ticks\": \"\"}, \"colorscale\": [[0.0, \"#0d0887\"], [0.1111111111111111, \"#46039f\"], [0.2222222222222222, \"#7201a8\"], [0.3333333333333333, \"#9c179e\"], [0.4444444444444444, \"#bd3786\"], [0.5555555555555556, \"#d8576b\"], [0.6666666666666666, \"#ed7953\"], [0.7777777777777778, \"#fb9f3a\"], [0.8888888888888888, \"#fdca26\"], [1.0, \"#f0f921\"]], \"type\": \"heatmap\"}], \"heatmapgl\": [{\"colorbar\": {\"outlinewidth\": 0, \"ticks\": \"\"}, \"colorscale\": [[0.0, \"#0d0887\"], [0.1111111111111111, \"#46039f\"], [0.2222222222222222, \"#7201a8\"], [0.3333333333333333, \"#9c179e\"], [0.4444444444444444, \"#bd3786\"], [0.5555555555555556, \"#d8576b\"], [0.6666666666666666, \"#ed7953\"], [0.7777777777777778, \"#fb9f3a\"], [0.8888888888888888, \"#fdca26\"], [1.0, \"#f0f921\"]], \"type\": \"heatmapgl\"}], \"histogram\": [{\"marker\": {\"colorbar\": {\"outlinewidth\": 0, \"ticks\": \"\"}}, \"type\": \"histogram\"}], \"histogram2d\": [{\"colorbar\": {\"outlinewidth\": 0, \"ticks\": \"\"}, \"colorscale\": [[0.0, \"#0d0887\"], [0.1111111111111111, \"#46039f\"], [0.2222222222222222, \"#7201a8\"], [0.3333333333333333, \"#9c179e\"], [0.4444444444444444, \"#bd3786\"], [0.5555555555555556, \"#d8576b\"], [0.6666666666666666, \"#ed7953\"], [0.7777777777777778, \"#fb9f3a\"], [0.8888888888888888, \"#fdca26\"], [1.0, \"#f0f921\"]], \"type\": \"histogram2d\"}], \"histogram2dcontour\": [{\"colorbar\": {\"outlinewidth\": 0, \"ticks\": \"\"}, \"colorscale\": [[0.0, \"#0d0887\"], [0.1111111111111111, \"#46039f\"], [0.2222222222222222, \"#7201a8\"], [0.3333333333333333, \"#9c179e\"], [0.4444444444444444, \"#bd3786\"], [0.5555555555555556, \"#d8576b\"], [0.6666666666666666, \"#ed7953\"], [0.7777777777777778, \"#fb9f3a\"], [0.8888888888888888, \"#fdca26\"], [1.0, \"#f0f921\"]], \"type\": \"histogram2dcontour\"}], \"mesh3d\": [{\"colorbar\": {\"outlinewidth\": 0, \"ticks\": \"\"}, \"type\": \"mesh3d\"}], \"parcoords\": [{\"line\": {\"colorbar\": {\"outlinewidth\": 0, \"ticks\": \"\"}}, \"type\": \"parcoords\"}], \"pie\": [{\"automargin\": true, \"type\": \"pie\"}], \"scatter\": [{\"marker\": {\"line\": {\"color\": \"#283442\"}}, \"type\": \"scatter\"}], \"scatter3d\": [{\"line\": {\"colorbar\": {\"outlinewidth\": 0, \"ticks\": \"\"}}, \"marker\": {\"colorbar\": {\"outlinewidth\": 0, \"ticks\": \"\"}}, \"type\": \"scatter3d\"}], \"scattercarpet\": [{\"marker\": {\"colorbar\": {\"outlinewidth\": 0, \"ticks\": \"\"}}, \"type\": \"scattercarpet\"}], \"scattergeo\": [{\"marker\": {\"colorbar\": {\"outlinewidth\": 0, \"ticks\": \"\"}}, \"type\": \"scattergeo\"}], \"scattergl\": [{\"marker\": {\"line\": {\"color\": \"#283442\"}}, \"type\": \"scattergl\"}], \"scattermapbox\": [{\"marker\": {\"colorbar\": {\"outlinewidth\": 0, \"ticks\": \"\"}}, \"type\": \"scattermapbox\"}], \"scatterpolar\": [{\"marker\": {\"colorbar\": {\"outlinewidth\": 0, \"ticks\": \"\"}}, \"type\": \"scatterpolar\"}], \"scatterpolargl\": [{\"marker\": {\"colorbar\": {\"outlinewidth\": 0, \"ticks\": \"\"}}, \"type\": \"scatterpolargl\"}], \"scatterternary\": [{\"marker\": {\"colorbar\": {\"outlinewidth\": 0, \"ticks\": \"\"}}, \"type\": \"scatterternary\"}], \"surface\": [{\"colorbar\": {\"outlinewidth\": 0, \"ticks\": \"\"}, \"colorscale\": [[0.0, \"#0d0887\"], [0.1111111111111111, \"#46039f\"], [0.2222222222222222, \"#7201a8\"], [0.3333333333333333, \"#9c179e\"], [0.4444444444444444, \"#bd3786\"], [0.5555555555555556, \"#d8576b\"], [0.6666666666666666, \"#ed7953\"], [0.7777777777777778, \"#fb9f3a\"], [0.8888888888888888, \"#fdca26\"], [1.0, \"#f0f921\"]], \"type\": \"surface\"}], \"table\": [{\"cells\": {\"fill\": {\"color\": \"#506784\"}, \"line\": {\"color\": \"rgb(17,17,17)\"}}, \"header\": {\"fill\": {\"color\": \"#2a3f5f\"}, \"line\": {\"color\": \"rgb(17,17,17)\"}}, \"type\": \"table\"}]}, \"layout\": {\"annotationdefaults\": {\"arrowcolor\": \"#f2f5fa\", \"arrowhead\": 0, \"arrowwidth\": 1}, \"coloraxis\": {\"colorbar\": {\"outlinewidth\": 0, \"ticks\": \"\"}}, \"colorscale\": {\"diverging\": [[0, \"#8e0152\"], [0.1, \"#c51b7d\"], [0.2, \"#de77ae\"], [0.3, \"#f1b6da\"], [0.4, \"#fde0ef\"], [0.5, \"#f7f7f7\"], [0.6, \"#e6f5d0\"], [0.7, \"#b8e186\"], [0.8, \"#7fbc41\"], [0.9, \"#4d9221\"], [1, \"#276419\"]], \"sequential\": [[0.0, \"#0d0887\"], [0.1111111111111111, \"#46039f\"], [0.2222222222222222, \"#7201a8\"], [0.3333333333333333, \"#9c179e\"], [0.4444444444444444, \"#bd3786\"], [0.5555555555555556, \"#d8576b\"], [0.6666666666666666, \"#ed7953\"], [0.7777777777777778, \"#fb9f3a\"], [0.8888888888888888, \"#fdca26\"], [1.0, \"#f0f921\"]], \"sequentialminus\": [[0.0, \"#0d0887\"], [0.1111111111111111, \"#46039f\"], [0.2222222222222222, \"#7201a8\"], [0.3333333333333333, \"#9c179e\"], [0.4444444444444444, \"#bd3786\"], [0.5555555555555556, \"#d8576b\"], [0.6666666666666666, \"#ed7953\"], [0.7777777777777778, \"#fb9f3a\"], [0.8888888888888888, \"#fdca26\"], [1.0, \"#f0f921\"]]}, \"colorway\": [\"#636efa\", \"#EF553B\", \"#00cc96\", \"#ab63fa\", \"#FFA15A\", \"#19d3f3\", \"#FF6692\", \"#B6E880\", \"#FF97FF\", \"#FECB52\"], \"font\": {\"color\": \"#f2f5fa\"}, \"geo\": {\"bgcolor\": \"rgb(17,17,17)\", \"lakecolor\": \"rgb(17,17,17)\", \"landcolor\": \"rgb(17,17,17)\", \"showlakes\": true, \"showland\": true, \"subunitcolor\": \"#506784\"}, \"hoverlabel\": {\"align\": \"left\"}, \"hovermode\": \"closest\", \"mapbox\": {\"style\": \"dark\"}, \"paper_bgcolor\": \"rgb(17,17,17)\", \"plot_bgcolor\": \"rgb(17,17,17)\", \"polar\": {\"angularaxis\": {\"gridcolor\": \"#506784\", \"linecolor\": \"#506784\", \"ticks\": \"\"}, \"bgcolor\": \"rgb(17,17,17)\", \"radialaxis\": {\"gridcolor\": \"#506784\", \"linecolor\": \"#506784\", \"ticks\": \"\"}}, \"scene\": {\"xaxis\": {\"backgroundcolor\": \"rgb(17,17,17)\", \"gridcolor\": \"#506784\", \"gridwidth\": 2, \"linecolor\": \"#506784\", \"showbackground\": true, \"ticks\": \"\", \"zerolinecolor\": \"#C8D4E3\"}, \"yaxis\": {\"backgroundcolor\": \"rgb(17,17,17)\", \"gridcolor\": \"#506784\", \"gridwidth\": 2, \"linecolor\": \"#506784\", \"showbackground\": true, \"ticks\": \"\", \"zerolinecolor\": \"#C8D4E3\"}, \"zaxis\": {\"backgroundcolor\": \"rgb(17,17,17)\", \"gridcolor\": \"#506784\", \"gridwidth\": 2, \"linecolor\": \"#506784\", \"showbackground\": true, \"ticks\": \"\", \"zerolinecolor\": \"#C8D4E3\"}}, \"shapedefaults\": {\"line\": {\"color\": \"#f2f5fa\"}}, \"sliderdefaults\": {\"bgcolor\": \"#C8D4E3\", \"bordercolor\": \"rgb(17,17,17)\", \"borderwidth\": 1, \"tickwidth\": 0}, \"ternary\": {\"aaxis\": {\"gridcolor\": \"#506784\", \"linecolor\": \"#506784\", \"ticks\": \"\"}, \"baxis\": {\"gridcolor\": \"#506784\", \"linecolor\": \"#506784\", \"ticks\": \"\"}, \"bgcolor\": \"rgb(17,17,17)\", \"caxis\": {\"gridcolor\": \"#506784\", \"linecolor\": \"#506784\", \"ticks\": \"\"}}, \"title\": {\"x\": 0.05}, \"updatemenudefaults\": {\"bgcolor\": \"#506784\", \"borderwidth\": 0}, \"xaxis\": {\"automargin\": true, \"gridcolor\": \"#283442\", \"linecolor\": \"#506784\", \"ticks\": \"\", \"title\": {\"standoff\": 15}, \"zerolinecolor\": \"#283442\", \"zerolinewidth\": 2}, \"yaxis\": {\"automargin\": true, \"gridcolor\": \"#283442\", \"linecolor\": \"#506784\", \"ticks\": \"\", \"title\": {\"standoff\": 15}, \"zerolinecolor\": \"#283442\", \"zerolinewidth\": 2}}}, \"title\": {\"text\": \"<b>Repeater Locations Score Ranking\"}, \"xaxis\": {\"tickfont\": {\"size\": 10}}, \"yaxis\": {\"nticks\": 20, \"title\": {\"text\": \"Score\"}}},\n",
       "                        {\"responsive\": true}\n",
       "                    ).then(function(){\n",
       "                            \n",
       "var gd = document.getElementById('106ba79f-f09f-41c4-b584-56620f2f7683');\n",
       "var x = new MutationObserver(function (mutations, observer) {{\n",
       "        var display = window.getComputedStyle(gd).display;\n",
       "        if (!display || display === 'none') {{\n",
       "            console.log([gd, 'removed!']);\n",
       "            Plotly.purge(gd);\n",
       "            observer.disconnect();\n",
       "        }}\n",
       "}});\n",
       "\n",
       "// Listen for the removal of the full notebook cells\n",
       "var notebookContainer = gd.closest('#notebook-container');\n",
       "if (notebookContainer) {{\n",
       "    x.observe(notebookContainer, {childList: true});\n",
       "}}\n",
       "\n",
       "// Listen for the clearing of the current output cell\n",
       "var outputEl = gd.closest('.output');\n",
       "if (outputEl) {{\n",
       "    x.observe(outputEl, {childList: true});\n",
       "}}\n",
       "\n",
       "                        })\n",
       "                };\n",
       "                });\n",
       "            </script>\n",
       "        </div>"
      ]
     },
     "metadata": {},
     "output_type": "display_data"
    }
   ],
   "source": [
    "bar_graph = go.Figure()\n",
    "for i in range(scores_df.shape[0]) :\n",
    "    row = scores_df.iloc[i]\n",
    "    bar_graph.add_trace(go.Bar(\n",
    "        x=[row['name']],\n",
    "        y=[row['score']],\n",
    "        name=row['name']\n",
    "    ))\n",
    "\n",
    "bar_graph.update_layout(\n",
    "    title='<b>Repeater Locations Score Ranking',\n",
    "    showlegend=False,\n",
    "    xaxis=dict(\n",
    "        tickfont=dict(size=10)\n",
    "    ),\n",
    "    yaxis=dict(\n",
    "        title='Score',\n",
    "        nticks=20\n",
    "    ),\n",
    ")\n",
    "bar_graph.show()"
   ]
  },
  {
   "cell_type": "code",
   "execution_count": 86,
   "metadata": {},
   "outputs": [
    {
     "data": {
      "image/png": "[encoded data removed]",
      "text/plain": [
       "<Figure size 2160x720 with 2 Axes>"
      ]
     },
     "metadata": {
      "needs_background": "light"
     },
     "output_type": "display_data"
    }
   ],
   "source": [
    "#Draw result\n",
    "title='WiFi dBm Signal if repeater located in {}'.format(opt_room_name)\n",
    "col_name = 'dBm_Signal'\n",
    "plot_choropleth(opt_room_df,title,col_name,label)"
   ]
  },
  {
   "cell_type": "markdown",
   "metadata": {},
   "source": [
    "## Signal gain due to repeater per area"
   ]
  },
  {
   "cell_type": "code",
   "execution_count": 31,
   "metadata": {},
   "outputs": [],
   "source": [
    "opt_room_df['rep_gain'] = opt_room_df['dBm_Signal'] - my_wifi_5G_mean['dBm_Signal']"
   ]
  },
  {
   "cell_type": "code",
   "execution_count": 32,
   "metadata": {},
   "outputs": [
    {
     "data": {
      "image/png": "[encoded data removed]",
      "text/plain": [
       "<Figure size 2160x720 with 2 Axes>"
      ]
     },
     "metadata": {
      "needs_background": "light"
     },
     "output_type": "display_data"
    }
   ],
   "source": [
    "#Draw result\n",
    "title='Signal gain in dB if repeater located in {}'.format(opt_room_name)\n",
    "col_name = 'rep_gain'\n",
    "plot_choropleth(opt_room_df,title,col_name,label)"
   ]
  },
  {
   "cell_type": "markdown",
   "metadata": {},
   "source": [
    "## Repeater band selection"
   ]
  },
  {
   "cell_type": "code",
   "execution_count": 76,
   "metadata": {},
   "outputs": [],
   "source": [
    "zone1_1_2G = scanned[(scanned.zone.isin([4,5])) & (scanned.subzone.isin([1,2])) & (scanned.Channel <= 14)]\n",
    "zone1_1_2G = zone1_1_2G.sort_values('dBm_Signal',ascending=False).drop_duplicates(['SSID'],keep='first')"
   ]
  },
  {
   "cell_type": "code",
   "execution_count": 77,
   "metadata": {},
   "outputs": [
    {
     "data": {
      "application/vnd.plotly.v1+json": {
       "config": {
        "plotlyServerURL": "https://plot.ly"
       },
       "data": [
        {
         "mode": "text",
         "text": [
          "MiFibra-755E",
          "Invitado-755E",
          "DIGIFIBRA-PfRf",
          "_ONOWiFi",
          "vodafoneBDAC",
          "rockrobo-vacuum-v1_miapD097",
          "JAZZTEL_KfdA",
          "WifiAle-2.4G",
          "MiFibra-0A9F",
          "MiFibra-1A14",
          "MOVISTAR_CD74",
          "Orange-53EB",
          "MiFibra-6738",
          "Navi Wifi 5G_2GEXT",
          "devolo-bb1",
          "MOVISTAR_0B68",
          "Navi Wifi 2G",
          "MIWIFI_2G_pvER",
          "MiFibra-47CC",
          "MOVISTAR_2020",
          "WLAN_E65F",
          "MOVISTAR_8B41",
          "MiFibra-E96E",
          "MIWIFI_2G_Knpb",
          "Orange-612A",
          "MIWIFI_2G_dEw3",
          "MiFibra-A49C",
          "MOVISTAR_12F8",
          "JAZZTEL_xdpk",
          "Orange-B27B",
          "MiFibra-D2B2",
          "WLAN2745"
         ],
         "type": "scatter",
         "x": [
          1,
          1,
          5,
          5,
          5,
          6,
          1,
          11,
          6,
          1,
          6,
          11,
          1,
          10,
          11,
          6,
          6,
          9,
          6,
          9,
          1,
          11,
          1,
          1,
          1,
          1,
          6,
          6,
          1,
          6,
          1,
          5
         ],
         "y": [
          -36,
          -37,
          -44,
          -55,
          -55,
          -58,
          -59,
          -64,
          -68,
          -69,
          -71,
          -71,
          -73,
          -74,
          -74,
          -75,
          -76,
          -77,
          -79,
          -80,
          -80,
          -80,
          -81,
          -81,
          -81,
          -84,
          -84,
          -86,
          -86,
          -86,
          -88,
          -91
         ]
        }
       ],
       "layout": {
        "shapes": [
         {
          "fillcolor": "#7d87b9",
          "line": {
           "color": "#7d87b9"
          },
          "name": "MiFibra-755E",
          "opacity": 0.3,
          "type": "circle",
          "x0": -1,
          "x1": 3,
          "xref": "x",
          "y0": -164,
          "y1": -36,
          "yref": "y"
         },
         {
          "fillcolor": "#bb7784",
          "line": {
           "color": "#bb7784"
          },
          "name": "Invitado-755E",
          "opacity": 0.3,
          "type": "circle",
          "x0": -1,
          "x1": 3,
          "xref": "x",
          "y0": -163,
          "y1": -37,
          "yref": "y"
         },
         {
          "fillcolor": "#8e063b",
          "line": {
           "color": "#8e063b"
          },
          "name": "DIGIFIBRA-PfRf",
          "opacity": 0.3,
          "type": "circle",
          "x0": 3,
          "x1": 7,
          "xref": "x",
          "y0": -156,
          "y1": -44,
          "yref": "y"
         },
         {
          "fillcolor": "#4a6fe3",
          "line": {
           "color": "#4a6fe3"
          },
          "name": "_ONOWiFi",
          "opacity": 0.3,
          "type": "circle",
          "x0": 3,
          "x1": 7,
          "xref": "x",
          "y0": -145,
          "y1": -55,
          "yref": "y"
         },
         {
          "fillcolor": "#8595e1",
          "line": {
           "color": "#8595e1"
          },
          "name": "vodafoneBDAC",
          "opacity": 0.3,
          "type": "circle",
          "x0": 3,
          "x1": 7,
          "xref": "x",
          "y0": -145,
          "y1": -55,
          "yref": "y"
         },
         {
          "fillcolor": "#e07b91",
          "line": {
           "color": "#e07b91"
          },
          "name": "rockrobo-vacuum-v1_miapD097",
          "opacity": 0.3,
          "type": "circle",
          "x0": 4,
          "x1": 8,
          "xref": "x",
          "y0": -142,
          "y1": -58,
          "yref": "y"
         },
         {
          "fillcolor": "#d33f6a",
          "line": {
           "color": "#d33f6a"
          },
          "name": "JAZZTEL_KfdA",
          "opacity": 0.3,
          "type": "circle",
          "x0": -1,
          "x1": 3,
          "xref": "x",
          "y0": -141,
          "y1": -59,
          "yref": "y"
         },
         {
          "fillcolor": "#11c638",
          "line": {
           "color": "#11c638"
          },
          "name": "WifiAle-2.4G",
          "opacity": 0.3,
          "type": "circle",
          "x0": 9,
          "x1": 13,
          "xref": "x",
          "y0": -136,
          "y1": -64,
          "yref": "y"
         },
         {
          "fillcolor": "#8dd593",
          "line": {
           "color": "#8dd593"
          },
          "name": "MiFibra-0A9F",
          "opacity": 0.3,
          "type": "circle",
          "x0": 4,
          "x1": 8,
          "xref": "x",
          "y0": -132,
          "y1": -68,
          "yref": "y"
         },
         {
          "fillcolor": "#ef9708",
          "line": {
           "color": "#ef9708"
          },
          "name": "MiFibra-1A14",
          "opacity": 0.3,
          "type": "circle",
          "x0": -1,
          "x1": 3,
          "xref": "x",
          "y0": -131,
          "y1": -69,
          "yref": "y"
         },
         {
          "fillcolor": "#0fcfc0",
          "line": {
           "color": "#0fcfc0"
          },
          "name": "MOVISTAR_CD74",
          "opacity": 0.3,
          "type": "circle",
          "x0": 4,
          "x1": 8,
          "xref": "x",
          "y0": -129,
          "y1": -71,
          "yref": "y"
         },
         {
          "fillcolor": "#9cded6",
          "line": {
           "color": "#9cded6"
          },
          "name": "Orange-53EB",
          "opacity": 0.3,
          "type": "circle",
          "x0": 9,
          "x1": 13,
          "xref": "x",
          "y0": -129,
          "y1": -71,
          "yref": "y"
         },
         {
          "fillcolor": "#f79cd4",
          "line": {
           "color": "#f79cd4"
          },
          "name": "MiFibra-6738",
          "opacity": 0.3,
          "type": "circle",
          "x0": -1,
          "x1": 3,
          "xref": "x",
          "y0": -127,
          "y1": -73,
          "yref": "y"
         },
         {
          "fillcolor": "#023fa5",
          "line": {
           "color": "#023fa5"
          },
          "name": "Navi Wifi 5G_2GEXT",
          "opacity": 0.3,
          "type": "circle",
          "x0": 8,
          "x1": 12,
          "xref": "x",
          "y0": -126,
          "y1": -74,
          "yref": "y"
         },
         {
          "fillcolor": "#7d87b9",
          "line": {
           "color": "#7d87b9"
          },
          "name": "devolo-bb1",
          "opacity": 0.3,
          "type": "circle",
          "x0": 9,
          "x1": 13,
          "xref": "x",
          "y0": -126,
          "y1": -74,
          "yref": "y"
         },
         {
          "fillcolor": "#bb7784",
          "line": {
           "color": "#bb7784"
          },
          "name": "MOVISTAR_0B68",
          "opacity": 0.3,
          "type": "circle",
          "x0": 4,
          "x1": 8,
          "xref": "x",
          "y0": -125,
          "y1": -75,
          "yref": "y"
         },
         {
          "fillcolor": "#8e063b",
          "line": {
           "color": "#8e063b"
          },
          "name": "Navi Wifi 2G",
          "opacity": 0.3,
          "type": "circle",
          "x0": 4,
          "x1": 8,
          "xref": "x",
          "y0": -124,
          "y1": -76,
          "yref": "y"
         },
         {
          "fillcolor": "#4a6fe3",
          "line": {
           "color": "#4a6fe3"
          },
          "name": "MIWIFI_2G_pvER",
          "opacity": 0.3,
          "type": "circle",
          "x0": 7,
          "x1": 11,
          "xref": "x",
          "y0": -123,
          "y1": -77,
          "yref": "y"
         },
         {
          "fillcolor": "#8595e1",
          "line": {
           "color": "#8595e1"
          },
          "name": "MiFibra-47CC",
          "opacity": 0.3,
          "type": "circle",
          "x0": 4,
          "x1": 8,
          "xref": "x",
          "y0": -121,
          "y1": -79,
          "yref": "y"
         },
         {
          "fillcolor": "#e07b91",
          "line": {
           "color": "#e07b91"
          },
          "name": "MOVISTAR_2020",
          "opacity": 0.3,
          "type": "circle",
          "x0": 7,
          "x1": 11,
          "xref": "x",
          "y0": -120,
          "y1": -80,
          "yref": "y"
         },
         {
          "fillcolor": "#d33f6a",
          "line": {
           "color": "#d33f6a"
          },
          "name": "WLAN_E65F",
          "opacity": 0.3,
          "type": "circle",
          "x0": -1,
          "x1": 3,
          "xref": "x",
          "y0": -120,
          "y1": -80,
          "yref": "y"
         },
         {
          "fillcolor": "#11c638",
          "line": {
           "color": "#11c638"
          },
          "name": "MOVISTAR_8B41",
          "opacity": 0.3,
          "type": "circle",
          "x0": 9,
          "x1": 13,
          "xref": "x",
          "y0": -120,
          "y1": -80,
          "yref": "y"
         },
         {
          "fillcolor": "#8dd593",
          "line": {
           "color": "#8dd593"
          },
          "name": "MiFibra-E96E",
          "opacity": 0.3,
          "type": "circle",
          "x0": -1,
          "x1": 3,
          "xref": "x",
          "y0": -119,
          "y1": -81,
          "yref": "y"
         },
         {
          "fillcolor": "#ef9708",
          "line": {
           "color": "#ef9708"
          },
          "name": "MIWIFI_2G_Knpb",
          "opacity": 0.3,
          "type": "circle",
          "x0": -1,
          "x1": 3,
          "xref": "x",
          "y0": -119,
          "y1": -81,
          "yref": "y"
         },
         {
          "fillcolor": "#0fcfc0",
          "line": {
           "color": "#0fcfc0"
          },
          "name": "Orange-612A",
          "opacity": 0.3,
          "type": "circle",
          "x0": -1,
          "x1": 3,
          "xref": "x",
          "y0": -119,
          "y1": -81,
          "yref": "y"
         },
         {
          "fillcolor": "#9cded6",
          "line": {
           "color": "#9cded6"
          },
          "name": "MIWIFI_2G_dEw3",
          "opacity": 0.3,
          "type": "circle",
          "x0": -1,
          "x1": 3,
          "xref": "x",
          "y0": -116,
          "y1": -84,
          "yref": "y"
         },
         {
          "fillcolor": "#f79cd4",
          "line": {
           "color": "#f79cd4"
          },
          "name": "MiFibra-A49C",
          "opacity": 0.3,
          "type": "circle",
          "x0": 4,
          "x1": 8,
          "xref": "x",
          "y0": -116,
          "y1": -84,
          "yref": "y"
         },
         {
          "fillcolor": "#023fa5",
          "line": {
           "color": "#023fa5"
          },
          "name": "MOVISTAR_12F8",
          "opacity": 0.3,
          "type": "circle",
          "x0": 4,
          "x1": 8,
          "xref": "x",
          "y0": -114,
          "y1": -86,
          "yref": "y"
         },
         {
          "fillcolor": "#7d87b9",
          "line": {
           "color": "#7d87b9"
          },
          "name": "JAZZTEL_xdpk",
          "opacity": 0.3,
          "type": "circle",
          "x0": -1,
          "x1": 3,
          "xref": "x",
          "y0": -114,
          "y1": -86,
          "yref": "y"
         },
         {
          "fillcolor": "#bb7784",
          "line": {
           "color": "#bb7784"
          },
          "name": "Orange-B27B",
          "opacity": 0.3,
          "type": "circle",
          "x0": 4,
          "x1": 8,
          "xref": "x",
          "y0": -114,
          "y1": -86,
          "yref": "y"
         },
         {
          "fillcolor": "#8e063b",
          "line": {
           "color": "#8e063b"
          },
          "name": "MiFibra-D2B2",
          "opacity": 0.3,
          "type": "circle",
          "x0": -1,
          "x1": 3,
          "xref": "x",
          "y0": -112,
          "y1": -88,
          "yref": "y"
         },
         {
          "fillcolor": "#4a6fe3",
          "line": {
           "color": "#4a6fe3"
          },
          "name": "WLAN2745",
          "opacity": 0.3,
          "type": "circle",
          "x0": 3,
          "x1": 7,
          "xref": "x",
          "y0": -109,
          "y1": -91,
          "yref": "y"
         }
        ],
        "template": {
         "data": {
          "bar": [
           {
            "error_x": {
             "color": "#f2f5fa"
            },
            "error_y": {
             "color": "#f2f5fa"
            },
            "marker": {
             "line": {
              "color": "rgb(17,17,17)",
              "width": 0.5
             }
            },
            "type": "bar"
           }
          ],
          "barpolar": [
           {
            "marker": {
             "line": {
              "color": "rgb(17,17,17)",
              "width": 0.5
             }
            },
            "type": "barpolar"
           }
          ],
          "carpet": [
           {
            "aaxis": {
             "endlinecolor": "#A2B1C6",
             "gridcolor": "#506784",
             "linecolor": "#506784",
             "minorgridcolor": "#506784",
             "startlinecolor": "#A2B1C6"
            },
            "baxis": {
             "endlinecolor": "#A2B1C6",
             "gridcolor": "#506784",
             "linecolor": "#506784",
             "minorgridcolor": "#506784",
             "startlinecolor": "#A2B1C6"
            },
            "type": "carpet"
           }
          ],
          "choropleth": [
           {
            "colorbar": {
             "outlinewidth": 0,
             "ticks": ""
            },
            "type": "choropleth"
           }
          ],
          "contour": [
           {
            "colorbar": {
             "outlinewidth": 0,
             "ticks": ""
            },
            "colorscale": [
             [
              0,
              "#0d0887"
             ],
             [
              0.1111111111111111,
              "#46039f"
             ],
             [
              0.2222222222222222,
              "#7201a8"
             ],
             [
              0.3333333333333333,
              "#9c179e"
             ],
             [
              0.4444444444444444,
              "#bd3786"
             ],
             [
              0.5555555555555556,
              "#d8576b"
             ],
             [
              0.6666666666666666,
              "#ed7953"
             ],
             [
              0.7777777777777778,
              "#fb9f3a"
             ],
             [
              0.8888888888888888,
              "#fdca26"
             ],
             [
              1,
              "#f0f921"
             ]
            ],
            "type": "contour"
           }
          ],
          "contourcarpet": [
           {
            "colorbar": {
             "outlinewidth": 0,
             "ticks": ""
            },
            "type": "contourcarpet"
           }
          ],
          "heatmap": [
           {
            "colorbar": {
             "outlinewidth": 0,
             "ticks": ""
            },
            "colorscale": [
             [
              0,
              "#0d0887"
             ],
             [
              0.1111111111111111,
              "#46039f"
             ],
             [
              0.2222222222222222,
              "#7201a8"
             ],
             [
              0.3333333333333333,
              "#9c179e"
             ],
             [
              0.4444444444444444,
              "#bd3786"
             ],
             [
              0.5555555555555556,
              "#d8576b"
             ],
             [
              0.6666666666666666,
              "#ed7953"
             ],
             [
              0.7777777777777778,
              "#fb9f3a"
             ],
             [
              0.8888888888888888,
              "#fdca26"
             ],
             [
              1,
              "#f0f921"
             ]
            ],
            "type": "heatmap"
           }
          ],
          "heatmapgl": [
           {
            "colorbar": {
             "outlinewidth": 0,
             "ticks": ""
            },
            "colorscale": [
             [
              0,
              "#0d0887"
             ],
             [
              0.1111111111111111,
              "#46039f"
             ],
             [
              0.2222222222222222,
              "#7201a8"
             ],
             [
              0.3333333333333333,
              "#9c179e"
             ],
             [
              0.4444444444444444,
              "#bd3786"
             ],
             [
              0.5555555555555556,
              "#d8576b"
             ],
             [
              0.6666666666666666,
              "#ed7953"
             ],
             [
              0.7777777777777778,
              "#fb9f3a"
             ],
             [
              0.8888888888888888,
              "#fdca26"
             ],
             [
              1,
              "#f0f921"
             ]
            ],
            "type": "heatmapgl"
           }
          ],
          "histogram": [
           {
            "marker": {
             "colorbar": {
              "outlinewidth": 0,
              "ticks": ""
             }
            },
            "type": "histogram"
           }
          ],
          "histogram2d": [
           {
            "colorbar": {
             "outlinewidth": 0,
             "ticks": ""
            },
            "colorscale": [
             [
              0,
              "#0d0887"
             ],
             [
              0.1111111111111111,
              "#46039f"
             ],
             [
              0.2222222222222222,
              "#7201a8"
             ],
             [
              0.3333333333333333,
              "#9c179e"
             ],
             [
              0.4444444444444444,
              "#bd3786"
             ],
             [
              0.5555555555555556,
              "#d8576b"
             ],
             [
              0.6666666666666666,
              "#ed7953"
             ],
             [
              0.7777777777777778,
              "#fb9f3a"
             ],
             [
              0.8888888888888888,
              "#fdca26"
             ],
             [
              1,
              "#f0f921"
             ]
            ],
            "type": "histogram2d"
           }
          ],
          "histogram2dcontour": [
           {
            "colorbar": {
             "outlinewidth": 0,
             "ticks": ""
            },
            "colorscale": [
             [
              0,
              "#0d0887"
             ],
             [
              0.1111111111111111,
              "#46039f"
             ],
             [
              0.2222222222222222,
              "#7201a8"
             ],
             [
              0.3333333333333333,
              "#9c179e"
             ],
             [
              0.4444444444444444,
              "#bd3786"
             ],
             [
              0.5555555555555556,
              "#d8576b"
             ],
             [
              0.6666666666666666,
              "#ed7953"
             ],
             [
              0.7777777777777778,
              "#fb9f3a"
             ],
             [
              0.8888888888888888,
              "#fdca26"
             ],
             [
              1,
              "#f0f921"
             ]
            ],
            "type": "histogram2dcontour"
           }
          ],
          "mesh3d": [
           {
            "colorbar": {
             "outlinewidth": 0,
             "ticks": ""
            },
            "type": "mesh3d"
           }
          ],
          "parcoords": [
           {
            "line": {
             "colorbar": {
              "outlinewidth": 0,
              "ticks": ""
             }
            },
            "type": "parcoords"
           }
          ],
          "pie": [
           {
            "automargin": true,
            "type": "pie"
           }
          ],
          "scatter": [
           {
            "marker": {
             "line": {
              "color": "#283442"
             }
            },
            "type": "scatter"
           }
          ],
          "scatter3d": [
           {
            "line": {
             "colorbar": {
              "outlinewidth": 0,
              "ticks": ""
             }
            },
            "marker": {
             "colorbar": {
              "outlinewidth": 0,
              "ticks": ""
             }
            },
            "type": "scatter3d"
           }
          ],
          "scattercarpet": [
           {
            "marker": {
             "colorbar": {
              "outlinewidth": 0,
              "ticks": ""
             }
            },
            "type": "scattercarpet"
           }
          ],
          "scattergeo": [
           {
            "marker": {
             "colorbar": {
              "outlinewidth": 0,
              "ticks": ""
             }
            },
            "type": "scattergeo"
           }
          ],
          "scattergl": [
           {
            "marker": {
             "line": {
              "color": "#283442"
             }
            },
            "type": "scattergl"
           }
          ],
          "scattermapbox": [
           {
            "marker": {
             "colorbar": {
              "outlinewidth": 0,
              "ticks": ""
             }
            },
            "type": "scattermapbox"
           }
          ],
          "scatterpolar": [
           {
            "marker": {
             "colorbar": {
              "outlinewidth": 0,
              "ticks": ""
             }
            },
            "type": "scatterpolar"
           }
          ],
          "scatterpolargl": [
           {
            "marker": {
             "colorbar": {
              "outlinewidth": 0,
              "ticks": ""
             }
            },
            "type": "scatterpolargl"
           }
          ],
          "scatterternary": [
           {
            "marker": {
             "colorbar": {
              "outlinewidth": 0,
              "ticks": ""
             }
            },
            "type": "scatterternary"
           }
          ],
          "surface": [
           {
            "colorbar": {
             "outlinewidth": 0,
             "ticks": ""
            },
            "colorscale": [
             [
              0,
              "#0d0887"
             ],
             [
              0.1111111111111111,
              "#46039f"
             ],
             [
              0.2222222222222222,
              "#7201a8"
             ],
             [
              0.3333333333333333,
              "#9c179e"
             ],
             [
              0.4444444444444444,
              "#bd3786"
             ],
             [
              0.5555555555555556,
              "#d8576b"
             ],
             [
              0.6666666666666666,
              "#ed7953"
             ],
             [
              0.7777777777777778,
              "#fb9f3a"
             ],
             [
              0.8888888888888888,
              "#fdca26"
             ],
             [
              1,
              "#f0f921"
             ]
            ],
            "type": "surface"
           }
          ],
          "table": [
           {
            "cells": {
             "fill": {
              "color": "#506784"
             },
             "line": {
              "color": "rgb(17,17,17)"
             }
            },
            "header": {
             "fill": {
              "color": "#2a3f5f"
             },
             "line": {
              "color": "rgb(17,17,17)"
             }
            },
            "type": "table"
           }
          ]
         },
         "layout": {
          "annotationdefaults": {
           "arrowcolor": "#f2f5fa",
           "arrowhead": 0,
           "arrowwidth": 1
          },
          "coloraxis": {
           "colorbar": {
            "outlinewidth": 0,
            "ticks": ""
           }
          },
          "colorscale": {
           "diverging": [
            [
             0,
             "#8e0152"
            ],
            [
             0.1,
             "#c51b7d"
            ],
            [
             0.2,
             "#de77ae"
            ],
            [
             0.3,
             "#f1b6da"
            ],
            [
             0.4,
             "#fde0ef"
            ],
            [
             0.5,
             "#f7f7f7"
            ],
            [
             0.6,
             "#e6f5d0"
            ],
            [
             0.7,
             "#b8e186"
            ],
            [
             0.8,
             "#7fbc41"
            ],
            [
             0.9,
             "#4d9221"
            ],
            [
             1,
             "#276419"
            ]
           ],
           "sequential": [
            [
             0,
             "#0d0887"
            ],
            [
             0.1111111111111111,
             "#46039f"
            ],
            [
             0.2222222222222222,
             "#7201a8"
            ],
            [
             0.3333333333333333,
             "#9c179e"
            ],
            [
             0.4444444444444444,
             "#bd3786"
            ],
            [
             0.5555555555555556,
             "#d8576b"
            ],
            [
             0.6666666666666666,
             "#ed7953"
            ],
            [
             0.7777777777777778,
             "#fb9f3a"
            ],
            [
             0.8888888888888888,
             "#fdca26"
            ],
            [
             1,
             "#f0f921"
            ]
           ],
           "sequentialminus": [
            [
             0,
             "#0d0887"
            ],
            [
             0.1111111111111111,
             "#46039f"
            ],
            [
             0.2222222222222222,
             "#7201a8"
            ],
            [
             0.3333333333333333,
             "#9c179e"
            ],
            [
             0.4444444444444444,
             "#bd3786"
            ],
            [
             0.5555555555555556,
             "#d8576b"
            ],
            [
             0.6666666666666666,
             "#ed7953"
            ],
            [
             0.7777777777777778,
             "#fb9f3a"
            ],
            [
             0.8888888888888888,
             "#fdca26"
            ],
            [
             1,
             "#f0f921"
            ]
           ]
          },
          "colorway": [
           "#636efa",
           "#EF553B",
           "#00cc96",
           "#ab63fa",
           "#FFA15A",
           "#19d3f3",
           "#FF6692",
           "#B6E880",
           "#FF97FF",
           "#FECB52"
          ],
          "font": {
           "color": "#f2f5fa"
          },
          "geo": {
           "bgcolor": "rgb(17,17,17)",
           "lakecolor": "rgb(17,17,17)",
           "landcolor": "rgb(17,17,17)",
           "showlakes": true,
           "showland": true,
           "subunitcolor": "#506784"
          },
          "hoverlabel": {
           "align": "left"
          },
          "hovermode": "closest",
          "mapbox": {
           "style": "dark"
          },
          "paper_bgcolor": "rgb(17,17,17)",
          "plot_bgcolor": "rgb(17,17,17)",
          "polar": {
           "angularaxis": {
            "gridcolor": "#506784",
            "linecolor": "#506784",
            "ticks": ""
           },
           "bgcolor": "rgb(17,17,17)",
           "radialaxis": {
            "gridcolor": "#506784",
            "linecolor": "#506784",
            "ticks": ""
           }
          },
          "scene": {
           "xaxis": {
            "backgroundcolor": "rgb(17,17,17)",
            "gridcolor": "#506784",
            "gridwidth": 2,
            "linecolor": "#506784",
            "showbackground": true,
            "ticks": "",
            "zerolinecolor": "#C8D4E3"
           },
           "yaxis": {
            "backgroundcolor": "rgb(17,17,17)",
            "gridcolor": "#506784",
            "gridwidth": 2,
            "linecolor": "#506784",
            "showbackground": true,
            "ticks": "",
            "zerolinecolor": "#C8D4E3"
           },
           "zaxis": {
            "backgroundcolor": "rgb(17,17,17)",
            "gridcolor": "#506784",
            "gridwidth": 2,
            "linecolor": "#506784",
            "showbackground": true,
            "ticks": "",
            "zerolinecolor": "#C8D4E3"
           }
          },
          "shapedefaults": {
           "line": {
            "color": "#f2f5fa"
           }
          },
          "sliderdefaults": {
           "bgcolor": "#C8D4E3",
           "bordercolor": "rgb(17,17,17)",
           "borderwidth": 1,
           "tickwidth": 0
          },
          "ternary": {
           "aaxis": {
            "gridcolor": "#506784",
            "linecolor": "#506784",
            "ticks": ""
           },
           "baxis": {
            "gridcolor": "#506784",
            "linecolor": "#506784",
            "ticks": ""
           },
           "bgcolor": "rgb(17,17,17)",
           "caxis": {
            "gridcolor": "#506784",
            "linecolor": "#506784",
            "ticks": ""
           }
          },
          "title": {
           "x": 0.05
          },
          "updatemenudefaults": {
           "bgcolor": "#506784",
           "borderwidth": 0
          },
          "xaxis": {
           "automargin": true,
           "gridcolor": "#283442",
           "linecolor": "#506784",
           "ticks": "",
           "title": {
            "standoff": 15
           },
           "zerolinecolor": "#283442",
           "zerolinewidth": 2
          },
          "yaxis": {
           "automargin": true,
           "gridcolor": "#283442",
           "linecolor": "#506784",
           "ticks": "",
           "title": {
            "standoff": 15
           },
           "zerolinecolor": "#283442",
           "zerolinewidth": 2
          }
         }
        },
        "title": {
         "text": "<b>WiFi Signal per channel - 2.4GHz - Habitacion4-1"
        },
        "xaxis": {
         "nticks": 17,
         "title": {
          "text": "Channels"
         }
        },
        "yaxis": {
         "range": [
          -100,
          -26
         ],
         "title": {
          "text": "dBm"
         }
        }
       }
      },
      "text/html": [
       "<div>\n",
       "        \n",
       "        \n",
       "            <div id=\"c4826bce-e831-4668-8903-6e648e8cd8d8\" class=\"plotly-graph-div\" style=\"height:525px; width:100%;\"></div>\n",
       "            <script type=\"text/javascript\">\n",
       "                require([\"plotly\"], function(Plotly) {\n",
       "                    window.PLOTLYENV=window.PLOTLYENV || {};\n",
       "                    \n",
       "                if (document.getElementById(\"c4826bce-e831-4668-8903-6e648e8cd8d8\")) {\n",
       "                    Plotly.newPlot(\n",
       "                        'c4826bce-e831-4668-8903-6e648e8cd8d8',\n",
       "                        [{\"mode\": \"text\", \"text\": [\"MiFibra-755E\", \"Invitado-755E\", \"DIGIFIBRA-PfRf\", \"_ONOWiFi\", \"vodafoneBDAC\", \"rockrobo-vacuum-v1_miapD097\", \"JAZZTEL_KfdA\", \"WifiAle-2.4G\", \"MiFibra-0A9F\", \"MiFibra-1A14\", \"MOVISTAR_CD74\", \"Orange-53EB\", \"MiFibra-6738\", \"Navi Wifi 5G_2GEXT\", \"devolo-bb1\", \"MOVISTAR_0B68\", \"Navi Wifi 2G\", \"MIWIFI_2G_pvER\", \"MiFibra-47CC\", \"MOVISTAR_2020\", \"WLAN_E65F\", \"MOVISTAR_8B41\", \"MiFibra-E96E\", \"MIWIFI_2G_Knpb\", \"Orange-612A\", \"MIWIFI_2G_dEw3\", \"MiFibra-A49C\", \"MOVISTAR_12F8\", \"JAZZTEL_xdpk\", \"Orange-B27B\", \"MiFibra-D2B2\", \"WLAN2745\"], \"type\": \"scatter\", \"x\": [1, 1, 5, 5, 5, 6, 1, 11, 6, 1, 6, 11, 1, 10, 11, 6, 6, 9, 6, 9, 1, 11, 1, 1, 1, 1, 6, 6, 1, 6, 1, 5], \"y\": [-36, -37, -44, -55, -55, -58, -59, -64, -68, -69, -71, -71, -73, -74, -74, -75, -76, -77, -79, -80, -80, -80, -81, -81, -81, -84, -84, -86, -86, -86, -88, -91]}],\n",
       "                        {\"shapes\": [{\"fillcolor\": \"#7d87b9\", \"line\": {\"color\": \"#7d87b9\"}, \"name\": \"MiFibra-755E\", \"opacity\": 0.3, \"type\": \"circle\", \"x0\": -1, \"x1\": 3, \"xref\": \"x\", \"y0\": -164, \"y1\": -36, \"yref\": \"y\"}, {\"fillcolor\": \"#bb7784\", \"line\": {\"color\": \"#bb7784\"}, \"name\": \"Invitado-755E\", \"opacity\": 0.3, \"type\": \"circle\", \"x0\": -1, \"x1\": 3, \"xref\": \"x\", \"y0\": -163, \"y1\": -37, \"yref\": \"y\"}, {\"fillcolor\": \"#8e063b\", \"line\": {\"color\": \"#8e063b\"}, \"name\": \"DIGIFIBRA-PfRf\", \"opacity\": 0.3, \"type\": \"circle\", \"x0\": 3, \"x1\": 7, \"xref\": \"x\", \"y0\": -156, \"y1\": -44, \"yref\": \"y\"}, {\"fillcolor\": \"#4a6fe3\", \"line\": {\"color\": \"#4a6fe3\"}, \"name\": \"_ONOWiFi\", \"opacity\": 0.3, \"type\": \"circle\", \"x0\": 3, \"x1\": 7, \"xref\": \"x\", \"y0\": -145, \"y1\": -55, \"yref\": \"y\"}, {\"fillcolor\": \"#8595e1\", \"line\": {\"color\": \"#8595e1\"}, \"name\": \"vodafoneBDAC\", \"opacity\": 0.3, \"type\": \"circle\", \"x0\": 3, \"x1\": 7, \"xref\": \"x\", \"y0\": -145, \"y1\": -55, \"yref\": \"y\"}, {\"fillcolor\": \"#e07b91\", \"line\": {\"color\": \"#e07b91\"}, \"name\": \"rockrobo-vacuum-v1_miapD097\", \"opacity\": 0.3, \"type\": \"circle\", \"x0\": 4, \"x1\": 8, \"xref\": \"x\", \"y0\": -142, \"y1\": -58, \"yref\": \"y\"}, {\"fillcolor\": \"#d33f6a\", \"line\": {\"color\": \"#d33f6a\"}, \"name\": \"JAZZTEL_KfdA\", \"opacity\": 0.3, \"type\": \"circle\", \"x0\": -1, \"x1\": 3, \"xref\": \"x\", \"y0\": -141, \"y1\": -59, \"yref\": \"y\"}, {\"fillcolor\": \"#11c638\", \"line\": {\"color\": \"#11c638\"}, \"name\": \"WifiAle-2.4G\", \"opacity\": 0.3, \"type\": \"circle\", \"x0\": 9, \"x1\": 13, \"xref\": \"x\", \"y0\": -136, \"y1\": -64, \"yref\": \"y\"}, {\"fillcolor\": \"#8dd593\", \"line\": {\"color\": \"#8dd593\"}, \"name\": \"MiFibra-0A9F\", \"opacity\": 0.3, \"type\": \"circle\", \"x0\": 4, \"x1\": 8, \"xref\": \"x\", \"y0\": -132, \"y1\": -68, \"yref\": \"y\"}, {\"fillcolor\": \"#ef9708\", \"line\": {\"color\": \"#ef9708\"}, \"name\": \"MiFibra-1A14\", \"opacity\": 0.3, \"type\": \"circle\", \"x0\": -1, \"x1\": 3, \"xref\": \"x\", \"y0\": -131, \"y1\": -69, \"yref\": \"y\"}, {\"fillcolor\": \"#0fcfc0\", \"line\": {\"color\": \"#0fcfc0\"}, \"name\": \"MOVISTAR_CD74\", \"opacity\": 0.3, \"type\": \"circle\", \"x0\": 4, \"x1\": 8, \"xref\": \"x\", \"y0\": -129, \"y1\": -71, \"yref\": \"y\"}, {\"fillcolor\": \"#9cded6\", \"line\": {\"color\": \"#9cded6\"}, \"name\": \"Orange-53EB\", \"opacity\": 0.3, \"type\": \"circle\", \"x0\": 9, \"x1\": 13, \"xref\": \"x\", \"y0\": -129, \"y1\": -71, \"yref\": \"y\"}, {\"fillcolor\": \"#f79cd4\", \"line\": {\"color\": \"#f79cd4\"}, \"name\": \"MiFibra-6738\", \"opacity\": 0.3, \"type\": \"circle\", \"x0\": -1, \"x1\": 3, \"xref\": \"x\", \"y0\": -127, \"y1\": -73, \"yref\": \"y\"}, {\"fillcolor\": \"#023fa5\", \"line\": {\"color\": \"#023fa5\"}, \"name\": \"Navi Wifi 5G_2GEXT\", \"opacity\": 0.3, \"type\": \"circle\", \"x0\": 8, \"x1\": 12, \"xref\": \"x\", \"y0\": -126, \"y1\": -74, \"yref\": \"y\"}, {\"fillcolor\": \"#7d87b9\", \"line\": {\"color\": \"#7d87b9\"}, \"name\": \"devolo-bb1\", \"opacity\": 0.3, \"type\": \"circle\", \"x0\": 9, \"x1\": 13, \"xref\": \"x\", \"y0\": -126, \"y1\": -74, \"yref\": \"y\"}, {\"fillcolor\": \"#bb7784\", \"line\": {\"color\": \"#bb7784\"}, \"name\": \"MOVISTAR_0B68\", \"opacity\": 0.3, \"type\": \"circle\", \"x0\": 4, \"x1\": 8, \"xref\": \"x\", \"y0\": -125, \"y1\": -75, \"yref\": \"y\"}, {\"fillcolor\": \"#8e063b\", \"line\": {\"color\": \"#8e063b\"}, \"name\": \"Navi Wifi 2G\", \"opacity\": 0.3, \"type\": \"circle\", \"x0\": 4, \"x1\": 8, \"xref\": \"x\", \"y0\": -124, \"y1\": -76, \"yref\": \"y\"}, {\"fillcolor\": \"#4a6fe3\", \"line\": {\"color\": \"#4a6fe3\"}, \"name\": \"MIWIFI_2G_pvER\", \"opacity\": 0.3, \"type\": \"circle\", \"x0\": 7, \"x1\": 11, \"xref\": \"x\", \"y0\": -123, \"y1\": -77, \"yref\": \"y\"}, {\"fillcolor\": \"#8595e1\", \"line\": {\"color\": \"#8595e1\"}, \"name\": \"MiFibra-47CC\", \"opacity\": 0.3, \"type\": \"circle\", \"x0\": 4, \"x1\": 8, \"xref\": \"x\", \"y0\": -121, \"y1\": -79, \"yref\": \"y\"}, {\"fillcolor\": \"#e07b91\", \"line\": {\"color\": \"#e07b91\"}, \"name\": \"MOVISTAR_2020\", \"opacity\": 0.3, \"type\": \"circle\", \"x0\": 7, \"x1\": 11, \"xref\": \"x\", \"y0\": -120, \"y1\": -80, \"yref\": \"y\"}, {\"fillcolor\": \"#d33f6a\", \"line\": {\"color\": \"#d33f6a\"}, \"name\": \"WLAN_E65F\", \"opacity\": 0.3, \"type\": \"circle\", \"x0\": -1, \"x1\": 3, \"xref\": \"x\", \"y0\": -120, \"y1\": -80, \"yref\": \"y\"}, {\"fillcolor\": \"#11c638\", \"line\": {\"color\": \"#11c638\"}, \"name\": \"MOVISTAR_8B41\", \"opacity\": 0.3, \"type\": \"circle\", \"x0\": 9, \"x1\": 13, \"xref\": \"x\", \"y0\": -120, \"y1\": -80, \"yref\": \"y\"}, {\"fillcolor\": \"#8dd593\", \"line\": {\"color\": \"#8dd593\"}, \"name\": \"MiFibra-E96E\", \"opacity\": 0.3, \"type\": \"circle\", \"x0\": -1, \"x1\": 3, \"xref\": \"x\", \"y0\": -119, \"y1\": -81, \"yref\": \"y\"}, {\"fillcolor\": \"#ef9708\", \"line\": {\"color\": \"#ef9708\"}, \"name\": \"MIWIFI_2G_Knpb\", \"opacity\": 0.3, \"type\": \"circle\", \"x0\": -1, \"x1\": 3, \"xref\": \"x\", \"y0\": -119, \"y1\": -81, \"yref\": \"y\"}, {\"fillcolor\": \"#0fcfc0\", \"line\": {\"color\": \"#0fcfc0\"}, \"name\": \"Orange-612A\", \"opacity\": 0.3, \"type\": \"circle\", \"x0\": -1, \"x1\": 3, \"xref\": \"x\", \"y0\": -119, \"y1\": -81, \"yref\": \"y\"}, {\"fillcolor\": \"#9cded6\", \"line\": {\"color\": \"#9cded6\"}, \"name\": \"MIWIFI_2G_dEw3\", \"opacity\": 0.3, \"type\": \"circle\", \"x0\": -1, \"x1\": 3, \"xref\": \"x\", \"y0\": -116, \"y1\": -84, \"yref\": \"y\"}, {\"fillcolor\": \"#f79cd4\", \"line\": {\"color\": \"#f79cd4\"}, \"name\": \"MiFibra-A49C\", \"opacity\": 0.3, \"type\": \"circle\", \"x0\": 4, \"x1\": 8, \"xref\": \"x\", \"y0\": -116, \"y1\": -84, \"yref\": \"y\"}, {\"fillcolor\": \"#023fa5\", \"line\": {\"color\": \"#023fa5\"}, \"name\": \"MOVISTAR_12F8\", \"opacity\": 0.3, \"type\": \"circle\", \"x0\": 4, \"x1\": 8, \"xref\": \"x\", \"y0\": -114, \"y1\": -86, \"yref\": \"y\"}, {\"fillcolor\": \"#7d87b9\", \"line\": {\"color\": \"#7d87b9\"}, \"name\": \"JAZZTEL_xdpk\", \"opacity\": 0.3, \"type\": \"circle\", \"x0\": -1, \"x1\": 3, \"xref\": \"x\", \"y0\": -114, \"y1\": -86, \"yref\": \"y\"}, {\"fillcolor\": \"#bb7784\", \"line\": {\"color\": \"#bb7784\"}, \"name\": \"Orange-B27B\", \"opacity\": 0.3, \"type\": \"circle\", \"x0\": 4, \"x1\": 8, \"xref\": \"x\", \"y0\": -114, \"y1\": -86, \"yref\": \"y\"}, {\"fillcolor\": \"#8e063b\", \"line\": {\"color\": \"#8e063b\"}, \"name\": \"MiFibra-D2B2\", \"opacity\": 0.3, \"type\": \"circle\", \"x0\": -1, \"x1\": 3, \"xref\": \"x\", \"y0\": -112, \"y1\": -88, \"yref\": \"y\"}, {\"fillcolor\": \"#4a6fe3\", \"line\": {\"color\": \"#4a6fe3\"}, \"name\": \"WLAN2745\", \"opacity\": 0.3, \"type\": \"circle\", \"x0\": 3, \"x1\": 7, \"xref\": \"x\", \"y0\": -109, \"y1\": -91, \"yref\": \"y\"}], \"template\": {\"data\": {\"bar\": [{\"error_x\": {\"color\": \"#f2f5fa\"}, \"error_y\": {\"color\": \"#f2f5fa\"}, \"marker\": {\"line\": {\"color\": \"rgb(17,17,17)\", \"width\": 0.5}}, \"type\": \"bar\"}], \"barpolar\": [{\"marker\": {\"line\": {\"color\": \"rgb(17,17,17)\", \"width\": 0.5}}, \"type\": \"barpolar\"}], \"carpet\": [{\"aaxis\": {\"endlinecolor\": \"#A2B1C6\", \"gridcolor\": \"#506784\", \"linecolor\": \"#506784\", \"minorgridcolor\": \"#506784\", \"startlinecolor\": \"#A2B1C6\"}, \"baxis\": {\"endlinecolor\": \"#A2B1C6\", \"gridcolor\": \"#506784\", \"linecolor\": \"#506784\", \"minorgridcolor\": \"#506784\", \"startlinecolor\": \"#A2B1C6\"}, \"type\": \"carpet\"}], \"choropleth\": [{\"colorbar\": {\"outlinewidth\": 0, \"ticks\": \"\"}, \"type\": \"choropleth\"}], \"contour\": [{\"colorbar\": {\"outlinewidth\": 0, \"ticks\": \"\"}, \"colorscale\": [[0.0, \"#0d0887\"], [0.1111111111111111, \"#46039f\"], [0.2222222222222222, \"#7201a8\"], [0.3333333333333333, \"#9c179e\"], [0.4444444444444444, \"#bd3786\"], [0.5555555555555556, \"#d8576b\"], [0.6666666666666666, \"#ed7953\"], [0.7777777777777778, \"#fb9f3a\"], [0.8888888888888888, \"#fdca26\"], [1.0, \"#f0f921\"]], \"type\": \"contour\"}], \"contourcarpet\": [{\"colorbar\": {\"outlinewidth\": 0, \"ticks\": \"\"}, \"type\": \"contourcarpet\"}], \"heatmap\": [{\"colorbar\": {\"outlinewidth\": 0, \"ticks\": \"\"}, \"colorscale\": [[0.0, \"#0d0887\"], [0.1111111111111111, \"#46039f\"], [0.2222222222222222, \"#7201a8\"], [0.3333333333333333, \"#9c179e\"], [0.4444444444444444, \"#bd3786\"], [0.5555555555555556, \"#d8576b\"], [0.6666666666666666, \"#ed7953\"], [0.7777777777777778, \"#fb9f3a\"], [0.8888888888888888, \"#fdca26\"], [1.0, \"#f0f921\"]], \"type\": \"heatmap\"}], \"heatmapgl\": [{\"colorbar\": {\"outlinewidth\": 0, \"ticks\": \"\"}, \"colorscale\": [[0.0, \"#0d0887\"], [0.1111111111111111, \"#46039f\"], [0.2222222222222222, \"#7201a8\"], [0.3333333333333333, \"#9c179e\"], [0.4444444444444444, \"#bd3786\"], [0.5555555555555556, \"#d8576b\"], [0.6666666666666666, \"#ed7953\"], [0.7777777777777778, \"#fb9f3a\"], [0.8888888888888888, \"#fdca26\"], [1.0, \"#f0f921\"]], \"type\": \"heatmapgl\"}], \"histogram\": [{\"marker\": {\"colorbar\": {\"outlinewidth\": 0, \"ticks\": \"\"}}, \"type\": \"histogram\"}], \"histogram2d\": [{\"colorbar\": {\"outlinewidth\": 0, \"ticks\": \"\"}, \"colorscale\": [[0.0, \"#0d0887\"], [0.1111111111111111, \"#46039f\"], [0.2222222222222222, \"#7201a8\"], [0.3333333333333333, \"#9c179e\"], [0.4444444444444444, \"#bd3786\"], [0.5555555555555556, \"#d8576b\"], [0.6666666666666666, \"#ed7953\"], [0.7777777777777778, \"#fb9f3a\"], [0.8888888888888888, \"#fdca26\"], [1.0, \"#f0f921\"]], \"type\": \"histogram2d\"}], \"histogram2dcontour\": [{\"colorbar\": {\"outlinewidth\": 0, \"ticks\": \"\"}, \"colorscale\": [[0.0, \"#0d0887\"], [0.1111111111111111, \"#46039f\"], [0.2222222222222222, \"#7201a8\"], [0.3333333333333333, \"#9c179e\"], [0.4444444444444444, \"#bd3786\"], [0.5555555555555556, \"#d8576b\"], [0.6666666666666666, \"#ed7953\"], [0.7777777777777778, \"#fb9f3a\"], [0.8888888888888888, \"#fdca26\"], [1.0, \"#f0f921\"]], \"type\": \"histogram2dcontour\"}], \"mesh3d\": [{\"colorbar\": {\"outlinewidth\": 0, \"ticks\": \"\"}, \"type\": \"mesh3d\"}], \"parcoords\": [{\"line\": {\"colorbar\": {\"outlinewidth\": 0, \"ticks\": \"\"}}, \"type\": \"parcoords\"}], \"pie\": [{\"automargin\": true, \"type\": \"pie\"}], \"scatter\": [{\"marker\": {\"line\": {\"color\": \"#283442\"}}, \"type\": \"scatter\"}], \"scatter3d\": [{\"line\": {\"colorbar\": {\"outlinewidth\": 0, \"ticks\": \"\"}}, \"marker\": {\"colorbar\": {\"outlinewidth\": 0, \"ticks\": \"\"}}, \"type\": \"scatter3d\"}], \"scattercarpet\": [{\"marker\": {\"colorbar\": {\"outlinewidth\": 0, \"ticks\": \"\"}}, \"type\": \"scattercarpet\"}], \"scattergeo\": [{\"marker\": {\"colorbar\": {\"outlinewidth\": 0, \"ticks\": \"\"}}, \"type\": \"scattergeo\"}], \"scattergl\": [{\"marker\": {\"line\": {\"color\": \"#283442\"}}, \"type\": \"scattergl\"}], \"scattermapbox\": [{\"marker\": {\"colorbar\": {\"outlinewidth\": 0, \"ticks\": \"\"}}, \"type\": \"scattermapbox\"}], \"scatterpolar\": [{\"marker\": {\"colorbar\": {\"outlinewidth\": 0, \"ticks\": \"\"}}, \"type\": \"scatterpolar\"}], \"scatterpolargl\": [{\"marker\": {\"colorbar\": {\"outlinewidth\": 0, \"ticks\": \"\"}}, \"type\": \"scatterpolargl\"}], \"scatterternary\": [{\"marker\": {\"colorbar\": {\"outlinewidth\": 0, \"ticks\": \"\"}}, \"type\": \"scatterternary\"}], \"surface\": [{\"colorbar\": {\"outlinewidth\": 0, \"ticks\": \"\"}, \"colorscale\": [[0.0, \"#0d0887\"], [0.1111111111111111, \"#46039f\"], [0.2222222222222222, \"#7201a8\"], [0.3333333333333333, \"#9c179e\"], [0.4444444444444444, \"#bd3786\"], [0.5555555555555556, \"#d8576b\"], [0.6666666666666666, \"#ed7953\"], [0.7777777777777778, \"#fb9f3a\"], [0.8888888888888888, \"#fdca26\"], [1.0, \"#f0f921\"]], \"type\": \"surface\"}], \"table\": [{\"cells\": {\"fill\": {\"color\": \"#506784\"}, \"line\": {\"color\": \"rgb(17,17,17)\"}}, \"header\": {\"fill\": {\"color\": \"#2a3f5f\"}, \"line\": {\"color\": \"rgb(17,17,17)\"}}, \"type\": \"table\"}]}, \"layout\": {\"annotationdefaults\": {\"arrowcolor\": \"#f2f5fa\", \"arrowhead\": 0, \"arrowwidth\": 1}, \"coloraxis\": {\"colorbar\": {\"outlinewidth\": 0, \"ticks\": \"\"}}, \"colorscale\": {\"diverging\": [[0, \"#8e0152\"], [0.1, \"#c51b7d\"], [0.2, \"#de77ae\"], [0.3, \"#f1b6da\"], [0.4, \"#fde0ef\"], [0.5, \"#f7f7f7\"], [0.6, \"#e6f5d0\"], [0.7, \"#b8e186\"], [0.8, \"#7fbc41\"], [0.9, \"#4d9221\"], [1, \"#276419\"]], \"sequential\": [[0.0, \"#0d0887\"], [0.1111111111111111, \"#46039f\"], [0.2222222222222222, \"#7201a8\"], [0.3333333333333333, \"#9c179e\"], [0.4444444444444444, \"#bd3786\"], [0.5555555555555556, \"#d8576b\"], [0.6666666666666666, \"#ed7953\"], [0.7777777777777778, \"#fb9f3a\"], [0.8888888888888888, \"#fdca26\"], [1.0, \"#f0f921\"]], \"sequentialminus\": [[0.0, \"#0d0887\"], [0.1111111111111111, \"#46039f\"], [0.2222222222222222, \"#7201a8\"], [0.3333333333333333, \"#9c179e\"], [0.4444444444444444, \"#bd3786\"], [0.5555555555555556, \"#d8576b\"], [0.6666666666666666, \"#ed7953\"], [0.7777777777777778, \"#fb9f3a\"], [0.8888888888888888, \"#fdca26\"], [1.0, \"#f0f921\"]]}, \"colorway\": [\"#636efa\", \"#EF553B\", \"#00cc96\", \"#ab63fa\", \"#FFA15A\", \"#19d3f3\", \"#FF6692\", \"#B6E880\", \"#FF97FF\", \"#FECB52\"], \"font\": {\"color\": \"#f2f5fa\"}, \"geo\": {\"bgcolor\": \"rgb(17,17,17)\", \"lakecolor\": \"rgb(17,17,17)\", \"landcolor\": \"rgb(17,17,17)\", \"showlakes\": true, \"showland\": true, \"subunitcolor\": \"#506784\"}, \"hoverlabel\": {\"align\": \"left\"}, \"hovermode\": \"closest\", \"mapbox\": {\"style\": \"dark\"}, \"paper_bgcolor\": \"rgb(17,17,17)\", \"plot_bgcolor\": \"rgb(17,17,17)\", \"polar\": {\"angularaxis\": {\"gridcolor\": \"#506784\", \"linecolor\": \"#506784\", \"ticks\": \"\"}, \"bgcolor\": \"rgb(17,17,17)\", \"radialaxis\": {\"gridcolor\": \"#506784\", \"linecolor\": \"#506784\", \"ticks\": \"\"}}, \"scene\": {\"xaxis\": {\"backgroundcolor\": \"rgb(17,17,17)\", \"gridcolor\": \"#506784\", \"gridwidth\": 2, \"linecolor\": \"#506784\", \"showbackground\": true, \"ticks\": \"\", \"zerolinecolor\": \"#C8D4E3\"}, \"yaxis\": {\"backgroundcolor\": \"rgb(17,17,17)\", \"gridcolor\": \"#506784\", \"gridwidth\": 2, \"linecolor\": \"#506784\", \"showbackground\": true, \"ticks\": \"\", \"zerolinecolor\": \"#C8D4E3\"}, \"zaxis\": {\"backgroundcolor\": \"rgb(17,17,17)\", \"gridcolor\": \"#506784\", \"gridwidth\": 2, \"linecolor\": \"#506784\", \"showbackground\": true, \"ticks\": \"\", \"zerolinecolor\": \"#C8D4E3\"}}, \"shapedefaults\": {\"line\": {\"color\": \"#f2f5fa\"}}, \"sliderdefaults\": {\"bgcolor\": \"#C8D4E3\", \"bordercolor\": \"rgb(17,17,17)\", \"borderwidth\": 1, \"tickwidth\": 0}, \"ternary\": {\"aaxis\": {\"gridcolor\": \"#506784\", \"linecolor\": \"#506784\", \"ticks\": \"\"}, \"baxis\": {\"gridcolor\": \"#506784\", \"linecolor\": \"#506784\", \"ticks\": \"\"}, \"bgcolor\": \"rgb(17,17,17)\", \"caxis\": {\"gridcolor\": \"#506784\", \"linecolor\": \"#506784\", \"ticks\": \"\"}}, \"title\": {\"x\": 0.05}, \"updatemenudefaults\": {\"bgcolor\": \"#506784\", \"borderwidth\": 0}, \"xaxis\": {\"automargin\": true, \"gridcolor\": \"#283442\", \"linecolor\": \"#506784\", \"ticks\": \"\", \"title\": {\"standoff\": 15}, \"zerolinecolor\": \"#283442\", \"zerolinewidth\": 2}, \"yaxis\": {\"automargin\": true, \"gridcolor\": \"#283442\", \"linecolor\": \"#506784\", \"ticks\": \"\", \"title\": {\"standoff\": 15}, \"zerolinecolor\": \"#283442\", \"zerolinewidth\": 2}}}, \"title\": {\"text\": \"<b>WiFi Signal per channel - 2.4GHz - Habitacion4-1\"}, \"xaxis\": {\"nticks\": 17, \"title\": {\"text\": \"Channels\"}}, \"yaxis\": {\"range\": [-100, -26], \"title\": {\"text\": \"dBm\"}}},\n",
       "                        {\"responsive\": true}\n",
       "                    ).then(function(){\n",
       "                            \n",
       "var gd = document.getElementById('c4826bce-e831-4668-8903-6e648e8cd8d8');\n",
       "var x = new MutationObserver(function (mutations, observer) {{\n",
       "        var display = window.getComputedStyle(gd).display;\n",
       "        if (!display || display === 'none') {{\n",
       "            console.log([gd, 'removed!']);\n",
       "            Plotly.purge(gd);\n",
       "            observer.disconnect();\n",
       "        }}\n",
       "}});\n",
       "\n",
       "// Listen for the removal of the full notebook cells\n",
       "var notebookContainer = gd.closest('#notebook-container');\n",
       "if (notebookContainer) {{\n",
       "    x.observe(notebookContainer, {childList: true});\n",
       "}}\n",
       "\n",
       "// Listen for the clearing of the current output cell\n",
       "var outputEl = gd.closest('.output');\n",
       "if (outputEl) {{\n",
       "    x.observe(outputEl, {childList: true});\n",
       "}}\n",
       "\n",
       "                        })\n",
       "                };\n",
       "                });\n",
       "            </script>\n",
       "        </div>"
      ]
     },
     "metadata": {},
     "output_type": "display_data"
    }
   ],
   "source": [
    "zone1_1_2G = zone1_1_2G.sort_values('dBm_Signal',ascending=False).reset_index(drop=True)\n",
    "\n",
    "# Create figure\n",
    "fig = go.Figure()\n",
    "\n",
    "# Create scatter trace of text labels\n",
    "fig.add_trace(go.Scatter(\n",
    "    x=zone1_1_2G.Channel,\n",
    "    y=zone1_1_2G.dBm_Signal,\n",
    "    text=zone1_1_2G.SSID,\n",
    "    mode='text',\n",
    "))\n",
    "\n",
    "# Add shapes\n",
    "i = 0\n",
    "for row in zone1_1_2G.itertuples() :\n",
    "    i += 1\n",
    "    fig.add_shape(\n",
    "        type='circle',\n",
    "        name=row.SSID,\n",
    "        xref='x',\n",
    "        yref='y',\n",
    "        x0=row.Channel-2,\n",
    "        y0=-row.dBm_Signal-200,\n",
    "        x1=row.Channel+2,\n",
    "        y1=row.dBm_Signal,\n",
    "        opacity=0.3,\n",
    "        fillcolor=colors2[i%len(colors2)],\n",
    "        line_color=colors2[i%len(colors2)]\n",
    "    )\n",
    "\n",
    "fig.update_layout(\n",
    "    title='<b>WiFi Signal per channel - 2.4GHz - Habitacion4-1',\n",
    "    yaxis=dict(\n",
    "        title='dBm',\n",
    "        range = (-100,zone1_1_2G.dBm_Signal.max()+10)\n",
    "    ),\n",
    "    xaxis=dict(\n",
    "        title='Channels',\n",
    "        nticks=17\n",
    "    )\n",
    ")\n",
    "fig.show()"
   ]
  },
  {
   "cell_type": "code",
   "execution_count": 81,
   "metadata": {},
   "outputs": [
    {
     "name": "stderr",
     "output_type": "stream",
     "text": [
      "/opt/conda/lib/python3.7/site-packages/ipykernel_launcher.py:5: UserWarning:\n",
      "\n",
      "Boolean Series key will be reindexed to match DataFrame index.\n",
      "\n",
      "/opt/conda/lib/python3.7/site-packages/ipykernel_launcher.py:7: UserWarning:\n",
      "\n",
      "Boolean Series key will be reindexed to match DataFrame index.\n",
      "\n"
     ]
    },
    {
     "data": {
      "text/html": [
       "<div>\n",
       "<style scoped>\n",
       "    .dataframe tbody tr th:only-of-type {\n",
       "        vertical-align: middle;\n",
       "    }\n",
       "\n",
       "    .dataframe tbody tr th {\n",
       "        vertical-align: top;\n",
       "    }\n",
       "\n",
       "    .dataframe thead th {\n",
       "        text-align: right;\n",
       "    }\n",
       "</style>\n",
       "<table border=\"1\" class=\"dataframe\">\n",
       "  <thead>\n",
       "    <tr style=\"text-align: right;\">\n",
       "      <th></th>\n",
       "      <th>co_channel_count</th>\n",
       "      <th>co_channel_max_signal</th>\n",
       "      <th>overlap_channel_count</th>\n",
       "      <th>overlap_channel_max_signal</th>\n",
       "    </tr>\n",
       "    <tr>\n",
       "      <th>channel</th>\n",
       "      <th></th>\n",
       "      <th></th>\n",
       "      <th></th>\n",
       "      <th></th>\n",
       "    </tr>\n",
       "  </thead>\n",
       "  <tbody>\n",
       "    <tr>\n",
       "      <td>1</td>\n",
       "      <td>12</td>\n",
       "      <td>-36.0</td>\n",
       "      <td>12</td>\n",
       "      <td>-36</td>\n",
       "    </tr>\n",
       "    <tr>\n",
       "      <td>2</td>\n",
       "      <td>0</td>\n",
       "      <td>NaN</td>\n",
       "      <td>16</td>\n",
       "      <td>-36</td>\n",
       "    </tr>\n",
       "    <tr>\n",
       "      <td>3</td>\n",
       "      <td>0</td>\n",
       "      <td>NaN</td>\n",
       "      <td>25</td>\n",
       "      <td>-36</td>\n",
       "    </tr>\n",
       "    <tr>\n",
       "      <td>4</td>\n",
       "      <td>0</td>\n",
       "      <td>NaN</td>\n",
       "      <td>25</td>\n",
       "      <td>-36</td>\n",
       "    </tr>\n",
       "    <tr>\n",
       "      <td>5</td>\n",
       "      <td>4</td>\n",
       "      <td>-44.0</td>\n",
       "      <td>13</td>\n",
       "      <td>-44</td>\n",
       "    </tr>\n",
       "    <tr>\n",
       "      <td>6</td>\n",
       "      <td>9</td>\n",
       "      <td>-58.0</td>\n",
       "      <td>15</td>\n",
       "      <td>-44</td>\n",
       "    </tr>\n",
       "    <tr>\n",
       "      <td>7</td>\n",
       "      <td>0</td>\n",
       "      <td>NaN</td>\n",
       "      <td>16</td>\n",
       "      <td>-44</td>\n",
       "    </tr>\n",
       "    <tr>\n",
       "      <td>8</td>\n",
       "      <td>0</td>\n",
       "      <td>NaN</td>\n",
       "      <td>19</td>\n",
       "      <td>-44</td>\n",
       "    </tr>\n",
       "    <tr>\n",
       "      <td>9</td>\n",
       "      <td>2</td>\n",
       "      <td>-77.0</td>\n",
       "      <td>15</td>\n",
       "      <td>-58</td>\n",
       "    </tr>\n",
       "    <tr>\n",
       "      <td>10</td>\n",
       "      <td>1</td>\n",
       "      <td>-74.0</td>\n",
       "      <td>6</td>\n",
       "      <td>-71</td>\n",
       "    </tr>\n",
       "    <tr>\n",
       "      <td>11</td>\n",
       "      <td>3</td>\n",
       "      <td>-71.0</td>\n",
       "      <td>6</td>\n",
       "      <td>-71</td>\n",
       "    </tr>\n",
       "    <tr>\n",
       "      <td>12</td>\n",
       "      <td>0</td>\n",
       "      <td>NaN</td>\n",
       "      <td>6</td>\n",
       "      <td>-71</td>\n",
       "    </tr>\n",
       "    <tr>\n",
       "      <td>13</td>\n",
       "      <td>0</td>\n",
       "      <td>NaN</td>\n",
       "      <td>4</td>\n",
       "      <td>-71</td>\n",
       "    </tr>\n",
       "  </tbody>\n",
       "</table>\n",
       "</div>"
      ],
      "text/plain": [
       "         co_channel_count  co_channel_max_signal  overlap_channel_count  \\\n",
       "channel                                                                   \n",
       "1                      12                  -36.0                     12   \n",
       "2                       0                    NaN                     16   \n",
       "3                       0                    NaN                     25   \n",
       "4                       0                    NaN                     25   \n",
       "5                       4                  -44.0                     13   \n",
       "6                       9                  -58.0                     15   \n",
       "7                       0                    NaN                     16   \n",
       "8                       0                    NaN                     19   \n",
       "9                       2                  -77.0                     15   \n",
       "10                      1                  -74.0                      6   \n",
       "11                      3                  -71.0                      6   \n",
       "12                      0                    NaN                      6   \n",
       "13                      0                    NaN                      4   \n",
       "\n",
       "         overlap_channel_max_signal  \n",
       "channel                              \n",
       "1                               -36  \n",
       "2                               -36  \n",
       "3                               -36  \n",
       "4                               -36  \n",
       "5                               -44  \n",
       "6                               -44  \n",
       "7                               -44  \n",
       "8                               -44  \n",
       "9                               -58  \n",
       "10                              -71  \n",
       "11                              -71  \n",
       "12                              -71  \n",
       "13                              -71  "
      ]
     },
     "execution_count": 81,
     "metadata": {},
     "output_type": "execute_result"
    }
   ],
   "source": [
    "#Channels characteristics\n",
    "channel_stats = []\n",
    "rest_channels = zone1_1_2G[zone1_1_2G.SSID != 'WifiAle-2.4G']\n",
    "for channel in range(1,14):\n",
    "    channel_df = rest_channels[zone1_1_2G.Channel == channel]\n",
    "    neigh_channels = [channel+i for i in range(-3,4)]\n",
    "    neigh_channels_df = rest_channels[zone1_1_2G.Channel.isin(neigh_channels)]\n",
    "    \n",
    "    channel_stat = {}\n",
    "    channel_stat['channel'] = channel\n",
    "    channel_stat['co_channel_count'] = channel_df.shape[0]\n",
    "    channel_stat['co_channel_max_signal'] = channel_df.dBm_Signal.max()\n",
    "    channel_stat['overlap_channel_count'] = neigh_channels_df.shape[0]\n",
    "    channel_stat['overlap_channel_max_signal'] = neigh_channels_df.dBm_Signal.max()\n",
    "    \n",
    "    channel_stats.append(channel_stat)\n",
    "\n",
    "channel_stats_df = pd.DataFrame(channel_stats)\n",
    "channel_stats_df.sort_values('channel').set_index('channel')"
   ]
  },
  {
   "cell_type": "code",
   "execution_count": 79,
   "metadata": {},
   "outputs": [],
   "source": [
    "zone1_1_5G = scanned[(scanned.Channel > 14) & (scanned.zone.isin([4,5])) & (scanned.subzone.isin([1,2]))]\n",
    "zone1_1_5G = zone1_1_5G.sort_values('dBm_Signal',ascending=False).drop_duplicates(['SSID'],keep='first')"
   ]
  },
  {
   "cell_type": "code",
   "execution_count": 80,
   "metadata": {},
   "outputs": [
    {
     "data": {
      "application/vnd.plotly.v1+json": {
       "config": {
        "plotlyServerURL": "https://plot.ly"
       },
       "data": [
        {
         "mode": "text",
         "text": [
          "WifiAle-5G",
          "devolo-bb1",
          "MiFibra-0A9F-5G",
          "MiFibra-0A9F",
          "MIWIFI_5G_pvER",
          "MiFibra-DC97",
          "MOVISTAR_PLUS_8B41"
         ],
         "type": "scatter",
         "x": [
          48,
          36,
          52,
          52,
          48,
          56,
          36
         ],
         "y": [
          -62,
          -73,
          -81,
          -81,
          -84,
          -93,
          -93
         ]
        }
       ],
       "layout": {
        "shapes": [
         {
          "fillcolor": "#7d87b9",
          "line": {
           "color": "#7d87b9"
          },
          "name": "WifiAle-5G",
          "opacity": 0.5,
          "type": "circle",
          "x0": 46,
          "x1": 50,
          "xref": "x",
          "y0": -138,
          "y1": -62,
          "yref": "y"
         },
         {
          "fillcolor": "#bb7784",
          "line": {
           "color": "#bb7784"
          },
          "name": "devolo-bb1",
          "opacity": 0.5,
          "type": "circle",
          "x0": 34,
          "x1": 38,
          "xref": "x",
          "y0": -127,
          "y1": -73,
          "yref": "y"
         },
         {
          "fillcolor": "#8e063b",
          "line": {
           "color": "#8e063b"
          },
          "name": "MiFibra-0A9F-5G",
          "opacity": 0.5,
          "type": "circle",
          "x0": 50,
          "x1": 54,
          "xref": "x",
          "y0": -119,
          "y1": -81,
          "yref": "y"
         },
         {
          "fillcolor": "#4a6fe3",
          "line": {
           "color": "#4a6fe3"
          },
          "name": "MiFibra-0A9F",
          "opacity": 0.5,
          "type": "circle",
          "x0": 50,
          "x1": 54,
          "xref": "x",
          "y0": -119,
          "y1": -81,
          "yref": "y"
         },
         {
          "fillcolor": "#8595e1",
          "line": {
           "color": "#8595e1"
          },
          "name": "MIWIFI_5G_pvER",
          "opacity": 0.5,
          "type": "circle",
          "x0": 46,
          "x1": 50,
          "xref": "x",
          "y0": -116,
          "y1": -84,
          "yref": "y"
         },
         {
          "fillcolor": "#e07b91",
          "line": {
           "color": "#e07b91"
          },
          "name": "MiFibra-DC97",
          "opacity": 0.5,
          "type": "circle",
          "x0": 54,
          "x1": 58,
          "xref": "x",
          "y0": -107,
          "y1": -93,
          "yref": "y"
         },
         {
          "fillcolor": "#d33f6a",
          "line": {
           "color": "#d33f6a"
          },
          "name": "MOVISTAR_PLUS_8B41",
          "opacity": 0.5,
          "type": "circle",
          "x0": 34,
          "x1": 38,
          "xref": "x",
          "y0": -107,
          "y1": -93,
          "yref": "y"
         }
        ],
        "template": {
         "data": {
          "bar": [
           {
            "error_x": {
             "color": "#f2f5fa"
            },
            "error_y": {
             "color": "#f2f5fa"
            },
            "marker": {
             "line": {
              "color": "rgb(17,17,17)",
              "width": 0.5
             }
            },
            "type": "bar"
           }
          ],
          "barpolar": [
           {
            "marker": {
             "line": {
              "color": "rgb(17,17,17)",
              "width": 0.5
             }
            },
            "type": "barpolar"
           }
          ],
          "carpet": [
           {
            "aaxis": {
             "endlinecolor": "#A2B1C6",
             "gridcolor": "#506784",
             "linecolor": "#506784",
             "minorgridcolor": "#506784",
             "startlinecolor": "#A2B1C6"
            },
            "baxis": {
             "endlinecolor": "#A2B1C6",
             "gridcolor": "#506784",
             "linecolor": "#506784",
             "minorgridcolor": "#506784",
             "startlinecolor": "#A2B1C6"
            },
            "type": "carpet"
           }
          ],
          "choropleth": [
           {
            "colorbar": {
             "outlinewidth": 0,
             "ticks": ""
            },
            "type": "choropleth"
           }
          ],
          "contour": [
           {
            "colorbar": {
             "outlinewidth": 0,
             "ticks": ""
            },
            "colorscale": [
             [
              0,
              "#0d0887"
             ],
             [
              0.1111111111111111,
              "#46039f"
             ],
             [
              0.2222222222222222,
              "#7201a8"
             ],
             [
              0.3333333333333333,
              "#9c179e"
             ],
             [
              0.4444444444444444,
              "#bd3786"
             ],
             [
              0.5555555555555556,
              "#d8576b"
             ],
             [
              0.6666666666666666,
              "#ed7953"
             ],
             [
              0.7777777777777778,
              "#fb9f3a"
             ],
             [
              0.8888888888888888,
              "#fdca26"
             ],
             [
              1,
              "#f0f921"
             ]
            ],
            "type": "contour"
           }
          ],
          "contourcarpet": [
           {
            "colorbar": {
             "outlinewidth": 0,
             "ticks": ""
            },
            "type": "contourcarpet"
           }
          ],
          "heatmap": [
           {
            "colorbar": {
             "outlinewidth": 0,
             "ticks": ""
            },
            "colorscale": [
             [
              0,
              "#0d0887"
             ],
             [
              0.1111111111111111,
              "#46039f"
             ],
             [
              0.2222222222222222,
              "#7201a8"
             ],
             [
              0.3333333333333333,
              "#9c179e"
             ],
             [
              0.4444444444444444,
              "#bd3786"
             ],
             [
              0.5555555555555556,
              "#d8576b"
             ],
             [
              0.6666666666666666,
              "#ed7953"
             ],
             [
              0.7777777777777778,
              "#fb9f3a"
             ],
             [
              0.8888888888888888,
              "#fdca26"
             ],
             [
              1,
              "#f0f921"
             ]
            ],
            "type": "heatmap"
           }
          ],
          "heatmapgl": [
           {
            "colorbar": {
             "outlinewidth": 0,
             "ticks": ""
            },
            "colorscale": [
             [
              0,
              "#0d0887"
             ],
             [
              0.1111111111111111,
              "#46039f"
             ],
             [
              0.2222222222222222,
              "#7201a8"
             ],
             [
              0.3333333333333333,
              "#9c179e"
             ],
             [
              0.4444444444444444,
              "#bd3786"
             ],
             [
              0.5555555555555556,
              "#d8576b"
             ],
             [
              0.6666666666666666,
              "#ed7953"
             ],
             [
              0.7777777777777778,
              "#fb9f3a"
             ],
             [
              0.8888888888888888,
              "#fdca26"
             ],
             [
              1,
              "#f0f921"
             ]
            ],
            "type": "heatmapgl"
           }
          ],
          "histogram": [
           {
            "marker": {
             "colorbar": {
              "outlinewidth": 0,
              "ticks": ""
             }
            },
            "type": "histogram"
           }
          ],
          "histogram2d": [
           {
            "colorbar": {
             "outlinewidth": 0,
             "ticks": ""
            },
            "colorscale": [
             [
              0,
              "#0d0887"
             ],
             [
              0.1111111111111111,
              "#46039f"
             ],
             [
              0.2222222222222222,
              "#7201a8"
             ],
             [
              0.3333333333333333,
              "#9c179e"
             ],
             [
              0.4444444444444444,
              "#bd3786"
             ],
             [
              0.5555555555555556,
              "#d8576b"
             ],
             [
              0.6666666666666666,
              "#ed7953"
             ],
             [
              0.7777777777777778,
              "#fb9f3a"
             ],
             [
              0.8888888888888888,
              "#fdca26"
             ],
             [
              1,
              "#f0f921"
             ]
            ],
            "type": "histogram2d"
           }
          ],
          "histogram2dcontour": [
           {
            "colorbar": {
             "outlinewidth": 0,
             "ticks": ""
            },
            "colorscale": [
             [
              0,
              "#0d0887"
             ],
             [
              0.1111111111111111,
              "#46039f"
             ],
             [
              0.2222222222222222,
              "#7201a8"
             ],
             [
              0.3333333333333333,
              "#9c179e"
             ],
             [
              0.4444444444444444,
              "#bd3786"
             ],
             [
              0.5555555555555556,
              "#d8576b"
             ],
             [
              0.6666666666666666,
              "#ed7953"
             ],
             [
              0.7777777777777778,
              "#fb9f3a"
             ],
             [
              0.8888888888888888,
              "#fdca26"
             ],
             [
              1,
              "#f0f921"
             ]
            ],
            "type": "histogram2dcontour"
           }
          ],
          "mesh3d": [
           {
            "colorbar": {
             "outlinewidth": 0,
             "ticks": ""
            },
            "type": "mesh3d"
           }
          ],
          "parcoords": [
           {
            "line": {
             "colorbar": {
              "outlinewidth": 0,
              "ticks": ""
             }
            },
            "type": "parcoords"
           }
          ],
          "pie": [
           {
            "automargin": true,
            "type": "pie"
           }
          ],
          "scatter": [
           {
            "marker": {
             "line": {
              "color": "#283442"
             }
            },
            "type": "scatter"
           }
          ],
          "scatter3d": [
           {
            "line": {
             "colorbar": {
              "outlinewidth": 0,
              "ticks": ""
             }
            },
            "marker": {
             "colorbar": {
              "outlinewidth": 0,
              "ticks": ""
             }
            },
            "type": "scatter3d"
           }
          ],
          "scattercarpet": [
           {
            "marker": {
             "colorbar": {
              "outlinewidth": 0,
              "ticks": ""
             }
            },
            "type": "scattercarpet"
           }
          ],
          "scattergeo": [
           {
            "marker": {
             "colorbar": {
              "outlinewidth": 0,
              "ticks": ""
             }
            },
            "type": "scattergeo"
           }
          ],
          "scattergl": [
           {
            "marker": {
             "line": {
              "color": "#283442"
             }
            },
            "type": "scattergl"
           }
          ],
          "scattermapbox": [
           {
            "marker": {
             "colorbar": {
              "outlinewidth": 0,
              "ticks": ""
             }
            },
            "type": "scattermapbox"
           }
          ],
          "scatterpolar": [
           {
            "marker": {
             "colorbar": {
              "outlinewidth": 0,
              "ticks": ""
             }
            },
            "type": "scatterpolar"
           }
          ],
          "scatterpolargl": [
           {
            "marker": {
             "colorbar": {
              "outlinewidth": 0,
              "ticks": ""
             }
            },
            "type": "scatterpolargl"
           }
          ],
          "scatterternary": [
           {
            "marker": {
             "colorbar": {
              "outlinewidth": 0,
              "ticks": ""
             }
            },
            "type": "scatterternary"
           }
          ],
          "surface": [
           {
            "colorbar": {
             "outlinewidth": 0,
             "ticks": ""
            },
            "colorscale": [
             [
              0,
              "#0d0887"
             ],
             [
              0.1111111111111111,
              "#46039f"
             ],
             [
              0.2222222222222222,
              "#7201a8"
             ],
             [
              0.3333333333333333,
              "#9c179e"
             ],
             [
              0.4444444444444444,
              "#bd3786"
             ],
             [
              0.5555555555555556,
              "#d8576b"
             ],
             [
              0.6666666666666666,
              "#ed7953"
             ],
             [
              0.7777777777777778,
              "#fb9f3a"
             ],
             [
              0.8888888888888888,
              "#fdca26"
             ],
             [
              1,
              "#f0f921"
             ]
            ],
            "type": "surface"
           }
          ],
          "table": [
           {
            "cells": {
             "fill": {
              "color": "#506784"
             },
             "line": {
              "color": "rgb(17,17,17)"
             }
            },
            "header": {
             "fill": {
              "color": "#2a3f5f"
             },
             "line": {
              "color": "rgb(17,17,17)"
             }
            },
            "type": "table"
           }
          ]
         },
         "layout": {
          "annotationdefaults": {
           "arrowcolor": "#f2f5fa",
           "arrowhead": 0,
           "arrowwidth": 1
          },
          "coloraxis": {
           "colorbar": {
            "outlinewidth": 0,
            "ticks": ""
           }
          },
          "colorscale": {
           "diverging": [
            [
             0,
             "#8e0152"
            ],
            [
             0.1,
             "#c51b7d"
            ],
            [
             0.2,
             "#de77ae"
            ],
            [
             0.3,
             "#f1b6da"
            ],
            [
             0.4,
             "#fde0ef"
            ],
            [
             0.5,
             "#f7f7f7"
            ],
            [
             0.6,
             "#e6f5d0"
            ],
            [
             0.7,
             "#b8e186"
            ],
            [
             0.8,
             "#7fbc41"
            ],
            [
             0.9,
             "#4d9221"
            ],
            [
             1,
             "#276419"
            ]
           ],
           "sequential": [
            [
             0,
             "#0d0887"
            ],
            [
             0.1111111111111111,
             "#46039f"
            ],
            [
             0.2222222222222222,
             "#7201a8"
            ],
            [
             0.3333333333333333,
             "#9c179e"
            ],
            [
             0.4444444444444444,
             "#bd3786"
            ],
            [
             0.5555555555555556,
             "#d8576b"
            ],
            [
             0.6666666666666666,
             "#ed7953"
            ],
            [
             0.7777777777777778,
             "#fb9f3a"
            ],
            [
             0.8888888888888888,
             "#fdca26"
            ],
            [
             1,
             "#f0f921"
            ]
           ],
           "sequentialminus": [
            [
             0,
             "#0d0887"
            ],
            [
             0.1111111111111111,
             "#46039f"
            ],
            [
             0.2222222222222222,
             "#7201a8"
            ],
            [
             0.3333333333333333,
             "#9c179e"
            ],
            [
             0.4444444444444444,
             "#bd3786"
            ],
            [
             0.5555555555555556,
             "#d8576b"
            ],
            [
             0.6666666666666666,
             "#ed7953"
            ],
            [
             0.7777777777777778,
             "#fb9f3a"
            ],
            [
             0.8888888888888888,
             "#fdca26"
            ],
            [
             1,
             "#f0f921"
            ]
           ]
          },
          "colorway": [
           "#636efa",
           "#EF553B",
           "#00cc96",
           "#ab63fa",
           "#FFA15A",
           "#19d3f3",
           "#FF6692",
           "#B6E880",
           "#FF97FF",
           "#FECB52"
          ],
          "font": {
           "color": "#f2f5fa"
          },
          "geo": {
           "bgcolor": "rgb(17,17,17)",
           "lakecolor": "rgb(17,17,17)",
           "landcolor": "rgb(17,17,17)",
           "showlakes": true,
           "showland": true,
           "subunitcolor": "#506784"
          },
          "hoverlabel": {
           "align": "left"
          },
          "hovermode": "closest",
          "mapbox": {
           "style": "dark"
          },
          "paper_bgcolor": "rgb(17,17,17)",
          "plot_bgcolor": "rgb(17,17,17)",
          "polar": {
           "angularaxis": {
            "gridcolor": "#506784",
            "linecolor": "#506784",
            "ticks": ""
           },
           "bgcolor": "rgb(17,17,17)",
           "radialaxis": {
            "gridcolor": "#506784",
            "linecolor": "#506784",
            "ticks": ""
           }
          },
          "scene": {
           "xaxis": {
            "backgroundcolor": "rgb(17,17,17)",
            "gridcolor": "#506784",
            "gridwidth": 2,
            "linecolor": "#506784",
            "showbackground": true,
            "ticks": "",
            "zerolinecolor": "#C8D4E3"
           },
           "yaxis": {
            "backgroundcolor": "rgb(17,17,17)",
            "gridcolor": "#506784",
            "gridwidth": 2,
            "linecolor": "#506784",
            "showbackground": true,
            "ticks": "",
            "zerolinecolor": "#C8D4E3"
           },
           "zaxis": {
            "backgroundcolor": "rgb(17,17,17)",
            "gridcolor": "#506784",
            "gridwidth": 2,
            "linecolor": "#506784",
            "showbackground": true,
            "ticks": "",
            "zerolinecolor": "#C8D4E3"
           }
          },
          "shapedefaults": {
           "line": {
            "color": "#f2f5fa"
           }
          },
          "sliderdefaults": {
           "bgcolor": "#C8D4E3",
           "bordercolor": "rgb(17,17,17)",
           "borderwidth": 1,
           "tickwidth": 0
          },
          "ternary": {
           "aaxis": {
            "gridcolor": "#506784",
            "linecolor": "#506784",
            "ticks": ""
           },
           "baxis": {
            "gridcolor": "#506784",
            "linecolor": "#506784",
            "ticks": ""
           },
           "bgcolor": "rgb(17,17,17)",
           "caxis": {
            "gridcolor": "#506784",
            "linecolor": "#506784",
            "ticks": ""
           }
          },
          "title": {
           "x": 0.05
          },
          "updatemenudefaults": {
           "bgcolor": "#506784",
           "borderwidth": 0
          },
          "xaxis": {
           "automargin": true,
           "gridcolor": "#283442",
           "linecolor": "#506784",
           "ticks": "",
           "title": {
            "standoff": 15
           },
           "zerolinecolor": "#283442",
           "zerolinewidth": 2
          },
          "yaxis": {
           "automargin": true,
           "gridcolor": "#283442",
           "linecolor": "#506784",
           "ticks": "",
           "title": {
            "standoff": 15
           },
           "zerolinecolor": "#283442",
           "zerolinewidth": 2
          }
         }
        },
        "title": {
         "text": "<b>WiFi Signal per channel - 5GHz  - Habitacion4-1"
        },
        "xaxis": {
         "nticks": 17,
         "title": {
          "text": "Channels"
         }
        },
        "yaxis": {
         "range": [
          -100,
          -52
         ],
         "title": {
          "text": "dBm"
         }
        }
       }
      },
      "text/html": [
       "<div>\n",
       "        \n",
       "        \n",
       "            <div id=\"a6c77c99-c477-43a4-a27f-07d2d120266b\" class=\"plotly-graph-div\" style=\"height:525px; width:100%;\"></div>\n",
       "            <script type=\"text/javascript\">\n",
       "                require([\"plotly\"], function(Plotly) {\n",
       "                    window.PLOTLYENV=window.PLOTLYENV || {};\n",
       "                    \n",
       "                if (document.getElementById(\"a6c77c99-c477-43a4-a27f-07d2d120266b\")) {\n",
       "                    Plotly.newPlot(\n",
       "                        'a6c77c99-c477-43a4-a27f-07d2d120266b',\n",
       "                        [{\"mode\": \"text\", \"text\": [\"WifiAle-5G\", \"devolo-bb1\", \"MiFibra-0A9F-5G\", \"MiFibra-0A9F\", \"MIWIFI_5G_pvER\", \"MiFibra-DC97\", \"MOVISTAR_PLUS_8B41\"], \"type\": \"scatter\", \"x\": [48, 36, 52, 52, 48, 56, 36], \"y\": [-62, -73, -81, -81, -84, -93, -93]}],\n",
       "                        {\"shapes\": [{\"fillcolor\": \"#7d87b9\", \"line\": {\"color\": \"#7d87b9\"}, \"name\": \"WifiAle-5G\", \"opacity\": 0.5, \"type\": \"circle\", \"x0\": 46, \"x1\": 50, \"xref\": \"x\", \"y0\": -138, \"y1\": -62, \"yref\": \"y\"}, {\"fillcolor\": \"#bb7784\", \"line\": {\"color\": \"#bb7784\"}, \"name\": \"devolo-bb1\", \"opacity\": 0.5, \"type\": \"circle\", \"x0\": 34, \"x1\": 38, \"xref\": \"x\", \"y0\": -127, \"y1\": -73, \"yref\": \"y\"}, {\"fillcolor\": \"#8e063b\", \"line\": {\"color\": \"#8e063b\"}, \"name\": \"MiFibra-0A9F-5G\", \"opacity\": 0.5, \"type\": \"circle\", \"x0\": 50, \"x1\": 54, \"xref\": \"x\", \"y0\": -119, \"y1\": -81, \"yref\": \"y\"}, {\"fillcolor\": \"#4a6fe3\", \"line\": {\"color\": \"#4a6fe3\"}, \"name\": \"MiFibra-0A9F\", \"opacity\": 0.5, \"type\": \"circle\", \"x0\": 50, \"x1\": 54, \"xref\": \"x\", \"y0\": -119, \"y1\": -81, \"yref\": \"y\"}, {\"fillcolor\": \"#8595e1\", \"line\": {\"color\": \"#8595e1\"}, \"name\": \"MIWIFI_5G_pvER\", \"opacity\": 0.5, \"type\": \"circle\", \"x0\": 46, \"x1\": 50, \"xref\": \"x\", \"y0\": -116, \"y1\": -84, \"yref\": \"y\"}, {\"fillcolor\": \"#e07b91\", \"line\": {\"color\": \"#e07b91\"}, \"name\": \"MiFibra-DC97\", \"opacity\": 0.5, \"type\": \"circle\", \"x0\": 54, \"x1\": 58, \"xref\": \"x\", \"y0\": -107, \"y1\": -93, \"yref\": \"y\"}, {\"fillcolor\": \"#d33f6a\", \"line\": {\"color\": \"#d33f6a\"}, \"name\": \"MOVISTAR_PLUS_8B41\", \"opacity\": 0.5, \"type\": \"circle\", \"x0\": 34, \"x1\": 38, \"xref\": \"x\", \"y0\": -107, \"y1\": -93, \"yref\": \"y\"}], \"template\": {\"data\": {\"bar\": [{\"error_x\": {\"color\": \"#f2f5fa\"}, \"error_y\": {\"color\": \"#f2f5fa\"}, \"marker\": {\"line\": {\"color\": \"rgb(17,17,17)\", \"width\": 0.5}}, \"type\": \"bar\"}], \"barpolar\": [{\"marker\": {\"line\": {\"color\": \"rgb(17,17,17)\", \"width\": 0.5}}, \"type\": \"barpolar\"}], \"carpet\": [{\"aaxis\": {\"endlinecolor\": \"#A2B1C6\", \"gridcolor\": \"#506784\", \"linecolor\": \"#506784\", \"minorgridcolor\": \"#506784\", \"startlinecolor\": \"#A2B1C6\"}, \"baxis\": {\"endlinecolor\": \"#A2B1C6\", \"gridcolor\": \"#506784\", \"linecolor\": \"#506784\", \"minorgridcolor\": \"#506784\", \"startlinecolor\": \"#A2B1C6\"}, \"type\": \"carpet\"}], \"choropleth\": [{\"colorbar\": {\"outlinewidth\": 0, \"ticks\": \"\"}, \"type\": \"choropleth\"}], \"contour\": [{\"colorbar\": {\"outlinewidth\": 0, \"ticks\": \"\"}, \"colorscale\": [[0.0, \"#0d0887\"], [0.1111111111111111, \"#46039f\"], [0.2222222222222222, \"#7201a8\"], [0.3333333333333333, \"#9c179e\"], [0.4444444444444444, \"#bd3786\"], [0.5555555555555556, \"#d8576b\"], [0.6666666666666666, \"#ed7953\"], [0.7777777777777778, \"#fb9f3a\"], [0.8888888888888888, \"#fdca26\"], [1.0, \"#f0f921\"]], \"type\": \"contour\"}], \"contourcarpet\": [{\"colorbar\": {\"outlinewidth\": 0, \"ticks\": \"\"}, \"type\": \"contourcarpet\"}], \"heatmap\": [{\"colorbar\": {\"outlinewidth\": 0, \"ticks\": \"\"}, \"colorscale\": [[0.0, \"#0d0887\"], [0.1111111111111111, \"#46039f\"], [0.2222222222222222, \"#7201a8\"], [0.3333333333333333, \"#9c179e\"], [0.4444444444444444, \"#bd3786\"], [0.5555555555555556, \"#d8576b\"], [0.6666666666666666, \"#ed7953\"], [0.7777777777777778, \"#fb9f3a\"], [0.8888888888888888, \"#fdca26\"], [1.0, \"#f0f921\"]], \"type\": \"heatmap\"}], \"heatmapgl\": [{\"colorbar\": {\"outlinewidth\": 0, \"ticks\": \"\"}, \"colorscale\": [[0.0, \"#0d0887\"], [0.1111111111111111, \"#46039f\"], [0.2222222222222222, \"#7201a8\"], [0.3333333333333333, \"#9c179e\"], [0.4444444444444444, \"#bd3786\"], [0.5555555555555556, \"#d8576b\"], [0.6666666666666666, \"#ed7953\"], [0.7777777777777778, \"#fb9f3a\"], [0.8888888888888888, \"#fdca26\"], [1.0, \"#f0f921\"]], \"type\": \"heatmapgl\"}], \"histogram\": [{\"marker\": {\"colorbar\": {\"outlinewidth\": 0, \"ticks\": \"\"}}, \"type\": \"histogram\"}], \"histogram2d\": [{\"colorbar\": {\"outlinewidth\": 0, \"ticks\": \"\"}, \"colorscale\": [[0.0, \"#0d0887\"], [0.1111111111111111, \"#46039f\"], [0.2222222222222222, \"#7201a8\"], [0.3333333333333333, \"#9c179e\"], [0.4444444444444444, \"#bd3786\"], [0.5555555555555556, \"#d8576b\"], [0.6666666666666666, \"#ed7953\"], [0.7777777777777778, \"#fb9f3a\"], [0.8888888888888888, \"#fdca26\"], [1.0, \"#f0f921\"]], \"type\": \"histogram2d\"}], \"histogram2dcontour\": [{\"colorbar\": {\"outlinewidth\": 0, \"ticks\": \"\"}, \"colorscale\": [[0.0, \"#0d0887\"], [0.1111111111111111, \"#46039f\"], [0.2222222222222222, \"#7201a8\"], [0.3333333333333333, \"#9c179e\"], [0.4444444444444444, \"#bd3786\"], [0.5555555555555556, \"#d8576b\"], [0.6666666666666666, \"#ed7953\"], [0.7777777777777778, \"#fb9f3a\"], [0.8888888888888888, \"#fdca26\"], [1.0, \"#f0f921\"]], \"type\": \"histogram2dcontour\"}], \"mesh3d\": [{\"colorbar\": {\"outlinewidth\": 0, \"ticks\": \"\"}, \"type\": \"mesh3d\"}], \"parcoords\": [{\"line\": {\"colorbar\": {\"outlinewidth\": 0, \"ticks\": \"\"}}, \"type\": \"parcoords\"}], \"pie\": [{\"automargin\": true, \"type\": \"pie\"}], \"scatter\": [{\"marker\": {\"line\": {\"color\": \"#283442\"}}, \"type\": \"scatter\"}], \"scatter3d\": [{\"line\": {\"colorbar\": {\"outlinewidth\": 0, \"ticks\": \"\"}}, \"marker\": {\"colorbar\": {\"outlinewidth\": 0, \"ticks\": \"\"}}, \"type\": \"scatter3d\"}], \"scattercarpet\": [{\"marker\": {\"colorbar\": {\"outlinewidth\": 0, \"ticks\": \"\"}}, \"type\": \"scattercarpet\"}], \"scattergeo\": [{\"marker\": {\"colorbar\": {\"outlinewidth\": 0, \"ticks\": \"\"}}, \"type\": \"scattergeo\"}], \"scattergl\": [{\"marker\": {\"line\": {\"color\": \"#283442\"}}, \"type\": \"scattergl\"}], \"scattermapbox\": [{\"marker\": {\"colorbar\": {\"outlinewidth\": 0, \"ticks\": \"\"}}, \"type\": \"scattermapbox\"}], \"scatterpolar\": [{\"marker\": {\"colorbar\": {\"outlinewidth\": 0, \"ticks\": \"\"}}, \"type\": \"scatterpolar\"}], \"scatterpolargl\": [{\"marker\": {\"colorbar\": {\"outlinewidth\": 0, \"ticks\": \"\"}}, \"type\": \"scatterpolargl\"}], \"scatterternary\": [{\"marker\": {\"colorbar\": {\"outlinewidth\": 0, \"ticks\": \"\"}}, \"type\": \"scatterternary\"}], \"surface\": [{\"colorbar\": {\"outlinewidth\": 0, \"ticks\": \"\"}, \"colorscale\": [[0.0, \"#0d0887\"], [0.1111111111111111, \"#46039f\"], [0.2222222222222222, \"#7201a8\"], [0.3333333333333333, \"#9c179e\"], [0.4444444444444444, \"#bd3786\"], [0.5555555555555556, \"#d8576b\"], [0.6666666666666666, \"#ed7953\"], [0.7777777777777778, \"#fb9f3a\"], [0.8888888888888888, \"#fdca26\"], [1.0, \"#f0f921\"]], \"type\": \"surface\"}], \"table\": [{\"cells\": {\"fill\": {\"color\": \"#506784\"}, \"line\": {\"color\": \"rgb(17,17,17)\"}}, \"header\": {\"fill\": {\"color\": \"#2a3f5f\"}, \"line\": {\"color\": \"rgb(17,17,17)\"}}, \"type\": \"table\"}]}, \"layout\": {\"annotationdefaults\": {\"arrowcolor\": \"#f2f5fa\", \"arrowhead\": 0, \"arrowwidth\": 1}, \"coloraxis\": {\"colorbar\": {\"outlinewidth\": 0, \"ticks\": \"\"}}, \"colorscale\": {\"diverging\": [[0, \"#8e0152\"], [0.1, \"#c51b7d\"], [0.2, \"#de77ae\"], [0.3, \"#f1b6da\"], [0.4, \"#fde0ef\"], [0.5, \"#f7f7f7\"], [0.6, \"#e6f5d0\"], [0.7, \"#b8e186\"], [0.8, \"#7fbc41\"], [0.9, \"#4d9221\"], [1, \"#276419\"]], \"sequential\": [[0.0, \"#0d0887\"], [0.1111111111111111, \"#46039f\"], [0.2222222222222222, \"#7201a8\"], [0.3333333333333333, \"#9c179e\"], [0.4444444444444444, \"#bd3786\"], [0.5555555555555556, \"#d8576b\"], [0.6666666666666666, \"#ed7953\"], [0.7777777777777778, \"#fb9f3a\"], [0.8888888888888888, \"#fdca26\"], [1.0, \"#f0f921\"]], \"sequentialminus\": [[0.0, \"#0d0887\"], [0.1111111111111111, \"#46039f\"], [0.2222222222222222, \"#7201a8\"], [0.3333333333333333, \"#9c179e\"], [0.4444444444444444, \"#bd3786\"], [0.5555555555555556, \"#d8576b\"], [0.6666666666666666, \"#ed7953\"], [0.7777777777777778, \"#fb9f3a\"], [0.8888888888888888, \"#fdca26\"], [1.0, \"#f0f921\"]]}, \"colorway\": [\"#636efa\", \"#EF553B\", \"#00cc96\", \"#ab63fa\", \"#FFA15A\", \"#19d3f3\", \"#FF6692\", \"#B6E880\", \"#FF97FF\", \"#FECB52\"], \"font\": {\"color\": \"#f2f5fa\"}, \"geo\": {\"bgcolor\": \"rgb(17,17,17)\", \"lakecolor\": \"rgb(17,17,17)\", \"landcolor\": \"rgb(17,17,17)\", \"showlakes\": true, \"showland\": true, \"subunitcolor\": \"#506784\"}, \"hoverlabel\": {\"align\": \"left\"}, \"hovermode\": \"closest\", \"mapbox\": {\"style\": \"dark\"}, \"paper_bgcolor\": \"rgb(17,17,17)\", \"plot_bgcolor\": \"rgb(17,17,17)\", \"polar\": {\"angularaxis\": {\"gridcolor\": \"#506784\", \"linecolor\": \"#506784\", \"ticks\": \"\"}, \"bgcolor\": \"rgb(17,17,17)\", \"radialaxis\": {\"gridcolor\": \"#506784\", \"linecolor\": \"#506784\", \"ticks\": \"\"}}, \"scene\": {\"xaxis\": {\"backgroundcolor\": \"rgb(17,17,17)\", \"gridcolor\": \"#506784\", \"gridwidth\": 2, \"linecolor\": \"#506784\", \"showbackground\": true, \"ticks\": \"\", \"zerolinecolor\": \"#C8D4E3\"}, \"yaxis\": {\"backgroundcolor\": \"rgb(17,17,17)\", \"gridcolor\": \"#506784\", \"gridwidth\": 2, \"linecolor\": \"#506784\", \"showbackground\": true, \"ticks\": \"\", \"zerolinecolor\": \"#C8D4E3\"}, \"zaxis\": {\"backgroundcolor\": \"rgb(17,17,17)\", \"gridcolor\": \"#506784\", \"gridwidth\": 2, \"linecolor\": \"#506784\", \"showbackground\": true, \"ticks\": \"\", \"zerolinecolor\": \"#C8D4E3\"}}, \"shapedefaults\": {\"line\": {\"color\": \"#f2f5fa\"}}, \"sliderdefaults\": {\"bgcolor\": \"#C8D4E3\", \"bordercolor\": \"rgb(17,17,17)\", \"borderwidth\": 1, \"tickwidth\": 0}, \"ternary\": {\"aaxis\": {\"gridcolor\": \"#506784\", \"linecolor\": \"#506784\", \"ticks\": \"\"}, \"baxis\": {\"gridcolor\": \"#506784\", \"linecolor\": \"#506784\", \"ticks\": \"\"}, \"bgcolor\": \"rgb(17,17,17)\", \"caxis\": {\"gridcolor\": \"#506784\", \"linecolor\": \"#506784\", \"ticks\": \"\"}}, \"title\": {\"x\": 0.05}, \"updatemenudefaults\": {\"bgcolor\": \"#506784\", \"borderwidth\": 0}, \"xaxis\": {\"automargin\": true, \"gridcolor\": \"#283442\", \"linecolor\": \"#506784\", \"ticks\": \"\", \"title\": {\"standoff\": 15}, \"zerolinecolor\": \"#283442\", \"zerolinewidth\": 2}, \"yaxis\": {\"automargin\": true, \"gridcolor\": \"#283442\", \"linecolor\": \"#506784\", \"ticks\": \"\", \"title\": {\"standoff\": 15}, \"zerolinecolor\": \"#283442\", \"zerolinewidth\": 2}}}, \"title\": {\"text\": \"<b>WiFi Signal per channel - 5GHz  - Habitacion4-1\"}, \"xaxis\": {\"nticks\": 17, \"title\": {\"text\": \"Channels\"}}, \"yaxis\": {\"range\": [-100, -52], \"title\": {\"text\": \"dBm\"}}},\n",
       "                        {\"responsive\": true}\n",
       "                    ).then(function(){\n",
       "                            \n",
       "var gd = document.getElementById('a6c77c99-c477-43a4-a27f-07d2d120266b');\n",
       "var x = new MutationObserver(function (mutations, observer) {{\n",
       "        var display = window.getComputedStyle(gd).display;\n",
       "        if (!display || display === 'none') {{\n",
       "            console.log([gd, 'removed!']);\n",
       "            Plotly.purge(gd);\n",
       "            observer.disconnect();\n",
       "        }}\n",
       "}});\n",
       "\n",
       "// Listen for the removal of the full notebook cells\n",
       "var notebookContainer = gd.closest('#notebook-container');\n",
       "if (notebookContainer) {{\n",
       "    x.observe(notebookContainer, {childList: true});\n",
       "}}\n",
       "\n",
       "// Listen for the clearing of the current output cell\n",
       "var outputEl = gd.closest('.output');\n",
       "if (outputEl) {{\n",
       "    x.observe(outputEl, {childList: true});\n",
       "}}\n",
       "\n",
       "                        })\n",
       "                };\n",
       "                });\n",
       "            </script>\n",
       "        </div>"
      ]
     },
     "metadata": {},
     "output_type": "display_data"
    }
   ],
   "source": [
    "# Create figure\n",
    "fig = go.Figure()\n",
    "\n",
    "# Create scatter trace of text labels\n",
    "fig.add_trace(go.Scatter(\n",
    "    x=zone1_1_5G.Channel,\n",
    "    y=zone1_1_5G.dBm_Signal,\n",
    "    text=zone1_1_5G.SSID,\n",
    "    mode='text',\n",
    "))\n",
    "\n",
    "# Add shapes\n",
    "i = 0\n",
    "for row in zone1_1_5G.itertuples() :\n",
    "    i += 1\n",
    "    fig.add_shape(\n",
    "        type='circle',\n",
    "        name=row.SSID,\n",
    "        xref='x',\n",
    "        yref='y',\n",
    "        x0=row.Channel-2,\n",
    "        y0=-row.dBm_Signal-200,\n",
    "        x1=row.Channel+2,\n",
    "        y1=row.dBm_Signal,\n",
    "        opacity=0.5,\n",
    "        fillcolor=colors2[i%len(colors2)],\n",
    "        line_color=colors2[i%len(colors2)]\n",
    "    )\n",
    "\n",
    "fig.update_layout(\n",
    "    title='<b>WiFi Signal per channel - 5GHz  - Habitacion4-1',\n",
    "    yaxis=dict(\n",
    "        title='dBm',\n",
    "        range = (-100,zone1_1_5G.dBm_Signal.max()+10)\n",
    "    ),\n",
    "    xaxis=dict(\n",
    "        title='Channels',\n",
    "        nticks=17\n",
    "    )\n",
    ")\n",
    "fig.show()"
   ]
  },
  {
   "cell_type": "code",
   "execution_count": null,
   "metadata": {},
   "outputs": [],
   "source": []
  }
 ],
 "metadata": {
  "kernelspec": {
   "display_name": "Python 3",
   "language": "python",
   "name": "python3"
  },
  "language_info": {
   "codemirror_mode": {
    "name": "ipython",
    "version": 3
   },
   "file_extension": ".py",
   "mimetype": "text/x-python",
   "name": "python",
   "nbconvert_exporter": "python",
   "pygments_lexer": "ipython3",
   "version": "3.7.3"
  }
 },
 "nbformat": 4,
 "nbformat_minor": 2
}
